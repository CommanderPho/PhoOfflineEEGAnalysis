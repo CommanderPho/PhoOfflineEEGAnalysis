{
  "cells": [
    {
      "cell_type": "code",
      "execution_count": 3,
      "metadata": {
        "collapsed": false,
        "tags": [
          "run_group_main"
        ]
      },
      "outputs": [
        {
          "name": "stdout",
          "output_type": "stream",
          "text": [
            "Automatic pdb calling has been turned OFF\n",
            "The autoreload extension is already loaded. To reload it, use:\n",
            "  %reload_ext autoreload\n",
            "Using qt as 2D backend.\n"
          ]
        }
      ],
      "source": [
        "%config IPCompleter.use_jedi = False\n",
        "%pdb off\n",
        "%load_ext autoreload\n",
        "%autoreload 3\n",
        "# %matplotlib inline\n",
        "%matplotlib qt5\n",
        "import mne\n",
        "mne.viz.set_browser_backend(\"qt\")  # or \"matplotlib\"\n",
        "mne.set_config(\"MNE_BROWSER_BACKEND\", \"qt\")  # or \"matplotlib\"\n",
        "%gui qt\n",
        "\n",
        "import IPython\n",
        "\n",
        "# Jupyter-lab enable printing for any line on its own (instead of just the last one in the cell)\n",
        "from IPython.core.interactiveshell import InteractiveShell\n",
        "InteractiveShell.ast_node_interactivity = \"all\"\n"
      ]
    },
    {
      "cell_type": "markdown",
      "metadata": {},
      "source": [
        "\n",
        "# Use MNE to load and analyze saved EEG and Motion recordings\n"
      ]
    },
    {
      "cell_type": "code",
      "execution_count": 2,
      "metadata": {
        "collapsed": false,
        "tags": [
          "run_group_main"
        ]
      },
      "outputs": [
        {
          "ename": "ModuleNotFoundError",
          "evalue": "No module named 'mne'",
          "output_type": "error",
          "traceback": [
            "\u001b[1;31m---------------------------------------------------------------------------\u001b[0m",
            "\u001b[1;31mModuleNotFoundError\u001b[0m                       Traceback (most recent call last)",
            "Cell \u001b[1;32mIn[2], line 16\u001b[0m\n\u001b[0;32m     13\u001b[0m \u001b[38;5;28;01mimport\u001b[39;00m\u001b[38;5;250m \u001b[39m\u001b[38;5;21;01mpandas\u001b[39;00m\u001b[38;5;250m \u001b[39m\u001b[38;5;28;01mas\u001b[39;00m\u001b[38;5;250m \u001b[39m\u001b[38;5;21;01mpd\u001b[39;00m\n\u001b[0;32m     14\u001b[0m \u001b[38;5;28;01mfrom\u001b[39;00m\u001b[38;5;250m \u001b[39m\u001b[38;5;21;01mnumpy\u001b[39;00m\u001b[38;5;21;01m.\u001b[39;00m\u001b[38;5;21;01mtyping\u001b[39;00m\u001b[38;5;250m \u001b[39m\u001b[38;5;28;01mimport\u001b[39;00m NDArray\n\u001b[1;32m---> 16\u001b[0m \u001b[38;5;28;01mimport\u001b[39;00m\u001b[38;5;250m \u001b[39m\u001b[38;5;21;01mmne\u001b[39;00m\n\u001b[0;32m     17\u001b[0m \u001b[38;5;28;01mfrom\u001b[39;00m\u001b[38;5;250m \u001b[39m\u001b[38;5;21;01mmne\u001b[39;00m\u001b[38;5;250m \u001b[39m\u001b[38;5;28;01mimport\u001b[39;00m set_log_level\n\u001b[0;32m     18\u001b[0m \u001b[38;5;28;01mfrom\u001b[39;00m\u001b[38;5;250m \u001b[39m\u001b[38;5;21;01mcopy\u001b[39;00m\u001b[38;5;250m \u001b[39m\u001b[38;5;28;01mimport\u001b[39;00m deepcopy\n",
            "\u001b[1;31mModuleNotFoundError\u001b[0m: No module named 'mne'"
          ]
        }
      ],
      "source": [
        "import time\n",
        "import re\n",
        "from datetime import datetime, timezone\n",
        "\n",
        "import uuid\n",
        "from copy import deepcopy\n",
        "from typing import Dict, List, Tuple, Optional, Callable, Union, Any\n",
        "from nptyping import NDArray\n",
        "from matplotlib import pyplot as plt\n",
        "\n",
        "from pathlib import Path\n",
        "import numpy as np\n",
        "import pandas as pd\n",
        "from numpy.typing import NDArray\n",
        "\n",
        "import mne\n",
        "from mne import set_log_level\n",
        "from copy import deepcopy\n",
        "import mne\n",
        "\n",
        "from mne.io import read_raw\n",
        "\n",
        "datasets = []\n",
        "# mne.viz.set_browser_backend(\"Matplotlib\")\n",
        "mne.viz.set_browser_backend(\"qt\")\n",
        "\n",
        "from mne_lsl.player import PlayerLSL as Player\n",
        "from mne_lsl.stream import StreamLSL as Stream\n",
        "\n",
        "from phoofflineeeganalysis.EegProcessing import bandpower\n",
        "from phoofflineeeganalysis.analysis.MNE_helpers import MNEHelpers\n",
        "from phoofflineeeganalysis.analysis.historical_data import HistoricalData\n",
        "from phoofflineeeganalysis.analysis.motion_data import MotionData\n",
        "from phoofflineeeganalysis.analysis.EEG_data import EEGComputations, EEGData\n",
        "from phoofflineeeganalysis.analysis.anatomy_and_electrodes import ElectrodeHelper\n",
        "# from ..EegProcessing import bandpower\n",
        "from phoofflineeeganalysis.EegProcessing import analyze_eeg_trends\n",
        "from phoofflineeeganalysis.EegVisualization import VisHelpers\n",
        "from phoofflineeeganalysis.analysis.SavedSessionsProcessor import SavedSessionsProcessor, SessionModality, DataModalityType, LabRecorderXDF, unwrap_single_element_listlike_if_needed\n",
        "from phoofflineeeganalysis.analysis.historical_data import GenericRawDebugFileProcessor\n",
        "from phoofflineeeganalysis.analysis.MNE_helpers import DatasetDatetimeBoundsRenderingMixin, RawArrayExtended, RawExtended, up_convert_raw_objects, up_convert_raw_obj\n",
        "\n",
        "set_log_level(\"WARNING\")\n",
        "\n",
        "# eeg_recordings_file_path: Path = Path(r'E:/Dropbox (Personal)/Databases/UnparsedData/EmotivEpocX_EEGRecordings/fif').resolve()\n",
        "# headset_motion_recordings_file_path: Path = Path(r'E:/Dropbox (Personal)/Databases/UnparsedData/EmotivEpocX_EEGRecordings/MOTION_RECORDINGS/fif').resolve()\n",
        "\n",
        "# assert eeg_recordings_file_path.exists()\n",
        "# assert headset_motion_recordings_file_path.exists()\n",
        "\n",
        "eeg_recordings_file_path: Path = Path(r'E:/Dropbox (Personal)/Databases/UnparsedData/EmotivEpocX_EEGRecordings/fif').resolve()\n",
        "flutter_eeg_recordings_file_path: Path = Path(r'E:/Dropbox (Personal)/Databases/UnparsedData/EmotivEEG_FlutterRecordings').resolve()\n",
        "flutter_motion_recordings_file_path: Path = Path(r'E:/Dropbox (Personal)/Databases/UnparsedData/EmotivEEG_FlutterRecordings/MOTION_RECORDINGS').resolve()\n",
        "flutter_GENERIC_recordings_file_path: Path = Path(r'E:/Dropbox (Personal)/Databases/UnparsedData/EmotivEEG_FlutterRecordings/GENERIC_RECORDINGS').resolve()\n",
        "\n",
        "headset_motion_recordings_file_path: Path = Path(r'E:/Dropbox (Personal)/Databases/UnparsedData/EmotivEpocX_EEGRecordings/MOTION_RECORDINGS/fif').resolve()\n",
        "WhisperVideoTranscripts_LSL_Converted = Path(r\"E:/Dropbox (Personal)/Databases/UnparsedData/WhisperVideoTranscripts_LSL_Converted\").resolve()\n",
        "pho_log_to_LSL_recordings_path: Path = Path(r'E:/Dropbox (Personal)/Databases/UnparsedData/PhoLogToLabStreamingLayer_logs').resolve()\n",
        "## These contain little LSL .fif files with names like: '20250808_062814_log.fif', \n",
        "\n",
        "eeg_analyzed_parent_export_path = Path(\"E:/Dropbox (Personal)/Databases/AnalysisData/MNE_preprocessed\").resolve()\n",
        "pickled_data_path = Path(r\"E:/Dropbox (Personal)/Databases/AnalysisData/MNE_preprocessed/PICKLED_COLLECTION\").resolve()\n",
        "assert pickled_data_path.exists()\n",
        "\n",
        "# n_most_recent_sessions_to_preprocess: int = None # None means all sessions\n",
        "# n_most_recent_sessions_to_preprocess: int = 55\n",
        "n_most_recent_sessions_to_preprocess: int = 5\n",
        "# n_most_recent_sessions_to_preprocess = None\n"
      ]
    },
    {
      "cell_type": "code",
      "execution_count": 2,
      "metadata": {
        "tags": [
          "run_group_main"
        ]
      },
      "outputs": [
        {
          "name": "stdout",
          "output_type": "stream",
          "text": [
            "file_type: EEG PROCESSING -- found 61 files, loading only 5: \n",
            "FILE[0]: eeg_data_2025-09-18T21-05-57.180582 | file_type: \"EEG\" PROCESSING:\n",
            "WARN: reordering columns!\n",
            "FILE[1]: eeg_data_2025-09-18T21-01-27.830069 | file_type: \"EEG\" PROCESSING:\n",
            "WARN: reordering columns!\n",
            "FILE[2]: eeg_data_2025-09-18T20-58-22.908260 | file_type: \"EEG\" PROCESSING:\n",
            "WARN: reordering columns!\n",
            "FILE[3]: eeg_data_2025-09-18T20-58-22.478351 | file_type: \"EEG\" PROCESSING:\n",
            "WARN: reordering columns!\n",
            "\tEncountered error: len(raw.times) == 0!! True while trying to read CSV file E:\\Dropbox (Personal)\\Databases\\UnparsedData\\EmotivEEG_FlutterRecordings\\eeg_data_2025-09-18T20-58-22.478351.csv. Skipping\n",
            "FILE[4]: eeg_data_2025-09-18T20-56-20.484420 | file_type: \"EEG\" PROCESSING:\n",
            "WARN: reordering columns!\n",
            "GENERIC FILE PROCESSING -- found 22 files, loading only 5: \n",
            "FILE[0]: generic_data_2025-09-18T21-05-57.225804 | file_type: \"GENERIC\" PROCESSING:\n",
            "GENERIC FILE PROCESSING\n",
            "Performing one-time init of `cls.emotiv_epoc_x`...\n",
            "crypto_key: bytearray(b'6566565666756557')\n",
            "working cipher was provided on startup!\n",
            "FILE[1]: generic_data_2025-09-18T21-01-27.889255 | file_type: \"GENERIC\" PROCESSING:\n",
            "GENERIC FILE PROCESSING\n",
            "FILE[2]: generic_data_2025-09-18T20-58-22.972940 | file_type: \"GENERIC\" PROCESSING:\n",
            "GENERIC FILE PROCESSING\n",
            "FILE[3]: generic_data_2025-09-18T20-58-22.515409 | file_type: \"GENERIC\" PROCESSING:\n",
            "GENERIC FILE PROCESSING\n",
            "\tEncountered error: Length mismatch: Expected axis has 1 elements, new values have 6 elements while trying to read CSV file E:\\Dropbox (Personal)\\Databases\\UnparsedData\\EmotivEEG_FlutterRecordings\\GENERIC_RECORDINGS\\generic_data_2025-09-18T20-58-22.515409.csv. Skipping\n",
            "FILE[4]: generic_data_2025-09-18T20-56-20.539259 | file_type: \"GENERIC\" PROCESSING:\n",
            "GENERIC FILE PROCESSING\n"
          ]
        }
      ],
      "source": [
        "## Flutter App EEG and Motion Recordings\n",
        "from phoofflineeeganalysis.analysis.historical_data import HistoricalData, FlutterExportedData, GenericRawDebugFileProcessor\n",
        "\n",
        "flat_data_modality_dict, found_recording_file_modality_dict = FlutterExportedData.try_load_flutter_recordings(should_load_data=False, should_process=True,\n",
        "                                                                                                                # flutter_GENERIC_recordings_file_path=None, ## override\n",
        "                                                                                                                n_most_recent_sessions_to_preprocess=n_most_recent_sessions_to_preprocess)\n",
        "# found_recording_file_modality_dict\n",
        "# flat_data_modality_dict"
      ]
    },
    {
      "cell_type": "code",
      "execution_count": null,
      "metadata": {},
      "outputs": [],
      "source": [
        "flat_data_modality_dict"
      ]
    },
    {
      "cell_type": "code",
      "execution_count": null,
      "metadata": {},
      "outputs": [],
      "source": [
        "found_recording_file_modality_dict"
      ]
    },
    {
      "cell_type": "code",
      "execution_count": 3,
      "metadata": {
        "tags": [
          "run_group_main"
        ]
      },
      "outputs": [],
      "source": [
        "modality_datasets, modality_df = flat_data_modality_dict['GENERIC']\n",
        "motion_datasets = modality_datasets['MOTION']\n",
        "eeg_datasets = modality_datasets['EEG']\n",
        "# motion_datasets = up_convert_raw_objects(modality_datasets['MOTION'])\n",
        "# eeg_datasets = up_convert_raw_objects(modality_datasets['EEG'])\n"
      ]
    },
    {
      "cell_type": "code",
      "execution_count": 6,
      "metadata": {},
      "outputs": [
        {
          "data": {
            "text/plain": [
              "[<RawArrayExtended | 15 x 39907 (311.8 s), ~4.6 MB, data loaded>, timerange=2025-09-18T21:05:57+00:00 → 2025-09-18T21:11:08.765625+00:00,\n",
              " <RawArrayExtended | 15 x 530 (4.1 s), ~82 kB, data loaded>, timerange=2025-09-18T21:01:27+00:00 → 2025-09-18T21:01:31.132812+00:00,\n",
              " <RawArrayExtended | 15 x 11712 (91.5 s), ~1.4 MB, data loaded>, timerange=2025-09-18T20:58:22+00:00 → 2025-09-18T20:59:53.492188+00:00,\n",
              " <RawArrayExtended | 15 x 5669 (44.3 s), ~684 kB, data loaded>, timerange=2025-09-18T20:56:20+00:00 → 2025-09-18T20:57:04.281250+00:00]"
            ]
          },
          "execution_count": 6,
          "metadata": {},
          "output_type": "execute_result"
        }
      ],
      "source": [
        "eeg_datasets"
      ]
    },
    {
      "cell_type": "code",
      "execution_count": null,
      "metadata": {},
      "outputs": [],
      "source": [
        "eeg_datasets[0]"
      ]
    },
    {
      "cell_type": "code",
      "execution_count": 4,
      "metadata": {},
      "outputs": [],
      "source": [
        "## Original EEG\n",
        "flutter_decoded_eeg_datasets, flutter_decoded_eeg_df = flat_data_modality_dict['EEG'] ## these were the eeg-specific files written by flutter to the non-generic .csv after decoding. They should be compared to the values returned from the GENERIC eeg\n",
        "# list(flutter_decoded_eeg_datasets.values())[0]\n",
        "\n"
      ]
    },
    {
      "cell_type": "code",
      "execution_count": null,
      "metadata": {},
      "outputs": [
        {
          "data": {
            "text/plain": [
              "[<RawArrayExtended | 15 x 80123 (626.0 s), ~9.2 MB, data loaded>, timerange=2025-09-18T21:05:57+00:00 → 2025-09-18T21:16:22.953125+00:00,\n",
              " <RawArrayExtended | 15 x 1009 (7.9 s), ~138 kB, data loaded>, timerange=2025-09-18T21:01:27+00:00 → 2025-09-18T21:01:34.875000+00:00,\n",
              " <RawArrayExtended | 15 x 21282 (166.3 s), ~2.5 MB, data loaded>, timerange=2025-09-18T20:58:22+00:00 → 2025-09-18T21:01:08.257812+00:00,\n",
              " <RawArrayExtended | 15 x 10357 (80.9 s), ~1.2 MB, data loaded>, timerange=2025-09-18T20:56:20+00:00 → 2025-09-18T20:57:40.906250+00:00]"
            ]
          },
          "execution_count": 5,
          "metadata": {},
          "output_type": "execute_result"
        }
      ],
      "source": [
        "flutter_decoded_eeg_datasets['EEG']\n"
      ]
    },
    {
      "cell_type": "markdown",
      "metadata": {},
      "source": [
        "## Can finally do the comparison!!"
      ]
    },
    {
      "cell_type": "code",
      "execution_count": 24,
      "metadata": {},
      "outputs": [
        {
          "data": {
            "text/html": [
              "<script type=\"text/javascript\">\n",
              "    const toggleVisibility = (className) => {\n",
              "\n",
              "  const elements = document.querySelectorAll(`.${className}`)\n",
              "\n",
              "  elements.forEach(element => {\n",
              "    if (element.classList.contains('repr-section-header')) {\n",
              "      // Don't collapse the section header row.\n",
              "       return\n",
              "    }\n",
              "    if (element.classList.contains('repr-element-collapsed')) {\n",
              "      // Force a reflow to ensure the display change takes effect before removing the class\n",
              "      element.classList.remove('repr-element-collapsed')\n",
              "      element.offsetHeight // This forces the browser to recalculate layout\n",
              "      element.classList.remove('repr-element-faded')\n",
              "    } else {\n",
              "      // Start transition to hide the element\n",
              "      element.classList.add('repr-element-faded')\n",
              "      element.addEventListener('transitionend', handler = (e) => {\n",
              "        if (e.propertyName === 'opacity' && getComputedStyle(element).opacity === '0.2') {\n",
              "          element.classList.add('repr-element-collapsed')\n",
              "          element.removeEventListener('transitionend', handler)\n",
              "        }\n",
              "      });\n",
              "    }\n",
              "  });\n",
              "\n",
              "  // Take care of button (adjust caret)\n",
              "  const button = document.querySelectorAll(`.repr-section-header.${className} > th.repr-section-toggle-col > button`)[0]\n",
              "  button.classList.toggle('collapsed')\n",
              "\n",
              "  // Take care of the tooltip of the section header row\n",
              "  const sectionHeaderRow = document.querySelectorAll(`tr.repr-section-header.${className}`)[0]\n",
              "  sectionHeaderRow.classList.toggle('collapsed')\n",
              "  sectionHeaderRow.title = sectionHeaderRow.title === 'Hide section' ? 'Show section' : 'Hide section'\n",
              "}\n",
              "</script>\n",
              "\n",
              "<style type=\"text/css\">\n",
              "    table.repr.table.table-hover.table-striped.table-sm.table-responsive.small {\n",
              "  /* Don't make rows wider than they need to be. */\n",
              "  display: inline;\n",
              "}\n",
              "\n",
              "table > tbody > tr.repr-element > td {\n",
              "  /* Apply a tighter layout to the table cells. */\n",
              "  padding-top: 0.1rem;\n",
              "  padding-bottom: 0.1rem;\n",
              "  padding-right: 1rem;\n",
              "}\n",
              "\n",
              "table > tbody > tr > td.repr-section-toggle-col {\n",
              "  /* Remove background and border of the first cell in every row\n",
              "     (this row is only used for the collapse / uncollapse caret)\n",
              "\n",
              "     TODO: Need to find a good solution for VS Code that works in both\n",
              "           light and dark mode. */\n",
              "  border-color: transparent;\n",
              "  --bs-table-accent-bg: transparent;\n",
              "}\n",
              "\n",
              "tr.repr-section-header {\n",
              "  /* Remove stripes from section header rows */\n",
              "  background-color: transparent;\n",
              "  border-color: transparent;\n",
              "  --bs-table-striped-bg: transparent;\n",
              "  cursor: pointer;\n",
              "}\n",
              "\n",
              "tr.repr-section-header > th {\n",
              "  text-align: left !important;\n",
              "  vertical-align: middle;\n",
              "}\n",
              "\n",
              ".repr-element, tr.repr-element > td {\n",
              "  opacity: 1;\n",
              "  text-align: left !important;\n",
              "}\n",
              "\n",
              ".repr-element-faded {\n",
              "  transition: 0.3s ease;\n",
              "  opacity: 0.2;\n",
              "}\n",
              "\n",
              ".repr-element-collapsed {\n",
              "  display: none;\n",
              "}\n",
              "\n",
              "/* Collapse / uncollapse button and the caret it contains. */\n",
              ".repr-section-toggle-col button {\n",
              "  cursor: pointer;\n",
              "  width: 1rem;\n",
              "  background-color: transparent;\n",
              "  border-color: transparent;\n",
              "}\n",
              "\n",
              "span.collapse-uncollapse-caret {\n",
              "  width: 1rem;\n",
              "  height: 1rem;\n",
              "  display: block;\n",
              "  background-repeat: no-repeat;\n",
              "  background-position: left;\n",
              "  background-size: contain;\n",
              "}\n",
              "\n",
              "/* The collapse / uncollapse carets were copied from the free Font Awesome collection and adjusted. */\n",
              "\n",
              "/* Default to black carets for light mode */\n",
              ".repr-section-toggle-col > button.collapsed > span.collapse-uncollapse-caret {\n",
              "  background-image: url('data:image/svg+xml;charset=utf8,<svg xmlns=\"http://www.w3.org/2000/svg\" viewBox=\"0 0 256 512\"><!--!Font Awesome Free 6.5.2 by @fontawesome - https://fontawesome.com License - https://fontawesome.com/license/free Copyright 2024 Fonticons, Inc.--><path fill=\"black\" d=\"M246.6 278.6c12.5-12.5 12.5-32.8 0-45.3l-128-128c-9.2-9.2-22.9-11.9-34.9-6.9s-19.8 16.6-19.8 29.6l0 256c0 12.9 7.8 24.6 19.8 29.6s25.7 2.2 34.9-6.9l128-128z\"/></svg>');\n",
              "}\n",
              "\n",
              ".repr-section-toggle-col\n",
              "  > button:not(.collapsed)\n",
              "  > span.collapse-uncollapse-caret {\n",
              "  background-image: url('data:image/svg+xml;charset=utf8,<svg xmlns=\"http://www.w3.org/2000/svg\" viewBox=\"0 0 320 512\"><!--!Font Awesome Free 6.5.2 by @fontawesome - https://fontawesome.com License - https://fontawesome.com/license/free Copyright 2024 Fonticons, Inc.--><path fill=\"black\" d=\"M137.4 374.6c12.5 12.5 32.8 12.5 45.3 0l128-128c9.2-9.2 11.9-22.9 6.9-34.9s-16.6-19.8-29.6-19.8L32 192c-12.9 0-24.6 7.8-29.6 19.8s-2.2 25.7 6.9 34.9l128 128z\"/></svg>');\n",
              "}\n",
              "\n",
              "/* Use white carets for dark mode */\n",
              "@media (prefers-color-scheme: dark) {\n",
              "  .repr-section-toggle-col > button.collapsed > span.collapse-uncollapse-caret {\n",
              "    background-image: url('data:image/svg+xml;charset=utf8,<svg xmlns=\"http://www.w3.org/2000/svg\" viewBox=\"0 0 256 512\"><!--!Font Awesome Free 6.5.2 by @fontawesome - https://fontawesome.com License - https://fontawesome.com/license/free Copyright 2024 Fonticons, Inc.--><path fill=\"white\" d=\"M246.6 278.6c12.5-12.5 12.5-32.8 0-45.3l-128-128c-9.2-9.2-22.9-11.9-34.9-6.9s-19.8 16.6-19.8 29.6l0 256c0 12.9 7.8 24.6 19.8 29.6s25.7 2.2 34.9-6.9l128-128z\"/></svg>');\n",
              "  }\n",
              "\n",
              "  .repr-section-toggle-col\n",
              "    > button:not(.collapsed)\n",
              "    > span.collapse-uncollapse-caret {\n",
              "    background-image: url('data:image/svg+xml;charset=utf8,<svg xmlns=\"http://www.w3.org/2000/svg\" viewBox=\"0 0 320 512\"><!--!Font Awesome Free 6.5.2 by @fontawesome - https://fontawesome.com License - https://fontawesome.com/license/free Copyright 2024 Fonticons, Inc.--><path fill=\"white\" d=\"M137.4 374.6c12.5 12.5 32.8 12.5 45.3 0l128-128c9.2-9.2 11.9-22.9 6.9-34.9s-16.6-19.8-29.6-19.8L32 192c-12.9 0-24.6 7.8-29.6 19.8s-2.2 25.7 6.9 34.9l128 128z\"/></svg>');\n",
              "  }\n",
              "}\n",
              "\n",
              ".channel-names-btn {\n",
              "  padding: 0;\n",
              "  border: none;\n",
              "  background: none;\n",
              "  text-decoration: underline;\n",
              "  text-decoration-style: dashed;\n",
              "  cursor: pointer;\n",
              "  color: #0d6efd;\n",
              "}\n",
              "\n",
              ".channel-names-btn:hover {\n",
              "  color: #0a58ca;\n",
              "}\n",
              "</style>\n",
              "\n",
              "\n",
              "\n",
              "<table class=\"repr table table-hover table-striped table-sm table-responsive small\">\n",
              "    \n",
              "\n",
              "\n",
              "\n",
              "\n",
              "\n",
              "\n",
              "\n",
              "<tr class=\"repr-section-header general-7dcd0f75-33af-4aef-8bd5-048df6824e4e\"  title=\"Hide section\" \n",
              "    onclick=\"toggleVisibility('general-7dcd0f75-33af-4aef-8bd5-048df6824e4e')\">\n",
              "    <th class=\"repr-section-toggle-col\">\n",
              "        <button>\n",
              "            \n",
              "            <span class=\"collapse-uncollapse-caret\"></span>\n",
              "        </button>\n",
              "    </th>\n",
              "    <th colspan=\"2\">\n",
              "        <strong>General</strong>\n",
              "    </th>\n",
              "</tr>\n",
              "\n",
              "<tr class=\"repr-element general-7dcd0f75-33af-4aef-8bd5-048df6824e4e \">\n",
              "    <td class=\"repr-section-toggle-col\"></td>\n",
              "    <td>MNE object type</td>\n",
              "    <td>RawArrayExtended</td>\n",
              "</tr>\n",
              "<tr class=\"repr-element general-7dcd0f75-33af-4aef-8bd5-048df6824e4e \">\n",
              "    <td class=\"repr-section-toggle-col\"></td>\n",
              "    <td>Measurement date</td>\n",
              "    \n",
              "    <td>2025-09-18 at 21:05:57 UTC</td>\n",
              "    \n",
              "</tr>\n",
              "<tr class=\"repr-element general-7dcd0f75-33af-4aef-8bd5-048df6824e4e \">\n",
              "    <td class=\"repr-section-toggle-col\"></td>\n",
              "    <td>Participant</td>\n",
              "    \n",
              "    <td>Unknown</td>\n",
              "    \n",
              "</tr>\n",
              "<tr class=\"repr-element general-7dcd0f75-33af-4aef-8bd5-048df6824e4e \">\n",
              "    <td class=\"repr-section-toggle-col\"></td>\n",
              "    <td>Experimenter</td>\n",
              "    \n",
              "    <td>Unknown</td>\n",
              "    \n",
              "</tr>\n",
              "    \n",
              "\n",
              "\n",
              "\n",
              "\n",
              "\n",
              "\n",
              "\n",
              "<tr class=\"repr-section-header acquisition-54bb8b51-4a9c-4ac0-95a0-9c3dde735ecd\" \n",
              "    title=\"Hide section\"  onclick=\"toggleVisibility('acquisition-54bb8b51-4a9c-4ac0-95a0-9c3dde735ecd')\">\n",
              "    <th class=\"repr-section-toggle-col\">\n",
              "        <button>\n",
              "            \n",
              "            <span class=\"collapse-uncollapse-caret\"></span>\n",
              "        </button>\n",
              "    </th>\n",
              "    <th colspan=\"2\">\n",
              "        <strong>Acquisition</strong>\n",
              "    </th>\n",
              "</tr>\n",
              "\n",
              "<tr class=\"repr-element acquisition-54bb8b51-4a9c-4ac0-95a0-9c3dde735ecd \">\n",
              "    <td class=\"repr-section-toggle-col\"></td>\n",
              "    <td>Duration</td>\n",
              "    <td>00:05:12 (HH:MM:SS)</td>\n",
              "</tr>\n",
              "\n",
              "\n",
              "\n",
              "\n",
              "\n",
              "\n",
              "\n",
              "\n",
              "<tr class=\"repr-element acquisition-54bb8b51-4a9c-4ac0-95a0-9c3dde735ecd \">\n",
              "    <td class=\"repr-section-toggle-col\"></td>\n",
              "    <td>Sampling frequency</td>\n",
              "    <td>128.00 Hz</td>\n",
              "</tr>\n",
              "\n",
              "\n",
              "<tr class=\"repr-element acquisition-54bb8b51-4a9c-4ac0-95a0-9c3dde735ecd \">\n",
              "    <td class=\"repr-section-toggle-col\"></td>\n",
              "    <td>Time points</td>\n",
              "    <td>39,907</td>\n",
              "</tr>\n",
              "\n",
              "\n",
              "    \n",
              "\n",
              "\n",
              "\n",
              "\n",
              "\n",
              "\n",
              "\n",
              "<tr class=\"repr-section-header channels-773f2c27-947a-4a6d-940b-8d4b1855ebe2\"  title=\"Hide section\" \n",
              "    onclick=\"toggleVisibility('channels-773f2c27-947a-4a6d-940b-8d4b1855ebe2')\">\n",
              "    <th class=\"repr-section-toggle-col\">\n",
              "        <button>\n",
              "            \n",
              "            <span class=\"collapse-uncollapse-caret\"></span>\n",
              "        </button>\n",
              "    </th>\n",
              "    <th colspan=\"2\">\n",
              "        <strong>Channels</strong>\n",
              "    </th>\n",
              "</tr>\n",
              "\n",
              "\n",
              "<tr class=\"repr-element channels-773f2c27-947a-4a6d-940b-8d4b1855ebe2 \">\n",
              "    <td class=\"repr-section-toggle-col\"></td>\n",
              "    <td>EEG</td>\n",
              "    <td>\n",
              "        <button class=\"channel-names-btn\" onclick=\"alert('Good EEG:\\n\\nAF3, F7, F3, FC5, T7, P7, O1, O2, P8, T8, FC6, F4, F8, AF4')\" title=\"(Click to open in popup)&#13;&#13;AF3, F7, F3, FC5, T7, P7, O1, O2, P8, T8, FC6, F4, F8, AF4\">\n",
              "            14\n",
              "        </button>\n",
              "\n",
              "        \n",
              "    </td>\n",
              "</tr>\n",
              "\n",
              "\n",
              "<tr class=\"repr-element channels-773f2c27-947a-4a6d-940b-8d4b1855ebe2 \">\n",
              "    <td class=\"repr-section-toggle-col\"></td>\n",
              "    <td>Head & sensor digitization</td>\n",
              "    \n",
              "    <td>Not available</td>\n",
              "    \n",
              "</tr>\n",
              "    \n",
              "\n",
              "\n",
              "\n",
              "\n",
              "\n",
              "\n",
              "\n",
              "<tr class=\"repr-section-header filters-ef51dc73-e6f8-4193-8a1f-9d6d17c548e5\"  title=\"Hide section\" \n",
              "    onclick=\"toggleVisibility('filters-ef51dc73-e6f8-4193-8a1f-9d6d17c548e5')\">\n",
              "    <th class=\"repr-section-toggle-col\">\n",
              "        <button>\n",
              "            \n",
              "            <span class=\"collapse-uncollapse-caret\"></span>\n",
              "        </button>\n",
              "    </th>\n",
              "    <th colspan=\"2\">\n",
              "        <strong>Filters</strong>\n",
              "    </th>\n",
              "</tr>\n",
              "\n",
              "<tr class=\"repr-element filters-ef51dc73-e6f8-4193-8a1f-9d6d17c548e5 \">\n",
              "    <td class=\"repr-section-toggle-col\"></td>\n",
              "    <td>Highpass</td>\n",
              "    <td>0.00 Hz</td>\n",
              "</tr>\n",
              "\n",
              "\n",
              "<tr class=\"repr-element filters-ef51dc73-e6f8-4193-8a1f-9d6d17c548e5 \">\n",
              "    <td class=\"repr-section-toggle-col\"></td>\n",
              "    <td>Lowpass</td>\n",
              "    <td>64.00 Hz</td>\n",
              "</tr>\n",
              "\n",
              "\n",
              "</table>"
            ],
            "text/plain": [
              "<RawArrayExtended | 14 x 39907 (311.8 s), ~4.3 MB, data loaded>, timerange=2025-09-18T21:05:57+00:00 → 2025-09-18T21:11:08.765625+00:00"
            ]
          },
          "execution_count": 24,
          "metadata": {},
          "output_type": "execute_result"
        },
        {
          "data": {
            "text/html": [
              "<script type=\"text/javascript\">\n",
              "    const toggleVisibility = (className) => {\n",
              "\n",
              "  const elements = document.querySelectorAll(`.${className}`)\n",
              "\n",
              "  elements.forEach(element => {\n",
              "    if (element.classList.contains('repr-section-header')) {\n",
              "      // Don't collapse the section header row.\n",
              "       return\n",
              "    }\n",
              "    if (element.classList.contains('repr-element-collapsed')) {\n",
              "      // Force a reflow to ensure the display change takes effect before removing the class\n",
              "      element.classList.remove('repr-element-collapsed')\n",
              "      element.offsetHeight // This forces the browser to recalculate layout\n",
              "      element.classList.remove('repr-element-faded')\n",
              "    } else {\n",
              "      // Start transition to hide the element\n",
              "      element.classList.add('repr-element-faded')\n",
              "      element.addEventListener('transitionend', handler = (e) => {\n",
              "        if (e.propertyName === 'opacity' && getComputedStyle(element).opacity === '0.2') {\n",
              "          element.classList.add('repr-element-collapsed')\n",
              "          element.removeEventListener('transitionend', handler)\n",
              "        }\n",
              "      });\n",
              "    }\n",
              "  });\n",
              "\n",
              "  // Take care of button (adjust caret)\n",
              "  const button = document.querySelectorAll(`.repr-section-header.${className} > th.repr-section-toggle-col > button`)[0]\n",
              "  button.classList.toggle('collapsed')\n",
              "\n",
              "  // Take care of the tooltip of the section header row\n",
              "  const sectionHeaderRow = document.querySelectorAll(`tr.repr-section-header.${className}`)[0]\n",
              "  sectionHeaderRow.classList.toggle('collapsed')\n",
              "  sectionHeaderRow.title = sectionHeaderRow.title === 'Hide section' ? 'Show section' : 'Hide section'\n",
              "}\n",
              "</script>\n",
              "\n",
              "<style type=\"text/css\">\n",
              "    table.repr.table.table-hover.table-striped.table-sm.table-responsive.small {\n",
              "  /* Don't make rows wider than they need to be. */\n",
              "  display: inline;\n",
              "}\n",
              "\n",
              "table > tbody > tr.repr-element > td {\n",
              "  /* Apply a tighter layout to the table cells. */\n",
              "  padding-top: 0.1rem;\n",
              "  padding-bottom: 0.1rem;\n",
              "  padding-right: 1rem;\n",
              "}\n",
              "\n",
              "table > tbody > tr > td.repr-section-toggle-col {\n",
              "  /* Remove background and border of the first cell in every row\n",
              "     (this row is only used for the collapse / uncollapse caret)\n",
              "\n",
              "     TODO: Need to find a good solution for VS Code that works in both\n",
              "           light and dark mode. */\n",
              "  border-color: transparent;\n",
              "  --bs-table-accent-bg: transparent;\n",
              "}\n",
              "\n",
              "tr.repr-section-header {\n",
              "  /* Remove stripes from section header rows */\n",
              "  background-color: transparent;\n",
              "  border-color: transparent;\n",
              "  --bs-table-striped-bg: transparent;\n",
              "  cursor: pointer;\n",
              "}\n",
              "\n",
              "tr.repr-section-header > th {\n",
              "  text-align: left !important;\n",
              "  vertical-align: middle;\n",
              "}\n",
              "\n",
              ".repr-element, tr.repr-element > td {\n",
              "  opacity: 1;\n",
              "  text-align: left !important;\n",
              "}\n",
              "\n",
              ".repr-element-faded {\n",
              "  transition: 0.3s ease;\n",
              "  opacity: 0.2;\n",
              "}\n",
              "\n",
              ".repr-element-collapsed {\n",
              "  display: none;\n",
              "}\n",
              "\n",
              "/* Collapse / uncollapse button and the caret it contains. */\n",
              ".repr-section-toggle-col button {\n",
              "  cursor: pointer;\n",
              "  width: 1rem;\n",
              "  background-color: transparent;\n",
              "  border-color: transparent;\n",
              "}\n",
              "\n",
              "span.collapse-uncollapse-caret {\n",
              "  width: 1rem;\n",
              "  height: 1rem;\n",
              "  display: block;\n",
              "  background-repeat: no-repeat;\n",
              "  background-position: left;\n",
              "  background-size: contain;\n",
              "}\n",
              "\n",
              "/* The collapse / uncollapse carets were copied from the free Font Awesome collection and adjusted. */\n",
              "\n",
              "/* Default to black carets for light mode */\n",
              ".repr-section-toggle-col > button.collapsed > span.collapse-uncollapse-caret {\n",
              "  background-image: url('data:image/svg+xml;charset=utf8,<svg xmlns=\"http://www.w3.org/2000/svg\" viewBox=\"0 0 256 512\"><!--!Font Awesome Free 6.5.2 by @fontawesome - https://fontawesome.com License - https://fontawesome.com/license/free Copyright 2024 Fonticons, Inc.--><path fill=\"black\" d=\"M246.6 278.6c12.5-12.5 12.5-32.8 0-45.3l-128-128c-9.2-9.2-22.9-11.9-34.9-6.9s-19.8 16.6-19.8 29.6l0 256c0 12.9 7.8 24.6 19.8 29.6s25.7 2.2 34.9-6.9l128-128z\"/></svg>');\n",
              "}\n",
              "\n",
              ".repr-section-toggle-col\n",
              "  > button:not(.collapsed)\n",
              "  > span.collapse-uncollapse-caret {\n",
              "  background-image: url('data:image/svg+xml;charset=utf8,<svg xmlns=\"http://www.w3.org/2000/svg\" viewBox=\"0 0 320 512\"><!--!Font Awesome Free 6.5.2 by @fontawesome - https://fontawesome.com License - https://fontawesome.com/license/free Copyright 2024 Fonticons, Inc.--><path fill=\"black\" d=\"M137.4 374.6c12.5 12.5 32.8 12.5 45.3 0l128-128c9.2-9.2 11.9-22.9 6.9-34.9s-16.6-19.8-29.6-19.8L32 192c-12.9 0-24.6 7.8-29.6 19.8s-2.2 25.7 6.9 34.9l128 128z\"/></svg>');\n",
              "}\n",
              "\n",
              "/* Use white carets for dark mode */\n",
              "@media (prefers-color-scheme: dark) {\n",
              "  .repr-section-toggle-col > button.collapsed > span.collapse-uncollapse-caret {\n",
              "    background-image: url('data:image/svg+xml;charset=utf8,<svg xmlns=\"http://www.w3.org/2000/svg\" viewBox=\"0 0 256 512\"><!--!Font Awesome Free 6.5.2 by @fontawesome - https://fontawesome.com License - https://fontawesome.com/license/free Copyright 2024 Fonticons, Inc.--><path fill=\"white\" d=\"M246.6 278.6c12.5-12.5 12.5-32.8 0-45.3l-128-128c-9.2-9.2-22.9-11.9-34.9-6.9s-19.8 16.6-19.8 29.6l0 256c0 12.9 7.8 24.6 19.8 29.6s25.7 2.2 34.9-6.9l128-128z\"/></svg>');\n",
              "  }\n",
              "\n",
              "  .repr-section-toggle-col\n",
              "    > button:not(.collapsed)\n",
              "    > span.collapse-uncollapse-caret {\n",
              "    background-image: url('data:image/svg+xml;charset=utf8,<svg xmlns=\"http://www.w3.org/2000/svg\" viewBox=\"0 0 320 512\"><!--!Font Awesome Free 6.5.2 by @fontawesome - https://fontawesome.com License - https://fontawesome.com/license/free Copyright 2024 Fonticons, Inc.--><path fill=\"white\" d=\"M137.4 374.6c12.5 12.5 32.8 12.5 45.3 0l128-128c9.2-9.2 11.9-22.9 6.9-34.9s-16.6-19.8-29.6-19.8L32 192c-12.9 0-24.6 7.8-29.6 19.8s-2.2 25.7 6.9 34.9l128 128z\"/></svg>');\n",
              "  }\n",
              "}\n",
              "\n",
              ".channel-names-btn {\n",
              "  padding: 0;\n",
              "  border: none;\n",
              "  background: none;\n",
              "  text-decoration: underline;\n",
              "  text-decoration-style: dashed;\n",
              "  cursor: pointer;\n",
              "  color: #0d6efd;\n",
              "}\n",
              "\n",
              ".channel-names-btn:hover {\n",
              "  color: #0a58ca;\n",
              "}\n",
              "</style>\n",
              "\n",
              "\n",
              "\n",
              "<table class=\"repr table table-hover table-striped table-sm table-responsive small\">\n",
              "    \n",
              "\n",
              "\n",
              "\n",
              "\n",
              "\n",
              "\n",
              "\n",
              "<tr class=\"repr-section-header general-5e2b86fb-34fc-4d75-86bf-e4701276d18e\"  title=\"Hide section\" \n",
              "    onclick=\"toggleVisibility('general-5e2b86fb-34fc-4d75-86bf-e4701276d18e')\">\n",
              "    <th class=\"repr-section-toggle-col\">\n",
              "        <button>\n",
              "            \n",
              "            <span class=\"collapse-uncollapse-caret\"></span>\n",
              "        </button>\n",
              "    </th>\n",
              "    <th colspan=\"2\">\n",
              "        <strong>General</strong>\n",
              "    </th>\n",
              "</tr>\n",
              "\n",
              "<tr class=\"repr-element general-5e2b86fb-34fc-4d75-86bf-e4701276d18e \">\n",
              "    <td class=\"repr-section-toggle-col\"></td>\n",
              "    <td>MNE object type</td>\n",
              "    <td>RawArrayExtended</td>\n",
              "</tr>\n",
              "<tr class=\"repr-element general-5e2b86fb-34fc-4d75-86bf-e4701276d18e \">\n",
              "    <td class=\"repr-section-toggle-col\"></td>\n",
              "    <td>Measurement date</td>\n",
              "    \n",
              "    <td>2025-09-18 at 21:05:57 UTC</td>\n",
              "    \n",
              "</tr>\n",
              "<tr class=\"repr-element general-5e2b86fb-34fc-4d75-86bf-e4701276d18e \">\n",
              "    <td class=\"repr-section-toggle-col\"></td>\n",
              "    <td>Participant</td>\n",
              "    \n",
              "    <td>Unknown</td>\n",
              "    \n",
              "</tr>\n",
              "<tr class=\"repr-element general-5e2b86fb-34fc-4d75-86bf-e4701276d18e \">\n",
              "    <td class=\"repr-section-toggle-col\"></td>\n",
              "    <td>Experimenter</td>\n",
              "    \n",
              "    <td>Unknown</td>\n",
              "    \n",
              "</tr>\n",
              "    \n",
              "\n",
              "\n",
              "\n",
              "\n",
              "\n",
              "\n",
              "\n",
              "<tr class=\"repr-section-header acquisition-d9b8252a-c8d6-402b-a773-cc3d6315e906\" \n",
              "    title=\"Hide section\"  onclick=\"toggleVisibility('acquisition-d9b8252a-c8d6-402b-a773-cc3d6315e906')\">\n",
              "    <th class=\"repr-section-toggle-col\">\n",
              "        <button>\n",
              "            \n",
              "            <span class=\"collapse-uncollapse-caret\"></span>\n",
              "        </button>\n",
              "    </th>\n",
              "    <th colspan=\"2\">\n",
              "        <strong>Acquisition</strong>\n",
              "    </th>\n",
              "</tr>\n",
              "\n",
              "<tr class=\"repr-element acquisition-d9b8252a-c8d6-402b-a773-cc3d6315e906 \">\n",
              "    <td class=\"repr-section-toggle-col\"></td>\n",
              "    <td>Duration</td>\n",
              "    <td>00:10:26 (HH:MM:SS)</td>\n",
              "</tr>\n",
              "\n",
              "\n",
              "\n",
              "\n",
              "\n",
              "\n",
              "\n",
              "\n",
              "<tr class=\"repr-element acquisition-d9b8252a-c8d6-402b-a773-cc3d6315e906 \">\n",
              "    <td class=\"repr-section-toggle-col\"></td>\n",
              "    <td>Sampling frequency</td>\n",
              "    <td>128.00 Hz</td>\n",
              "</tr>\n",
              "\n",
              "\n",
              "<tr class=\"repr-element acquisition-d9b8252a-c8d6-402b-a773-cc3d6315e906 \">\n",
              "    <td class=\"repr-section-toggle-col\"></td>\n",
              "    <td>Time points</td>\n",
              "    <td>80,123</td>\n",
              "</tr>\n",
              "\n",
              "\n",
              "    \n",
              "\n",
              "\n",
              "\n",
              "\n",
              "\n",
              "\n",
              "\n",
              "<tr class=\"repr-section-header channels-9d13bfdb-ac2b-48a8-a78e-ab3715b83180\"  title=\"Hide section\" \n",
              "    onclick=\"toggleVisibility('channels-9d13bfdb-ac2b-48a8-a78e-ab3715b83180')\">\n",
              "    <th class=\"repr-section-toggle-col\">\n",
              "        <button>\n",
              "            \n",
              "            <span class=\"collapse-uncollapse-caret\"></span>\n",
              "        </button>\n",
              "    </th>\n",
              "    <th colspan=\"2\">\n",
              "        <strong>Channels</strong>\n",
              "    </th>\n",
              "</tr>\n",
              "\n",
              "\n",
              "<tr class=\"repr-element channels-9d13bfdb-ac2b-48a8-a78e-ab3715b83180 \">\n",
              "    <td class=\"repr-section-toggle-col\"></td>\n",
              "    <td>EEG</td>\n",
              "    <td>\n",
              "        <button class=\"channel-names-btn\" onclick=\"alert('Good EEG:\\n\\nAF3, F7, F3, FC5, T7, P7, O1, O2, P8, T8, FC6, F4, F8, AF4')\" title=\"(Click to open in popup)&#13;&#13;AF3, F7, F3, FC5, T7, P7, O1, O2, P8, T8, FC6, F4, F8, AF4\">\n",
              "            14\n",
              "        </button>\n",
              "\n",
              "        \n",
              "    </td>\n",
              "</tr>\n",
              "\n",
              "\n",
              "<tr class=\"repr-element channels-9d13bfdb-ac2b-48a8-a78e-ab3715b83180 \">\n",
              "    <td class=\"repr-section-toggle-col\"></td>\n",
              "    <td>Head & sensor digitization</td>\n",
              "    \n",
              "    <td>Not available</td>\n",
              "    \n",
              "</tr>\n",
              "    \n",
              "\n",
              "\n",
              "\n",
              "\n",
              "\n",
              "\n",
              "\n",
              "<tr class=\"repr-section-header filters-52ae5f88-bea6-4acc-8d77-2b095f77e049\"  title=\"Hide section\" \n",
              "    onclick=\"toggleVisibility('filters-52ae5f88-bea6-4acc-8d77-2b095f77e049')\">\n",
              "    <th class=\"repr-section-toggle-col\">\n",
              "        <button>\n",
              "            \n",
              "            <span class=\"collapse-uncollapse-caret\"></span>\n",
              "        </button>\n",
              "    </th>\n",
              "    <th colspan=\"2\">\n",
              "        <strong>Filters</strong>\n",
              "    </th>\n",
              "</tr>\n",
              "\n",
              "<tr class=\"repr-element filters-52ae5f88-bea6-4acc-8d77-2b095f77e049 \">\n",
              "    <td class=\"repr-section-toggle-col\"></td>\n",
              "    <td>Highpass</td>\n",
              "    <td>0.00 Hz</td>\n",
              "</tr>\n",
              "\n",
              "\n",
              "<tr class=\"repr-element filters-52ae5f88-bea6-4acc-8d77-2b095f77e049 \">\n",
              "    <td class=\"repr-section-toggle-col\"></td>\n",
              "    <td>Lowpass</td>\n",
              "    <td>64.00 Hz</td>\n",
              "</tr>\n",
              "\n",
              "\n",
              "</table>"
            ],
            "text/plain": [
              "<RawArrayExtended | 14 x 80123 (626.0 s), ~8.6 MB, data loaded>, timerange=2025-09-18T21:05:57+00:00 → 2025-09-18T21:16:22.953125+00:00"
            ]
          },
          "execution_count": 24,
          "metadata": {},
          "output_type": "execute_result"
        }
      ],
      "source": [
        "manual_decrypted_raw = deepcopy(eeg_datasets[0]).copy().pick_types(eeg=True, meg=False, stim=False, exclude='bads')\n",
        "flutter_decoded_raw = deepcopy(flutter_decoded_eeg_datasets['EEG'][0]).copy().pick_types(eeg=True, meg=False, stim=False, exclude='bads')\n",
        "\n",
        "manual_decrypted_raw\n",
        "flutter_decoded_raw"
      ]
    },
    {
      "cell_type": "code",
      "execution_count": 25,
      "metadata": {},
      "outputs": [
        {
          "data": {
            "text/plain": [
              "'qt'"
            ]
          },
          "execution_count": 25,
          "metadata": {},
          "output_type": "execute_result"
        }
      ],
      "source": [
        "mne.viz.set_browser_backend(\"qt\")  # or \"matplotlib\"\n",
        "mne.set_config(\"MNE_BROWSER_BACKEND\", \"qt\")  # or \"matplotlib\"\n"
      ]
    },
    {
      "cell_type": "code",
      "execution_count": 26,
      "metadata": {},
      "outputs": [
        {
          "data": {
            "text/plain": [
              "<mne_qt_browser._pg_figure.MNEQtBrowser at 0x2142de1b160>"
            ]
          },
          "execution_count": 26,
          "metadata": {},
          "output_type": "execute_result"
        }
      ],
      "source": [
        "\n",
        "plot_kwargs = dict(start=10.0, duration=30.0, scalings=dict(eeg='auto'), time_format='clock')\n",
        "manual_decrypted_raw.plot(title='manual_decrypted', **plot_kwargs)"
      ]
    },
    {
      "cell_type": "code",
      "execution_count": 27,
      "metadata": {},
      "outputs": [
        {
          "data": {
            "text/plain": [
              "<mne_qt_browser._pg_figure.MNEQtBrowser at 0x214437cc8b0>"
            ]
          },
          "execution_count": 27,
          "metadata": {},
          "output_type": "execute_result"
        }
      ],
      "source": [
        "flutter_decoded_raw.plot(title='flutter_decoded', **plot_kwargs)"
      ]
    },
    {
      "cell_type": "code",
      "execution_count": null,
      "metadata": {},
      "outputs": [],
      "source": [
        "# type(flutter_decoded_eeg_datasets)\n",
        "print(list(flutter_decoded_eeg_datasets.keys()))"
      ]
    },
    {
      "cell_type": "code",
      "execution_count": null,
      "metadata": {},
      "outputs": [],
      "source": [
        "a_raw = eeg_datasets[-1]\n",
        "a_raw"
      ]
    },
    {
      "cell_type": "code",
      "execution_count": null,
      "metadata": {},
      "outputs": [],
      "source": [
        "a_raw.plot()"
      ]
    },
    {
      "cell_type": "code",
      "execution_count": null,
      "metadata": {},
      "outputs": [],
      "source": [
        "\n",
        "type(flutter_decoded_eeg_datasets)\n"
      ]
    },
    {
      "cell_type": "code",
      "execution_count": null,
      "metadata": {},
      "outputs": [],
      "source": [
        "motion_datasets[-2].plot()\n",
        "# eeg_datasets[-2].plot()"
      ]
    },
    {
      "cell_type": "code",
      "execution_count": null,
      "metadata": {},
      "outputs": [],
      "source": []
    },
    {
      "cell_type": "code",
      "execution_count": null,
      "metadata": {
        "tags": [
          "run_group_main"
        ]
      },
      "outputs": [],
      "source": [
        "from phoofflineeeganalysis.analysis.motion_data import MotionData\n",
        "from phoofflineeeganalysis.analysis.MNE_helpers import MNEHelpers\n",
        "\n",
        "\n",
        "## INPUTS: eeg_datasets, motion_datasets\n",
        "## set the annotations for the EEG-type modalities\n",
        "\n",
        "for an_eeg_ds in eeg_datasets:\n",
        "    # ==================================================================================================================================================================================================================================================================================== #\n",
        "    # Adding `DataModalityType.PHO_LOG_TO_LSL` before `DataModalityType.MOTION` annotations works, while the opposite order seems to lose the MOTION annotations                                                                                                                           #\n",
        "    # ==================================================================================================================================================================================================================================================================================== #\n",
        "    # for an_annotation_ds in raws_dict.get(DataModalityType.PHO_LOG_TO_LSL.value, []):\n",
        "    #     # meas_date = deepcopy(an_eeg_ds.info.get('meas_date'))\n",
        "    #     # MNEHelpers.merge_annotations(raw=an_eeg_ds, new_annots=an_annotation_ds, align_to_Raw_meas_time=True)\n",
        "    #     MNEHelpers.merge_annotations(raw=an_eeg_ds, new_annots=an_annotation_ds, align_to_Raw_meas_time=False)        \n",
        "    #     # if (an_eeg_ds.annotations is None) or (len(an_eeg_ds.annotations) < 1):\n",
        "    #     #     # an_eeg_ds.annotations = an_annotation_ds\n",
        "    #     #     an_eeg_ds.set_annotations(an_annotation_ds)\n",
        "    #     # else:\n",
        "    #     #     # a_raw: mne.io.Raw = mne.io.Raw(an_eeg_ds)\n",
        "    #     #     an_eeg_ds.set_annotations(an_annotation_ds)\n",
        "    #     #     # an_eeg_ds.set_annotation(an_annotation_ds)\n",
        "    #     # an_eeg_ds.annotations\n",
        "\n",
        "    # ==================================================================================================================================================================================================================================================================================== #\n",
        "    # Add Motion Annotations                                                                                                                                                                                                                                                               #\n",
        "    # ==================================================================================================================================================================================================================================================================================== #\n",
        "    for an_motion_raw_ds in motion_datasets:\n",
        "\n",
        "        motion_annots: mne.Annotations = MotionData.find_high_accel_periods(an_motion_raw_ds, should_set_bad_period_annotations=True)\n",
        "\n",
        "        motion_annots = MNEHelpers.merge_annotations(raw=an_eeg_ds, new_annots=motion_annots, align_to_Raw_meas_time=True)\n",
        "\n",
        "\n",
        "## OUTPUTS: eeg_datasets\n",
        "# eeg_datasets"
      ]
    },
    {
      "cell_type": "code",
      "execution_count": null,
      "metadata": {},
      "outputs": [],
      "source": [
        "eeg_datasets"
      ]
    },
    {
      "cell_type": "code",
      "execution_count": null,
      "metadata": {
        "tags": [
          "run_group_main"
        ]
      },
      "outputs": [],
      "source": [
        "from phoofflineeeganalysis.analysis.MNE_helpers import MNEHelpers\n",
        "# [v.to_data_frame(time_format='datetime') for v in eeg_datasets]\n",
        "\n",
        "\n",
        "# eeg_min_max_times_df = MNEHelpers.build_dataset_span_dataframe(a_raw_datasets=eeg_datasets)\n",
        "motion_min_max_times_df = MNEHelpers.build_dataset_span_dataframe(a_raw_datasets=motion_datasets)\n",
        "motion_min_max_times_df"
      ]
    },
    {
      "cell_type": "code",
      "execution_count": null,
      "metadata": {},
      "outputs": [],
      "source": [
        "from datetime import timedelta\n",
        "\n",
        "((motion_min_max_times_df['duration'] / np.timedelta64(1, 's')) < (timedelta(minutes=1) / np.timedelta64(1, 's')))\n",
        "\n"
      ]
    },
    {
      "cell_type": "code",
      "execution_count": null,
      "metadata": {},
      "outputs": [],
      "source": [
        "# motion_min_max_times_df['duration'].dt.\n",
        "motion_min_max_times_df['duration'].dt.total_seconds()"
      ]
    },
    {
      "cell_type": "code",
      "execution_count": null,
      "metadata": {},
      "outputs": [],
      "source": [
        "motion_datasets"
      ]
    },
    {
      "cell_type": "code",
      "execution_count": null,
      "metadata": {},
      "outputs": [],
      "source": [
        "\n",
        "raw_dfs_dict, min_max_times_dict = MNEHelpers.debug_compare_raw_alignments(time_col_name='time', eeg=eeg_datasets)\n",
        "# raw_dfs_dict\n",
        "min_max_times_dict\n",
        "\n"
      ]
    },
    {
      "cell_type": "code",
      "execution_count": null,
      "metadata": {},
      "outputs": [],
      "source": [
        "\n",
        "\n",
        "a_motion_ds = motion_datasets[-1]\n",
        "a_motion_df: pd.DataFrame = a_motion_ds.to_data_frame()\n",
        "a_motion_df: pd.DataFrame = MotionData.compute_rolling_motion_change_detection(a_df=a_motion_df)\n",
        "\n",
        "a_rolling_motion_df = a_motion_df.rolling(window=4, step=1).mean()\n",
        "a_rolling_motion_df: pd.DataFrame = MotionData.compute_rolling_motion_change_detection(a_df=a_rolling_motion_df)\n",
        "\n",
        "\n",
        "# a_motion_df: pd.DataFrame = MotionData.compute_rolling_motion_change_detection(a_df=a_motion_df)\n",
        "\n",
        "# dataset_moving_annotations: mne.Annotations = MNEHelpers.convert_df_with_boolean_col_to_epochs(a_motion_df, is_bad_col_name=\"is_moving\", annotation_description_name=\"BAD_motion\", time_col_names='time')\n",
        "dataset_moving_annotations: mne.Annotations = MNEHelpers.convert_df_with_boolean_col_to_epochs(a_rolling_motion_df, is_bad_col_name=\"is_moving\", annotation_description_name=\"BAD_motion\", time_col_names='time')\n",
        "dataset_moving_annotations\n",
        "\n"
      ]
    },
    {
      "cell_type": "code",
      "execution_count": null,
      "metadata": {},
      "outputs": [],
      "source": [
        "from phoofflineeeganalysis.analysis.MNE_helpers import MNEHelpers\n",
        "\n",
        "a_ds = a_motion_ds\n",
        "\n",
        "dataset_moving_annotations: mne.Annotations = MNEHelpers.convert_df_with_boolean_col_to_epochs(a_motion_df, is_bad_col_name=\"is_moving\", annotation_description_name=\"BAD_motion\", time_col_names='time')\n",
        "dataset_moving_annotations"
      ]
    },
    {
      "cell_type": "code",
      "execution_count": null,
      "metadata": {},
      "outputs": [],
      "source": [
        "a_ds.set_annotations(dataset_moving_annotations)\n",
        "\n",
        "# a_ds.annotations"
      ]
    },
    {
      "cell_type": "code",
      "execution_count": null,
      "metadata": {},
      "outputs": [],
      "source": [
        "is_bad = a_motion_df['is_moving']\n",
        "a_ds = a_motion_ds\n",
        "\n",
        "meas_date = a_ds.info['meas_date']\n",
        "active_times = deepcopy(a_ds.times)\n",
        "\n",
        "\n",
        "active_times"
      ]
    },
    {
      "cell_type": "code",
      "execution_count": null,
      "metadata": {},
      "outputs": [],
      "source": [
        "a_motion_df['time'].to_numpy()\n"
      ]
    },
    {
      "cell_type": "code",
      "execution_count": null,
      "metadata": {},
      "outputs": [],
      "source": [
        "\n",
        "## INPUTS: meas_date\n",
        "\n",
        "active_times = deepcopy(a_motion_df['time'].to_numpy())\n",
        "\n",
        "# split into contiguous segments\n",
        "idx = np.where(np.diff(is_bad.astype(int)) != 0)[0] + 1 # the +1 is to adjust for the diff operation\n",
        "segments = np.split(np.arange(len(is_bad)), idx)\n",
        "\n",
        "onsets, durations = [], []\n",
        "for seg in segments:\n",
        "    if is_bad[seg[0]]:\n",
        "        onsets.append(active_times[seg[0]])\n",
        "        durations.append(active_times[seg[-1]] - active_times[seg[0]])\n",
        "\n",
        "is_moving_annots = mne.Annotations(onset=onsets, duration=durations, description=[\"BAD_motion\"]*len(onsets), orig_time=meas_date)\n",
        "is_moving_annots\n",
        "\n"
      ]
    },
    {
      "cell_type": "code",
      "execution_count": null,
      "metadata": {},
      "outputs": [],
      "source": [
        "a_rolling_motion_df: pd.DataFrame = MotionData.compute_rolling_motion_change_detection(a_df=a_rolling_motion_df)\n",
        "a_rolling_motion_df"
      ]
    },
    {
      "cell_type": "code",
      "execution_count": null,
      "metadata": {},
      "outputs": [],
      "source": [
        "motion_datasets[-1].plot()\n"
      ]
    },
    {
      "cell_type": "code",
      "execution_count": null,
      "metadata": {},
      "outputs": [],
      "source": [
        "eeg_datasets[-1].plot()"
      ]
    },
    {
      "cell_type": "code",
      "execution_count": null,
      "metadata": {},
      "outputs": [],
      "source": [
        "flat_data_modality_dict"
      ]
    },
    {
      "cell_type": "code",
      "execution_count": null,
      "metadata": {},
      "outputs": [],
      "source": []
    },
    {
      "cell_type": "code",
      "execution_count": null,
      "metadata": {},
      "outputs": [],
      "source": [
        "\n",
        "# flat_data_modality_dict['MOTION']\n",
        "# (all_data_EEG, all_times_EEG), datasets_EEG, df_EEG = flat_data_modality_dict['EEG']  ## Unpacking\n",
        "\n",
        "(all_data_EEG, all_times_EEG), datasets_EEG, df_EEG = flat_data_modality_dict['GENERIC']  ## Unpacking\n",
        "# _, datasets, df = flat_data_modality_dict['MOTION'][-1]  ## Unpacking\n",
        "# df_EEG\n",
        "\n",
        "a_raw = datasets_EEG[-1]\n",
        "# a_raw.plot(block=True)\n",
        "a_raw.describe(data_frame=True)"
      ]
    },
    {
      "cell_type": "code",
      "execution_count": null,
      "metadata": {},
      "outputs": [],
      "source": [
        "\n",
        "# (['eeg'] * (len(ch_names)-1) + ['misc'])\n",
        "\n",
        "a_raw\n"
      ]
    },
    {
      "cell_type": "code",
      "execution_count": null,
      "metadata": {},
      "outputs": [],
      "source": [
        "mne.viz.set_browser_backend(\"Matplotlib\")\n",
        "\n",
        "a_raw.pick_types(eeg=True).plot(block=True)\n"
      ]
    },
    {
      "cell_type": "markdown",
      "metadata": {},
      "source": [
        "## 2025-09-11 - Almost seems working but see also\n",
        "From `CyKit/Examples/example_epoc_plus.py`\n",
        "```python\n",
        "join_data = ''.join(map(chr, data[1:]))\n",
        "data = self.cipher.decrypt(bytes(join_data,'latin-1')[0:32])\n",
        "```"
      ]
    },
    {
      "cell_type": "markdown",
      "metadata": {},
      "source": [
        "# SavedSessionProcessor"
      ]
    },
    {
      "cell_type": "code",
      "execution_count": null,
      "metadata": {
        "tags": [
          "run_group_main"
        ]
      },
      "outputs": [],
      "source": [
        "from phoofflineeeganalysis.analysis.SavedSessionsProcessor import SavedSessionsProcessor, SessionModality, DataModalityType\n",
        "\n",
        "sso: SavedSessionsProcessor = SavedSessionsProcessor(eeg_recordings_file_path=eeg_recordings_file_path,\n",
        "                                                     headset_motion_recordings_file_path=headset_motion_recordings_file_path, WhisperVideoTranscripts_LSL_Converted_file_path=WhisperVideoTranscripts_LSL_Converted, pho_log_to_LSL_recordings_path=pho_log_to_LSL_recordings_path,\n",
        "                                                    eeg_analyzed_parent_export_path=eeg_analyzed_parent_export_path, \n",
        "                                                     n_most_recent_sessions_to_preprocess=n_most_recent_sessions_to_preprocess, \n",
        "                                                    should_load_data=True, should_load_preprocessed=False,\n",
        "                                                    #  should_load_data=True, should_load_preprocessed=True,\n",
        "\t\t\t\t\t\t\t\t\t\t\t\t\t)"
      ]
    },
    {
      "cell_type": "code",
      "execution_count": null,
      "metadata": {
        "tags": [
          "run_group_main"
        ]
      },
      "outputs": [],
      "source": [
        "(flat_data_modality_dict, found_recording_file_modality_dict) = sso.setup_specific_modality(modality_type=[DataModalityType.EEG, DataModalityType.MOTION, DataModalityType.PHO_LOG_TO_LSL, DataModalityType.WHISPER], should_load_data=False)\n",
        "\n",
        "## 3m 0.3s"
      ]
    },
    {
      "cell_type": "markdown",
      "metadata": {},
      "source": [
        "## 2025-09-09 - Manual Read to determine only the new/modified EEG files"
      ]
    },
    {
      "cell_type": "code",
      "execution_count": null,
      "metadata": {},
      "outputs": [],
      "source": [
        "from phoofflineeeganalysis.analysis.historical_data import HistoricalData\n",
        "\n",
        "updated_file_paths, (pending_updated_recording_file_df, modern_found_EEG_recording_file_df, pre_processed_EEG_recording_file_df) = HistoricalData.discover_updated_recording_files(eeg_recordings_file_path=sso.eeg_recordings_file_path, eeg_analyzed_parent_export_path=sso.eeg_analyzed_parent_export_path)\n",
        "# updated_file_paths\n",
        "flat_data_modality_dict = HistoricalData.read_recording_files(found_recording_file_modality_dict={DataModalityType.EEG.name: updated_file_paths}, should_load_data=True)\n",
        "flat_data_modality_dict"
      ]
    },
    {
      "cell_type": "code",
      "execution_count": null,
      "metadata": {},
      "outputs": [],
      "source": [
        "flat_data_modality_dict, found_recording_file_modality_dict = HistoricalData.MAIN_process_recording_files(\n",
        "    eeg_recordings_file_path = sso.eeg_analyzed_parent_export_path,\n",
        "    # headset_motion_recordings_file_path = self.headset_motion_recordings_file_path,\n",
        "    # WhisperVideoTranscripts_LSL_Converted = self.WhisperVideoTranscripts_LSL_Converted_file_path,\n",
        "    # pho_log_to_LSL_recordings_path = self.pho_log_to_LSL_recordings_path,\n",
        "    should_load_data=False,\n",
        "    # should_load_data=sso.should_load_data,\n",
        ")\n",
        "\n",
        "\n",
        "\n",
        "# 1m 7sec\n",
        "\n",
        "\n",
        "\n",
        "# ## #TODO 2025-09-09 16:14: - [ ] Find the files that changed since last processing, and only load those:\n",
        "# flat_data_modality_dict, found_recording_file_modality_dict = HistoricalData.MAIN_process_recording_files(\n",
        "#     eeg_recordings_file_path = sso.eeg_recordings_file_path,\n",
        "#     headset_motion_recordings_file_path = sso.headset_motion_recordings_file_path,\n",
        "#     WhisperVideoTranscripts_LSL_Converted = sso.WhisperVideoTranscripts_LSL_Converted_file_path,\n",
        "#     pho_log_to_LSL_recordings_path = sso.pho_log_to_LSL_recordings_path,\n",
        "#     should_load_data=sso.should_load_data,\n",
        "# )\n"
      ]
    },
    {
      "cell_type": "code",
      "execution_count": null,
      "metadata": {},
      "outputs": [],
      "source": [
        "\n",
        "# prev_processed_modality_EEG: SessionModality = flat_data_modality_dict[DataModalityType.EEG.name]  ## Unpacking\n",
        "_, prev_processed_datasets, prev_processed_df_EEG = flat_data_modality_dict[DataModalityType.EEG.name]  ## Unpacking\n",
        "prev_processed_datasets\n",
        "# prev_processed_df_EEG\n",
        "\n",
        "\n",
        "[a_raw for a_raw in prev_processed_datasets]\n",
        "a_raw = prev_processed_datasets[-1]\n",
        "a_raw\n",
        "\n",
        "\n",
        "\n",
        "\n"
      ]
    },
    {
      "cell_type": "code",
      "execution_count": null,
      "metadata": {},
      "outputs": [],
      "source": [
        "prev_processed_df_EEG: pd.DataFrame = prev_processed_modality_EEG.df  ## Unpacking\n",
        "prev_processed_df_EEG['duration'] = prev_processed_df_EEG['end_time'] - prev_processed_df_EEG['start_time']\n",
        "prev_processed_df_EEG\n",
        "\n"
      ]
    },
    {
      "cell_type": "markdown",
      "metadata": {},
      "source": [
        "# Resume main pipleine"
      ]
    },
    {
      "cell_type": "code",
      "execution_count": null,
      "metadata": {
        "tags": [
          "run_group_main"
        ]
      },
      "outputs": [],
      "source": [
        "sso.perform_post_processing() # Filename '2024-09-11 15-27-36.lsl.fif' does not contain a recognized datetime format.\n",
        "## 3m 7.5s"
      ]
    },
    {
      "cell_type": "code",
      "execution_count": null,
      "metadata": {},
      "outputs": [],
      "source": [
        "written_EDF_file_paths = sso.save_to_EDF()\n",
        "written_EDF_file_paths"
      ]
    },
    {
      "cell_type": "markdown",
      "metadata": {},
      "source": [
        "### Pickle Entire Pipeline"
      ]
    },
    {
      "cell_type": "code",
      "execution_count": null,
      "metadata": {},
      "outputs": [],
      "source": [
        "# data_path = Path(r\"C:/Users/pho/repos/EmotivEpoc/PhoLabStreamingReceiver/data\").resolve()\n",
        "# assert data_path.exists()\n",
        "\n",
        "# pkl_path = pickled_data_path.joinpath(\"2025-09-02_50records_SSO_all.pkl\").resolve()\n",
        "# pkl_path = pickled_data_path.joinpath(\"2025-09-08_ALL_records_SSO_all.pkl\").resolve()\n",
        "pkl_path = pickled_data_path.joinpath(\"2025-09-10_35_records_SSO_all.pkl\").resolve()\n",
        "sso.save(pkl_path=pkl_path)\n",
        "\n",
        "# 8m 20s"
      ]
    },
    {
      "cell_type": "code",
      "execution_count": null,
      "metadata": {},
      "outputs": [],
      "source": [
        "import matplotlib.pyplot as plt\n",
        "import pandas as pd\n",
        "import matplotlib.dates as mdates\n",
        "\n",
        "## sso\n",
        "(all_data_EEG, all_times_EEG), datasets_EEG, df_EEG = sso.flat_data_modality_dict[DataModalityType.EEG.name]  ## Unpacking\n",
        "datasets_EEG"
      ]
    },
    {
      "cell_type": "code",
      "execution_count": null,
      "metadata": {},
      "outputs": [],
      "source": [
        "df_EEG"
      ]
    },
    {
      "cell_type": "code",
      "execution_count": null,
      "metadata": {},
      "outputs": [],
      "source": [
        "sso.modalities['EEG']"
      ]
    },
    {
      "cell_type": "code",
      "execution_count": null,
      "metadata": {},
      "outputs": [],
      "source": [
        "## INPUTS: datasets_EEG\n",
        "\n",
        "# Assume raws is your list of Raw objects\n",
        "times = [raw.info['meas_date'] for raw in datasets_EEG]\n",
        "df = pd.DataFrame({'start': times})\n",
        "\n",
        "fig, ax = plt.subplots(figsize=(12,6))\n",
        "ax.scatter(df['start'], [1]*len(df), marker='o')\n",
        "\n",
        "ax.xaxis.set_major_locator(mdates.DayLocator())\n",
        "ax.xaxis.set_major_formatter(mdates.DateFormatter('%m-%d'))\n",
        "ax.set_yticks([])\n",
        "\n",
        "plt.title(\"EEG Recording Sessions by Date\")\n",
        "plt.show()\n"
      ]
    }
  ],
  "metadata": {
    "kernelspec": {
      "display_name": ".venv",
      "language": "python",
      "name": "python3"
    },
    "language_info": {
      "codemirror_mode": {
        "name": "ipython",
        "version": 3
      },
      "file_extension": ".py",
      "mimetype": "text/x-python",
      "name": "python",
      "nbconvert_exporter": "python",
      "pygments_lexer": "ipython3",
      "version": "3.9.13"
    }
  },
  "nbformat": 4,
  "nbformat_minor": 0
}
