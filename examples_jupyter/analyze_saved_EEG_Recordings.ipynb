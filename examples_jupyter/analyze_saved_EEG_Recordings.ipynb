{
  "cells": [
    {
      "cell_type": "code",
      "execution_count": null,
      "metadata": {
        "collapsed": false,
        "tags": [
          "run_group_main",
          "run_unpickle_pipeline",
          "run_group_xdf_only"
        ]
      },
      "outputs": [],
      "source": [
        "%config IPCompleter.use_jedi = False\n",
        "%pdb off\n",
        "%load_ext autoreload\n",
        "%autoreload 3\n",
        "# %matplotlib inline\n",
        "%matplotlib qt5\n",
        "import mne\n",
        "mne.viz.set_browser_backend(\"qt\")  # or \"matplotlib\"\n",
        "mne.set_config(\"MNE_BROWSER_BACKEND\", \"qt\")  # or \"matplotlib\"\n",
        "%gui qt\n",
        "\n",
        "import IPython\n",
        "\n",
        "# Jupyter-lab enable printing for any line on its own (instead of just the last one in the cell)\n",
        "from IPython.core.interactiveshell import InteractiveShell\n",
        "InteractiveShell.ast_node_interactivity = \"all\"\n"
      ]
    },
    {
      "cell_type": "markdown",
      "metadata": {},
      "source": [
        "\n",
        "# Use MNE to load and analyze saved EEG and Motion recordings\n"
      ]
    },
    {
      "cell_type": "code",
      "execution_count": null,
      "metadata": {
        "collapsed": false,
        "tags": [
          "run_group_main",
          "run_unpickle_pipeline",
          "run_group_xdf_only"
        ]
      },
      "outputs": [],
      "source": [
        "import time\n",
        "import re\n",
        "from datetime import datetime, timezone\n",
        "\n",
        "import uuid\n",
        "from copy import deepcopy\n",
        "from typing import Dict, List, Tuple, Optional, Callable, Union, Any\n",
        "from nptyping import NDArray\n",
        "from matplotlib import pyplot as plt\n",
        "\n",
        "from pathlib import Path\n",
        "import numpy as np\n",
        "import pandas as pd\n",
        "from numpy.typing import NDArray\n",
        "\n",
        "import mne\n",
        "from mne import set_log_level\n",
        "from copy import deepcopy\n",
        "import mne\n",
        "\n",
        "from mne.io import read_raw\n",
        "\n",
        "datasets = []\n",
        "# mne.viz.set_browser_backend(\"Matplotlib\")\n",
        "mne.viz.set_browser_backend(\"qt\")\n",
        "\n",
        "from mne_lsl.player import PlayerLSL as Player\n",
        "from mne_lsl.stream import StreamLSL as Stream\n",
        "\n",
        "from phoofflineeeganalysis.analysis.MNE_helpers import MNEHelpers\n",
        "from phoofflineeeganalysis.analysis.historical_data import HistoricalData\n",
        "from phoofflineeeganalysis.analysis.motion_data import MotionData\n",
        "from phoofflineeeganalysis.analysis.EEG_data import EEGComputations, EEGData\n",
        "from phoofflineeeganalysis.analysis.anatomy_and_electrodes import ElectrodeHelper\n",
        "# from ..EegProcessing import bandpower\n",
        "# from phoofflineeeganalysis.EegProcessing import analyze_eeg_trends\n",
        "from phoofflineeeganalysis.EegVisualization import VisHelpers\n",
        "from phoofflineeeganalysis.analysis.SavedSessionsProcessor import SavedSessionsProcessor, SessionModality, DataModalityType\n",
        "\n",
        "set_log_level(\"WARNING\")\n",
        "\n",
        "# eeg_recordings_file_path: Path = Path(r'E:/Dropbox (Personal)/Databases/UnparsedData/EmotivEpocX_EEGRecordings/fif').resolve()\n",
        "# headset_motion_recordings_file_path: Path = Path(r'E:/Dropbox (Personal)/Databases/UnparsedData/EmotivEpocX_EEGRecordings/MOTION_RECORDINGS/fif').resolve()\n",
        "\n",
        "# assert eeg_recordings_file_path.exists()\n",
        "# assert headset_motion_recordings_file_path.exists()\n",
        "\n",
        "eeg_recordings_file_path: Path = Path(r'E:/Dropbox (Personal)/Databases/UnparsedData/EmotivEpocX_EEGRecordings/fif').resolve()\n",
        "flutter_eeg_recordings_file_path: Path = Path(r'E:/Dropbox (Personal)/Databases/UnparsedData/EmotivEEG_FlutterRecordings').resolve()\n",
        "flutter_motion_recordings_file_path: Path = Path(r'E:/Dropbox (Personal)/Databases/UnparsedData/EmotivEEG_FlutterRecordings/MOTION_RECORDINGS').resolve()\n",
        "flutter_GENERIC_recordings_file_path: Path = Path(r'E:/Dropbox (Personal)/Databases/UnparsedData/EmotivEEG_FlutterRecordings/GENERIC_RECORDINGS').resolve()\n",
        "\n",
        "headset_motion_recordings_file_path: Path = Path(r'E:/Dropbox (Personal)/Databases/UnparsedData/EmotivEpocX_EEGRecordings/MOTION_RECORDINGS/fif').resolve()\n",
        "WhisperVideoTranscripts_LSL_Converted = Path(r\"E:/Dropbox (Personal)/Databases/UnparsedData/WhisperVideoTranscripts_LSL_Converted\").resolve()\n",
        "pho_log_to_LSL_recordings_path: Path = Path(r'E:/Dropbox (Personal)/Databases/UnparsedData/PhoLogToLabStreamingLayer_logs').resolve()\n",
        "## These contain little LSL .fif files with names like: '20250808_062814_log.fif', \n",
        "\n",
        "eeg_analyzed_parent_export_path = Path(\"E:/Dropbox (Personal)/Databases/AnalysisData/MNE_preprocessed\").resolve()\n",
        "pickled_data_path = Path(r\"E:/Dropbox (Personal)/Databases/AnalysisData/MNE_preprocessed/PICKLED_COLLECTION\").resolve()\n",
        "assert pickled_data_path.exists()\n",
        "\n",
        "# n_most_recent_sessions_to_preprocess: int = None # None means all sessions\n",
        "# n_most_recent_sessions_to_preprocess: int = 35\n",
        "# n_most_recent_sessions_to_preprocess: int = 5\n",
        "n_most_recent_sessions_to_preprocess = None\n"
      ]
    },
    {
      "cell_type": "markdown",
      "metadata": {},
      "source": [
        "# SavedSessionProcessor"
      ]
    },
    {
      "cell_type": "code",
      "execution_count": null,
      "metadata": {
        "tags": [
          "run_group_main",
          "run_group_xdf_only"
        ]
      },
      "outputs": [],
      "source": [
        "\n",
        "sso: SavedSessionsProcessor = SavedSessionsProcessor(eeg_recordings_file_path=eeg_recordings_file_path,\n",
        "                                                     headset_motion_recordings_file_path=headset_motion_recordings_file_path, WhisperVideoTranscripts_LSL_Converted_file_path=WhisperVideoTranscripts_LSL_Converted, pho_log_to_LSL_recordings_path=pho_log_to_LSL_recordings_path,\n",
        "                                                    eeg_analyzed_parent_export_path=eeg_analyzed_parent_export_path, \n",
        "                                                     n_most_recent_sessions_to_preprocess=n_most_recent_sessions_to_preprocess, \n",
        "                                                    should_load_data=True, should_load_preprocessed=False,\n",
        "                                                    #  should_load_data=True, should_load_preprocessed=True,\n",
        "\t\t\t\t\t\t\t\t\t\t\t\t\t)"
      ]
    },
    {
      "cell_type": "code",
      "execution_count": null,
      "metadata": {
        "tags": [
          "run_group_main"
        ]
      },
      "outputs": [],
      "source": [
        "(flat_data_modality_dict, found_recording_file_modality_dict) = sso.setup_specific_modality(modality_type=[DataModalityType.EEG, DataModalityType.MOTION, DataModalityType.PHO_LOG_TO_LSL, DataModalityType.WHISPER], should_load_data=False)\n",
        "\n",
        "## 3m 0.3s"
      ]
    },
    {
      "cell_type": "markdown",
      "metadata": {},
      "source": [
        "## 2025-09-09 - Manual Read to determine only the new/modified EEG files"
      ]
    },
    {
      "cell_type": "code",
      "execution_count": null,
      "metadata": {},
      "outputs": [],
      "source": [
        "from phoofflineeeganalysis.analysis.historical_data import HistoricalData\n",
        "\n",
        "updated_file_paths, (pending_updated_recording_file_df, modern_found_EEG_recording_file_df, pre_processed_EEG_recording_file_df) = HistoricalData.discover_updated_recording_files(eeg_recordings_file_path=sso.eeg_recordings_file_path, eeg_analyzed_parent_export_path=sso.eeg_analyzed_parent_export_path)\n",
        "# updated_file_paths\n",
        "flat_data_modality_dict = HistoricalData.read_recording_files(found_recording_file_modality_dict={DataModalityType.EEG.name: updated_file_paths}, should_load_data=True)\n",
        "flat_data_modality_dict"
      ]
    },
    {
      "cell_type": "code",
      "execution_count": null,
      "metadata": {},
      "outputs": [],
      "source": [
        "flat_data_modality_dict, found_recording_file_modality_dict = HistoricalData.MAIN_process_recording_files(\n",
        "    eeg_recordings_file_path = sso.eeg_analyzed_parent_export_path,\n",
        "    # headset_motion_recordings_file_path = self.headset_motion_recordings_file_path,\n",
        "    # WhisperVideoTranscripts_LSL_Converted = self.WhisperVideoTranscripts_LSL_Converted_file_path,\n",
        "    # pho_log_to_LSL_recordings_path = self.pho_log_to_LSL_recordings_path,\n",
        "    should_load_data=False,\n",
        "    # should_load_data=sso.should_load_data,\n",
        ")\n",
        "\n",
        "\n",
        "\n",
        "# 1m 7sec\n",
        "\n",
        "\n",
        "\n",
        "# ## #TODO 2025-09-09 16:14: - [ ] Find the files that changed since last processing, and only load those:\n",
        "# flat_data_modality_dict, found_recording_file_modality_dict = HistoricalData.MAIN_process_recording_files(\n",
        "#     eeg_recordings_file_path = sso.eeg_recordings_file_path,\n",
        "#     headset_motion_recordings_file_path = sso.headset_motion_recordings_file_path,\n",
        "#     WhisperVideoTranscripts_LSL_Converted = sso.WhisperVideoTranscripts_LSL_Converted_file_path,\n",
        "#     pho_log_to_LSL_recordings_path = sso.pho_log_to_LSL_recordings_path,\n",
        "#     should_load_data=sso.should_load_data,\n",
        "# )\n"
      ]
    },
    {
      "cell_type": "code",
      "execution_count": null,
      "metadata": {},
      "outputs": [],
      "source": [
        "\n",
        "# prev_processed_modality_EEG: SessionModality = flat_data_modality_dict[DataModalityType.EEG.name]  ## Unpacking\n",
        "_, prev_processed_datasets, prev_processed_df_EEG = flat_data_modality_dict[DataModalityType.EEG.name]  ## Unpacking\n",
        "prev_processed_datasets\n",
        "# prev_processed_df_EEG\n",
        "\n",
        "\n",
        "[a_raw for a_raw in prev_processed_datasets]\n",
        "a_raw = prev_processed_datasets[-1]\n",
        "a_raw\n",
        "\n",
        "\n",
        "\n",
        "\n"
      ]
    },
    {
      "cell_type": "code",
      "execution_count": null,
      "metadata": {},
      "outputs": [],
      "source": [
        "prev_processed_df_EEG: pd.DataFrame = prev_processed_modality_EEG.df  ## Unpacking\n",
        "prev_processed_df_EEG['duration'] = prev_processed_df_EEG['end_time'] - prev_processed_df_EEG['start_time']\n",
        "prev_processed_df_EEG\n",
        "\n"
      ]
    },
    {
      "cell_type": "markdown",
      "metadata": {},
      "source": [
        "# Resume main pipleine"
      ]
    },
    {
      "cell_type": "code",
      "execution_count": null,
      "metadata": {
        "tags": [
          "run_group_main"
        ]
      },
      "outputs": [],
      "source": [
        "sso.perform_post_processing() # Filename '2024-09-11 15-27-36.lsl.fif' does not contain a recognized datetime format.\n",
        "## 3m 7.5s\n",
        "## 33m 42s - 578 records"
      ]
    },
    {
      "cell_type": "code",
      "execution_count": null,
      "metadata": {},
      "outputs": [],
      "source": [
        "written_EDF_file_paths = sso.save_to_EDF()\n",
        "written_EDF_file_paths"
      ]
    },
    {
      "cell_type": "code",
      "execution_count": null,
      "metadata": {},
      "outputs": [],
      "source": []
    },
    {
      "cell_type": "markdown",
      "metadata": {},
      "source": [
        "## Keep record of the processed files so they don't have to be re-processed each time"
      ]
    },
    {
      "cell_type": "code",
      "execution_count": null,
      "metadata": {},
      "outputs": [],
      "source": [
        "sso"
      ]
    },
    {
      "cell_type": "code",
      "execution_count": null,
      "metadata": {},
      "outputs": [],
      "source": [
        "## Get the records of all procesed files\n",
        "eeg_df: pd.DataFrame = deepcopy(sso.modalities['EEG'].df)\n",
        "eeg_df\n",
        "\n"
      ]
    },
    {
      "cell_type": "code",
      "execution_count": null,
      "metadata": {},
      "outputs": [],
      "source": [
        "for a_name in ('EEG', 'MOTION'):\n",
        "    if 'duration' not in sso.modalities[a_name].df.columns:\n",
        "        sso.modalities[a_name].df['duration'] = sso.modalities[a_name].df['end_time'] - sso.modalities[a_name].df['start_time']\n"
      ]
    },
    {
      "cell_type": "code",
      "execution_count": null,
      "metadata": {},
      "outputs": [],
      "source": [
        "sso.modalities['PHO_LOG_TO_LSL'].df"
      ]
    },
    {
      "cell_type": "code",
      "execution_count": null,
      "metadata": {},
      "outputs": [],
      "source": [
        "active_MOTION_idx: int = -3\n",
        "# a_raw_data: mne.io.Raw = sso.modalities['PHO_LOG_TO_LSL'].datasets[active_PHO_LOG_TO_LSL_idx]\n",
        "active_modality = sso.modalities['MOTION']\n",
        "an_active_idx = active_modality.active_indices[active_MOTION_idx]\n",
        "a_raw: mne.io.Raw = active_modality.datasets[an_active_idx]\n",
        "an_annotations = deepcopy(a_raw.annotations)\n",
        "an_annotations\n",
        "a_raw"
      ]
    },
    {
      "cell_type": "code",
      "execution_count": null,
      "metadata": {},
      "outputs": [],
      "source": [
        "a_raw.info"
      ]
    },
    {
      "cell_type": "code",
      "execution_count": null,
      "metadata": {},
      "outputs": [],
      "source": [
        "from phoofflineeeganalysis.analysis.event_data import EventData\n",
        "\n",
        "## Get high-accel periods from the motion:\n",
        "active_modality: SessionModality = sso.modalities['MOTION']\n",
        "high_accel_periods = [active_modality.analysis_results[a_motion_IDX]['bad_periods_annotations']['high_accel'] for i, a_motion_IDX in enumerate(active_modality.active_indices)]\n",
        "high_accel_periods\n"
      ]
    },
    {
      "cell_type": "code",
      "execution_count": null,
      "metadata": {},
      "outputs": [],
      "source": [
        "\n",
        "all_MOTION_df: pd.DataFrame = EventData.complete_correct_COMMON_annotation_df(a_logging_modality=active_modality, dataset_idx_col_name='MOTION_idx')"
      ]
    },
    {
      "cell_type": "code",
      "execution_count": null,
      "metadata": {},
      "outputs": [],
      "source": [
        "all_MOTION_df"
      ]
    },
    {
      "cell_type": "code",
      "execution_count": null,
      "metadata": {},
      "outputs": [],
      "source": [
        "active_EEG_idx: int = -15\n",
        "# a_raw_data: mne.io.Raw = sso.modalities['PHO_LOG_TO_LSL'].datasets[active_PHO_LOG_TO_LSL_idx]\n",
        "an_active_idx = sso.modalities['EEG'].active_indices[active_EEG_idx]\n",
        "a_raw: mne.io.Raw = sso.modalities['EEG'].datasets[an_active_idx]\n",
        "an_annotations: mne.Annotations = deepcopy(a_raw.annotations)\n",
        "an_annotations\n"
      ]
    },
    {
      "cell_type": "code",
      "execution_count": null,
      "metadata": {},
      "outputs": [],
      "source": [
        "eeg_df: pd.DataFrame = deepcopy(sso.modalities['EEG'].df)\n",
        "eeg_df\n"
      ]
    },
    {
      "cell_type": "code",
      "execution_count": null,
      "metadata": {},
      "outputs": [],
      "source": [
        "from phoofflineeeganalysis.analysis.MNE_helpers import MNEHelpers\n",
        "\n",
        "(a_df, an_annotations_df) = MNEHelpers.get_raw_datetime_indexed_df(a_raw=a_raw, dt_col_names=['time'])\n",
        "a_df\n",
        "an_annotations_df"
      ]
    },
    {
      "cell_type": "code",
      "execution_count": null,
      "metadata": {},
      "outputs": [],
      "source": [
        "an_annotations_df\n",
        "\n"
      ]
    },
    {
      "cell_type": "code",
      "execution_count": null,
      "metadata": {},
      "outputs": [],
      "source": [
        "def perform_simplify_MOTION_annotation_df(an_annotations_df: pd.DataFrame) -> pd.DataFrame:\n",
        "    MOTION_idx_col_name: str = 'MOTION_idx'\n",
        "    ## INPUTS: an_annotations_df\n",
        "    groups = an_annotations_df.groupby((an_annotations_df['description'] != an_annotations_df['description'].shift()).cumsum()) # grouped by 'description' value\n",
        "    results = []\n",
        "    for _, g in groups:\n",
        "        if len(g) > 1:\n",
        "            first, last = g.iloc[0], g.iloc[-1]\n",
        "            duration: float = last['onset'] - first['onset']\n",
        "            # results.append({'description': first['description'], 'start': first['onset'], 'end': last['onset'], 'duration': duration})\n",
        "            _additional_col_names = ['filepath', 'filename', MOTION_idx_col_name, 'file_meas_date']\n",
        "            # _additional_cols = {'filepath': first['filepath'], 'filename': first['filename'], 'WHISPER_idx': first['WHISPER_idx'], 'file_meas_date': first['file_meas_date']}                \n",
        "            _additional_cols = {k:first[k] for k in _additional_col_names if (first.get(k, None) is not None)}\n",
        "            results.append({'onset': first['onset'], 'duration': duration, 'description': first['description'], **_additional_cols})\n",
        "\n",
        "    dedup_an_annotations_df = pd.DataFrame(results)\n",
        "    return dedup_an_annotations_df\n",
        "## OUTPUTS: dedup_an_annotations_df"
      ]
    },
    {
      "cell_type": "code",
      "execution_count": null,
      "metadata": {},
      "outputs": [],
      "source": [
        "from phoofflineeeganalysis.analysis.event_data import EventData\n",
        "\n",
        "## Get high-accel periods from the motion:\n",
        "active_modality: SessionModality = sso.modalities['MOTION']\n",
        "# high_accel_periods = [active_modality.analysis_results[a_motion_IDX]['bad_periods_annotations']['high_accel'].to_data_frame(time_format='datetime') for i, a_motion_IDX in enumerate(active_modality.active_indices)]\n",
        "high_accel_period_dfs = [perform_simplify_MOTION_annotation_df(an_annotations_df=active_modality.analysis_results[a_motion_IDX]['bad_periods_annotations']['high_accel'].to_data_frame(time_format='datetime')) for i, a_motion_IDX in enumerate(active_modality.active_indices)]\n",
        "high_accel_period_dfs\n"
      ]
    },
    {
      "cell_type": "code",
      "execution_count": null,
      "metadata": {},
      "outputs": [],
      "source": [
        "from phoofflineeeganalysis.analysis.MNE_helpers import MNEHelpers\n",
        "\n",
        "## INPUTS: all_WHISPER_df, all_pho_log_to_lsl_df, high_accel_periods\n",
        "eeg_df: pd.DataFrame = deepcopy(sso.modalities['EEG'].df)\n",
        "\n",
        "# curr_eeg_min_dt = eeg_df[['start_time', 'end_time']]\n",
        "# curr_eeg_min_dt = eeg_df['start_time'].to_numpy()\n",
        "# curr_eeg_max_dt = eeg_df['end_time'].to_numpy()\n",
        "# curr_eeg_min_dt = eeg_df['start_time'].dt.to_pydatetime()\n",
        "# curr_eeg_max_dt = eeg_df['end_time'].dt.to_pydatetime()\n",
        "curr_eeg_min_dts = eeg_df['start_time'].dt.as_unit('s').dt.tz_localize(\"UTC\")\n",
        "curr_eeg_max_dts = eeg_df['end_time'].dt.as_unit('s').dt.tz_localize(\"UTC\")\n",
        "\n",
        "# np.shape(curr_eeg_min_dts)\n",
        "# np.shape(curr_eeg_max_dts)\n",
        "# curr_eeg_min_dt\n",
        "# all_pho_log_to_lsl_df['onset'].to_numpy()\n",
        "# curr_eeg_min_dt, curr_eeg_max_dt = (a_df['time'].min(), a_df['time'].max())\n",
        "\n",
        "# curr_eeg_min_dt, curr_eeg_max_dt = (a_df['time'].min(), a_df['time'].max())\n",
        "\n",
        "assert len(curr_eeg_min_dts) == len(curr_eeg_max_dts)\n",
        "n_eeg_start_end_entries: int = len(curr_eeg_max_dts)\n",
        "# found_pho_log_to_lsl_df_matches = []\n",
        "# found_WHISPER_df_matches = []\n",
        "found_pho_log_to_lsl_df_matches = {}\n",
        "found_WHISPER_df_matches = {}\n",
        "\n",
        "## INPUTS: motion_df, all_pho_log_to_lsl_df, all_WHISPER_df\n",
        "\n",
        "needs_modification_eeg_IDXs = []\n",
        "\n",
        "for an_xdf_dataset_idx in np.arange(n_eeg_start_end_entries):\n",
        "    curr_eeg_dataset_IDX: int = eeg_df['dataset_IDX'].to_numpy()[an_xdf_dataset_idx]\n",
        "    curr_eeg_min_dt = curr_eeg_min_dts[an_xdf_dataset_idx]\n",
        "    curr_eeg_max_dt = curr_eeg_max_dts[an_xdf_dataset_idx]\n",
        "    \n",
        "    # a_raw = sso.modalities['EEG'].datasets[curr_eeg_dataset_IDX]\n",
        "    a_raw: mne.io.Raw = sso.modalities['EEG'].datasets[curr_eeg_dataset_IDX]\n",
        "    an_annotations = deepcopy(a_raw.annotations)\n",
        "    (a_df, an_annotations_df) = MNEHelpers.get_raw_datetime_indexed_df(a_raw=a_raw, dt_col_names=['time'], debug_print=False)\n",
        "        \n",
        "\n",
        "    # np.shape(input_col) # 986\n",
        "    is_in_curr_eeg_sess = np.logical_and((curr_eeg_min_dt <= all_pho_log_to_lsl_df['onset'].to_numpy()), (all_pho_log_to_lsl_df['onset'].to_numpy() <= curr_eeg_max_dt))\n",
        "    # found_pho_log_to_lsl_df_matches.append(np.where(is_in_curr_eeg_sess)[0])\n",
        "    found_pho_log_to_lsl_df_matches[curr_eeg_dataset_IDX] = np.where(is_in_curr_eeg_sess)[0]\n",
        "    ## Add Pho_LOG Records:\n",
        "    # all_pho_log_to_lsl_df[is_in_curr_eeg_sess]\n",
        "    \n",
        "    is_in_curr_WHISPER_eeg_sess = np.logical_and((curr_eeg_min_dt <= all_WHISPER_df['onset'].to_numpy()), (all_WHISPER_df['onset'].to_numpy() <= curr_eeg_max_dt))\n",
        "    # found_WHISPER_df_matches.append(np.where(is_in_curr_WHISPER_eeg_sess)[0])\n",
        "    found_WHISPER_df_matches[curr_eeg_dataset_IDX] = np.where(is_in_curr_WHISPER_eeg_sess)[0]\n",
        "    ## Add Whisper Records:\n",
        "    # all_WHISPER_df[is_in_curr_WHISPER_eeg_sess]\n",
        "    if (len(found_pho_log_to_lsl_df_matches[curr_eeg_dataset_IDX]) > 0) or (len(found_WHISPER_df_matches[curr_eeg_dataset_IDX]) > 0):\n",
        "        print(f'i: curr_eeg_dataset_IDX: {curr_eeg_dataset_IDX} needs modification.')\n",
        "        needs_modification_eeg_IDXs.append(curr_eeg_dataset_IDX)\n",
        "\n",
        "## OUTPUTS: found_pho_log_to_lsl_df_matches, found_WHISPER_df_matches"
      ]
    },
    {
      "cell_type": "code",
      "execution_count": null,
      "metadata": {},
      "outputs": [],
      "source": [
        "_old_annotations_obj = {}\n",
        "_new_annotations_obj = {}\n",
        "\n",
        "for an_xdf_dataset_idx, curr_eeg_dataset_IDX in enumerate(needs_modification_eeg_IDXs):\n",
        "    # if i in [0, 1, 2]:\n",
        "    # curr_eeg_dataset_IDX: int = eeg_df['dataset_IDX'].to_numpy()[i]\n",
        "    # curr_eeg_min_dt = curr_eeg_min_dts[i]\n",
        "    # curr_eeg_max_dt = curr_eeg_max_dts[i]\n",
        "    \n",
        "    # a_raw = sso.modalities['EEG'].datasets[curr_eeg_dataset_IDX]\n",
        "    a_raw: mne.io.Raw = sso.modalities['EEG'].datasets[curr_eeg_dataset_IDX]\n",
        "    a_meas_date = a_raw.info.get('meas_date')\n",
        "    an_annotations = deepcopy(a_raw.annotations)\n",
        "    (a_df, an_annotations_df) = MNEHelpers.get_raw_datetime_indexed_df(a_raw=a_raw, dt_col_names=['time'], also_process_annotations=True, debug_print=False)\n",
        "    _old_annotations_obj[curr_eeg_dataset_IDX] = an_annotations\n",
        "    _old_num_annotations: int = len(an_annotations_df)\n",
        "    \n",
        "    all_annotations_df = [an_annotations_df]\n",
        "    ## Add Pho_LOG Records:\n",
        "    a_found_pho_log_to_lsl_df_matches = found_pho_log_to_lsl_df_matches[curr_eeg_dataset_IDX]\n",
        "    all_annotations_df.append(all_pho_log_to_lsl_df.iloc[a_found_pho_log_to_lsl_df_matches])\n",
        "\n",
        "    ## Add Whisper Records:\n",
        "    a_found_WHISPER_df_matches = found_WHISPER_df_matches[curr_eeg_dataset_IDX]\n",
        "    all_annotations_df.append(all_WHISPER_df.iloc[a_found_WHISPER_df_matches])\n",
        "    # all_annotations_df\n",
        "    \n",
        "    ## append all:\n",
        "    all_annotations_df = pd.concat(all_annotations_df, ignore_index=True, axis='index')\n",
        "    new_annotation_df_len: int = len(all_annotations_df)\n",
        "    if new_annotation_df_len > 0:\n",
        "        # Set new annotations object:\n",
        "        curr_onset = (all_annotations_df['onset'].to_numpy() - a_meas_date)\n",
        "        curr_onset_seconds = np.array([td.total_seconds() for td in curr_onset])\n",
        "        # new_annotations_obj = mne.Annotations(onset=all_annotations_df['onset'].to_numpy(), duration=all_annotations_df['duration'].to_numpy(), description=all_annotations_df['description'].to_numpy(), orig_time=a_meas_date)\n",
        "        new_annotations_obj = mne.Annotations(onset=curr_onset_seconds, duration=all_annotations_df['duration'].to_numpy(), description=all_annotations_df['description'].to_numpy(), orig_time=a_meas_date)\n",
        "        _new_annotations_obj[curr_eeg_dataset_IDX] = new_annotations_obj\n",
        "        # a_raw.set_annotations(new_annotations_obj) ## set annotations:\n",
        "\n",
        "# a_df\n",
        "# len(a_raw.annotations)\n",
        "# a_raw.set_annotations(\n",
        "# len(all_annotations_df)\n",
        "# all_annotations_df\n",
        "# Set new annotations object:\n",
        "# new_annotations_obj = mne.Annotations(onset=an_annotations_df['onset'].to_numpy(), duration=an_annotations_df['duration'].to_numpy(), description=an_annotations_df['description'].to_numpy(), orig_time=a_meas_date)\n",
        "# a_raw.set_annotations(new_annotations_obj)\n",
        "\n",
        "\n",
        "# an_annotations_df"
      ]
    },
    {
      "cell_type": "code",
      "execution_count": null,
      "metadata": {},
      "outputs": [],
      "source": [
        "curr_onset_seconds"
      ]
    },
    {
      "cell_type": "code",
      "execution_count": null,
      "metadata": {},
      "outputs": [],
      "source": [
        "# _new_annotations_obj\n",
        "len(new_annotations_obj)\n"
      ]
    },
    {
      "cell_type": "code",
      "execution_count": null,
      "metadata": {},
      "outputs": [],
      "source": [
        "len(an_annotations)\n",
        "\n",
        "len(an_annotations_df)\n",
        "an_annotations_df\n"
      ]
    },
    {
      "cell_type": "code",
      "execution_count": null,
      "metadata": {},
      "outputs": [],
      "source": [
        "\n",
        "all_pho_log_to_lsl_df[is_in_curr_eeg_sess]\n",
        "\n",
        "all_WHISPER_df[is_in_curr_WHISPER_eeg_sess]"
      ]
    },
    {
      "cell_type": "code",
      "execution_count": null,
      "metadata": {},
      "outputs": [],
      "source": [
        "found_pho_log_to_lsl_df_matches"
      ]
    },
    {
      "cell_type": "code",
      "execution_count": null,
      "metadata": {},
      "outputs": [],
      "source": [
        "\n",
        "\n",
        "abs_start_t = a_ds.times[0] + a_ds.info['meas_date'].timestamp()\n",
        "abs_end_t = a_ds.times[-1] + a_ds.info['meas_date'].timestamp()\n",
        "\n",
        "# abs_start_t = pd.to_timedelta(a_ds.times[0]) + a_ds.info['meas_date']\n",
        "# abs_end_t = pd.to_timedelta(a_ds.times[-1]) + a_ds.info['meas_date']\n",
        "\n",
        "\n",
        "# type(abs_start_t)\n",
        "(abs_start_t, abs_end_t)\n"
      ]
    },
    {
      "cell_type": "code",
      "execution_count": null,
      "metadata": {},
      "outputs": [],
      "source": [
        "\n",
        "abs_start_dt = pd.to_datetime(abs_start_t)\n",
        "abs_end_dt = pd.to_datetime(abs_end_t)\n",
        "\n",
        "(abs_start_dt, abs_end_dt)\n"
      ]
    },
    {
      "cell_type": "code",
      "execution_count": null,
      "metadata": {},
      "outputs": [],
      "source": [
        "an_annotations.count()\n",
        "# an_annotations.to_data_frame()"
      ]
    },
    {
      "cell_type": "code",
      "execution_count": null,
      "metadata": {},
      "outputs": [],
      "source": [
        "# np.shape(sso.modalities['PHO_LOG_TO_LSL'].datasets[-1].get_data()) # (1, 94975)\n",
        "# sso.modalities['PHO_LOG_TO_LSL'].datasets[-1].to_data_frame()\n",
        "# sso.modalities['PHO_LOG_TO_LSL'].datasets[-1].to_data_frame()\n",
        "sso.modalities['PHO_LOG_TO_LSL'].datasets[-1].annotations\n"
      ]
    },
    {
      "cell_type": "markdown",
      "metadata": {},
      "source": [
        "# 2025-09-18 - Complete Event Parsing"
      ]
    },
    {
      "cell_type": "code",
      "execution_count": null,
      "metadata": {
        "tags": [
          "run_group_post_processing",
          "run_unpickle_pipeline"
        ]
      },
      "outputs": [],
      "source": [
        "from phoofflineeeganalysis.analysis.event_data import EventData\n",
        "\n",
        "all_pho_log_to_lsl_df: pd.DataFrame = EventData.complete_correct_Pho_Log_To_LSL_annotation_df(a_logging_modality=sso.modalities['PHO_LOG_TO_LSL'])\n",
        "all_pho_log_to_lsl_df"
      ]
    },
    {
      "cell_type": "code",
      "execution_count": null,
      "metadata": {},
      "outputs": [],
      "source": [
        "output_folder: Path = sso.eeg_analyzed_parent_export_path.joinpath('outputs')\n",
        "output_folder.mkdir(exist_ok=True)\n",
        "\n",
        "all_pho_log_to_lsl_df_csv_path = output_folder.joinpath('2025-09-18_PHO_LOG_TO_LSL.csv').resolve()\n",
        "all_pho_log_to_lsl_df_csv_path\n",
        "\n",
        "all_WHISPER_df_csv_path = output_folder.joinpath('2025-09-18_WHISPER.csv').resolve()\n",
        "all_WHISPER_df_csv_path\n"
      ]
    },
    {
      "cell_type": "code",
      "execution_count": null,
      "metadata": {},
      "outputs": [],
      "source": [
        "all_pho_log_to_lsl_df.to_csv(all_pho_log_to_lsl_df_csv_path)"
      ]
    },
    {
      "cell_type": "code",
      "execution_count": null,
      "metadata": {
        "tags": [
          "run_group_post_processing",
          "run_unpickle_pipeline"
        ]
      },
      "outputs": [],
      "source": [
        "from phoofflineeeganalysis.analysis.event_data import EventData\n",
        "\n",
        "all_WHISPER_df: pd.DataFrame = EventData.complete_correct_WHISPER_annotation_df(a_logging_modality=sso.modalities['WHISPER'])\n",
        "all_WHISPER_df"
      ]
    },
    {
      "cell_type": "code",
      "execution_count": null,
      "metadata": {},
      "outputs": [],
      "source": [
        "all_WHISPER_df.to_csv(all_WHISPER_df_csv_path)"
      ]
    },
    {
      "cell_type": "code",
      "execution_count": null,
      "metadata": {},
      "outputs": [],
      "source": [
        "motion_df\n"
      ]
    },
    {
      "cell_type": "code",
      "execution_count": null,
      "metadata": {},
      "outputs": [],
      "source": [
        "hdf5_out_path: Path = Path('E:\\Dropbox (Personal)\\Databases\\AnalysisData\\MNE_preprocessed').joinpath('2025-09-18_all_HDF.h5').resolve()\n",
        "hdf5_out_path\n",
        "\n",
        "\n",
        "all_WHISPER_df.drop(columns=['filepath']).to_hdf(hdf5_out_path, key='modalities/WHISPER/df', append=True)\n",
        "all_pho_log_to_lsl_df.drop(columns=['filepath']).to_hdf(hdf5_out_path, key='modalities/PHO_LOG_TO_LSL/df', append=True)\n"
      ]
    },
    {
      "cell_type": "code",
      "execution_count": null,
      "metadata": {},
      "outputs": [],
      "source": [
        "all_pho_log_to_lsl_df.drop(columns=['filepath']).to_hdf(hdf5_out_path, key='modalities/PHO_LOG_TO_LSL/df', append=True)"
      ]
    },
    {
      "cell_type": "code",
      "execution_count": null,
      "metadata": {},
      "outputs": [],
      "source": [
        "an_annotations = deepcopy(sso.modalities['EEG'].datasets[-1].annotations)\n",
        "an_annotations\n"
      ]
    },
    {
      "cell_type": "code",
      "execution_count": null,
      "metadata": {},
      "outputs": [],
      "source": [
        "an_annotations.orig_time\n"
      ]
    },
    {
      "cell_type": "code",
      "execution_count": null,
      "metadata": {},
      "outputs": [],
      "source": [
        "eeg_to_motion_idx_list = eeg_df['motion_idxs'].to_list()\n",
        "eeg_to_motion_idx_list ## get the hard-index\n"
      ]
    },
    {
      "cell_type": "code",
      "execution_count": null,
      "metadata": {},
      "outputs": [],
      "source": [
        "eeg_abs_motion_indicies = [[motion_active_indices[v] for v in k_list] for k_list in eeg_to_motion_idx_list] ## convert to absolute motion indicies\n",
        "eeg_abs_motion_indicies\n"
      ]
    },
    {
      "cell_type": "code",
      "execution_count": null,
      "metadata": {},
      "outputs": [],
      "source": [
        "motion_df: pd.DataFrame = deepcopy(sso.modalities['MOTION'].df)\n",
        "motion_active_indices = deepcopy(sso.modalities['MOTION'].active_indices)\n",
        "\n",
        "motion_df\n",
        " "
      ]
    },
    {
      "cell_type": "code",
      "execution_count": null,
      "metadata": {},
      "outputs": [],
      "source": []
    },
    {
      "cell_type": "code",
      "execution_count": null,
      "metadata": {},
      "outputs": [],
      "source": []
    },
    {
      "cell_type": "code",
      "execution_count": null,
      "metadata": {},
      "outputs": [],
      "source": [
        "def detect_motion_artifacts(raw, picks=None, threshold_factor=6, min_duration=0.05, description='MOTION'):\n",
        "    picks = mne.pick_types(raw.info, eeg=True, meg=False, exclude='bads') if picks is None else picks\n",
        "    data, times = raw.get_data(picks=picks, return_times=True)\n",
        "    sfreq = raw.info['sfreq']\n",
        "    rms = np.sqrt(np.mean(data**2, axis=0))                        # cross-channel RMS time-series\n",
        "    med = np.median(rms)\n",
        "    mad = np.median(np.abs(rms - med)) or 1e-12                   # robust scale\n",
        "    thresh = med + threshold_factor * mad\n",
        "    mask = rms > thresh                                            # candidate samples\n",
        "    diff = np.diff(mask.astype(int))\n",
        "    starts = np.where(diff == 1)[0] + 1\n",
        "    ends = np.where(diff == -1)[0] + 1\n",
        "    if mask[0]:\n",
        "        starts = np.r_[0, starts]\n",
        "    if mask[-1]:\n",
        "        ends = np.r_[len(mask), ends]\n",
        "    if len(starts) == 0:\n",
        "        return mne.Annotations([], [], [])                         # no artifacts found\n",
        "    durations = (ends - starts) / sfreq\n",
        "    keep = durations >= min_duration\n",
        "    starts = starts[keep]\n",
        "    ends = ends[keep]\n",
        "    onsets = times[starts]\n",
        "    durs = (ends - starts) / sfreq\n",
        "    ann = mne.Annotations(onset=onsets.tolist(), duration=durs.tolist(), description=[description] * len(onsets))\n",
        "    raw.set_annotations(raw.annotations + ann)\n",
        "    return ann\n",
        "\n"
      ]
    },
    {
      "cell_type": "markdown",
      "metadata": {},
      "source": [
        "## Pickle Entire Pipeline"
      ]
    },
    {
      "cell_type": "code",
      "execution_count": null,
      "metadata": {},
      "outputs": [],
      "source": [
        "# data_path = Path(r\"C:/Users/pho/repos/EmotivEpoc/PhoLabStreamingReceiver/data\").resolve()\n",
        "# assert data_path.exists()\n",
        "\n",
        "# pkl_path = pickled_data_path.joinpath(\"2025-09-02_50records_SSO_all.pkl\").resolve()\n",
        "# pkl_path = pickled_data_path.joinpath(\"2025-09-08_ALL_records_SSO_all.pkl\").resolve()\n",
        "# pkl_path = pickled_data_path.joinpath(\"2025-09-10_35_records_SSO_all.pkl\").resolve()\n",
        "# pkl_path = pickled_data_path.joinpath(\"2025-09-12_35_records_SSO_all.pkl\").resolve()\n",
        "pkl_path = pickled_data_path.joinpath(\"2025-09-17_ALL_records_SSO_all.pkl\").resolve()\n",
        "sso.save(pkl_path=pkl_path)\n",
        "\n",
        "# 8m 20s"
      ]
    },
    {
      "cell_type": "code",
      "execution_count": null,
      "metadata": {},
      "outputs": [],
      "source": [
        "import matplotlib.pyplot as plt\n",
        "import pandas as pd\n",
        "import matplotlib.dates as mdates\n",
        "\n",
        "## sso\n",
        "(all_data_EEG, all_times_EEG), datasets_EEG, df_EEG = sso.flat_data_modality_dict[DataModalityType.EEG.name]  ## Unpacking\n",
        "datasets_EEG"
      ]
    },
    {
      "cell_type": "code",
      "execution_count": null,
      "metadata": {},
      "outputs": [],
      "source": [
        "df_EEG"
      ]
    },
    {
      "cell_type": "code",
      "execution_count": null,
      "metadata": {},
      "outputs": [],
      "source": [
        "sso.modalities['EEG']"
      ]
    },
    {
      "cell_type": "code",
      "execution_count": null,
      "metadata": {},
      "outputs": [],
      "source": [
        "## INPUTS: datasets_EEG\n",
        "\n",
        "# Assume raws is your list of Raw objects\n",
        "times = [raw.info['meas_date'] for raw in datasets_EEG]\n",
        "df = pd.DataFrame({'start': times})\n",
        "\n",
        "fig, ax = plt.subplots(figsize=(12,6))\n",
        "ax.scatter(df['start'], [1]*len(df), marker='o')\n",
        "\n",
        "ax.xaxis.set_major_locator(mdates.DayLocator())\n",
        "ax.xaxis.set_major_formatter(mdates.DateFormatter('%m-%d'))\n",
        "ax.set_yticks([])\n",
        "\n",
        "plt.title(\"EEG Recording Sessions by Date\")\n",
        "plt.show()\n"
      ]
    },
    {
      "cell_type": "markdown",
      "metadata": {},
      "source": [
        "# Plot All Sessions on a timeline\n"
      ]
    },
    {
      "cell_type": "markdown",
      "metadata": {},
      "source": [
        "# Computations (Spectogram, etc) for all sessions"
      ]
    },
    {
      "cell_type": "code",
      "execution_count": null,
      "metadata": {},
      "outputs": [],
      "source": [
        "modality_EEG: SessionModality = sso.modalities[DataModalityType.EEG.name]  ## Unpacking\n",
        "df_EEG: pd.DataFrame = modality_EEG.df  ## Unpacking\n",
        "df_EEG['duration'] = df_EEG['end_time'] - df_EEG['start_time']\n",
        "df_EEG"
      ]
    },
    {
      "cell_type": "code",
      "execution_count": null,
      "metadata": {},
      "outputs": [],
      "source": [
        "# a_raw = modality_EEG.datasets[-1]# modality_EEG.active_indices\n",
        "a_raw = modality_EEG.datasets[-3]\n",
        "\n",
        "## feels yucky, like head is very hot. Sad about pills.\n"
      ]
    },
    {
      "cell_type": "code",
      "execution_count": null,
      "metadata": {},
      "outputs": [],
      "source": [
        "custom_channel_groups_dict = {\n",
        "'frontal': (['AF3', 'F7', 'FC5', 'F3'], ['AF4', 'F8', 'FC6', 'F4'])\n",
        "}\n",
        "\n",
        "\n",
        "ch_name_list = deepcopy(a_raw.info.ch_names)\n",
        "ch_name_to_idx_dict = dict(zip(a_raw.info.ch_names, np.arange(len(a_raw.info.ch_names))))\n",
        "ch_name_to_idx_dict\n",
        "\n",
        "\n",
        "cust_L, cust_R = custom_channel_groups_dict['frontal']\n",
        "cust_BOTH = cust_L + cust_R\n",
        "\n",
        "cust_L_idxs, cust_R_idxs = (np.array([ch_name_to_idx_dict[ch] for ch in cust_L]), np.array([ch_name_to_idx_dict[ch] for ch in cust_R]))\n",
        "cust_BOTH_idxs = np.array([ch_name_to_idx_dict[ch] for ch in cust_BOTH])\n",
        "cust_BOTH_idxs\n",
        "# .channel_names\n",
        "\n",
        "## OUTPUTS: cust_BOTH_idxs,\n"
      ]
    },
    {
      "cell_type": "code",
      "execution_count": null,
      "metadata": {},
      "outputs": [],
      "source": [
        "from phoofflineeeganalysis.analysis.EEG_data import EEGComputations, EEGData\n",
        "\n",
        "## INPUTS: concatenated_raw\n",
        "a_raw = concatenated_raw\n",
        "cust_L, cust_R = custom_channel_groups_dict['frontal']\n",
        "cust_L_idxs, cust_R_idxs = (np.array([ch_name_to_idx_dict[ch] for ch in cust_L]), np.array([ch_name_to_idx_dict[ch] for ch in cust_R]))\n",
        "cust_BOTH_idxs = np.array([ch_name_to_idx_dict[ch] for ch in cust_BOTH])\n",
        "a_raw_outputs = EEGComputations.run_all(raw=a_raw, should_suppress_exceptions=False)\n",
        "a_raw_outputs # 27s (epoch_step: float = 0.250, moving_avg_epochs: int = 8)"
      ]
    },
    {
      "cell_type": "code",
      "execution_count": null,
      "metadata": {},
      "outputs": [],
      "source": [
        "np.shape(a_raw_outputs['raw_data_topo']['epoch_avg']) # (n_channels, 512) \n",
        "\n",
        "np.shape(a_raw_outputs['raw_data_topo']['mov_avg']) # (n_time_windows, n_channels, 512) \n",
        "\n",
        "## Process for desired channels\n",
        "## INPUTS: cust_BOTH_idxs, cust_L_idxs, cust_R_idxs\n",
        "\n",
        "active_channel_names = ch_name_to_idx_dict\n",
        "mov_avg_filtered = a_raw_outputs['raw_data_topo']['mov_avg'][:, cust_BOTH_idxs, :]\n",
        "np.shape(mov_avg_filtered)\n",
        "# cust_L_idxs]\n",
        "\n",
        "\n",
        "\n",
        "# mov_avg_all_channels_stack = \n",
        "\n"
      ]
    },
    {
      "cell_type": "code",
      "execution_count": null,
      "metadata": {},
      "outputs": [],
      "source": [
        "import napari\n",
        "\n",
        "viewer = napari.Viewer(ndisplay=3)\n",
        "viewer.add_image(mov_avg_filtered)\n",
        "# viewer.add_points(mov_avg_filtered, size=2, face_color='red', name='mov_avg_filtered')\n",
        "# viewer.add_points(data2, size=2, face_color='green', name='dataset2')\n",
        "# viewer.add_points(data3, size=2, face_color='blue', name='dataset3')\n",
        "\n",
        "napari.run()"
      ]
    },
    {
      "cell_type": "code",
      "execution_count": null,
      "metadata": {},
      "outputs": [],
      "source": [
        "import pyqtgraph as pg\n",
        "\n",
        "app = pg.mkQApp(\"Plotting Example\")\n",
        "#mw = QtWidgets.QMainWindow()\n",
        "#mw.resize(800,800)\n",
        "\n",
        "win = pg.GraphicsLayoutWidget(show=True, title=\"Basic plotting examples\")\n",
        "win.resize(1000,600)\n",
        "win.setWindowTitle('pyqtgraph example: Plotting')\n",
        "\n",
        "# Enable antialiasing for prettier plots\n",
        "pg.setConfigOptions(antialias=True)\n",
        "\n",
        "view = {}\n",
        "img = {}\n",
        "\n",
        "active_channel_names = cust_BOTH\n",
        "active_data = a_raw_outputs['raw_data_topo']['mov_avg']\n",
        "n_time_windows, n_channels, n_unknown = np.shape(active_data)\n",
        "\n",
        "for channel_idx in np.arange(n_channels):\n",
        "    ch_name: str = ch_name_list[channel_idx]\n",
        "    if ch_name in active_channel_names:\n",
        "        variable_name = f'epoch.avgr[{ch_name}]'\n",
        "        view[variable_name] = win.addViewBox()\n",
        "        view[variable_name].setAspectLocked(False)\n",
        "        img[variable_name] = pg.ImageItem(np.squeeze(active_data[:, channel_idx, :]).T)\n",
        "        view[variable_name].addItem(img[variable_name])\n",
        "\n",
        "\t\n",
        "# variable_name = 'epoch.avgr'\n",
        "# view[variable_name] = win.addViewBox()\n",
        "# view[variable_name].setAspectLocked(True)\n",
        "# img[variable_name] = pg.ImageItem(_all_outputs['raw_data_topo']['epoch_avg'].T)\n",
        "# view[variable_name].addItem(img[variable_name])\n",
        "\n",
        "\n",
        "# mov_avg_filtered\n",
        "\n",
        "# variable_name = 'cwt.power'\n",
        "# np.shape(_all_outputs['cwt']['power']) # (n_channels, n_freq_bands, n_timesteps) \n",
        "# view[variable_name] = win.addViewBox()\n",
        "# view[variable_name].setAspectLocked(True)\n",
        "# img[variable_name] = pg.ImageItem(_all_outputs['cwt']['power'])\n",
        "# view[variable_name].addItem(img[variable_name])\n",
        "\n",
        "win.show()\n"
      ]
    },
    {
      "cell_type": "code",
      "execution_count": null,
      "metadata": {},
      "outputs": [],
      "source": [
        "\n",
        "\n",
        "win.show()\n"
      ]
    },
    {
      "cell_type": "code",
      "execution_count": null,
      "metadata": {},
      "outputs": [],
      "source": [
        "\n",
        "\n",
        "\n",
        "p1 = win.addPlot(title=\"Basic array plotting\", y=np.random.normal(size=100))\n",
        "\n",
        "p2 = win.addPlot(title=\"Multiple curves\")\n",
        "p2.plot(np.random.normal(size=100), pen=(255,0,0), name=\"Red curve\")\n",
        "p2.plot(np.random.normal(size=110)+5, pen=(0,255,0), name=\"Green curve\")\n",
        "p2.plot(np.random.normal(size=120)+10, pen=(0,0,255), name=\"Blue curve\")\n",
        "\n",
        "p3 = win.addPlot(title=\"Drawing with points\")\n",
        "p3.plot(np.random.normal(size=100), pen=(200,200,200), symbolBrush=(255,0,0), symbolPen='w')\n",
        "\n",
        "\n",
        "\n",
        "\n",
        "pg.Plo"
      ]
    },
    {
      "cell_type": "code",
      "execution_count": null,
      "metadata": {},
      "outputs": [],
      "source": [
        "# import numpy as np\n",
        "# import pandas as pd\n",
        "import neurokit2 as nk"
      ]
    },
    {
      "cell_type": "code",
      "execution_count": null,
      "metadata": {},
      "outputs": [],
      "source": [
        "from mne.filter import filter_data  # Slightly faster for large data as direct fn\n",
        "import scipy.ndimage\n",
        "\n",
        "# a_raw = concatenated_raw\n",
        "raw = a_raw\n",
        "epoch_step = 0.250\n",
        "moving_avg_epochs: int = 8\n",
        "\n",
        "# # 1. Temporal filter: filter modifies in-place if not copying\n",
        "# raw_filtered = raw.copy().filter(l_freq=1, h_freq=58, fir_design='firwin', n_jobs='cuda')\n",
        "\n",
        "# # 2. Epoching (sliding window)\n",
        "# sfreq = raw.info['sfreq']\n",
        "# step_samples = int(epoch_step * sfreq)\n",
        "# window_samples = int(epoch_dur * sfreq)\n",
        "# data = raw_filtered.get_data()\n",
        "# n_ch, n_times = data.shape\n",
        "\n",
        "# # Use strided view for efficient sliding windows (no explicit python loops)\n",
        "# def epoch_strided(data, window_samples, step_samples):\n",
        "#     n_epochs = (n_times - window_samples) // step_samples + 1\n",
        "#     s0, s1 = data.strides\n",
        "#     return np.lib.stride_tricks.as_strided(\n",
        "#         data,\n",
        "#         shape=(n_epochs, n_ch, window_samples),\n",
        "#         strides=(step_samples * s1, s0, s1),\n",
        "#         writeable=False\n",
        "#     )\n",
        "\n",
        "# epochs = epoch_strided(data, window_samples, step_samples)\n",
        "\n",
        "# shape: (n_epochs, n_ch, n_samples)\n",
        "out_dict = a_raw_outputs['raw_data_topo']\n",
        "epochs = a_raw_outputs['raw_data_topo']['epochs']\n",
        "\n",
        "# 3. x²\n",
        "epochs_squared = np.square(out_dict['epochs'])\n",
        "\n",
        "# 4. Moving epoch average (vectorized via convolution)\n",
        "# kernel = np.ones(moving_avg_epochs) / moving_avg_epochs\n",
        "# pad so output is same shape (len=n_epochs)\n",
        "# mov_avg = np.apply_along_axis(\n",
        "#     lambda m: np.vstack([np.convolve(m[:, ch, samp], kernel, mode='full')[:len(m)] \n",
        "#                         for ch in range(n_ch) for samp in range(window_samples)]\n",
        "#                     ).reshape((n_ch, window_samples, len(m))).transpose(2, 0, 1),\n",
        "#     axis=0, arr=epochs_squared[None,...]).squeeze()\n"
      ]
    },
    {
      "cell_type": "code",
      "execution_count": null,
      "metadata": {},
      "outputs": [],
      "source": [
        "# concatenated_raw.annotations\n",
        "concatenated_raw.plot(block=True)"
      ]
    },
    {
      "cell_type": "code",
      "execution_count": null,
      "metadata": {},
      "outputs": [],
      "source": [
        "bads, an_info = nk.eeg_badchannels(concatenated_raw, distance_threshold=0.95, show=False)\n",
        "bads"
      ]
    },
    {
      "cell_type": "code",
      "execution_count": null,
      "metadata": {},
      "outputs": [],
      "source": [
        "custom_channel_groups_dict = {\n",
        "'frontal': (['AF3', 'F7', 'FC5', 'F3'], ['AF4', 'F8', 'FC6', 'F4'])\n",
        "}\n",
        "\n",
        "sampling_rate = concatenated_raw.info[\"sfreq\"]  # Store the sampling rate\n",
        "sampling_rate\n"
      ]
    },
    {
      "cell_type": "code",
      "execution_count": null,
      "metadata": {},
      "outputs": [],
      "source": [
        "# Channels of interest\n",
        "# channels = [\"EEG 011\", \"EEG 012\", \"EEG 013\", \"EEG 014\"]\n",
        "# channels = [\"EEG 0\" + str(i) for i in range(11, 15)]  # Alternative\n",
        "channels = ['AF3', 'F7', 'FC5', 'F3', 'AF4', 'F8', 'FC6', 'F4']\n",
        "# Extract channel, convert to array, and average the channels\n",
        "signal = concatenated_raw.pick_channels(channels).get_data().mean(axis = 0)\n",
        "\n",
        "nk.signal_plot(signal, sampling_rate=sampling_rate)\n",
        "\n"
      ]
    },
    {
      "cell_type": "code",
      "execution_count": null,
      "metadata": {},
      "outputs": [],
      "source": [
        "\n",
        "delay = int(27 / (1000 / sampling_rate))  # 27 is the delay in milliseconds\n",
        "\n",
        "# Note that for the example we cropped the signal to cut computation time\n",
        "svden, an_info = nk.entropy_svd(signal[0:500], delay=delay, dimension=3) # , show=True\n",
        "\n",
        "print(f\"SVDEn score: {svden:.2f}\")\n"
      ]
    },
    {
      "cell_type": "code",
      "execution_count": null,
      "metadata": {},
      "outputs": [],
      "source": [
        "\n",
        "# Extract microstates\n",
        "microstates = nk.microstates_segment(concatenated_raw, n_microstates=4)\n",
        "\n",
        "# Visualize the extracted microstates\n",
        "nk.microstates_plot(microstates, epoch=(0, 500))\n"
      ]
    },
    {
      "cell_type": "code",
      "execution_count": null,
      "metadata": {},
      "outputs": [],
      "source": [
        "\n",
        "microstates_all = nk.microstates_segment(concatenated_raw, n_microstates=4, train=\"all\")\n",
        "nk.microstates_plot(microstates_all, epoch=(0, 500))\n"
      ]
    },
    {
      "cell_type": "code",
      "execution_count": null,
      "metadata": {},
      "outputs": [],
      "source": [
        "events_from_annot, event_dict = mne.events_from_annotations(raw)# Get events and event_id from an Annotations object.\n",
        "event_dict = {'74':74, '75':75, '76':76}                        # Event dictionaries to extract epochs from continuous data, \n",
        "reject_criteria = dict(eeg=100e-6)                              # Absolute Amplitude of each epoch sould be smaller than 100 μV\n",
        "                                                                # tmin is start time before event, tmax is end time after event\n",
        "                                                                # - 100 ms (baseline) of cue's onset to 600 ms\n",
        "epochs = mne.Epochs(raw, events_from_annot, event_id=event_dict, tmin=-0.1, tmax=1.6,\n",
        "                    reject=reject_criteria, baseline = (None,0), preload=True, picks=['eeg'])\n",
        "epochs\n"
      ]
    },
    {
      "cell_type": "code",
      "execution_count": null,
      "metadata": {},
      "outputs": [],
      "source": [
        "a_raw_outputs['cwt']"
      ]
    },
    {
      "cell_type": "code",
      "execution_count": null,
      "metadata": {},
      "outputs": [],
      "source": [
        "import matplotlib.pyplot as plt\n",
        "\n",
        "\n",
        "# Usage\n",
        "# raw = a_raw\n",
        "freqs, power = a_raw_outputs['cwt']['freqs'], a_raw_outputs['cwt']['power']\n",
        "EEGComputations.plot_eeg_with_spectrogram(a_raw, freqs, power)"
      ]
    },
    {
      "cell_type": "code",
      "execution_count": null,
      "metadata": {},
      "outputs": [],
      "source": [
        "\n",
        "raw = a_raw\n",
        "data_topo = a_raw_outputs['raw_data_topo']['topo']\n",
        "mne.viz.plot_topomap(data_topo, raw.info, show=True)\n"
      ]
    },
    {
      "cell_type": "code",
      "execution_count": null,
      "metadata": {},
      "outputs": [],
      "source": [
        "import mne\n",
        "from mne import create_info\n",
        "from mne.io import RawArray\n",
        "mne.viz.set_browser_backend(\"qt\")  # or \"matplotlib\"\n",
        "mne.set_config(\"MNE_BROWSER_BACKEND\", \"qt\")  # or \"matplotlib\"\n",
        "# from mne_qt_browser import MNEQtBrowser\n",
        "\n",
        "raw = a_raw\n",
        "epoch_avg = a_raw_outputs['raw_data_topo']['epoch_avg']\n",
        "\n",
        "# Assuming epoch_avg from the previous pipeline\n",
        "n_ch, n_samples = epoch_avg.shape\n",
        "sfreq = raw.info['sfreq']\n",
        "\n",
        "# create new RawArray\n",
        "an_info = create_info(ch_names=raw.ch_names, sfreq=sfreq, ch_types='eeg')\n",
        "raw_processed = RawArray(epoch_avg, an_info)\n",
        "\n",
        "# launch scrollable Qt browser\n",
        "# browser = QtBrowser(raw_processed)\n",
        "# browser = raw_processed.plot(block=True)\n",
        "# browser.show()\n",
        "\n",
        "browser = raw_processed.plot(block=True)\n"
      ]
    },
    {
      "cell_type": "code",
      "execution_count": null,
      "metadata": {},
      "outputs": [],
      "source": [
        "modality_PHO_LOG: SessionModality = sso.modalities[DataModalityType.PHO_LOG_TO_LSL.name]  ## Unpacking\n",
        "df_PHO_LOG: pd.DataFrame = modality_PHO_LOG.df  ## Unpacking\n",
        "df_PHO_LOG['duration'] = df_PHO_LOG['end_time'] - df_PHO_LOG['start_time']\n",
        "df_PHO_LOG"
      ]
    },
    {
      "cell_type": "code",
      "execution_count": null,
      "metadata": {},
      "outputs": [],
      "source": [
        "modality_WHISPER: SessionModality = sso.modalities[DataModalityType.WHISPER.name]  ## Unpacking\n",
        "df_WHISPER: pd.DataFrame = modality_WHISPER.df  ## Unpacking\n",
        "df_WHISPER['duration'] = df_WHISPER['end_time'] - df_WHISPER['start_time']\n",
        "df_WHISPER"
      ]
    },
    {
      "cell_type": "code",
      "execution_count": null,
      "metadata": {},
      "outputs": [],
      "source": [
        "modality_WHISPER.analysis_results"
      ]
    },
    {
      "cell_type": "markdown",
      "metadata": {},
      "source": [
        "## Goal: find just the sessions that happened today, from all modalities."
      ]
    },
    {
      "cell_type": "code",
      "execution_count": null,
      "metadata": {},
      "outputs": [],
      "source": [
        "from phoofflineeeganalysis.analysis.SavedSessionsProcessor import EntireDayMergedData\n",
        "\n",
        "## Flatten the EEG sessions into a single dataset for the entire day\n",
        "search_day_date = datetime(2025, 9, 8)\n",
        "# search_day_date = datetime(2025, 9, 10)\n",
        "\n",
        "today_only_eeg_modality = sso.modalities[\"EEG\"].filtered_by_day_date(search_day_date=search_day_date)\n",
        "today_only_eeg_modality"
      ]
    },
    {
      "cell_type": "code",
      "execution_count": null,
      "metadata": {},
      "outputs": [],
      "source": [
        "sso.modalities['PHO_LOG_TO_LSL'].df"
      ]
    },
    {
      "cell_type": "code",
      "execution_count": null,
      "metadata": {},
      "outputs": [],
      "source": [
        "# sso.modalities['PHO_LOG_TO_LSL'].datasets[-1].to_data_frame()\n",
        "\n",
        "sso.modalities['PHO_LOG_TO_LSL'].datasets[-1].\n"
      ]
    },
    {
      "cell_type": "code",
      "execution_count": null,
      "metadata": {},
      "outputs": [],
      "source": [
        "today_only_eeg_modality"
      ]
    },
    {
      "cell_type": "code",
      "execution_count": null,
      "metadata": {},
      "outputs": [],
      "source": [
        "\n",
        "\n",
        "concatenated_raw = EntireDayMergedData.find_and_merge_for_day_date(sso=sso, search_day_date=search_day_date)\n",
        "concatenated_raw\n",
        "\n",
        "# concatenated_raw = EntireDayMergedData.concatenate_datasets(today_only_modalities['EEG'].datasets)\n",
        "# concatenated_raw\n",
        "\n"
      ]
    },
    {
      "cell_type": "code",
      "execution_count": null,
      "metadata": {},
      "outputs": [],
      "source": [
        "concatenated_raw"
      ]
    },
    {
      "cell_type": "code",
      "execution_count": null,
      "metadata": {},
      "outputs": [],
      "source": [
        "concatenated_raw.plot(block=True)"
      ]
    },
    {
      "cell_type": "code",
      "execution_count": null,
      "metadata": {},
      "outputs": [],
      "source": [
        "from phoofflineeeganalysis.analysis.SavedSessionsProcessor import EntireDayMergedData\n",
        "\n",
        "\n",
        "search_day_date = datetime(2025, 9, 8)\n",
        "# search_day_date = datetime(2025, 9, 5)\n",
        "# filtered_df_EEG = df_EEG[df_EEG['day'] == search_day_date]\n",
        "\n",
        "# today_only_modalities = deepcopy(sso.modalities)\n",
        "today_only_modalities = {}\n",
        "\n",
        "# a_modality_name = 'EEG'\n",
        "# a_modality = sso.modalities[a_modality_name]\n",
        "\n",
        "for a_modality_name, a_modality in sso.modalities.items():\n",
        "# print(f'a_modality_name: {a_modality_name}, n_datasets: {len(a_modality.datasets)}')\n",
        "    if ('dataset_IDX' not in a_modality.df.columns) and ('motion_dataset_IDX' in a_modality.df.columns):\n",
        "        a_modality.df['dataset_IDX'] = a_modality.df['motion_dataset_IDX']\n",
        "    today_only_modalities[a_modality_name] = a_modality.filtered_by_day_date(search_day_date=search_day_date)        \n",
        "\n",
        "## OUT: today_only_modalities\n",
        "\n",
        "## 41.5s\n"
      ]
    },
    {
      "cell_type": "code",
      "execution_count": null,
      "metadata": {},
      "outputs": [],
      "source": [
        "today_only_modalities['PHO_LOG_TO_LSL'].datasets"
      ]
    },
    {
      "cell_type": "code",
      "execution_count": null,
      "metadata": {},
      "outputs": [],
      "source": [
        "a_modality.df # 'motion_dataset_IDX'\n"
      ]
    },
    {
      "cell_type": "code",
      "execution_count": null,
      "metadata": {},
      "outputs": [],
      "source": [
        "from phoofflineeeganalysis.analysis.SavedSessionsProcessor import EntireDayMergedData\n",
        "\n",
        "\n",
        "a_modality_name = 'MOTION'\n",
        "concatenated_motion = EntireDayMergedData.concatenate_datasets(today_only_modalities[a_modality_name].datasets)\n",
        "concatenated_motion"
      ]
    },
    {
      "cell_type": "code",
      "execution_count": null,
      "metadata": {},
      "outputs": [],
      "source": [
        "concatenated_motion.describe()"
      ]
    },
    {
      "cell_type": "markdown",
      "metadata": {},
      "source": [
        "## Enhanced Motion Detection"
      ]
    },
    {
      "cell_type": "code",
      "execution_count": null,
      "metadata": {},
      "outputs": [],
      "source": [
        "acc_channels_only = concatenated_motion.pick(picks=['AccX', 'AccY', 'AccZ'])\n",
        "# acc_channels_only.plot(scalings='auto', block=True)\n",
        "\n",
        "acc_channels_only_df: pd.DataFrame = acc_channels_only.to_data_frame()\n",
        "acc_channels_only_df\n",
        "acc_column_names = ['time', 'AccX', 'AccY', 'AccZ']\n",
        "diff_column_names = ['dt', 'dx', 'dy', 'dz']\n",
        "acc_channels_only_df[diff_column_names] = acc_channels_only_df[acc_column_names].diff(axis='index')\n",
        "# acc_channels_only_df[['dx', 'dy', 'dz']] = acc_channels_only_df[['dx', 'dy', 'dz']] / acc_channels_only_df['dt']  # velocity = distance / time\n",
        "# acc_channels_only_df['dx'] = acc_channels_only_df['dx'] / acc_channels_only_df['dt']  # velocity = distance / time\n",
        "# acc_channels_only_df['dy'] = acc_channels_only_df['dy'] / acc_channels_only_df['dt']\n",
        "# acc_channels_only_df['dz'] = acc_channels_only_df['dz'] / acc_channels_only_df['dt']\n",
        "\n",
        "diff_to_smoothed_diff_mapping = {}\n",
        "for a_chan_name in diff_column_names[1:]:\n",
        "    a_smoothed_channel_name = f'smoothed_{a_chan_name}'\n",
        "    diff_to_smoothed_diff_mapping[a_chan_name] = a_smoothed_channel_name\n",
        "    acc_channels_only_df[a_smoothed_channel_name] = acc_channels_only_df[a_chan_name].rolling(window=5, min_periods=1).mean()\n",
        "\n",
        "acc_channels_only_df\n",
        "acc_channels_only_df['total_motion'] = np.sqrt(acc_channels_only_df['dx']**2 + acc_channels_only_df['dy']**2 + acc_channels_only_df['dz']**2)\n",
        "# acc_channels_only_df['smoothed_total_motion'] = acc_channels_only_df['total_motion'].rolling(window=10, min_periods=1).mean()\n",
        "acc_channels_only_df['smoothed_total_motion'] = acc_channels_only_df['total_motion'].rolling(window=5, min_periods=1).mean()\n",
        "acc_channels_only_df['max_smoothed_total_motion'] = acc_channels_only_df['total_motion'].rolling(window=5, min_periods=1).max()\n",
        "acc_channels_only_df['total_motion'].plot.hist(bins=100, alpha=0.5)\n",
        "acc_channels_only_df['smoothed_total_motion'].plot.hist(bins=100, alpha=0.5)\n",
        "acc_channels_only_df['max_smoothed_total_motion'].plot.hist(bins=100, alpha=0.5)\n",
        "plt.legend(['total_motion', 'smoothed_total_motion', 'max_smoothed_total_motion'])\n",
        "\n",
        "acc_channels_only_df\n",
        "acc_channels_only_df.describe()\n",
        "max_high_motion_threshold: float = 2.5\n",
        "is_high_motion = (acc_channels_only_df['max_smoothed_total_motion'] > max_high_motion_threshold)\n",
        "\n",
        "high_motion_times = acc_channels_only_df[is_high_motion]['time'].values\n",
        "high_motion_times\n",
        "\n",
        "## OUTPUTS: high_motion_times\n"
      ]
    },
    {
      "cell_type": "code",
      "execution_count": null,
      "metadata": {},
      "outputs": [],
      "source": [
        "def _data_to_sonification_mapper_fn(data: pd.DataFrame) -> pd.DataFrame:\n",
        "    amplitudes = None \n",
        "    \n",
        "    map_col_names = ['dx', 'dy', 'dz']\n",
        "    n_map_cols = len(map_col_names)\n",
        "    # frequencies = np.zeros(shape=(n_map_cols, ))\n",
        "    frequencies = [220, 440, 880]  # A3, A4, A5\n",
        "    amplitudes = np.zeros(shape=(n_map_cols, ))                         \n",
        "\n",
        "    data = data.copy()\n",
        "    data['sonification_value'] = data['total_motion']  # Example: direct mapping\n",
        "    \n",
        "\n",
        "    ## returns (frequencies, amplitudes, resolution)\n",
        "\n",
        "    # frequencies, amplitudes, resolution\n",
        "    \n",
        "        \n",
        "\n",
        "    return (frequencies, amplitudes)\n",
        "\n"
      ]
    },
    {
      "cell_type": "code",
      "execution_count": null,
      "metadata": {},
      "outputs": [],
      "source": [
        "acc_channels_only_df.describe()"
      ]
    },
    {
      "cell_type": "code",
      "execution_count": null,
      "metadata": {},
      "outputs": [],
      "source": [
        "acc_channels_only_df['total_motion'].plot.hist(bins=100, alpha=0.5)"
      ]
    },
    {
      "cell_type": "code",
      "execution_count": null,
      "metadata": {},
      "outputs": [],
      "source": [
        "plt.close('all')"
      ]
    },
    {
      "cell_type": "code",
      "execution_count": null,
      "metadata": {},
      "outputs": [],
      "source": [
        "# for a_modality_name, a_modality in sso.modalities.items():\n",
        "# print(f'a_modality_name: {a_modality_name}, n_datasets: {len(a_modality.datasets)}')\n",
        "today_only_modalities[a_modality_name] = a_modality.filtered_by_day_date(search_day_date=search_day_date)\n",
        "today_only_modalities[a_modality_name].df\n",
        "## OUT: today_only_modalities"
      ]
    },
    {
      "cell_type": "code",
      "execution_count": null,
      "metadata": {},
      "outputs": [],
      "source": [
        "perform_extended_post_processing_steps"
      ]
    },
    {
      "cell_type": "code",
      "execution_count": null,
      "metadata": {},
      "outputs": [],
      "source": []
    },
    {
      "cell_type": "code",
      "execution_count": null,
      "metadata": {},
      "outputs": [],
      "source": [
        "sso.modalities"
      ]
    },
    {
      "cell_type": "code",
      "execution_count": null,
      "metadata": {},
      "outputs": [],
      "source": [
        "from phoofflineeeganalysis.analysis.SavedSessionsProcessor import EntireDayMergedData\n",
        "\n",
        "\n",
        "## INPUTS: search_day_date\n",
        "today_only_sso = deepcopy(sso)\n",
        "\n",
        "# today_only_modalities = deepcopy(sso.modalities)\n",
        "today_only_modalities = {}\n",
        "\n",
        "for a_modality_name, a_modality in sso.modalities.items():\n",
        "    # print(f'a_modality_name: {a_modality_name}, n_datasets: {len(a_modality.datasets)}')\n",
        "    # if ('dataset_IDX' not in a_modality.df.columns) and ('motion_dataset_IDX' in a_modality.df.columns):\n",
        "    #     a_modality.df['dataset_IDX'] = a_modality.df['motion_dataset_IDX']\n",
        "    today_only_modalities[a_modality_name] = a_modality.filtered_by_day_date(search_day_date=search_day_date)        \n",
        "\n",
        "## OUT: today_only_modalities\n"
      ]
    },
    {
      "cell_type": "code",
      "execution_count": null,
      "metadata": {},
      "outputs": [],
      "source": [
        "concatenated_raw.annotations"
      ]
    },
    {
      "cell_type": "code",
      "execution_count": null,
      "metadata": {},
      "outputs": [],
      "source": [
        "concatenated_raw.plot()"
      ]
    },
    {
      "cell_type": "code",
      "execution_count": null,
      "metadata": {},
      "outputs": [],
      "source": [
        "today_only_modalities['EEG'].datasets[0]\n"
      ]
    },
    {
      "cell_type": "code",
      "execution_count": null,
      "metadata": {},
      "outputs": [],
      "source": [
        "## Save out all files that have been successfully pre-processed\n",
        "all_loaded_files = []\n",
        "for a_modality_name, a_modality in sso.modalities.items():\n",
        "    print(f'a_modality_name: {a_modality_name}, n_datasets: {len(a_modality.datasets)}')\n",
        "    all_loaded_files.extend([a_ds.filenames[0] for a_ds in a_modality.datasets if a_ds is not None])\n",
        "    \n",
        "# all_loaded_files"
      ]
    },
    {
      "cell_type": "code",
      "execution_count": null,
      "metadata": {},
      "outputs": [],
      "source": [
        "all_loaded_files\n",
        "\n",
        "## List of loaded files"
      ]
    },
    {
      "cell_type": "markdown",
      "metadata": {},
      "source": [
        "# Load Pickled Entire Pipeline"
      ]
    },
    {
      "cell_type": "code",
      "execution_count": null,
      "metadata": {
        "tags": [
          "run_unpickle_pipeline"
        ]
      },
      "outputs": [],
      "source": [
        "# sso: SavedSessionsProcessor = SavedSessionsProcessor.load(pkl_file=Path(r\"E:/Dropbox (Personal)/Databases/AnalysisData/MNE_preprocessed/PICKLED_COLLECTION/2025-09-02_50records_SSO_all.pkl\").resolve())\n",
        "# pkl_path = pickled_data_path.joinpath(\"2025-09-10_35_records_SSO_all.pkl\").resolve()\n",
        "pkl_path = pickled_data_path.joinpath(\"2025-09-17_ALL_records_SSO_all.pkl\").resolve()\n",
        "sso: SavedSessionsProcessor = SavedSessionsProcessor.load(pkl_file=pkl_path)\n",
        "sso"
      ]
    },
    {
      "cell_type": "code",
      "execution_count": null,
      "metadata": {},
      "outputs": [],
      "source": []
    },
    {
      "cell_type": "markdown",
      "metadata": {},
      "source": [
        "### Setup single modality independently"
      ]
    },
    {
      "cell_type": "code",
      "execution_count": null,
      "metadata": {},
      "outputs": [],
      "source": [
        "(flat_data_modality_dict, found_recording_file_modality_dict) = sso.setup_specific_modality(modality_type=[DataModalityType.WHISPER], should_load_data=True)\n"
      ]
    },
    {
      "cell_type": "markdown",
      "metadata": {},
      "source": [
        "## Load RAW (original) data:\n"
      ]
    },
    {
      "cell_type": "code",
      "execution_count": null,
      "metadata": {},
      "outputs": [],
      "source": [
        "flat_data_modality_dict, found_recording_file_modality_dict = HistoricalData.MAIN_process_recording_files(\n",
        "                eeg_recordings_file_path = eeg_recordings_file_path,\n",
        "                headset_motion_recordings_file_path = headset_motion_recordings_file_path,\n",
        "                # WhisperVideoTranscripts_LSL_Converted = WhisperVideoTranscripts_LSL_Converted,\n",
        "                pho_log_to_LSL_recordings_path = pho_log_to_LSL_recordings_path,\n",
        "                # should_load_data=True,\n",
        "\t\t\t\tshould_load_data=False,\n",
        ")\n",
        "\n",
        "\n",
        "# flat_data_modality_dict"
      ]
    },
    {
      "cell_type": "markdown",
      "metadata": {},
      "source": [
        "## Load pre-proocessed EEG data:"
      ]
    },
    {
      "cell_type": "code",
      "execution_count": null,
      "metadata": {},
      "outputs": [],
      "source": [
        "## Load pre-proocessed EEG data:\n",
        "flat_data_modality_dict, found_recording_file_modality_dict = HistoricalData.MAIN_process_recording_files(\n",
        "                eeg_recordings_file_path = eeg_analyzed_parent_export_path,\n",
        "                headset_motion_recordings_file_path = headset_motion_recordings_file_path,\n",
        "                WhisperVideoTranscripts_LSL_Converted = WhisperVideoTranscripts_LSL_Converted,\n",
        "                pho_log_to_LSL_recordings_path = pho_log_to_LSL_recordings_path,\n",
        "                # should_load_data=True,\n",
        "                should_load_data=False,\n",
        ")\n",
        "\n",
        "# 1m 10s"
      ]
    },
    {
      "cell_type": "markdown",
      "metadata": {},
      "source": [
        "## Continue with processing"
      ]
    },
    {
      "cell_type": "code",
      "execution_count": null,
      "metadata": {},
      "outputs": [],
      "source": [
        "# 'WHISPER'\n",
        "_, datasets_WHISPER, _ = sso.flat_data_modality_dict['WHISPER']  ## Unpacking\n",
        "(active_WHISPER_IDXs, analysis_results_WHISPER) = sso.modalities['WHISPER'].active_indices, sso.modalities['WHISPER'].analysis_results\n",
        "# datasets_WHISPER\n",
        "analysis_results_WHISPER"
      ]
    },
    {
      "cell_type": "code",
      "execution_count": null,
      "metadata": {},
      "outputs": [],
      "source": [
        "datasets_EEG"
      ]
    },
    {
      "cell_type": "code",
      "execution_count": null,
      "metadata": {},
      "outputs": [],
      "source": [
        "datasets_PHO_LOG[-1].filenames[0].name # '20250820_035626_log.fif'"
      ]
    },
    {
      "cell_type": "markdown",
      "metadata": {},
      "source": [
        "### EEG Data"
      ]
    },
    {
      "cell_type": "code",
      "execution_count": null,
      "metadata": {},
      "outputs": [],
      "source": [
        "(all_data_EEG, all_times_EEG), datasets_EEG, df_EEG = sso.flat_data_modality_dict['EEG']  ## Unpacking\n",
        "datasets_EEG"
      ]
    },
    {
      "cell_type": "code",
      "execution_count": null,
      "metadata": {},
      "outputs": [],
      "source": [
        "from phoofflineeeganalysis.analysis.EEG_data import EEGData\n",
        "\n",
        "\n",
        "## BEGIN ANALYSIS of EEG Data\n",
        "preprocessed_EEG_save_path: Path = eeg_analyzed_parent_export_path.joinpath('preprocessed_EEG').resolve()\n",
        "preprocessed_EEG_save_path.mkdir(exist_ok=True)\n",
        "\n",
        "## INPUTS: flat_data_modality_dict\n",
        "(all_data_EEG, all_times_EEG), datasets_EEG, df_EEG = sso.flat_data_modality_dict['EEG']  ## Unpacking\n",
        "\n",
        "active_EEG_IDXs, analysis_results_EEG = EEGData.preprocess(datasets_EEG=datasets_EEG,\n",
        "\t\t\t\t\t\t\t\t\t\t\t\t\t\t    # preprocessed_EEG_save_path=preprocessed_EEG_save_path,\n",
        "                                                            preprocessed_EEG_save_path=None, ## do not write out to disk yet, do after aligning motion data:\n",
        "\t\t\t\t\t\t\t\t\t\t\t\t\t\t    n_most_recent_sessions_to_preprocess=n_most_recent_sessions_to_preprocess)\n",
        "\n",
        "\n",
        "# datasets_EEG\n",
        "\n",
        "# ~30m 30s"
      ]
    },
    {
      "cell_type": "code",
      "execution_count": null,
      "metadata": {},
      "outputs": [],
      "source": [
        "from phoofflineeeganalysis.analysis.historical_data import HistoricalData\n",
        "\n",
        "## BEGIN ANALYSIS of EEG Data\n",
        "preprocessed_EEG_save_path: Path = eeg_analyzed_parent_export_path.joinpath('preprocessed_EEG').resolve()\n",
        "preprocessed_EEG_save_path.mkdir(exist_ok=True)\n",
        "\n",
        "dataset_MOTION_df, dataset_EEG_df = HistoricalData.add_bad_periods_from_MOTION_data(active_EEG_IDXs=active_EEG_IDXs, datasets_EEG=datasets_EEG,\n",
        "\t\t\t\t\t\t\t\t\t\t\t\t active_motion_IDXs=active_motion_IDXs, datasets_MOTION=datasets_MOTION, analysis_results_MOTION=analysis_results_MOTION,\n",
        "                                                preprocessed_EEG_save_path=preprocessed_EEG_save_path)\n"
      ]
    },
    {
      "cell_type": "code",
      "execution_count": null,
      "metadata": {},
      "outputs": [],
      "source": [
        "dataset_MOTION_df"
      ]
    },
    {
      "cell_type": "code",
      "execution_count": null,
      "metadata": {},
      "outputs": [],
      "source": [
        "datasets_EEG"
      ]
    },
    {
      "cell_type": "code",
      "execution_count": null,
      "metadata": {},
      "outputs": [],
      "source": [
        "# datasets_EEG[-3].plot()\n",
        "raw = datasets_EEG[-2]\n",
        "meas_datetime = raw.info.get('meas_date', None)\n",
        "meas_datetime\n",
        "# raw.plot(block=True)\n",
        "\n",
        "raw.describe(data_frame=True)"
      ]
    },
    {
      "cell_type": "code",
      "execution_count": null,
      "metadata": {},
      "outputs": [],
      "source": [
        "\n",
        "eeg_CSV_export_path = eeg_CSV_export_parent_path.joinpath('2025-08-14_eeg_MNE_merged.csv')\n",
        "# df_EEG.to_csv(eeg_CSV_export_path) ## way too big\n"
      ]
    },
    {
      "cell_type": "code",
      "execution_count": null,
      "metadata": {},
      "outputs": [],
      "source": [
        "raw_eeg = datasets_EEG[-1]\n",
        "raw_eeg = raw_eeg.pick([\"eeg\"], verbose=False)\n",
        "raw_eeg.load_data()\n",
        "sampling_rate = raw_eeg.info[\"sfreq\"]  # Store the sampling rate\n",
        "# raw_eeg.set_montage(emotiv_epocX_montage)\n",
        "raw_eeg"
      ]
    },
    {
      "cell_type": "code",
      "execution_count": null,
      "metadata": {},
      "outputs": [],
      "source": [
        "raw_eeg.plot()"
      ]
    },
    {
      "cell_type": "code",
      "execution_count": null,
      "metadata": {},
      "outputs": [],
      "source": [
        "# raw_eeg.plot_psd_topomap()\n",
        "raw_eeg.plot_psd()\n",
        "raw_eeg.plot_projs_topomap()\n",
        "raw_eeg"
      ]
    },
    {
      "cell_type": "code",
      "execution_count": null,
      "metadata": {},
      "outputs": [],
      "source": [
        "from phoofflineeeganalysis.analysis.EEG_data import EEGData\n",
        "\n",
        "edf_export_parent_path: Path = Path(r\"E:/Dropbox (Personal)/Databases/AnalysisData/MNE_preprocessed/exported_EDF\").resolve()\n",
        "edf_export_parent_path.mkdir(exist_ok=True)\n",
        "\n",
        "for an_xdf_dataset_idx,raw_eeg in enumerate(datasets_EEG):\n",
        "    ## INPUTS: raw_eeg\n",
        "    ## Get paths for current raw:\n",
        "    curr_fif_file_path: Path = Path(raw_eeg.filenames[0]).resolve()\n",
        "    curr_file_edf_name: str = curr_fif_file_path.with_suffix('.edf').name\n",
        "    curr_file_edf_path: Path = edf_export_parent_path.joinpath(curr_file_edf_name).resolve()\n",
        "    EEGData.save_mne_raw_to_edf(raw_eeg, curr_file_edf_path)\n",
        "    "
      ]
    },
    {
      "cell_type": "markdown",
      "metadata": {},
      "source": [
        "## EEG Trends Across Recordings"
      ]
    },
    {
      "cell_type": "code",
      "execution_count": null,
      "metadata": {
        "tags": [
          "run_group_post_processing"
        ]
      },
      "outputs": [],
      "source": [
        "from phoofflineeeganalysis.EegProcessing import analyze_eeg_trends\n",
        "\n",
        "# df_feat, models = analyze_eeg_trends(raw_list=datasets_EEG[-n_most_recent_sessions_to_preprocess:])\n",
        "datasets_EEG = sso.modalities['EEG'].datasets\n",
        "df_feat, models = analyze_eeg_trends(raw_list=datasets_EEG)\n",
        "# 18m 23s\n"
      ]
    },
    {
      "cell_type": "code",
      "execution_count": null,
      "metadata": {},
      "outputs": [],
      "source": [
        "df_feat"
      ]
    },
    {
      "cell_type": "code",
      "execution_count": null,
      "metadata": {},
      "outputs": [],
      "source": [
        "# from fastparquet import write \n",
        "\n",
        "# write('outfile.parq', df_feat)\n",
        "\n",
        "df_feat.to_csv('2025-08-25_All_EEG_analyze_eeg_trends.csv')"
      ]
    },
    {
      "cell_type": "code",
      "execution_count": null,
      "metadata": {},
      "outputs": [],
      "source": [
        "df_feat.to_pickle('2025-08-25_All_EEG_analyze_eeg_trends.pkl')"
      ]
    },
    {
      "cell_type": "code",
      "execution_count": null,
      "metadata": {},
      "outputs": [],
      "source": [
        "df_feat"
      ]
    },
    {
      "cell_type": "code",
      "execution_count": null,
      "metadata": {},
      "outputs": [],
      "source": [
        "from phoofflineeeganalysis.EegVisualization import VisHelpers\n",
        "\n",
        "VisHelpers.plot_clock_values(df_feat, hour_col_name='time_of_day')\n"
      ]
    },
    {
      "cell_type": "code",
      "execution_count": null,
      "metadata": {},
      "outputs": [],
      "source": [
        "hour_by_hour_bins = np.arange(24)\n",
        "# s = pd.cut(df_feat['time_of_day'], bins=hour_by_hour_bins).value_counts()\n",
        "# s = pd.cut(df_feat, bins=hour_by_hour_bins).value_counts()\n",
        "# s\n",
        "\n",
        "# Bin the Age column into 3 equal-sized bins\n",
        "df_feat['UnitGroup'] = pd.cut(df_feat['time_of_day'], bins=hour_by_hour_bins)\n",
        "df_feat"
      ]
    },
    {
      "cell_type": "code",
      "execution_count": null,
      "metadata": {},
      "outputs": [],
      "source": [
        "df_feat.groupby(['UnitGroup']).agg(theta_mean=('theta', 'mean'), alpha_mean=('alpha', 'mean'), beta_mean=('beta', 'mean')).reset_index()"
      ]
    },
    {
      "cell_type": "markdown",
      "metadata": {},
      "source": [
        "### 2025-09-05 - ChatGPT-generated across-session `hour-of-day` analyses"
      ]
    },
    {
      "cell_type": "code",
      "execution_count": null,
      "metadata": {},
      "outputs": [],
      "source": [
        "# requirements: mne, numpy, pandas, scipy, statsmodels, matplotlib\n",
        "import mne, numpy as np, pandas as pd\n",
        "from datetime import datetime, timedelta\n",
        "import statsmodels.formula.api as smf\n",
        "import matplotlib.pyplot as plt\n",
        "\n",
        "BANDS = dict(delta=(0.5,4), theta=(4,8), alpha=(8,13), beta=(13,30), gamma=(30,80))\n",
        "\n",
        "def band_power_from_psd(psd, freqs, band):\n",
        "    fmin,fmax = band\n",
        "    idx = np.where((freqs>=fmin)&(freqs<=fmax))[0]\n",
        "    return np.trapz(psd[:,idx], freqs[idx], axis=1)  # psd per epoch averaged over channels before passing\n",
        "\n",
        "def process_raw_list(raw_list, epoch_length=10.0, picks=None, resample_sfreq=128.0):\n",
        "    records = []\n",
        "    for i, raw in enumerate(raw_list):\n",
        "        try:\n",
        "            raw.load_data()\n",
        "            if resample_sfreq is not None:\n",
        "                raw.resample(resample_sfreq)\n",
        "            if picks is not None:\n",
        "                raw.pick(picks)\n",
        "            epochs = mne.make_fixed_length_epochs(raw, duration=epoch_length, preload=True, reject_by_annotation=False)\n",
        "            # psds, freqs = mne.time_frequency.psd_welch(epochs, fmin=0.5, fmax=80, n_fft=int(epoch_length*raw.info['sfreq']), average='mean')\n",
        "\n",
        "            spectrum = epochs.compute_psd(method=\"welch\", fmin=1.0, fmax=58)\n",
        "            psds, freqs = spectrum.get_data(return_freqs=True)\n",
        "\n",
        "            # psds shape (n_epochs, n_channels, n_freqs)\n",
        "            psd_epoch_chan_mean = psds.mean(axis=1)  # (n_epochs, n_freqs)\n",
        "            # timestamp for each epoch: event sample / sfreq + meas_date\n",
        "            sfreq = raw.info['sfreq']\n",
        "            event_samples = epochs.events[:,0]\n",
        "            epoch_seconds = event_samples / sfreq\n",
        "            meas_date = raw.info.get('meas_date', None)\n",
        "            if isinstance(meas_date, (tuple,list)):\n",
        "                meas_date = datetime.fromtimestamp(meas_date[0])\n",
        "            if isinstance(meas_date, float) or isinstance(meas_date, np.floating):\n",
        "                meas_date = datetime.fromtimestamp(meas_date)\n",
        "            for ei, sec in enumerate(epoch_seconds):\n",
        "                if meas_date is None:\n",
        "                    epoch_dt = None\n",
        "                    hour = (sec/3600.0) % 24\n",
        "                else:\n",
        "                    epoch_dt = meas_date + timedelta(seconds=float(sec))\n",
        "                    hour = epoch_dt.hour + epoch_dt.minute/60.0 + epoch_dt.second/3600.0\n",
        "                band_vals = {b: band_power_from_psd(psd_epoch_chan_mean[ei:ei+1], freqs, BANDS[b])[0] for b in BANDS}\n",
        "                rec = dict(session_index=i, epoch_index=ei, epoch_seconds=float(sec), epoch_datetime=epoch_dt, hour_of_day=hour)\n",
        "                rec.update(band_vals)\n",
        "                records.append(rec)\n",
        "        except (ValueError, AttributeError) as ve:\n",
        "            print(f\"Skipping raw {i} due to error: {ve}\")\n",
        "            continue                \n",
        "\n",
        "        except Exception as e:\n",
        "            raise e\n",
        "    ## END for i, raw in enumerate(raw_list)...\n",
        "    \n",
        "    df = pd.DataFrame.from_records(records)\n",
        "    # make ratios and circular hour encodings\n",
        "    df['alpha_beta'] = df['alpha'] / (df['beta'] + 1e-12)\n",
        "    df['theta_alpha'] = df['theta'] / (df['alpha'] + 1e-12)\n",
        "    df['hour_sin'] = np.sin(2*np.pi*df['hour_of_day']/24.0)\n",
        "    df['hour_cos'] = np.cos(2*np.pi*df['hour_of_day']/24.0)\n",
        "    return df\n",
        "\n",
        "# example usage:\n",
        "# df = process_raw_list(my_raws, epoch_length=30.0, picks=['EEG'])  # or picks=None\n",
        "# quick plot of mean ratio by hour-of-day (binned)\n",
        "def plot_ratio_by_hour(df, ratio='alpha_beta', bins=24):\n",
        "    df['hour_bin'] = (df['hour_of_day']*(bins/24)).astype(int) % bins\n",
        "    agg = df.groupby('hour_bin')[ratio].agg(['mean','sem']).reset_index()\n",
        "    x = agg['hour_bin']*(24.0/bins)\n",
        "    plt.errorbar(x, agg['mean'], yerr=agg['sem'])\n",
        "    plt.xlabel('Hour of day'); plt.ylabel(ratio); plt.title(ratio+' by hour'); plt.show()\n",
        "\n",
        "# mixed-effects test: model ratio ~ circular hour + (1|session_index)\n",
        "# (session_index used as a random intercept representing each day/recording)\n",
        "def mixed_effects_test(df, outcome='alpha_beta'):\n",
        "    df2 = df.dropna(subset=[outcome,'hour_sin','hour_cos'])\n",
        "    model = smf.mixedlm(f\"{outcome} ~ hour_sin + hour_cos\", df2, groups=df2['session_index'])\n",
        "    res = model.fit(reml=False)\n",
        "    return res.summary()\n",
        "\n",
        "\n",
        "# end-to-end quick run:\n",
        "raw_list = sso.modalities['EEG'].datasets\n",
        "df = process_raw_list(raw_list)\n",
        "print(mixed_effects_test(df,'alpha_beta'))\n",
        "plot_ratio_by_hour(df,'alpha_beta',bins=24)\n"
      ]
    },
    {
      "cell_type": "code",
      "execution_count": null,
      "metadata": {},
      "outputs": [],
      "source": [
        "sso.modalities['WHISPER'].datasets\n"
      ]
    },
    {
      "attachments": {
        "image.png": {
          "image/png": "[encoded data removed]"
        }
      },
      "cell_type": "markdown",
      "metadata": {},
      "source": [
        "```         Mixed Linear Model Regression Results\n",
        "========================================================\n",
        "Model:            MixedLM Dependent Variable: alpha_beta\n",
        "No. Observations: 1099    Method:             ML        \n",
        "No. Groups:       9       Scale:              0.1015    \n",
        "Min. group size:  4       Log-Likelihood:     -315.6707 \n",
        "Max. group size:  294     Converged:          Yes       \n",
        "Mean group size:  122.1                                 \n",
        "---------------------------------------------------------\n",
        "            Coef.  Std.Err.    z    P>|z|  [0.025  0.975]\n",
        "---------------------------------------------------------\n",
        "Intercept   1.478     0.175  8.436  0.000   1.135   1.821\n",
        "hour_sin    0.716     0.182  3.937  0.000   0.359   1.072\n",
        "hour_cos    0.435     0.161  2.710  0.007   0.120   0.750\n",
        "Group Var   0.027     0.060                              \n",
        "========================================================\n",
        "\n",
        "\n",
        "```\n",
        "\n",
        "![image.png](attachment:image.png)\n",
        "\n",
        "```\n",
        "          Mixed Linear Model Regression Results\n",
        "==========================================================\n",
        "Model:            MixedLM Dependent Variable: alpha_beta  \n",
        "No. Observations: 101840  Method:             ML          \n",
        "No. Groups:       494     Scale:              2.9224      \n",
        "Min. group size:  1       Log-Likelihood:     -199762.8521\n",
        "Max. group size:  1011    Converged:          Yes         \n",
        "Mean group size:  206.2                                   \n",
        "-----------------------------------------------------------\n",
        "             Coef.  Std.Err.    z     P>|z|  [0.025  0.975]\n",
        "-----------------------------------------------------------\n",
        "Intercept    1.058     0.028  37.672  0.000   1.003   1.113\n",
        "hour_sin     0.226     0.039   5.817  0.000   0.150   0.302\n",
        "hour_cos     0.135     0.037   3.689  0.000   0.063   0.207\n",
        "Group Var    0.292     0.016                               \n",
        "==========================================================\n",
        "```"
      ]
    },
    {
      "cell_type": "code",
      "execution_count": null,
      "metadata": {},
      "outputs": [],
      "source": [
        "plt.close('all')"
      ]
    },
    {
      "cell_type": "markdown",
      "metadata": {},
      "source": [
        "## Automatic Analyses"
      ]
    },
    {
      "cell_type": "code",
      "execution_count": null,
      "metadata": {},
      "outputs": [],
      "source": [
        "import numpy as np\n",
        "import pandas as pd\n",
        "import matplotlib.pyplot as plt\n",
        "import seaborn as sns                 # pip install seaborn\n",
        "sns.set_theme(style=\"whitegrid\")\n",
        "\n",
        "## INPUTS: df_feat\n",
        "\n",
        "## 1. Simple scatter + LOWESS smoother\n",
        "bands = [\"theta\", \"alpha\", \"beta\"]\n",
        "\n",
        "fig, axes = plt.subplots(len(bands), 1, figsize=(8, 3 * len(bands)))\n",
        "\n",
        "for ax, band in zip(axes, bands):\n",
        "    sns.scatterplot(\n",
        "        x=\"time_of_day\", y=band,\n",
        "        data=df_feat, s=10, alpha=.2, ax=ax)\n",
        "\n",
        "    # LOWESS (locally-weighted regression) trend line\n",
        "    sns.regplot(\n",
        "        x=\"time_of_day\", y=band,\n",
        "        data=df_feat, scatter=False, lowess=True,\n",
        "        line_kws={\"color\": \"red\", \"lw\": 2}, ax=ax\n",
        "    )\n",
        "    ax.set(title=f\"{band} power vs. time of day\",\n",
        "           xlabel=\"Clock time (decimal hours)\",\n",
        "           ylabel=\"Relative power\")\n",
        "plt.tight_layout()\n"
      ]
    },
    {
      "cell_type": "code",
      "execution_count": null,
      "metadata": {},
      "outputs": [],
      "source": [
        "\n",
        "## 2. Bin clock time and plot means ± SEM\n",
        "## INPUTS: df_feat\n",
        "# 1-hour bins: [0-1),[1-2),…, [23-24)\n",
        "df_feat[\"hour_bin\"] = pd.cut(df_feat.time_of_day,\n",
        "                             bins=np.arange(0,25,1), right=False,\n",
        "                             labels=np.arange(24))\n",
        "\n",
        "for band in bands:\n",
        "    tmp = df_feat.groupby(\"hour_bin\")[band].agg([\"mean\", \"sem\"]).reset_index()\n",
        "    plt.errorbar(tmp.hour_bin.astype(int), tmp[\"mean\"],\n",
        "                 yerr=tmp[\"sem\"], marker=\"o\", label=band)\n",
        "\n",
        "plt.xticks(range(0,24,2))\n",
        "plt.xlabel(\"Clock hour\")\n",
        "plt.ylabel(\"Relative power (mean ± SEM)\")\n",
        "plt.title(\"Hourly mean band power\")\n",
        "plt.legend()\n",
        "plt.show()\n"
      ]
    },
    {
      "cell_type": "code",
      "execution_count": null,
      "metadata": {},
      "outputs": [],
      "source": [
        "## 3. Visualise per-day trajectories\n",
        "g = sns.relplot(\n",
        "    data=df_feat, kind=\"line\",\n",
        "    x=\"time_of_day\", y=\"alpha\", hue=\"day\",\n",
        "    estimator=None, units=\"day\",  # keep each day as its own line\n",
        "    height=4, aspect=1.5)\n",
        "g.set_axis_labels(\"Clock time (h)\", \"Alpha power\")\n",
        "g.figure.suptitle(\"Alpha trajectories per day\", y=1.03)"
      ]
    },
    {
      "cell_type": "code",
      "execution_count": null,
      "metadata": {},
      "outputs": [],
      "source": [
        "from statsmodels.tools import add_constant\n",
        "\n",
        "for band in bands:\n",
        "    mdf = models[band]                      # fitted MixedLMResults\n",
        "    beta0, beta1 = mdf.fe_params            # intercept & slope\n",
        "\n",
        "    # scatter of raw data\n",
        "    sns.scatterplot(x=\"time_of_day\", y=band,\n",
        "                    data=df_feat, alpha=.15, s=10)\n",
        "\n",
        "    # prediction line\n",
        "    x = np.linspace(0,24,200)\n",
        "    y = beta0 + beta1 * x\n",
        "    plt.plot(x, y, color=\"red\", lw=2,\n",
        "             label=f\"MixedLM slope = {beta1:.3f}\")\n",
        "    plt.title(f\"{band} – fixed-effect fit\")\n",
        "    plt.legend()\n",
        "    plt.show()\n",
        "    \n",
        "df_feat[\"phi\"] = 2*np.pi*df_feat.time_of_day/24\n",
        "plt.subplot(111, projection='polar')\n",
        "plt.scatter(df_feat.phi, df_feat.alpha, s=3, alpha=.3)"
      ]
    },
    {
      "cell_type": "markdown",
      "metadata": {},
      "source": [
        "# Jaw Clench EEG Processing"
      ]
    },
    {
      "cell_type": "code",
      "execution_count": null,
      "metadata": {},
      "outputs": [],
      "source": [
        "hand_labeled_jaw_clinch_EEG = deepcopy(raw_eeg)\n",
        "# hand_labeled_jaw_clinch_EEG.save(fname='hand_labeled_jaw_clinch_EEG_2025-08-20.fif')"
      ]
    },
    {
      "cell_type": "code",
      "execution_count": null,
      "metadata": {},
      "outputs": [],
      "source": [
        "user_annotations = hand_labeled_jaw_clinch_EEG.annotations\n",
        "max_duration_reject_event: float = np.nanmax(user_annotations.to_data_frame()['duration'])\n",
        "max_duration_reject_event"
      ]
    },
    {
      "cell_type": "code",
      "execution_count": null,
      "metadata": {},
      "outputs": [],
      "source": [
        "hand_labeled_jaw_clinch_EEG"
      ]
    },
    {
      "cell_type": "code",
      "execution_count": null,
      "metadata": {},
      "outputs": [],
      "source": [
        "# annotate_flat \n",
        "from mne.epochs import Epochs\n",
        "from mne.event import make_fixed_length_events\n",
        "\n",
        "\n",
        "reject_criteria = dict(\n",
        "    # mag=3000e-15,  # 3000 fT\n",
        "    # grad=3000e-13,  # 3000 fT/cm\n",
        "    eeg=1e-6,  # 100 µV\n",
        "    # eog=200e-6,\n",
        ")  # 200 µV\n",
        "\n",
        "flat_criteria = dict(mag=1e-15, grad=1e-13, eeg=1e-6)  # 1 fT  # 1 fT/cm  # 1 µV\n",
        "\n",
        "#create equally spaced events in raw data, with the duration > the longest bad data segment (here, that was 4 s)\n",
        "events = make_fixed_length_events(hand_labeled_jaw_clinch_EEG, duration=(np.ceil(max_duration_reject_event)+1.0)) \n",
        "\n",
        "#convert the raw data to an epoch object using events and reject epochs where data is over a certain amplitude threshold (here, that was 0.6 mV or 6e-5 V)\n",
        "reject = dict(eeg=1e-6)\n",
        "epochs = Epochs(hand_labeled_jaw_clinch_EEG, events, reject=reject, preload=True)\n",
        "epochs.plot_drop_log()\n",
        "epochs\n"
      ]
    },
    {
      "cell_type": "code",
      "execution_count": null,
      "metadata": {},
      "outputs": [],
      "source": [
        "# annotations, bad_chans = mne.preprocessing.annotate_amplitude(raw=hand_labeled_jaw_clinch_EEG, peak=reject_criteria, min_duration=0.3)\n",
        "# annotations\n",
        "annotations, bad_chans = mne.preprocessing.annotate_amplitude(hand_labeled_jaw_clinch_EEG, peak=100e-3, picks = 'eeg', bad_percent=5, min_duration=0.005)\n",
        "annotations\n",
        "\n",
        "hand_labeled_jaw_clinch_EEG.set_annotations((hand_labeled_jaw_clinch_EEG.annotations + annotations))\n",
        "hand_labeled_jaw_clinch_EEG\n"
      ]
    },
    {
      "cell_type": "markdown",
      "metadata": {},
      "source": [
        "## Reset 'hand_labeled_jaw_clinch_EEG'"
      ]
    },
    {
      "cell_type": "code",
      "execution_count": null,
      "metadata": {},
      "outputs": [],
      "source": [
        "hand_labeled_jaw_clinch_EEG = deepcopy(raw_eeg)\n",
        "hand_labeled_jaw_clinch_EEG.annotations"
      ]
    },
    {
      "cell_type": "code",
      "execution_count": null,
      "metadata": {},
      "outputs": [],
      "source": [
        "import numpy as np\n",
        "import mne\n",
        "\n",
        "def detect_jaw_clench_annotations(raw, window_s=0.25, step_s=0.05, z_thresh=3.0, min_sync_channels=3, max_considered_channels=6, prob_thresh=0.5, merge_pad_s=0.1, picks=\"eeg\", return_probs=False):\n",
        "    \"\"\"\n",
        "    Compute sliding-window PTP per channel, z-score within-channel, and flag windows where >=min_sync_channels show high-amplitude transients.\n",
        "    Creates MNE Annotations labeled 'JAW_CLENCH[p=...]' over merged windows with probability>prob_thresh.\n",
        "    Args use seconds; thresholds are reasonable defaults for brief jaw-clench bursts.\n",
        "    \"\"\"\n",
        "    sfreq = raw.info[\"sfreq\"]\n",
        "    w = max(1, int(round(window_s * sfreq)))\n",
        "    s = max(1, int(round(step_s * sfreq)))\n",
        "    pad = max(0, int(round(merge_pad_s * sfreq)))\n",
        "    picks_idx = mne.pick_types(raw.info, eeg=True) if picks == \"eeg\" else mne.pick_channels(raw.ch_names, picks)\n",
        "    if len(picks_idx) == 0:\n",
        "        return mne.Annotations(onset=[], duration=[], description=[])\n",
        "    data = raw.get_data(picks=picks_idx, reject_by_annotation=\"omit\")\n",
        "    n_ch, n_samp = data.shape\n",
        "    if n_samp < w:\n",
        "        return mne.Annotations(onset=[], duration=[], description=[])\n",
        "    # Sliding windows (center-aligned)\n",
        "    from numpy.lib.stride_tricks import sliding_window_view\n",
        "    sw = sliding_window_view(data, w, axis=1)  # shape: (n_ch, n_win_full, w)\n",
        "    win_idxs = np.arange(0, sw.shape[1] - 1, s)\n",
        "    sw = sw[:, win_idxs, :]\n",
        "    ptp = sw.max(axis=-1) - sw.min(axis=-1)  # (n_ch, n_win)\n",
        "    # Z-score per channel across time (robust to heavy tails)\n",
        "    ch_med = np.median(ptp, axis=1, keepdims=True)\n",
        "    ch_mad = np.median(np.abs(ptp - ch_med), axis=1, keepdims=True)\n",
        "    denom = np.maximum(ch_mad * 1.4826, 1e-12)\n",
        "    z = (ptp - ch_med) / denom\n",
        "    # Sync count per window and excess\n",
        "    over = z > z_thresh\n",
        "    k = over.sum(axis=0)  # number of channels exceeding threshold per window\n",
        "    k_cap = np.minimum(k, min(max_considered_channels, n_ch))\n",
        "    max_z = np.where(over, z, -np.inf).max(axis=0)\n",
        "    max_z[np.isneginf(max_z)] = 0.0\n",
        "    excess = np.clip(max_z - z_thresh, 0.0, None)\n",
        "    # Probability mapping: combines sync count and excess amplitude, capped by 3–6 channels\n",
        "    denom_k = float(min(max_considered_channels, n_ch))\n",
        "    p = np.clip((k_cap / denom_k) * np.tanh(excess / 3.0), 0.0, 1.0)\n",
        "    # Build intervals where p > prob_thresh, merge with padding\n",
        "    centers = (win_idxs + w // 2).astype(int)\n",
        "    mask = p > prob_thresh\n",
        "    if not np.any(mask):\n",
        "        return (mne.Annotations(onset=[], duration=[], description=[]), (centers / sfreq, p)) if return_probs else mne.Annotations(onset=[], duration=[], description=[])\n",
        "    idx = np.flatnonzero(mask)\n",
        "    groups = np.split(idx, np.where(np.diff(idx) > 1)[0] + 1)\n",
        "    onsets = []\n",
        "    durations = []\n",
        "    descs = []\n",
        "    for g in groups:\n",
        "        start = centers[g[0]] - pad\n",
        "        end = centers[g[-1]] + pad\n",
        "        start = int(np.clip(start, 0, n_samp - 1))\n",
        "        end = int(np.clip(end, start + 1, n_samp))\n",
        "        seg_p = float(np.mean(p[g]))\n",
        "        onsets.append(raw.first_time + start / sfreq)\n",
        "        durations.append((end - start) / sfreq)\n",
        "        descs.append(f\"JAW_CLENCH[p={seg_p:.2f}]\")\n",
        "    # return (ann, (centers / sfreq, p)) if return_probs else ann\n",
        "    ann = mne.Annotations(onset=onsets, duration=durations, description=descs, orig_time=raw.annotations.orig_time)\n",
        "    return (ann, (centers / sfreq, p)) if return_probs else ann\n",
        "\n",
        "\n",
        "# Example usage:\n",
        "fn_bad_ann = detect_jaw_clench_annotations(hand_labeled_jaw_clinch_EEG)\n",
        "hand_labeled_jaw_clinch_EEG.set_annotations(hand_labeled_jaw_clinch_EEG.annotations + fn_bad_ann)\n",
        "hand_labeled_jaw_clinch_EEG"
      ]
    },
    {
      "cell_type": "code",
      "execution_count": null,
      "metadata": {},
      "outputs": [],
      "source": [
        "from phoofflineeeganalysis.EegProcessing import annotate_jaw_clench\n",
        "\n",
        "\n",
        "hand_labeled_jaw_clinch_EEG = annotate_jaw_clench(hand_labeled_jaw_clinch_EEG, window_size=1.5, thresh_scale=1, min_channels=3)\n",
        "hand_labeled_jaw_clinch_EEG"
      ]
    },
    {
      "cell_type": "code",
      "execution_count": null,
      "metadata": {},
      "outputs": [],
      "source": [
        "hand_labeled_jaw_clinch_EEG.plot()"
      ]
    },
    {
      "cell_type": "code",
      "execution_count": null,
      "metadata": {},
      "outputs": [],
      "source": [
        "import numpy as np\n",
        "import mne\n",
        "import matplotlib.pyplot as plt\n",
        "from math import ceil, sqrt\n",
        "\n",
        "\n",
        "def plot_channel_amplitude_histogram(\n",
        "    raw,\n",
        "    *,\n",
        "    picks=\"eeg\",\n",
        "    bins=100,\n",
        "    log_y=False,\n",
        "    use_ptp=False,           # True → histogram of PTP values\n",
        "    window_size=1.0,         # seconds, only used if use_ptp=True\n",
        "    reject_by_annotation=True,\n",
        "    units=\"auto\",            # \"auto\" | \"V\" | \"µV\"\n",
        "):\n",
        "    \"\"\"\n",
        "    Plot one histogram per channel (sample amplitudes or PTP values).\n",
        "\n",
        "    Parameters\n",
        "    ----------\n",
        "    raw : mne.io.BaseRaw\n",
        "        Continuous EEG data.\n",
        "    picks : str | list\n",
        "        Which channels to include (default \"eeg\").\n",
        "    bins : int or sequence\n",
        "        Histogram bins passed to matplotlib/numpy.\n",
        "    log_y : bool\n",
        "        If True, use a log-scaled y-axis (helps when tails are long).\n",
        "    use_ptp : bool\n",
        "        False → histogram of every sample's amplitude  \n",
        "        True  → histogram of sliding-window peak-to-peak values.\n",
        "    window_size : float\n",
        "        Length (s) of the PTP window if `use_ptp=True`.\n",
        "    reject_by_annotation : bool\n",
        "        Whether to drop segments already annotated as bad.\n",
        "    units : str\n",
        "        \"V\" for Volts, \"µV\" for microvolts, or \"auto\" (choose µV if values\n",
        "        look <1e-2; otherwise V).\n",
        "    \"\"\"\n",
        "    if not isinstance(raw, mne.io.BaseRaw):\n",
        "        raise TypeError(\"`raw` must be an MNE Raw/RawArray object.\")\n",
        "\n",
        "    # ------------------------------------------------------------\n",
        "    # Pick data\n",
        "    # ------------------------------------------------------------\n",
        "    if isinstance(picks, (list, tuple)):\n",
        "        pick_idx = mne.pick_channels(raw.info[\"ch_names\"], include=picks)\n",
        "    else:\n",
        "        pick_idx = mne.pick_types(raw.info, meg=False, eeg=True)\n",
        "\n",
        "    ch_names = [raw.ch_names[i] for i in pick_idx]\n",
        "    data = raw.get_data(picks=pick_idx,\n",
        "                        reject_by_annotation=\"omit\" if reject_by_annotation else None)\n",
        "\n",
        "    sfreq = raw.info[\"sfreq\"]\n",
        "\n",
        "    # ------------------------------------------------------------\n",
        "    # Choose units\n",
        "    # ------------------------------------------------------------\n",
        "    if units == \"auto\":\n",
        "        # Heuristic: if median absolute amplitude < 1e-2 V, assume V units and\n",
        "        # convert to µV for readability.\n",
        "        med_abs = np.median(np.abs(data))\n",
        "        if med_abs < 1e-2:\n",
        "            units = \"µV\"\n",
        "        else:\n",
        "            units = \"V\"\n",
        "\n",
        "    scale = 1.0 if units == \"V\" else 1e6   # convert to µV\n",
        "\n",
        "    # ------------------------------------------------------------\n",
        "    # Prepare the figure layout\n",
        "    # ------------------------------------------------------------\n",
        "    n_ch = len(ch_names)\n",
        "    n_cols = ceil(sqrt(n_ch))\n",
        "    n_rows = ceil(n_ch / n_cols)\n",
        "    fig, axes = plt.subplots(\n",
        "        n_rows, n_cols, figsize=(3.2 * n_cols, 2.5 * n_rows), squeeze=False\n",
        "    )\n",
        "\n",
        "    # ------------------------------------------------------------\n",
        "    # Build histograms channel-by-channel\n",
        "    # ------------------------------------------------------------\n",
        "    if use_ptp:\n",
        "        win_samp = int(round(window_size * sfreq))\n",
        "        for ax, ch_idx, name in zip(axes.flatten(), pick_idx, ch_names):\n",
        "            sig = data[ch_names.index(name)]\n",
        "            ptp_vals = sig[\n",
        "                : len(sig) - win_samp + 1\n",
        "            ].reshape(-1, win_samp).ptp(axis=1)\n",
        "            ax.hist(ptp_vals * scale, bins=bins, color=\"steelblue\")\n",
        "            ax.set_title(name)\n",
        "            ax.set_xlabel(f\"PTP amplitude [{units}]\")\n",
        "            if log_y:\n",
        "                ax.set_yscale(\"log\")\n",
        "    else:\n",
        "        for ax, sig, name in zip(axes.flatten(), data, ch_names):\n",
        "            ax.hist(sig * scale, bins=bins, color=\"steelblue\")\n",
        "            ax.set_title(name)\n",
        "            ax.set_xlabel(f\"Amplitude [{units}]\")\n",
        "            if log_y:\n",
        "                ax.set_yscale(\"log\")\n",
        "\n",
        "    # Hide unused axes\n",
        "    for ax in axes.flatten()[n_ch:]:\n",
        "        ax.axis(\"off\")\n",
        "\n",
        "    fig.tight_layout()\n",
        "    plt.show()\n",
        "\n",
        "\n",
        "###############################################################################\n",
        "# Example usage\n",
        "###############################################################################\n",
        "# raw = mne.io.read_raw_fif(\"subject_raw.fif\", preload=True)\n",
        "#\n",
        "# # 1) Quick look at sample-wise amplitudes\n",
        "# plot_channel_amplitude_histogram(hand_labeled_jaw_clinch_EEG, bins=100, log_y=False)\n",
        "\n",
        "plot_channel_amplitude_histogram(hand_labeled_jaw_clinch_EEG, bins=100, log_y=False, reject_by_annotation=False)\n",
        "\n",
        "\n",
        "\n",
        "#\n",
        "# # 2) Histogram of 1-second sliding PTP amplitudes (matches detector)\n",
        "# plot_channel_amplitude_histogram(\n",
        "#     hand_labeled_jaw_clinch_EEG,\n",
        "#     use_ptp=True,\n",
        "#     window_size=1.0,\n",
        "#     bins=100,\n",
        "#     log_y=True,\n",
        "# )"
      ]
    },
    {
      "cell_type": "code",
      "execution_count": null,
      "metadata": {},
      "outputs": [],
      "source": [
        "import numpy as np\n",
        "import mne\n",
        "import matplotlib.pyplot as plt\n",
        "from math import ceil, sqrt\n",
        "\n",
        "\n",
        "def _build_sample_mask(raw, keep_desc=None, drop_bad=False):\n",
        "    \"\"\"\n",
        "    Return a boolean vector (len = n_samples) marking samples to KEEP.\n",
        "\n",
        "    keep_desc : list | None\n",
        "        List of annotation descriptions to retain.  None → keep all.\n",
        "    drop_bad : bool\n",
        "        Additionally drop samples that fall in \"BAD\"-type annotations.\n",
        "    \"\"\"\n",
        "    sfreq = raw.info[\"sfreq\"]\n",
        "    keep = np.zeros(len(raw.times), dtype=bool)\n",
        "\n",
        "    for on, dur, desc in zip(\n",
        "        raw.annotations.onset, raw.annotations.duration, raw.annotations.description\n",
        "    ):\n",
        "        start, stop = int(on * sfreq), int((on + dur) * sfreq)\n",
        "\n",
        "        if drop_bad and desc.upper().startswith(\"BAD\"):\n",
        "            continue  # we *drop* these later\n",
        "\n",
        "        if (keep_desc is None) or (desc in keep_desc):\n",
        "            keep[start:stop] = True\n",
        "\n",
        "    if drop_bad:\n",
        "        # Now knock out \"BAD\" samples from whatever we decided to keep\n",
        "        bad = np.zeros(len(raw.times), dtype=bool)\n",
        "        for on, dur, desc in zip(\n",
        "            raw.annotations.onset, raw.annotations.duration, raw.annotations.description\n",
        "        ):\n",
        "            if not desc.upper().startswith(\"BAD\"):\n",
        "                continue\n",
        "            start, stop = int(on * sfreq), int((on + dur) * sfreq)\n",
        "            bad[start:stop] = True\n",
        "        keep &= ~bad\n",
        "\n",
        "    return keep\n",
        "\n",
        "\n",
        "def plot_channel_amplitude_histogram(\n",
        "    raw,\n",
        "    *,\n",
        "    picks=\"eeg\",\n",
        "    bins=100,\n",
        "    log_y=False,\n",
        "    use_ptp=False,\n",
        "    window_size=1.0,\n",
        "    reject_by_annotation=True,\n",
        "    units=\"auto\",\n",
        "    only_annotated=False,\n",
        "    anno_descriptions=None,\n",
        "):\n",
        "    \"\"\"\n",
        "    Same interface as before but safe against boolean-index mismatches.\n",
        "    \"\"\"\n",
        "    if only_annotated:\n",
        "        keep_mask = _build_sample_mask(\n",
        "            raw,\n",
        "            keep_desc=anno_descriptions,\n",
        "            drop_bad=reject_by_annotation,\n",
        "        )\n",
        "    elif reject_by_annotation:\n",
        "        # keep everything except BAD segments\n",
        "        keep_mask = _build_sample_mask(raw, keep_desc=None, drop_bad=True)\n",
        "    else:\n",
        "        keep_mask = slice(None)  # keep everything\n",
        "\n",
        "    # -----------------------------------------------------------------\n",
        "    # Pick and scale data\n",
        "    # -----------------------------------------------------------------\n",
        "    if isinstance(picks, (list, tuple)):\n",
        "        pick_idx = mne.pick_channels(raw.info[\"ch_names\"], include=picks)\n",
        "    else:\n",
        "        pick_idx = mne.pick_types(raw.info, meg=False, eeg=True)\n",
        "\n",
        "    data = raw.get_data(picks=pick_idx, reject_by_annotation=None)[:, keep_mask]\n",
        "    ch_names = [raw.ch_names[i] for i in pick_idx]\n",
        "    sfreq = raw.info[\"sfreq\"]\n",
        "\n",
        "    # choose units\n",
        "    if units == \"auto\":\n",
        "        units = \"µV\" if np.median(np.abs(data)) < 1e-2 else \"V\"\n",
        "    scale = 1.0 if units == \"V\" else 1e6\n",
        "\n",
        "    # -----------------------------------------------------------------\n",
        "    # Figure layout\n",
        "    # -----------------------------------------------------------------\n",
        "    n_ch = len(ch_names)\n",
        "    n_cols = ceil(sqrt(n_ch))\n",
        "    n_rows = ceil(n_ch / n_cols)\n",
        "    fig, axes = plt.subplots(\n",
        "        n_rows, n_cols, figsize=(3.2 * n_cols, 2.5 * n_rows), squeeze=False\n",
        "    )\n",
        "\n",
        "    # -----------------------------------------------------------------\n",
        "    # Plot\n",
        "    # -----------------------------------------------------------------\n",
        "    if use_ptp:\n",
        "        win_samp = int(round(window_size * sfreq))\n",
        "        for ax, sig, name in zip(axes.flatten(), data, ch_names):\n",
        "            if len(sig) < win_samp:\n",
        "                ax.axis(\"off\")\n",
        "                continue\n",
        "            ptp_vals = sig[: len(sig) - win_samp + 1].reshape(-1, win_samp).ptp(axis=1)\n",
        "            ax.hist(ptp_vals * scale, bins=bins, color=\"steelblue\")\n",
        "            ax.set_xlabel(f\"PTP [{units}]\")\n",
        "            ax.set_title(name)\n",
        "            if log_y:\n",
        "                ax.set_yscale(\"log\")\n",
        "    else:\n",
        "        for ax, sig, name in zip(axes.flatten(), data, ch_names):\n",
        "            ax.hist(sig * scale, bins=bins, color=\"steelblue\")\n",
        "            ax.set_xlabel(f\"Amp [{units}]\")\n",
        "            ax.set_title(name)\n",
        "            if log_y:\n",
        "                ax.set_yscale(\"log\")\n",
        "\n",
        "    # hide unused axes\n",
        "    for ax in axes.flatten()[n_ch:]:\n",
        "        ax.axis(\"off\")\n",
        "\n",
        "    fig.tight_layout()\n",
        "    plt.show()\n",
        "    \n",
        "# <Annotations | 86 segments: BAD_JAW (15), BAD_peak (71)>\n",
        "plot_channel_amplitude_histogram(\n",
        "    hand_labeled_jaw_clinch_EEG,\n",
        "    use_ptp=False,\n",
        "    only_annotated=True,          # keep only selected annotations\n",
        "    anno_descriptions=[\"BAD_JAW\"],\n",
        "    reject_by_annotation=False,   # <-- keep BAD samples!\n",
        "    bins=120,\n",
        "    log_y=False,\n",
        ")\n",
        "\n",
        "# # Histogram ONLY for samples labelled \"jaw_clench\", using 1-s PTP feature\n",
        "# plot_channel_amplitude_histogram(\n",
        "#     hand_labeled_jaw_clinch_EEG,\n",
        "#     use_ptp=False,\n",
        "#     window_size=1.0,\n",
        "#     only_annotated=False,\n",
        "#     anno_descriptions=[\"BAD_JAW\"],  # None → keep any annotation label\n",
        "#     bins=120,\n",
        "#     log_y=False,\n",
        "# )"
      ]
    },
    {
      "cell_type": "code",
      "execution_count": null,
      "metadata": {},
      "outputs": [],
      "source": [
        "plot_channel_amplitude_histogram(\n",
        "    hand_labeled_jaw_clinch_EEG,\n",
        "    use_ptp=False,\n",
        "    only_annotated=False,          # keep only selected annotations\n",
        "    anno_descriptions=[\"BAD_JAW\"],\n",
        "    reject_by_annotation=False,   # <-- keep BAD samples!\n",
        "    bins=120,\n",
        "    log_y=False,\n",
        ")\n"
      ]
    },
    {
      "cell_type": "code",
      "execution_count": null,
      "metadata": {},
      "outputs": [],
      "source": [
        "raw_eeg = deepcopy(hand_labeled_jaw_clinch_EEG)\n",
        "\n",
        "# Apply band-pass filter (1-35Hz) and re-reference the raw signal\n",
        "eeg = raw_eeg.copy().filter(1, 35, verbose=False)\n",
        "eeg = nk.eeg_rereference(eeg, \"average\")\n",
        "\n",
        "nk.signal_plot(\n",
        "    [raw_eeg.get_data()[0, 0:500], eeg.get_data()[0, 0:500]],\n",
        "    labels=[\"Raw\", \"Preprocessed\"],\n",
        "    sampling_rate=eeg.info[\"sfreq\"],\n",
        ")\n",
        "\n"
      ]
    },
    {
      "cell_type": "code",
      "execution_count": null,
      "metadata": {},
      "outputs": [],
      "source": [
        "reject_criteria = dict(\n",
        "    mag=3000e-15,  # 3000 fT\n",
        "    grad=3000e-13,  # 3000 fT/cm\n",
        "    eeg=100e-6,  # 100 µV\n",
        "    eog=200e-6,\n",
        ")  # 200 µV\n",
        "\n",
        "flat_criteria = dict(mag=1e-15, grad=1e-13, eeg=1e-6)  # 1 fT  # 1 fT/cm  # 1 µV\n",
        "epochs = mne.Epochs(\n",
        "    raw_eeg,\n",
        "    None,\n",
        "    tmin=-0.2,\n",
        "    tmax=0.5,\n",
        "    reject_tmax=0,\n",
        "    reject=reject_criteria,\n",
        "    flat=flat_criteria,\n",
        "    reject_by_annotation=False,\n",
        "    preload=True,\n",
        ")\n",
        "epochs.plot_drop_log()"
      ]
    },
    {
      "cell_type": "code",
      "execution_count": null,
      "metadata": {},
      "outputs": [],
      "source": [
        "\n",
        "## Try EOG -- fials due to lack of digitization points -- # RuntimeError: No digitization points found.\n",
        "eog_epochs = mne.preprocessing.create_eog_epochs(raw_eeg, ch_name=['AF3', 'AF4'], baseline=(-0.5, -0.2)) ## use the EEG channels closest to the eyes\n",
        "eog_epochs.plot_image(combine=\"mean\")\n",
        "eog_epochs.average().plot_joint()\n",
        "\n",
        "# The following electrodes have overlapping positions, which causes problems during visualization: T7, T8"
      ]
    },
    {
      "cell_type": "code",
      "execution_count": null,
      "metadata": {},
      "outputs": [],
      "source": [
        "df.min(), df.max()\n"
      ]
    },
    {
      "cell_type": "code",
      "execution_count": null,
      "metadata": {},
      "outputs": [],
      "source": [
        "from mne.channels.montage import DigMontage\n",
        "from phoofflineeeganalysis.analysis.anatomy_and_electrodes import ElectrodeHelper\n",
        "\n",
        "electrode_pos_parent_folder: Path = Path(\"E:/Dropbox (Personal)/Hardware/Consumer EEG Headsets/Emotiv Epoc EEG/ElectrodeLayouts\").resolve()\n",
        "electrode_positions_path: Path = electrode_pos_parent_folder.joinpath('ElectrodePositions_2025-08-14', 'brainstorm_electrode_positions_PhoHAle_eeg_subjectspacemm.tsv')\n",
        "\n",
        "active_electrode_man: ElectrodeHelper = ElectrodeHelper.init_EpocX_montage(electrode_positions_path=electrode_positions_path)\n",
        "emotiv_epocX_montage: DigMontage = active_electrode_man.active_montage\n",
        "\n",
        "# Just create montage from your electrode positions\n",
        "print(\"Montage created successfully!\")\n",
        "print(f\"Channel names: {emotiv_epocX_montage.ch_names}\")\n",
        "# Visualize the montage\n",
        "# ElectrodeHelper.visualize_montage(emotiv_epocX_montage)\n"
      ]
    },
    {
      "cell_type": "markdown",
      "metadata": {},
      "source": [
        "## Single Calibration Motion recording to determine Quaternions:\n"
      ]
    },
    {
      "cell_type": "code",
      "execution_count": null,
      "metadata": {},
      "outputs": [],
      "source": [
        "from phoofflineeeganalysis.analysis.historical_data import HistoricalData\n",
        "\n",
        "\n",
        "reference_EmotivEpocX_Headset_motion_file = Path(r\"E:\\Dropbox (Personal)\\Databases\\UnparsedData\\EmotivEpocX_EEGRecordings\\MOTION_RECORDINGS\\fif\\20250812-061030-Epoc X Motion-raw.fif\").resolve()\n",
        "assert reference_EmotivEpocX_Headset_motion_file.exists()\n",
        "\n",
        "constrain_channels = ['AccX', 'AccY', 'AccZ', 'GyroX', 'GyroY', 'GyroZ']\n",
        "\n",
        "# adds the quaternion channels: ['qw', 'qx', 'qy', 'qz'] to the dataframe\n",
        "\n",
        "raw = read_raw(reference_EmotivEpocX_Headset_motion_file, preload=False)\n",
        "metadata_recording_start_datetime = raw.info.get('meas_date', None)\n",
        "if metadata_recording_start_datetime is None:\n",
        "    parsed_recording_start_datetime = HistoricalData.extract_datetime_from_filename(reference_EmotivEpocX_Headset_motion_file.name)\n",
        "    metadata_recording_start_datetime = parsed_recording_start_datetime\n",
        "    if True:                \n",
        "        # Make timezone-aware (UTC)\n",
        "        # dt = dt.rerawe(tzinfo=timezone.utc)\n",
        "        raw.info.set_meas_date(deepcopy(parsed_recording_start_datetime).replace(tzinfo=timezone.utc))\n",
        "        ## WAS UPDATED, probably need to re-save or something\n",
        "        meas_datetime = raw.info['meas_date']\n",
        "    else:\n",
        "        ## don't set it, but still use the parsed datetime\n",
        "        meas_datetime = deepcopy(parsed_recording_start_datetime).replace(tzinfo=timezone.utc) # raw.info['meas_date']  # This is an absolute datetime or tuple (timestamp, 0)\n",
        "\n",
        "else:                    \n",
        "    meas_datetime = raw.info['meas_date']  # This is an absolute datetime or tuple (timestamp, 0)\n",
        "\n",
        "\n",
        "raw_df: pd.DataFrame = raw.to_data_frame(picks=constrain_channels)\n",
        "data, times = raw.get_data(picks=constrain_channels, return_times=True)\n",
        "\n",
        "# Convert relative times to absolute timestamps (in seconds since epoch)\n",
        "start_time = meas_datetime.timestamp() if hasattr(meas_datetime, 'timestamp') else meas_datetime[0]\n",
        "abs_times = start_time + times\n",
        "\n",
        "raw_df['timestamp'] = abs_times\n",
        "raw_df['timestamp_dt'] = pd.to_datetime(raw_df['timestamp'], unit='s') ## add datetime column\n",
        "# Sort by column: 'timestamp_dt' (ascending)\n",
        "raw_df = raw_df.sort_values(['timestamp_dt'], na_position='first').reset_index(drop=True)\n",
        "\n",
        "## Estimate Quaternions from motion data:\n",
        "raw_df = MotionData.compute_quaternions(raw_df)\n",
        "raw_df\n",
        "\n",
        "# raw_df.to_csv('reference_pos_df_concatenated.csv', index=False)\n",
        "raw_df"
      ]
    },
    {
      "cell_type": "code",
      "execution_count": null,
      "metadata": {},
      "outputs": [],
      "source": [
        "\n",
        "raw.plot(duration=raw.times[-1], n_channels=len(raw.ch_names))\n"
      ]
    },
    {
      "cell_type": "code",
      "execution_count": null,
      "metadata": {},
      "outputs": [],
      "source": [
        "import matplotlib.pyplot as plt\n",
        "from mpl_toolkits.mplot3d import Axes3D\n",
        "from phoofflineeeganalysis.analysis.motion_data import MotionData\n",
        "\n",
        "# Usage:\n",
        "MotionData.plot_3d_orientation(raw_df, step=20)\n"
      ]
    },
    {
      "cell_type": "code",
      "execution_count": null,
      "metadata": {},
      "outputs": [],
      "source": [
        "raw_df.head().to_clipboard()"
      ]
    },
    {
      "cell_type": "code",
      "execution_count": null,
      "metadata": {},
      "outputs": [],
      "source": [
        "raw.plot()"
      ]
    },
    {
      "cell_type": "code",
      "execution_count": null,
      "metadata": {},
      "outputs": [],
      "source": [
        "# data.info['meas_date']\n",
        "# data.get_parsed_recording_start_datetime\n",
        "# data.annotations\n",
        "# data"
      ]
    },
    {
      "cell_type": "code",
      "execution_count": null,
      "metadata": {},
      "outputs": [],
      "source": [
        "## Files in `WhisperVideoTranscripts_LSL_Converted` are transcripts generated by the `whisper-timestamped` repo's `transcript_to_lsl.py`, which translates spoken diction notes into LSL text events. \n",
        "# # Example filenames include:\n",
        "# \"E:/Dropbox (Personal)/Databases/UnparsedData/WhisperVideoTranscripts_LSL_Converted/Debut_2025-08-07T095548.words.lsl.fif\",\n",
        "# \"E:/Dropbox (Personal)/Databases/UnparsedData/WhisperVideoTranscripts_LSL_Converted/Debut_2025-08-06T185509.words.lsl.fif\",\n",
        "# \"E:/Dropbox (Personal)/Databases/UnparsedData/WhisperVideoTranscripts_LSL_Converted/Debut_2025-08-06T153648.words.lsl.fif\",\n",
        "# \"E:/Dropbox (Personal)/Databases/UnparsedData/WhisperVideoTranscripts_LSL_Converted/Debut_2025-08-06T151856.words.lsl.fif\",\n",
        "# \"E:/Dropbox (Personal)/Databases/UnparsedData/WhisperVideoTranscripts_LSL_Converted/Debut_2025-08-07T185504.words.lsl.fif\",\n",
        "# \"E:/Dropbox (Personal)/Databases/UnparsedData/WhisperVideoTranscripts_LSL_Converted/Debut_2025-08-07T150021.words.lsl.fif\",\n",
        "\n",
        "WhisperVideoTranscripts_LSL_Converted = Path(r\"E:/Dropbox (Personal)/Databases/UnparsedData/WhisperVideoTranscripts_LSL_Converted\").resolve()\n",
        "\n",
        "\n"
      ]
    },
    {
      "cell_type": "code",
      "execution_count": null,
      "metadata": {},
      "outputs": [],
      "source": [
        "eeg_recordings_file_path"
      ]
    },
    {
      "cell_type": "markdown",
      "metadata": {},
      "source": [
        "# EEG Sonification"
      ]
    },
    {
      "cell_type": "code",
      "execution_count": null,
      "metadata": {},
      "outputs": [],
      "source": [
        "import sounddevice as sd\n",
        "\n",
        "def play_sine(frequency, duration=1, sample_rate=44100):\n",
        "    t = np.linspace(0, duration, int(sample_rate * duration), endpoint=False)\n",
        "    sine_wave = 0.5 * np.sin(2 * np.pi * frequency * t)\n",
        "    sd.play(sine_wave, sample_rate)\n",
        "    sd.wait()  # Wait until playback is finished\n",
        "\n",
        "# Example: Play a 440 Hz tone for 2 seconds\n",
        "play_sine(440, duration=2)\n",
        "\n"
      ]
    },
    {
      "cell_type": "code",
      "execution_count": null,
      "metadata": {},
      "outputs": [],
      "source": [
        "import time\n",
        "from pysinewave import SineWave\n",
        "\n",
        "sinewave = SineWave(pitch=12, pitch_per_second=10)\n",
        "sinewave.play()\n",
        "time.sleep(2)\n",
        "sinewave.set_pitch(-5)\n",
        "time.sleep(3)\n"
      ]
    },
    {
      "cell_type": "code",
      "execution_count": null,
      "metadata": {},
      "outputs": [],
      "source": [
        "sinewave.stop()"
      ]
    },
    {
      "cell_type": "markdown",
      "metadata": {},
      "source": [
        "# 2025-09-18 - LabRecorder XDF Imports"
      ]
    },
    {
      "cell_type": "code",
      "execution_count": null,
      "metadata": {
        "tags": [
          "run_group_xdf_only"
        ]
      },
      "outputs": [],
      "source": [
        "from phoofflineeeganalysis.analysis.EEG_data import EEGData\n",
        "from phoofflineeeganalysis.analysis.MNE_helpers import DatasetDatetimeBoundsRenderingMixin, RawArrayExtended, RawExtended, up_convert_raw_objects, up_convert_raw_obj\n",
        "from phoofflineeeganalysis.analysis.SavedSessionsProcessor import LabRecorderXDF, unwrap_single_element_listlike_if_needed\n",
        "\n",
        "\n",
        "lab_recorder_output_path = Path(r\"E:\\Dropbox (Personal)\\Databases\\UnparsedData\\LabRecorderStudies\\sub-P001\").resolve()\n",
        "assert lab_recorder_output_path.exists()\n",
        "\n",
        "labRecorder_PostProcessed_path: Path = sso.eeg_analyzed_parent_export_path.joinpath(f'LabRecorder_PostProcessed')\n",
        "labRecorder_PostProcessed_path.mkdir(exist_ok=True)\n",
        "\n",
        "should_write_final_merged_eeg_fif: bool = True\n",
        "# should_write_final_merged_eeg_fif: bool = False\n",
        "_out_eeg_raw, _out_xdf_stream_infos_df, lab_recorder_xdf_files = LabRecorderXDF.load_and_process_all(lab_recorder_output_path=lab_recorder_output_path, \n",
        "                                                                                                     labRecorder_PostProcessed_path=labRecorder_PostProcessed_path, should_write_final_merged_eeg_fif=should_write_final_merged_eeg_fif)\n",
        "xdf_dataset_indicies = np.unique(deepcopy(_out_xdf_stream_infos_df).reset_index(drop=False, inplace=False)['xdf_dataset_idx'].to_numpy())\n",
        "n_unique_xdf_datasets: int = len(xdf_dataset_indicies)\n",
        "print(f'n_unique_xdf_datasets: {n_unique_xdf_datasets}')\n"
      ]
    },
    {
      "cell_type": "code",
      "execution_count": null,
      "metadata": {},
      "outputs": [],
      "source": [
        "len(_out_xdf_stream_infos_df)\n",
        "_out_xdf_stream_infos_df.loc[0]"
      ]
    },
    {
      "cell_type": "code",
      "execution_count": null,
      "metadata": {},
      "outputs": [],
      "source": [
        "_out_eeg_raw"
      ]
    },
    {
      "cell_type": "markdown",
      "metadata": {},
      "source": [
        "# Run Batch Computations on `_out_eeg_raw`"
      ]
    },
    {
      "cell_type": "code",
      "execution_count": null,
      "metadata": {},
      "outputs": [],
      "source": [
        "num_sessions: int = len(_out_eeg_raw)\n",
        "num_sessions\n",
        "\n",
        "\n",
        "results_dict = {}\n",
        "\n",
        "for an_xdf_dataset_idx in np.arange(num_sessions):\n",
        "    a_raw = deepcopy(_out_eeg_raw[an_xdf_dataset_idx])\n",
        "    a_raw.down_convert_to_base_type()\n",
        "    results_dict[an_xdf_dataset_idx] "
      ]
    },
    {
      "cell_type": "markdown",
      "metadata": {},
      "source": [
        "## Common Setup"
      ]
    },
    {
      "cell_type": "code",
      "execution_count": null,
      "metadata": {},
      "outputs": [],
      "source": [
        "a_raw = deepcopy(_out_eeg_raw[-3])\n",
        "a_raw.down_convert_to_base_type()"
      ]
    },
    {
      "cell_type": "code",
      "execution_count": null,
      "metadata": {},
      "outputs": [],
      "source": [
        "## INPUT: fixed_len_epochs\n",
        "freqs = np.arange(5., 40., 1.0)\n",
        "# Define frequencies and number of cycles\n",
        "# freqs = np.logspace(*np.log10([2, 40]), num=20)\n",
        "n_cycles = freqs / 2.0 # A common approach is to use a fixed number of cycles or a value that increases with frequency.\n",
        "\n",
        "freqs\n",
        "n_cycles"
      ]
    },
    {
      "cell_type": "code",
      "execution_count": null,
      "metadata": {},
      "outputs": [],
      "source": [
        "from pyphoplacecellanalysis.GUI.PyQtPlot.BinnedImageRenderingWindow import BasicBinnedImageRenderingWindow, LayoutScrollability\n"
      ]
    },
    {
      "cell_type": "markdown",
      "metadata": {},
      "source": [
        "### Fixed Length Epoch-based:"
      ]
    },
    {
      "cell_type": "code",
      "execution_count": null,
      "metadata": {},
      "outputs": [],
      "source": [
        "from phoofflineeeganalysis.analysis.MNE_helpers import RawExtended, RawArrayExtended\n",
        "\n",
        "## INPUT: a_raw\n",
        "fixed_len_epochs = mne.make_fixed_length_epochs(a_raw, duration=8, preload=True, reject_by_annotation=False)\n",
        "fixed_len_epochs\n",
        "\t"
      ]
    },
    {
      "cell_type": "code",
      "execution_count": null,
      "metadata": {},
      "outputs": [],
      "source": [
        "## INPUT: fixed_len_epochs\n",
        "freqs = np.arange(5., 40., 1.0)\n",
        "\n",
        "# Define frequencies and number of cycles\n",
        "# freqs = np.logspace(*np.log10([2, 40]), num=20)\n",
        "n_cycles = freqs / 2.0 # A common approach is to use a fixed number of cycles or a value that increases with frequency.\n",
        "\n",
        "# n_cycles = np.linspace(3,10,len(freqs))\n"
      ]
    },
    {
      "cell_type": "code",
      "execution_count": null,
      "metadata": {},
      "outputs": [],
      "source": [
        "\n",
        "\n",
        "# Compute time-frequency power using Morlet wavelets -- NO EPOCHS, RAW DATA\n",
        "# power = a_raw.compute_tfr(method=\"morlet\",\n",
        "power = mne.time_frequency.tfr_morlet(\n",
        "    fixed_len_epochs,\n",
        "    freqs=freqs,\n",
        "    n_cycles=n_cycles,\n",
        "    return_itc=False,\n",
        "    average=False, # Compute TFR on continuous data without averaging\n",
        "    # average=True, # Compute TFR on continuous data without averaging\n",
        "    decim=3, # Decimate the output for faster computation and smaller file size\n",
        "    n_jobs=-1 # Use 1 core for this example\n",
        ")\n",
        "power"
      ]
    },
    {
      "cell_type": "code",
      "execution_count": null,
      "metadata": {},
      "outputs": [],
      "source": [
        "## Array version:\n",
        "from mne.time_frequency import tfr_array_morlet\n",
        "\n",
        "# get raw data (channels × time)\n",
        "data = fixed_len_epochs.get_data() # shape: (n_epochs, n_channels, n_times)\n",
        "print(f'np.shape(data): {np.shape(data)}')\n",
        "# run morlet on continuous data\n",
        "power: NDArray = tfr_array_morlet(\n",
        "    data=data,\n",
        "    sfreq=fixed_len_epochs.info['sfreq'],\n",
        "    freqs=freqs,\n",
        "    n_cycles=n_cycles,\n",
        "    output='power',\n",
        "    decim=3,\n",
        "    n_jobs=-1\n",
        ")\n",
        "\n",
        "# power shape: (n_epochs=1, n_channels, n_freqs, n_times)\n",
        "power = np.squeeze(power) ## remove epoch\n",
        "print(f'np.shape(power): {np.shape(power)}')\n",
        "\n",
        "# np.shape(data): (593, 14, 1024)\n",
        "# np.shape(power): (593, 14, 20, 342)"
      ]
    },
    {
      "cell_type": "code",
      "execution_count": null,
      "metadata": {},
      "outputs": [],
      "source": [
        "import h5py\n",
        "\n",
        "repo_data_folder_path = Path(r\"C:\\Users\\pho\\repos\\EmotivEpoc\\PhoLabStreamingReceiver\\data\").resolve()\n",
        "\n",
        "h5_file_path = repo_data_folder_path.joinpath(f'2025-09-21_exported_sess.h5').resolve()\n",
        "\n",
        "print(f'writing to \"{h5_file_path.as_posix()}\"')\n",
        "\n",
        "# raw_data = a_raw.get_data() # (14, 607857)\n",
        "# np.shape(raw_data)\n"
      ]
    },
    {
      "cell_type": "code",
      "execution_count": null,
      "metadata": {},
      "outputs": [],
      "source": [
        "with h5py.File(h5_file_path, \"w\") as f:\n",
        "    \n",
        "    d0 = f.create_dataset(\"raw\", data=raw_data)\n",
        "    d0.attrs[\"dim_labels\"] = [\"channels\", \"time\"]\n",
        "\n",
        "    d1 = f.create_dataset(\"epoched\", data=data)\n",
        "    d1.attrs[\"dim_labels\"] = [\"epochs\", \"channels\", \"time\"]\n",
        "\n",
        "    d2 = f.create_dataset(\"power\", data=power)\n",
        "    d2.attrs[\"dim_labels\"] = [\"epochs\", \"channels\", \"time\", \"frequency\"]\n",
        "\n",
        "\n",
        "print(f'done! wrote to \"{h5_file_path.as_uri()}\"')"
      ]
    },
    {
      "cell_type": "code",
      "execution_count": null,
      "metadata": {},
      "outputs": [],
      "source": [
        "n_epochs, n_channels, n_freqs, n_t_steps = np.shape(power)\n",
        "\n",
        "ch_idx: int = 0\n",
        "single_channel_power_data: NDArray = np.squeeze(power[:, ch_idx, :, :]) # (n_epochs, n_freqs, n_t_steps)\n",
        "\n",
        "\n",
        "# epoch_idx: int = 1\n",
        "# single_channel_power_data: NDArray = np.squeeze(power[epoch_idx, ch_idx, :, :]) # (n_epochs, n_freqs, n_t_steps)\n",
        "\n",
        "# n_epochs, n_freqs, n_t_steps = np.shape(single_channel_power_data)\n",
        "\n",
        "np.shape(single_channel_power_data) # (n_epochs, n_freqs, n_t_steps)\n"
      ]
    },
    {
      "cell_type": "code",
      "execution_count": null,
      "metadata": {},
      "outputs": [],
      "source": [
        "## time subset\n",
        "active_epoch_idx: int = 1\n",
        "# single_channel_single_time_range_power_data = single_channel_power_data[:, start_t:(start_t + active_n_t_steps)]\n",
        "# n_freqs, active_n_t_steps = np.shape(single_channel_single_time_range_power_data)\n",
        "# print(f'active_n_t_steps: {active_n_t_steps}')\n",
        "\n",
        "single_channel_single_epoch_power_data = single_channel_power_data[active_epoch_idx, :, :]\n",
        "n_freqs, active_n_t_steps = np.shape(single_channel_single_epoch_power_data)\n",
        "print(f'single_channel_single_epoch_power_data: {np.shape(single_channel_single_epoch_power_data)}')\n",
        "\n",
        "n_freqs\n",
        "active_n_t_steps"
      ]
    },
    {
      "cell_type": "code",
      "execution_count": null,
      "metadata": {},
      "outputs": [],
      "source": [
        "single_channel_single_epoch_power_data\n",
        "\n",
        "np.ptp(single_channel_single_epoch_power_data)\n",
        "\n",
        "np.nanmin(single_channel_single_epoch_power_data), np.nanmax(single_channel_single_epoch_power_data)\n",
        "\n",
        "# import numpy as np\n",
        "# import matplotlib.pyplot as plt\n",
        "\n",
        "# data = np.random.randn(10000) * 2\n",
        "# data[::1000] = 1000  # inject outliers\n",
        "\n",
        "arr = deepcopy(single_channel_single_epoch_power_data)\n",
        "\n",
        "vmin, vmax = np.percentile(arr, [1, 99])  # clip extremes\n",
        "plt.hist(np.clip(arr, vmin, vmax), bins=100)\n",
        "plt.show()\n",
        "\n"
      ]
    },
    {
      "cell_type": "code",
      "execution_count": null,
      "metadata": {},
      "outputs": [],
      "source": [
        "import napari\n",
        "# Example 4D array: (time, z, y, x)\n",
        "\n",
        "viewer = napari.Viewer()\n",
        "# viewer.add_image(raw_data, name='raw_data', channel_axis=None)  # no channel axis\n",
        "# viewer.add_image(data, name='epoched', channel_axis=None)  # no channel axis\n",
        "# viewer.add_image(power, name='power', channel_axis=None)  # no channel axis\n",
        "\n",
        "viewer.add_image(single_channel_single_epoch_power_data, name='single_channel_single_epoch_power_data', channel_axis=None)  # no channel axis\n",
        "\n",
        "napari.run()\n"
      ]
    },
    {
      "cell_type": "code",
      "execution_count": null,
      "metadata": {},
      "outputs": [],
      "source": [
        "fig, ax = plt.subplots(1, 1, figsize=(15, 5), sharey=True, layout=\"constrained\", num='Continuous Wavelet: single_channel_single_time_range_power_data')\n",
        "# ax.imshow(single_channel_single_epoch_power_data, cmap='viridis')\n",
        "# ax.matshow(single_channel_single_epoch_power_data, vmin=0, vmax=1, cmap='viridis')\n",
        "# min_max_kwargs = dict(vmin=np.nanmin(single_channel_single_epoch_power_data), vmax=np.nanmax(single_channel_single_epoch_power_data))\n",
        "min_max_kwargs = dict(vmin=np.nanmin(single_channel_single_epoch_power_data), vmax=3.0)\n",
        "\n",
        "ax.matshow(single_channel_single_epoch_power_data, **min_max_kwargs, cmap='viridis')\n",
        "fig.show()"
      ]
    },
    {
      "cell_type": "code",
      "execution_count": null,
      "metadata": {},
      "outputs": [],
      "source": [
        "import pyqtgraph as pg\n",
        "\n",
        "app = pg.mkQApp('WaveletPlotter- Epochs Based')\n",
        "win = pg.GraphicsLayoutWidget()\n",
        "plot = win.addPlot()\n",
        "plot.showGrid(x=True, y=True)\n",
        "\n",
        "# disable vertical panning/zooming\n",
        "plot.setMouseEnabled(x=True, y=False)\n",
        "\n",
        "# apply viridis colormap\n",
        "cmap = pg.colormap.get('viridis')\n",
        "img = pg.ImageItem(single_channel_single_epoch_power_data.T)\n",
        "img.setLookupTable(cmap.getLookupTable(0.0, 1.0, 256))\n",
        "\n",
        "plot.addItem(img)\n",
        "\n",
        "# auto-range to image\n",
        "plot.setAspectLocked(False)\n",
        "plot.getViewBox().autoRange()\n",
        "\n",
        "# fix y-range to image bounds\n",
        "y_min, y_max = 0, data.shape[0]\n",
        "plot.setYRange(y_min, y_max, padding=0)\n",
        "plot.vb.setLimits(yMin=y_min, yMax=y_max)\n",
        "\n",
        "win.show()\n"
      ]
    },
    {
      "cell_type": "code",
      "execution_count": null,
      "metadata": {},
      "outputs": [],
      "source": [
        "pg.image(single_channel_single_epoch_power_data.T)"
      ]
    },
    {
      "cell_type": "code",
      "execution_count": null,
      "metadata": {},
      "outputs": [],
      "source": [
        "pg.image(single_channel_power_data.T)"
      ]
    },
    {
      "cell_type": "markdown",
      "metadata": {},
      "source": [
        "### Raw (NO EPOCHS, RAW DATA)"
      ]
    },
    {
      "cell_type": "code",
      "execution_count": null,
      "metadata": {},
      "outputs": [],
      "source": [
        "# from mne.time_frequency import psd_welch\n",
        "from mne.time_frequency import psd_array_welch, psd_array_multitaper, Spectrum\n",
        "## INPUT: a_raw\n",
        "\n",
        "# define conventional EEG bands\n",
        "bands = {'delta': (1,4), 'theta': (4,8), 'alpha': (8,13), 'beta': (13,30), 'gamma': (30,40)}\n"
      ]
    },
    {
      "cell_type": "code",
      "execution_count": null,
      "metadata": {},
      "outputs": [],
      "source": [
        "from mne.time_frequency import psd_array_welch\n",
        "import numpy as np\n",
        "\n",
        "raw_data = a_raw.get_data()  # (n_channels, n_times)\n",
        "sfreq = a_raw.info['sfreq']\n",
        "\n",
        "# Welch PSD\n",
        "psds, freqs = psd_array_welch(raw_data, sfreq=sfreq, fmin=1, fmax=40,\n",
        "                              n_fft=2048, n_overlap=1024, n_per_seg=2048, verbose=True)\n",
        "\n",
        "# Conventional EEG bands\n",
        "bands = {'delta': (1,4), 'theta': (4,8), 'alpha': (8,13), 'beta': (13,30), 'gamma': (30,40)}\n",
        "band_power = {b: psds[:, (freqs>=fmin)&(freqs<fmax)].mean(axis=1) for b,(fmin,fmax) in bands.items()}\n",
        "\n",
        "# band_power[b] is (n_channels,) array\n",
        "\n",
        "band_power"
      ]
    },
    {
      "cell_type": "code",
      "execution_count": null,
      "metadata": {},
      "outputs": [],
      "source": [
        "# compute PSD for all channels (continuous)\n",
        "psds, freqs = psd_welch(a_raw, fmin=1, fmax=40, n_fft=2048, n_overlap=1024, n_per_seg=2048, average='mean')\n",
        "\n",
        "# compute average band power\n",
        "band_power = {b: psds[:, (freqs>=fmin)&(freqs<fmax)].mean(axis=1) for b,(fmin,fmax) in bands.items()}\n",
        "\n",
        "## OUTPUTS: band_power\n"
      ]
    },
    {
      "cell_type": "code",
      "execution_count": null,
      "metadata": {},
      "outputs": [],
      "source": [
        "# a_spectrum: Spectrum = a_raw.compute_psd(method=\"welch\", fmin=1, fmax=40) # , picks=\"eeg\", tmin=10, tmax=200\n",
        "a_spectrum: Spectrum  = a_raw.compute_psd(method='welch', fmin=1, fmax=40, n_fft=2048, n_overlap=1024, n_per_seg=2048, average='mean')\n",
        "psds = a_spectrum.get_data()  # shape: (n_channels, n_freqs)\n",
        "freqs = a_spectrum.freqs\n"
      ]
    },
    {
      "cell_type": "code",
      "execution_count": null,
      "metadata": {},
      "outputs": [],
      "source": [
        "\n",
        "band_power = {b: psds[:, (freqs>=fmin)&(freqs<fmax)].mean(axis=1) for b,(fmin,fmax) in bands.items()}\n",
        "\n"
      ]
    },
    {
      "cell_type": "code",
      "execution_count": null,
      "metadata": {},
      "outputs": [],
      "source": [
        "from phoofflineeeganalysis.analysis.MNE_helpers import RawExtended, RawArrayExtended\n",
        "\n",
        "## INPUT: a_raw\n",
        "print(\"Pre-computing all CWTs... (this may take a moment)\")\n",
        "\n",
        "# Compute time-frequency power using Morlet wavelets -- NO EPOCHS, RAW DATA\n",
        "# power = a_raw.compute_tfr(method=\"morlet\",\n",
        "power = mne.time_frequency.tfr_morlet(\n",
        "    a_raw,\n",
        "    freqs=freqs,\n",
        "    n_cycles=n_cycles,\n",
        "    return_itc=False,\n",
        "    # average=False, # Compute TFR on continuous data without averaging\n",
        "    # average=True, # Compute TFR on continuous data without averaging\n",
        "    decim=3, # Decimate the output for faster computation and smaller file size\n",
        "    n_jobs=-1 # Use 1 core for this example\n",
        ")\n",
        "power"
      ]
    },
    {
      "cell_type": "code",
      "execution_count": null,
      "metadata": {},
      "outputs": [],
      "source": [
        "from mne.time_frequency import tfr_array_morlet\n",
        "\n",
        "# get raw data (channels × time)\n",
        "data = a_raw.get_data()[np.newaxis, ...]  # shape: (n_epochs=1, n_channels, n_times)\n",
        "\n",
        "# run morlet on continuous data\n",
        "power: NDArray = tfr_array_morlet(\n",
        "    data=data,\n",
        "    sfreq=a_raw.info['sfreq'],\n",
        "    freqs=freqs,\n",
        "    n_cycles=n_cycles,\n",
        "    output='power',\n",
        "    decim=3,\n",
        "    n_jobs=-1\n",
        ")\n",
        "\n",
        "# power shape: (n_epochs=1, n_channels, n_freqs, n_times)\n",
        "power = np.squeeze(power) ## remove epoch\n",
        "print(f'np.shape(power): {np.shape(power)}')"
      ]
    },
    {
      "cell_type": "code",
      "execution_count": null,
      "metadata": {},
      "outputs": [],
      "source": [
        "n_channels, n_freqs, n_t_steps = np.shape(power)\n",
        "\n",
        "ch_idx: int = 0\n",
        "single_channel_power_data: NDArray = np.squeeze(power[ch_idx, :, :]) # (n_freqs, n_t_steps)\n",
        "\n",
        "# n_freqs, n_t_steps = np.shape(single_channel_power_data)\n",
        "\n",
        "np.shape(single_channel_power_data) # (n_freqs, n_t_steps)\n"
      ]
    },
    {
      "cell_type": "code",
      "execution_count": null,
      "metadata": {},
      "outputs": [],
      "source": [
        "## time subset\n",
        "active_n_t_steps: int = 1000\n",
        "start_t = 2000\n",
        "single_channel_single_time_range_power_data = single_channel_power_data[:, start_t:(start_t + active_n_t_steps)]\n",
        "\n",
        "n_freqs, active_n_t_steps = np.shape(single_channel_single_time_range_power_data)\n",
        "\n",
        "print(f'active_n_t_steps: {active_n_t_steps}')\n",
        "n_t_steps"
      ]
    },
    {
      "cell_type": "code",
      "execution_count": null,
      "metadata": {},
      "outputs": [],
      "source": [
        "fig, ax = plt.subplots(1, 1, figsize=(15, 5), sharey=True, layout=\"constrained\", num='Continuous Wavelet: single_channel_single_time_range_power_data')\n",
        "ax.imshow(single_channel_single_time_range_power_data)\n",
        "fig.show()"
      ]
    },
    {
      "cell_type": "code",
      "execution_count": null,
      "metadata": {},
      "outputs": [],
      "source": [
        "import pyqtgraph as pg\n",
        "\n",
        "app = pg.mkQApp('WaveletPlotter')\n",
        "win = pg.GraphicsLayoutWidget()\n",
        "plot = win.addPlot()\n",
        "plot.showGrid(x=True, y=True)\n",
        "\n",
        "# disable vertical panning/zooming\n",
        "plot.setMouseEnabled(x=True, y=False)\n",
        "\n",
        "# apply viridis colormap\n",
        "cmap = pg.colormap.get('viridis')\n",
        "img = pg.ImageItem(single_channel_power_data.T)\n",
        "img.setLookupTable(cmap.getLookupTable(0.0, 1.0, 256))\n",
        "\n",
        "plot.addItem(img)\n",
        "\n",
        "# auto-range to image\n",
        "plot.setAspectLocked(False)\n",
        "plot.getViewBox().autoRange()\n",
        "\n",
        "# fix y-range to image bounds\n",
        "y_min, y_max = 0, data.shape[0]\n",
        "plot.setYRange(y_min, y_max, padding=0)\n",
        "plot.vb.setLimits(yMin=y_min, yMax=y_max)\n",
        "\n",
        "win.show()\n"
      ]
    },
    {
      "cell_type": "code",
      "execution_count": null,
      "metadata": {},
      "outputs": [],
      "source": [
        "pg.image(single_channel_single_time_range_power_data.T)"
      ]
    },
    {
      "cell_type": "code",
      "execution_count": null,
      "metadata": {},
      "outputs": [],
      "source": [
        "pg.image(single_channel_power_data.T)"
      ]
    },
    {
      "cell_type": "code",
      "execution_count": null,
      "metadata": {},
      "outputs": [],
      "source": [
        "# from pyphoplacecellanalysis.GUI.PyQtPlot.BinnedImageRenderingWindow import BasicBinnedImageRenderingWindow, LayoutScrollability\n",
        "# out = BasicBinnedImageRenderingWindow(single_channel_power_data.T, np.arange(n_t_steps), freqs, name='single_channel_power', title=\"single_channel_power (n_channels, n_freqs, n_t_steps)\", variable_label='single_channel_power')\n",
        "out = BasicBinnedImageRenderingWindow(single_channel_single_time_range_power_data.T, np.arange(active_n_t_steps), freqs, name='single_channel_power', title=\"single_channel_power (n_channels, n_freqs, n_t_steps)\", variable_label='single_channel_power')\n"
      ]
    },
    {
      "cell_type": "code",
      "execution_count": null,
      "metadata": {},
      "outputs": [],
      "source": [
        "# Plot the average power across all EEG channels\n",
        "power.plot_topo(\n",
        "    baseline=(None, 0), # Optional: Set baseline for normalization\n",
        "    mode='logratio',\n",
        "    title='Average power',\n",
        "    cmap='viridis',\n",
        ")\n",
        "plt.show()\n",
        "\n",
        "# Plot the power for a specific channel\n",
        "channel_name = a_raw.ch_names[0]\n",
        "power.plot(\n",
        "    picks=[channel_name],\n",
        "    combine='mean',\n",
        "    baseline=(None, 0),\n",
        "    mode='logratio',\n",
        "    title=f'Power for channel {channel_name}',\n",
        ")\n",
        "plt.show()\n"
      ]
    },
    {
      "cell_type": "markdown",
      "metadata": {},
      "source": [
        "## GPT 2025-09-21 4:22pm"
      ]
    },
    {
      "cell_type": "code",
      "execution_count": null,
      "metadata": {},
      "outputs": [],
      "source": [
        "from mne.time_frequency import tfr_array_morlet\n",
        "\n",
        "# continuous data: (n_channels, n_times)\n",
        "raw_data = a_raw.get_data()\n",
        "print(f'raw_data.shape: {raw_data.shape}')\n",
        "\n",
        "freqs = np.logspace(*np.log10([2, 40]), num=20)\n",
        "n_cycles = np.linspace(3, 10, len(freqs))  # better low-freq resolution\n",
        "\n",
        "power = tfr_array_morlet(\n",
        "    data=raw_data[np.newaxis, ...],  # add epoch axis -> (1, n_channels, n_times)\n",
        "    sfreq=a_raw.info['sfreq'],\n",
        "    freqs=freqs,\n",
        "    n_cycles=n_cycles,\n",
        "    output='power',\n",
        "    decim=3,\n",
        "    n_jobs=-1\n",
        ")\n",
        "\n",
        "# shape: (1, n_channels, n_freqs, n_times)\n",
        "power = np.squeeze(power)  # (n_channels, n_freqs, n_times)\n",
        "print(f'power.shape: {power.shape}')\n",
        "\n"
      ]
    },
    {
      "cell_type": "code",
      "execution_count": null,
      "metadata": {},
      "outputs": [],
      "source": [
        "# example: first channel\n",
        "ch_idx = 0\n",
        "channel_power = power[ch_idx]  # (n_freqs, n_times)\n",
        "\n",
        "plt.figure(num='WAVELET_dBPower', clear=True)\n",
        "plt.imshow(channel_power, aspect='auto', origin='lower',\n",
        "           extent=[0, channel_power.shape[1]/(a_raw.info['sfreq']/3), freqs[0], freqs[-1]])\n",
        "plt.yscale('log')\n",
        "plt.colorbar(label='Power')\n",
        "plt.xlabel('Time (s)')\n",
        "plt.ylabel('Frequency (Hz)')\n",
        "plt.show()\n"
      ]
    },
    {
      "cell_type": "code",
      "execution_count": null,
      "metadata": {},
      "outputs": [],
      "source": [
        "## INPUTS: a_raw, freqs, \n",
        "a_raw_hp = a_raw.copy().filter(l_freq=1.0, h_freq=None)\n",
        "power = tfr_array_morlet(data=a_raw_hp.get_data()[np.newaxis,...], sfreq=a_raw.info['sfreq'], freqs=freqs, n_cycles=np.linspace(3,10,len(freqs)), output='power', decim=1, n_jobs=1)\n",
        "power = np.squeeze(power); power_db = 10*np.log10(power+1e-12)\n",
        "np.shape(power)"
      ]
    },
    {
      "cell_type": "code",
      "execution_count": null,
      "metadata": {},
      "outputs": [],
      "source": [
        "# example: first channel\n",
        "ch_idx = 0\n",
        "channel_power = power[ch_idx]  # (n_freqs, n_times)\n",
        "\n",
        "import matplotlib.pyplot as plt\n",
        "plt.figure(num='highpass_WAVELET_dBPower', clear=True)\n",
        "plt.imshow(channel_power, aspect='auto', origin='lower',\n",
        "           extent=[0, channel_power.shape[1]/(a_raw.info['sfreq']/3), freqs[0], freqs[-1]])\n",
        "plt.yscale('log')\n",
        "plt.colorbar(label='Power')\n",
        "plt.xlabel('Time (s)')\n",
        "plt.ylabel('Frequency (Hz)')\n",
        "plt.show()\n",
        "\n"
      ]
    },
    {
      "cell_type": "markdown",
      "metadata": {},
      "source": [
        "### @@@@@@ THIS SPECTOGRAM LOOKS GREAT!"
      ]
    },
    {
      "cell_type": "code",
      "execution_count": null,
      "metadata": {},
      "outputs": [],
      "source": [
        "from scipy.signal import spectrogram\n",
        "\n",
        "## INPUTS: ch_idx: int\n",
        "\n",
        "f, t, Sxx = spectrogram(a_raw.get_data()[ch_idx], fs=a_raw.info['sfreq'], nperseg=1024, noverlap=512)\n",
        "\n",
        "plt.figure(num='spectrogram', clear=True)\n",
        "plt.pcolormesh(t, f, 10*np.log10(Sxx+1e-12), shading='auto'); plt.ylim([1,40])\n"
      ]
    },
    {
      "cell_type": "code",
      "execution_count": null,
      "metadata": {},
      "outputs": [],
      "source": []
    },
    {
      "cell_type": "code",
      "execution_count": null,
      "metadata": {},
      "outputs": [],
      "source": [
        "a_raw = deepcopy(_out_eeg_raw[-3])\n",
        "ch_names = deepcopy(a_raw.info.ch_names)\n",
        "# a_raw.down_convert_to_base_type()"
      ]
    },
    {
      "cell_type": "markdown",
      "metadata": {},
      "source": [
        "# ACTIVE: refine the active raws and compute them"
      ]
    },
    {
      "cell_type": "code",
      "execution_count": null,
      "metadata": {},
      "outputs": [],
      "source": [
        "from phoofflineeeganalysis.analysis.EEG_data import EEGComputations, EEGData\n",
        "from phoofflineeeganalysis.PendingNotebookCode import batch_compute_all_eeg_datasets, render_all_spectograms_to_high_quality_pdfs, plot_all_spectograms\n",
        "from phoofflineeeganalysis.PendingNotebookCode import plot_session_spectogram"
      ]
    },
    {
      "cell_type": "code",
      "execution_count": null,
      "metadata": {},
      "outputs": [],
      "source": [
        "len(_out_eeg_raw)"
      ]
    },
    {
      "cell_type": "code",
      "execution_count": null,
      "metadata": {},
      "outputs": [],
      "source": [
        "## INPUTS: _out_eeg_raw\n",
        "# Process only the last 5 datasets using 4 workers:\n",
        "active_only_out_eeg_raws, results = batch_compute_all_eeg_datasets(eeg_raws=_out_eeg_raw, limit_num_items=150, max_workers = 4)\n",
        "\n",
        "## OUTPUTS: active_only_out_eeg_raws, results\n",
        "# 1m 19.8s for 25 sessions"
      ]
    },
    {
      "cell_type": "code",
      "execution_count": null,
      "metadata": {},
      "outputs": [],
      "source": [
        "from phoofflineeeganalysis.analysis.SavedSessionsProcessor import XDFDataStreamAccessor\n",
        "\n",
        "num_sessions: int = len(results)\n",
        "num_sessions\n",
        "\n",
        "# xdf_stream_infos_df: pd.DataFrame = XDFDataStreamAccessor.init_from_results(_out_xdf_stream_infos_df=_out_xdf_stream_infos_df, active_only_out_eeg_raws=active_only_out_eeg_raws)\n",
        "xdf_stream_infos_df: pd.DataFrame = XDFDataStreamAccessor.init_from_results(_out_xdf_stream_infos_df=_out_xdf_stream_infos_df, active_only_out_eeg_raws=active_only_out_eeg_raws)\n",
        "# xdf_stream_infos_df: pd.DataFrame = XDFDataStreamAccessor.init_from_results(_out_xdf_stream_infos_df=_out_xdf_stream_infos_df[_out_xdf_stream_infos_df['name'] == 'Epoc X'], active_only_out_eeg_raws=active_only_out_eeg_raws)\n",
        "xdf_stream_infos_df"
      ]
    },
    {
      "cell_type": "code",
      "execution_count": null,
      "metadata": {},
      "outputs": [],
      "source": [
        "flat_annotations = []\n",
        "\n",
        "for an_xdf_dataset_idx in np.arange(num_sessions):\n",
        "    a_raw = active_only_out_eeg_raws[an_xdf_dataset_idx]\n",
        "    a_meas_date = a_raw.info.get('meas_date')\n",
        "    a_result = results[an_xdf_dataset_idx]\n",
        "    a_stream_info = deepcopy(_out_xdf_stream_infos_df).loc[an_xdf_dataset_idx]    \n",
        "    # print(f'i: {i}, a_meas_date: {a_meas_date}, a_stream_info: {a_stream_info}\\n\\n')\n",
        "    print(f'i: {an_xdf_dataset_idx}, a_meas_date: {a_meas_date}')\n",
        "    a_df = a_raw.annotations.to_data_frame(time_format='datetime')\n",
        "    a_df = a_df[a_df['description'] != 'BAD_motion']\n",
        "    a_df['xdf_dataset_idx'] = an_xdf_dataset_idx\n",
        "    flat_annotations.append(a_df)\n",
        "\n",
        "flat_annotations = pd.concat(flat_annotations, ignore_index=True)\n",
        "flat_annotations"
      ]
    },
    {
      "cell_type": "code",
      "execution_count": null,
      "metadata": {},
      "outputs": [],
      "source": [
        "flat_annotations['onset_str'] = flat_annotations['onset'].dt.strftime(\"%Y-%m-%d_%I:%M:%S.%f %p\")\n",
        "flat_annotations"
      ]
    },
    {
      "cell_type": "code",
      "execution_count": null,
      "metadata": {},
      "outputs": [],
      "source": [
        "# from pyphoplacecellanalysis.GUI.PyQtPlot.Widgets.SpikeRasterWidgets.Spike2DRaster import Spike2DRaster\n",
        "# from pyphoplacecellanalysis.SpecificResults.PendingNotebookCode import _setup_spike_raster_window_for_debugging\n",
        "# from pyphoplacecellanalysis.GUI.PyQtPlot.Widgets.Mixins.Render2DScrollWindowPlot import ScatterItemData\n",
        "from pyphoplacecellanalysis.GUI.Qt.SpikeRasterWindows.Spike3DRasterWindowWidget import Spike3DRasterWindowWidget\n"
      ]
    },
    {
      "cell_type": "code",
      "execution_count": null,
      "metadata": {},
      "outputs": [],
      "source": [
        "## It's passed a specific computation_result which has a .sess attribute that's used to determine which spikes are displayed or not.\n",
        "spike_raster_window: Spike3DRasterWindowWidget = Spike3DRasterWindowWidget(spikes_df, type_of_3d_plotter=type_of_3d_plotter, application_name=f'Spike Raster Window - {active_display_fn_identifying_ctx_string}', neuron_colors=neuron_colors, neuron_sort_order=neuron_sort_order,\n",
        "                                                                            params_kwargs=dict(use_docked_pyqtgraph_plots=use_docked_pyqtgraph_plots),\n",
        "                                                                            ) ## surprisingly only needs spikes_df !!?!\n",
        "# Set Window Title Options:\n",
        "a_file_prefix = str(computation_result.sess.filePrefix.resolve())\n",
        "spike_raster_window.setWindowFilePath(a_file_prefix)\n",
        "spike_raster_window.setWindowTitle(f'Spike Raster Window - {active_config_name} - {a_file_prefix}')\n"
      ]
    },
    {
      "cell_type": "code",
      "execution_count": null,
      "metadata": {},
      "outputs": [],
      "source": [
        "\n",
        "# Gets the existing SpikeRasterWindow or creates a new one if one doesn't already exist:\n",
        "# spike_raster_window, (active_2d_plot, active_3d_plot, main_graphics_layout_widget, main_plot_widget, background_static_scroll_plot_widget) = Spike3DRasterWindowWidget.find_or_create_if_needed(curr_active_pipeline, force_create_new=True, allow_replace_hardcoded_main_plots_with_tracks=True)\n",
        "# spike_raster_window, (active_2d_plot, active_3d_plot, main_graphics_layout_widget, main_plot_widget, background_static_scroll_plot_widget) = Spike3DRasterWindowWidget.find_or_create_if_needed(curr_active_pipeline, force_create_new=False, allow_replace_hardcoded_main_plots_with_tracks=True)\n",
        "# spike_raster_window, (active_2d_plot, active_3d_plot, *_all_outputs_dict) = Spike3DRasterWindowWidget.find_or_create_if_needed(curr_active_pipeline, force_create_new=False, allow_replace_hardcoded_main_plots_with_tracks=True)\n",
        "spike_raster_window, (active_2d_plot, active_3d_plot, *_all_outputs_dict) = Spike3DRasterWindowWidget.find_or_create_if_needed(curr_active_pipeline, force_create_new=True, allow_replace_hardcoded_main_plots_with_tracks=True)"
      ]
    },
    {
      "cell_type": "code",
      "execution_count": null,
      "metadata": {},
      "outputs": [],
      "source": [
        "from datetime import datetime, timezone\n",
        "from phoofflineeeganalysis.UI.CustomCalendarWidget import CalendarDatasource\n",
        "from phoofflineeeganalysis.UI.CustomCalendarWidget import CustomDataDisplayingCalendar\n",
        "\n",
        "a_ds: CalendarDatasource = CalendarDatasource(xdf_stream_infos_df=xdf_stream_infos_df)\n",
        "ex = CustomDataDisplayingCalendar()\n",
        "ex.show()\n",
        "ex.set_datasource(data_source=a_ds)"
      ]
    },
    {
      "cell_type": "code",
      "execution_count": null,
      "metadata": {},
      "outputs": [],
      "source": [
        "found_df = a_ds.get_records_for_day(day_date=datetime(2025, 9, 10, tzinfo=timezone.utc))\n",
        "found_df"
      ]
    },
    {
      "cell_type": "code",
      "execution_count": null,
      "metadata": {},
      "outputs": [],
      "source": [
        "day_date = datetime(2025, 9, 11, tzinfo=timezone.utc)\n",
        "day_date = day_date.replace(hour=0, minute=0, second=0, microsecond=0).astimezone(tz=timezone.utc)\n",
        "day_date\n",
        "\n"
      ]
    },
    {
      "cell_type": "code",
      "execution_count": null,
      "metadata": {},
      "outputs": [],
      "source": [
        "from pyphocorehelpers.plotting.image_plotting_helpers import IMShowHelpers\n",
        "\n",
        "\n",
        "\n",
        "def plot_matrix(xbin_edges, ybin_edges, matrix, ax, **kwargs):\n",
        "\n",
        "    def setup_stable_axes_limits(xbins_edges, ybin_edges, ax):\n",
        "        \" manually sets the axis data limits to disable autoscaling given the xbins_edges/ybin_edges \"\n",
        "        # x == horizontal orientation:\n",
        "        ax.set_xlim(left=xbins_edges[0], right=xbins_edges[-1])\n",
        "        ax.set_ylim(bottom=ybin_edges[0], top=ybin_edges[-1])\n",
        "\n",
        "\n",
        "    variable_value = matrix\n",
        "\n",
        "    xmin, xmax, ymin, ymax = (xbin_edges[0], xbin_edges[-1], ybin_edges[0], ybin_edges[-1]) # the same for both orientations\n",
        "    x_first_extent = (xmin, xmax, ymin, ymax) # traditional order of the extant axes\n",
        "    # y_first_extent = (ymin, ymax, xmin, xmax) # swapped the order of the extent axes.\n",
        "    main_plot_kwargs = {\n",
        "        'cmap': 'viridis',\n",
        "        'origin':'lower',\n",
        "        'extent':x_first_extent,\n",
        "        'aspect': 'auto',        \n",
        "    }\n",
        "\n",
        "    \"\"\"\n",
        "    Note that changing the origin while keeping everything else the same doesn't flip the direction of the yaxis labels despite flipping the yaxis of the data.\n",
        "    \"\"\"\n",
        "    im_out = ax.imshow(variable_value, **main_plot_kwargs)\n",
        "    setup_stable_axes_limits(xbin_edges, ybin_edges, ax)\n",
        "    return im_out\n",
        "\n",
        "\n"
      ]
    },
    {
      "cell_type": "code",
      "execution_count": null,
      "metadata": {},
      "outputs": [],
      "source": [
        "fig = plt.figure(layout=\"constrained\", figsize=[9, 9], dpi=220, clear=True) # figsize=[Width, height] in inches.\n",
        "long_width_ratio = 1\n",
        "ax_dict = fig.subplot_mosaic(\n",
        "    [\n",
        "        [\"ax_dumb\", \"ax_dumb_avg\"],\n",
        "        [\"ax_good\", \"ax_good_avg\"],\n",
        "\t\t\n",
        "        # [\"ax_dumb_avg\"],\n",
        "        # [\"ax_good_avg\"],\n",
        "    ],\n",
        "    # set the height ratios between the rows\n",
        "    # set the width ratios between the columns\n",
        "    width_ratios=[10, 1],\n",
        "    sharey=True,\n",
        "    gridspec_kw=dict(wspace=0, hspace=0.0) # `wspace=0`` is responsible for sticking the pf and the activity axes together with no spacing\n",
        ")\n",
        "fig.show()"
      ]
    },
    {
      "cell_type": "code",
      "execution_count": null,
      "metadata": {},
      "outputs": [],
      "source": [
        "import napari\n",
        "\n",
        "viewer = napari.Viewer(ndisplay=3)\n",
        "\n",
        "# viewer.add_points(mov_avg_filtered, size=2, face_color='red', name='mov_avg_filtered')\n",
        "# viewer.add_points(data2, size=2, face_color='green', name='dataset2')\n",
        "# viewer.add_points(data3, size=2, face_color='blue', name='dataset3')\n",
        "\n"
      ]
    },
    {
      "cell_type": "code",
      "execution_count": null,
      "metadata": {},
      "outputs": [],
      "source": [
        "\n",
        "named_sessions_dict = {'dumb': -2,\n",
        "\t\t\t\t\t   'good': -6,\n",
        "}\n",
        "\n",
        "# dumb_session_idx: int = -2\n",
        "\n",
        "_out_layers = {}\n",
        "\n",
        "for a_name, an_xdf_dataset_idx in named_sessions_dict.items():\n",
        "    a_raw = active_only_out_eeg_raws[an_xdf_dataset_idx]\n",
        "\n",
        "    a_df = a_raw.annotations.to_data_frame(time_format='datetime')\n",
        "    a_df = a_df[a_df['description'] != 'BAD_motion']\n",
        "\n",
        "    a_result = results[an_xdf_dataset_idx]\n",
        "    # a_stream_info = deepcopy(_out_xdf_stream_infos_df).loc[an_xdf_dataset_idx]    \n",
        "    Sxx = a_result['spectogram']['Sxx']\n",
        "    Sxx_avg = a_result['spectogram']['Sxx_avg']\n",
        "    # t = a_result['spectogram']['t']\n",
        "    # freqs = a_result['spectogram']['freqs']\n",
        "    # fs = a_result['spectogram']['fs']\n",
        "    freqs, t, _ = a_result['spectogram']['spectogram_result_dict']['AF3']\n",
        "    \n",
        "    Sxx_avg_across_channel_avg = np.atleast_2d(Sxx_avg.mean(dim='channels', skipna=True))\n",
        "    # Sxx_avg_across_channel_avg\n",
        "    \n",
        "    Sxx_across_channel_avg = Sxx.mean(dim='channels', skipna=True)\n",
        "    # Sxx_across_channel_avg\n",
        "\n",
        "    ax_label = f\"ax_{a_name}\"\n",
        "    ax_label_avg = f\"ax_{a_name}_avg\"\n",
        "    # np.shape(Sxx_across_channel_avg)\n",
        "    \n",
        "    # xbin = deepcopy(t)\n",
        "    # ybin = deepcopy(freqs)\n",
        "    # xmin, xmax, ymin, ymax = (xbin[0], xbin[-1], ybin[0], ybin[-1])\n",
        "    # # xmin, xmax, ymin, ymax = (active_one_step_decoder.ybin[0], active_one_step_decoder.ybin[-1], active_one_step_decoder.xbin[0], active_one_step_decoder.xbin[-1]) # Reversed x and y axes, seems not good.\n",
        "    # extent = (xmin, xmax, ymin, ymax)\n",
        "    \n",
        "    # ax_dict[ax_label].imshow(Sxx_avg_across_channel_avg.T)\n",
        "    # ax_dict[ax_label_avg].imshow(Sxx_across_channel_avg, extent=extent, origin='lower')\n",
        "    \n",
        "    # fig, axs, plot_im_out = IMShowHelpers.final_x_vertical_plot_imshow(xbin_edges=np.arange(1), ybin_edges=freqs, matrix=Sxx_avg_across_channel_avg, ax=ax_dict[ax_label])\n",
        "    # ax_dict[ax_label].autoscale(False)\n",
        "    # fig, axs, plot_im_out = IMShowHelpers.final_x_horizontal_plot_imshow(xbin_edges=t, ybin_edges=freqs, matrix=Sxx_across_channel_avg, ax=ax_dict[ax_label])\n",
        "    im_out = plot_matrix(xbin_edges=t, ybin_edges=freqs, matrix=Sxx_across_channel_avg, ax=ax_dict[ax_label])\n",
        "    ax_dict[ax_label].set_ylabel(a_name)\n",
        "    # ax_dict[ax_label].autoscale(False)\n",
        "    \n",
        "\n",
        "    # fig, axs, plot_im_out = IMShowHelpers.final_x_vertical_plot_imshow(xbin_edges=t, ybin_edges=freqs, matrix=Sxx_avg_across_channel_avg, ax=ax_dict[ax_label_avg])\n",
        "    avg_im_out = plot_matrix(xbin_edges=[0.0, 1.0], ybin_edges=freqs, matrix=Sxx_avg_across_channel_avg, ax=ax_dict[ax_label_avg])\n",
        "    # ax_dict[ax_label_avg].set_ylabel(f\"{a_name}_avg\")\n",
        "\n",
        "    \n",
        "    napari_img_layer_kwargs = dict(\n",
        "        # channel_axis=None,\n",
        "        # rgb=None,\n",
        "        colormap='yellow', #'bop_blue',\n",
        "        # contrast_limits=None,\n",
        "        gamma=0.02,\n",
        "        interpolation2d='nearest',\n",
        "        interpolation3d='linear',\n",
        "        rendering='mip',\n",
        "        depiction='volume',\n",
        "        # iso_threshold=None,\n",
        "        # attenuation=0.05,\n",
        "        # name=None,\n",
        "        # metadata=None,\n",
        "        # scale=None,\n",
        "        translate=None,\n",
        "        # rotate=None,\n",
        "        # shear=None,\n",
        "        # affine=None,\n",
        "        # opacity=1,\n",
        "        blending='additive',\n",
        "        visible=True,\n",
        "        # multiscale=None,\n",
        "        # cache=True,\n",
        "        # plane=None,\n",
        "        # experimental_clipping_planes=None,\n",
        "        # custom_interpolation_kernel_2d=None,\n",
        "    )\n",
        "    \n",
        "\n",
        "    curr_name = f\"{a_name}\"\n",
        "    _out_layers[curr_name] = viewer.add_image(Sxx, name=curr_name, **napari_img_layer_kwargs)\n",
        "    viewer.dims.axis_labels = Sxx.dims # ('channels', 'freqs', 'times')\n",
        "\n",
        "    curr_name = f\"{a_name}_avg\"\n",
        "    # napari_img_layer_kwargs['translate'] = [0.0, 1852.0]\n",
        "    napari_img_layer_kwargs['translate'] = [0.0, -2.0]\n",
        "    _out_avg_layer = viewer.add_image(Sxx_avg.T, name=curr_name, **napari_img_layer_kwargs) #  colormap='bop_blue', gamma=0.20, rendering='additive'\n",
        "    _out_layers[curr_name] = _out_avg_layer\n"
      ]
    },
    {
      "cell_type": "code",
      "execution_count": null,
      "metadata": {},
      "outputs": [],
      "source": [
        "# _out_avg_layer.translate([512.0, 0.0])\n",
        "# _out_avg_layer.set_translation([512.0, 0.0])\n",
        "# _out_avg_layer.translate = [0.0, 513.0]\n",
        "_out_avg_layer.translate = [0.0, 1852.0]\n",
        "_out_avg_layer.translate"
      ]
    },
    {
      "cell_type": "code",
      "execution_count": null,
      "metadata": {},
      "outputs": [],
      "source": [
        "_out_avg_layer."
      ]
    },
    {
      "cell_type": "code",
      "execution_count": null,
      "metadata": {},
      "outputs": [],
      "source": [
        "viewer.dims\n",
        "viewer.layers"
      ]
    },
    {
      "cell_type": "code",
      "execution_count": null,
      "metadata": {},
      "outputs": [],
      "source": [
        "from pyphoplacecellanalysis.GUI.Napari.napari_helpers import napari_extract_layers_info\n",
        "\n",
        "# @function_attributes(short_name=None, tags=['napari', 'config'], input_requires=[], output_provides=[], uses=[], used_by=['napari_extract_layers_info'], creation_date='2024-08-12 08:54', related_items=[])\n",
        "def extract_layer_info(a_layer):\n",
        "    \"\"\" Extracts info as a dict from a single Napari layer. \n",
        "    by default Napari layers print like: `<Shapes layer 'Shapes' at 0x1635a1e8460>`: without any properties that can be easily referenced.\n",
        "    This function extracts a dict of properties.\n",
        "\n",
        "    from pyphoplacecellanalysis.GUI.Napari.napari_helpers import extract_layer_info\n",
        "\n",
        "    \"\"\"\n",
        "    out_properties_dict = {}\n",
        "    positioning = ['scale', 'translate', 'rotate', 'shear', 'affine', 'corner_pixels']\n",
        "    visual = ['opacity', 'blending', 'visible', 'z_index', 'contrast_limits_range', '_colormap_name', 'gamma']\n",
        "    # positioning = ['scale', 'translate', 'rotate', 'shear', 'affine']\n",
        "    out_properties_dict['positioning'] = {}\n",
        "\n",
        "    for a_property_name in positioning:\n",
        "        out_properties_dict['positioning'][a_property_name] = getattr(a_layer, a_property_name)\n",
        "\n",
        "    out_properties_dict['visual'] = {}\n",
        "    for a_property_name in visual:\n",
        "        try:\n",
        "            out_properties_dict['visual'][a_property_name] = getattr(a_layer, a_property_name)\n",
        "        except (AttributeError, ValueError, KeyError, TypeError) as e:\n",
        "            print(f'failed to get property: \"{a_property_name}\" with error {e}')\n",
        "            pass\n",
        "        except Exception as e:\n",
        "            raise\n",
        "\n",
        "    return out_properties_dict\n",
        "\n",
        "\n",
        "# @function_attributes(short_name=None, tags=['napari', 'config'], input_requires=[], output_provides=[], uses=['extract_layer_info'], used_by=[], creation_date='2024-08-12 08:54', related_items=[])\n",
        "def napari_extract_layers_info(layers):\n",
        "\t\"\"\"extracts info dict from each layer as well.\n",
        "\tUsage:\n",
        "        from pyphoplacecellanalysis.GUI.Napari.napari_helpers import napari_extract_layers_info\n",
        "\t\tlayers = directional_viewer.layers # [<Shapes layer 'Shapes' at 0x1635a1e8460>, <Shapes layer 'Shapes [1]' at 0x164d5402e50>]\n",
        "\t\tout_layers_info_dict = debug_print_layers_info(layers)\n",
        "\n",
        "\t\"\"\"\n",
        "\tout_layers_info_dict = {}\n",
        "\tfor a_layer in layers:\n",
        "\t\ta_name: str = str(a_layer.name)\n",
        "\t\tout_properties_dict = extract_layer_info(a_layer)\n",
        "\t\tout_layers_info_dict[a_name] = out_properties_dict\n",
        "\t\t# if isinstance(a_layer, Shapes):\n",
        "\t\t# \tprint(f'shapes layer: {a_layer}')\n",
        "\t\t# \ta_shapes_layer: Shapes = a_layer\n",
        "\t\t# \t# print(f'a_shapes_layer.properties: {a_shapes_layer.properties}')\n",
        "\t\t# \tout_properties_dict = extract_layer_info(a_layer)\n",
        "\t\t# \tprint(f'\\tout_properties_dict: {out_properties_dict}')\n",
        "\t\t# \tout_layers_info_dict[a_name] = out_properties_dict\n",
        "\t\t# else:\n",
        "\t\t# \tprint(f'unknown layer: {a_layer}')\t\n",
        "\treturn out_layers_info_dict\n",
        "\n",
        "\n",
        "\n",
        "\n",
        "\n",
        "layers = viewer.layers # [<Shapes layer 'Shapes' at 0x1635a1e8460>, <Shapes layer 'Shapes [1]' at 0x164d5402e50>]\n",
        "out_layers_info_dict = napari_extract_layers_info(layers)\n",
        "out_layers_info_dict"
      ]
    },
    {
      "cell_type": "code",
      "execution_count": null,
      "metadata": {},
      "outputs": [],
      "source": []
    },
    {
      "cell_type": "code",
      "execution_count": null,
      "metadata": {},
      "outputs": [],
      "source": [
        "out_layers_info_dict['dumb']"
      ]
    },
    {
      "cell_type": "code",
      "execution_count": null,
      "metadata": {},
      "outputs": [],
      "source": [
        "from napari.layers.image.image import Image\n",
        "\n",
        "property_names = ['metadata', 'blending', 'opacity', 'rendering', 'scale', 'gamma', 'contrast_limits_range', 'colormap']\n",
        "for a_layer in layers:\n",
        "    an_img_layer: Image = a_layer\n",
        "    \n",
        "#    type(a_layer)\n",
        "\n",
        "# an_img_layer.blending\n",
        "an_img_layer.__dict__"
      ]
    },
    {
      "cell_type": "code",
      "execution_count": null,
      "metadata": {},
      "outputs": [],
      "source": [
        "napari.run()"
      ]
    },
    {
      "cell_type": "code",
      "execution_count": null,
      "metadata": {},
      "outputs": [],
      "source": [
        "xbin\n",
        "ybin"
      ]
    },
    {
      "cell_type": "code",
      "execution_count": null,
      "metadata": {},
      "outputs": [],
      "source": [
        "a_raw.plot()"
      ]
    },
    {
      "cell_type": "code",
      "execution_count": null,
      "metadata": {},
      "outputs": [],
      "source": [
        "a_stream_info"
      ]
    },
    {
      "cell_type": "code",
      "execution_count": null,
      "metadata": {},
      "outputs": [],
      "source": [
        "a_raw"
      ]
    },
    {
      "cell_type": "code",
      "execution_count": null,
      "metadata": {},
      "outputs": [],
      "source": [
        "import xarray as xr\n",
        "\n",
        "## INPUTS: a_result\n",
        "a_spectogram_result: Dict = a_result['spectogram'] \n",
        "\n",
        "ch_names = a_spectogram_result['ch_names']\n",
        "fs = a_spectogram_result['fs']\n",
        "a_spectogram_result_dict = a_spectogram_result['spectogram_result_dict'] # Dict[channel: Tuple]\n",
        "Sxx = a_spectogram_result['Sxx']\n",
        "Sxx_avg = a_spectogram_result['Sxx_avg']\n",
        "\n",
        "Sxx"
      ]
    },
    {
      "cell_type": "code",
      "execution_count": null,
      "metadata": {},
      "outputs": [],
      "source": [
        "\n",
        "Sxx_avg_list = [] \n",
        "\n",
        "# ch_names = a_raw.info.ch_names\n",
        "\n",
        "for a_ch, a_tuple in a_spectogram_result_dict.items():\n",
        "    f, t, Sxx = a_tuple ## unpack the tuple\n",
        "    # np.shape(Sxx) # (513, 1116) - (n_freqs, n_times)\n",
        "    n_freqs = np.shape(f)\n",
        "    n_times = np.shape(t) \n",
        "    Sxx_avg = np.nanmean(Sxx, axis=-1) ## average over all time to get one per session\n",
        "    Sxx_avg_list.append(Sxx_avg)\n",
        "    \n",
        "Sxx_avg_list = np.stack(Sxx_avg_list) # (14, 513) - (n_channels, n_freqs)\n",
        "Sxx_avg_list = xr.DataArray(Sxx_avg_list, dims=(\"channels\", \"freqs\"), coords={\"channels\": ch_names, \"freqs\": f})\n",
        "np.shape(Sxx_avg_list)\n",
        "Sxx_avg_list"
      ]
    },
    {
      "cell_type": "code",
      "execution_count": null,
      "metadata": {},
      "outputs": [],
      "source": [
        "ch_names"
      ]
    },
    {
      "cell_type": "code",
      "execution_count": null,
      "metadata": {},
      "outputs": [],
      "source": [
        "a_raw.annotations"
      ]
    },
    {
      "cell_type": "code",
      "execution_count": null,
      "metadata": {},
      "outputs": [],
      "source": [
        "Sxx_avg = np.nanmean(Sxx, axis=-1) ## average over all time to get one per session\n",
        "Sxx_avg"
      ]
    },
    {
      "cell_type": "code",
      "execution_count": null,
      "metadata": {},
      "outputs": [],
      "source": []
    },
    {
      "cell_type": "code",
      "execution_count": null,
      "metadata": {},
      "outputs": [],
      "source": [
        "plt.close('all')"
      ]
    },
    {
      "cell_type": "code",
      "execution_count": null,
      "metadata": {},
      "outputs": [],
      "source": []
    },
    {
      "cell_type": "code",
      "execution_count": null,
      "metadata": {},
      "outputs": [],
      "source": [
        "plot_all_spectograms(active_only_out_eeg_raws, results)"
      ]
    },
    {
      "cell_type": "code",
      "execution_count": null,
      "metadata": {},
      "outputs": [],
      "source": [
        "import matplotlib.pyplot as plt\n",
        "\n",
        "plt.rcParams[\"axes.titlesize\"] = 8\n",
        "plt.rcParams[\"axes.labelsize\"] = 8\n",
        "plt.rcParams[\"xtick.labelsize\"] = 6\n",
        "plt.rcParams[\"ytick.labelsize\"] = 6\n",
        "plt.rcParams[\"legend.fontsize\"] = 6\n",
        "plt.rcParams[\"figure.titlesize\"] = 8\n",
        "plt.rcParams[\"axes.titlepad\"] = 0\n",
        "plt.rcParams[\"figure.constrained_layout.use\"] = True\n",
        "plt.rcParams[\"figure.constrained_layout.h_pad\"] = 0.0\n",
        "plt.rcParams[\"figure.constrained_layout.w_pad\"] = 0.0\n",
        "plt.rcParams[\"figure.constrained_layout.hspace\"] = 0.0\n",
        "plt.rcParams[\"figure.constrained_layout.wspace\"] = 0.0\n",
        "plt.rcParams[\"figure.subplot.wspace\"] = 0.0\n",
        "plt.rcParams[\"figure.subplot.hspace\"] = 0.0\n",
        "plt.rcParams[\"figure.subplot.wspace\"] = 0.0\n",
        "plt.rcParams[\"figure.subplot.hspace\"] = 0.0\n"
      ]
    },
    {
      "cell_type": "code",
      "execution_count": null,
      "metadata": {},
      "outputs": [],
      "source": [
        "## Plot a synchronized EEG Raw data and Spectogram Figure together:\n",
        "active_eeg_idx: int = -4\n",
        "mne_raw_fig = active_only_out_eeg_raws[active_eeg_idx].plot(time_format='datetime', scalings='auto') # MNEBrowseFigure\n",
        "fig, axs = plot_session_spectogram(active_only_out_eeg_raws[active_eeg_idx], results[active_eeg_idx], sync_to_mne_raw_fig=mne_raw_fig)\n",
        "# plt.subplots_adjust(wspace=0, hspace=0)  # remove spacing\n"
      ]
    },
    {
      "cell_type": "code",
      "execution_count": null,
      "metadata": {},
      "outputs": [],
      "source": [
        "active_eeg_idx: int = -6\n",
        "mne_raw_fig2 = active_only_out_eeg_raws[active_eeg_idx].plot(time_format='datetime', scalings='auto') # MNEBrowseFigure\n",
        "fig2, axs2 = plot_session_spectogram(active_only_out_eeg_raws[active_eeg_idx], results[active_eeg_idx], sync_to_mne_raw_fig=mne_raw_fig)"
      ]
    },
    {
      "cell_type": "markdown",
      "metadata": {},
      "source": [
        "### Compute and show all spectograms"
      ]
    },
    {
      "cell_type": "code",
      "execution_count": null,
      "metadata": {},
      "outputs": [],
      "source": [
        "# Compute results first\n",
        "active_only_out_eeg_raws, results = batch_compute_all_eeg_datasets(eeg_raws=_out_eeg_raw, limit_num_items=3)\n",
        "\n",
        "# Render to PDFs (paged)\n",
        "from pathlib import Path\n",
        "out_paths = render_all_spectograms_to_high_quality_pdfs(\n",
        "    active_only_out_eeg_raws,\n",
        "    results,\n",
        "    output_parent_folder=Path(r\"E:/Dropbox (Personal)/Databases/AnalysisData/MNE_preprocessed/exports\"),\n",
        "    mode=\"paged\",\n",
        "    seconds_per_page=180.0,\n",
        "    freq_min_hz=1.0,\n",
        "    freq_max_hz=40.0,\n",
        "    dpi=300\n",
        ")\n",
        "print(f\"Wrote {len(out_paths)} PDF(s)\")"
      ]
    },
    {
      "cell_type": "code",
      "execution_count": null,
      "metadata": {},
      "outputs": [],
      "source": [
        "import matplotlib.pyplot as plt\n",
        "\n",
        "# plt.figure(num='spectrogram_all_channels', clear=True)\n",
        "\n",
        "fig, axs = plt.subplots(nrows=len(a_raw.info.ch_names), ncols=1, num='spectrogram_all_channels')\n",
        "\n",
        "spectogram_result_dict =a_raw_outputs['spectogram']['spectogram_result_dict']\n",
        "fs = a_raw_outputs['spectogram']['fs']\n",
        "\n",
        "for ch_idx, (a_ch, a_ch_spect_result_tuple) in enumerate(spectogram_result_dict.items()):\n",
        "    f, t, Sxx = a_ch_spect_result_tuple\n",
        "    an_ax = axs[ch_idx]\n",
        "    an_ax.pcolormesh(t, f, 10*np.log10(Sxx+1e-12), shading='auto')\n",
        "    # plt.pcolormesh(t, f, 10*np.log10(Sxx+1e-12), shading='auto', ax=an_ax)\n",
        "    plt.ylim([1, 40])\n",
        "    # plt.ylabel(f\"{a_ch}[{ch_idx}]\", ax=an_ax)\n",
        "    an_ax.set_ylabel(f\"{a_ch}[{ch_idx}]\")\n"
      ]
    },
    {
      "cell_type": "markdown",
      "metadata": {},
      "source": [
        "### THIS WAVLET LOOKS OKAY TOO!"
      ]
    },
    {
      "cell_type": "code",
      "execution_count": null,
      "metadata": {},
      "outputs": [],
      "source": [
        "from mne.time_frequency import tfr_array_morlet\n",
        "import matplotlib.pyplot as plt\n",
        "import numpy as np\n",
        "\n",
        "# continuous data: (n_channels, n_times)\n",
        "raw_data = a_raw.get_data()\n",
        "sfreq = a_raw.info['sfreq']\n",
        "\n",
        "# frequencies and cycles\n",
        "freqs = np.logspace(np.log10(2), np.log10(40), num=20)\n",
        "n_cycles = np.linspace(6, 12, len(freqs))  # longer cycles at low freq → more energy captured\n",
        "\n",
        "# compute Morlet TFR\n",
        "power = tfr_array_morlet(\n",
        "    data=raw_data[np.newaxis, ...],  # add epoch axis\n",
        "    sfreq=sfreq,\n",
        "    freqs=freqs,\n",
        "    n_cycles=n_cycles,\n",
        "    output='power',\n",
        "    decim=1,  # preserve temporal resolution\n",
        "    n_jobs=-1\n",
        ")\n",
        "power = np.squeeze(power)  # (n_channels, n_freqs, n_times)\n",
        "\n",
        "# convert to dB\n",
        "power_db = 10 * np.log10(power + 1e-12)\n",
        "\n",
        "# example: plot first channel\n",
        "ch_idx = 0\n",
        "plt.figure(figsize=(12,4))\n",
        "plt.imshow(power_db[ch_idx], aspect='auto', origin='lower',\n",
        "           extent=[0, raw_data.shape[1]/sfreq, freqs[0], freqs[-1]])\n",
        "plt.yscale('log')\n",
        "plt.colorbar(label='Power (dB)')\n",
        "plt.xlabel('Time (s)')\n",
        "plt.ylabel('Frequency (Hz)')\n",
        "plt.title('Morlet TFR (dB)')\n",
        "plt.show()\n"
      ]
    },
    {
      "cell_type": "markdown",
      "metadata": {},
      "source": [
        "## OLD (pre 2025-09-21) Epochs approach"
      ]
    },
    {
      "cell_type": "code",
      "execution_count": null,
      "metadata": {},
      "outputs": [],
      "source": [
        "\n",
        "# ==================================================================================================================================================================================================================================================================================== #\n",
        "# Epochs Approach                                                                                                                                                                                                                                                                      #\n",
        "# ==================================================================================================================================================================================================================================================================================== #\n",
        "## INPUT: a_raw\n",
        "duration = 8\n",
        "overlap = 2.5\n",
        "\n",
        "epochs = mne.make_fixed_length_epochs(a_raw, duration=duration, overlap=overlap, preload=True)\n",
        "\n",
        "# This single line computes the CWT for ALL epochs and ALL channels\n",
        "all_cwt = tfr_morlet(epochs, freqs=freqs, n_cycles=n_cycles, use_fft=True, return_itc=False, average=False, n_jobs=-1)\n",
        "print(f'done.')\n",
        "\n",
        "\n",
        "chan_idx: int = 0\n",
        "curr_chan_cwt = all_cwt.pick(chan_idx)\n",
        "# curr_chan_cwt = all_cwt[:, chan_idx, :, :]\n",
        "curr_chan_cwt"
      ]
    },
    {
      "cell_type": "code",
      "execution_count": null,
      "metadata": {},
      "outputs": [],
      "source": [
        "# all_cwt.shape\n",
        "curr_chan_cwt.plot()"
      ]
    },
    {
      "cell_type": "code",
      "execution_count": null,
      "metadata": {},
      "outputs": [],
      "source": [
        "# all_cwt.plot()\n"
      ]
    },
    {
      "cell_type": "code",
      "execution_count": null,
      "metadata": {},
      "outputs": [],
      "source": [
        "from mne.time_frequency import tfr_array_morlet, tfr_array_multitaper, AverageTFRArray\n",
        "\n",
        "# freqs = np.arange(5.0, 100.0, 3.0)\n",
        "\n",
        "## INPUTS: epochs, freqs\n",
        "freqs\n",
        "vmin, vmax = -3.0, 3.0  # Define our color limits.\n",
        "\n",
        "power = tfr_array_morlet(\n",
        "    epochs.get_data(),\n",
        "    sfreq=epochs.info[\"sfreq\"],\n",
        "    freqs=freqs,\n",
        "    n_cycles=n_cycles,\n",
        "    output=\"avg_power\",\n",
        "    zero_mean=False,\n",
        ")\n",
        "# Put it into a TFR container for easy plotting\n",
        "tfr = AverageTFRArray(\n",
        "    info=epochs.info, data=power, times=epochs.times, freqs=freqs, nave=len(epochs)\n",
        ")\n",
        "tfr.plot(\n",
        "    # baseline=(0.0, 0.1),\n",
        "    # picks=[0, 1],\n",
        "    mode=\"mean\",\n",
        "    # vlim=(vmin, vmax),\n",
        "    title=\"TFR calculated on a NumPy array\",\n",
        ")"
      ]
    },
    {
      "cell_type": "code",
      "execution_count": null,
      "metadata": {},
      "outputs": [],
      "source": [
        "from autoreject import AutoReject\n",
        "from autoreject import get_rejection_threshold\n",
        "\n",
        "fixed_len_epochs_list = []\n",
        "reject_params = []\n",
        "\n",
        "for a_raw in _out_eeg_raw:\n",
        "    fixed_len_epochs: mne.Epochs = mne.make_fixed_length_epochs(a_raw, duration=3, overlap=0.5, preload=True)\n",
        "    fixed_len_epochs_list.append(fixed_len_epochs)\n",
        "    reject = get_rejection_threshold(fixed_len_epochs)  \n",
        "    reject_params.append(reject)\n",
        "\n",
        "reject_params"
      ]
    },
    {
      "cell_type": "code",
      "execution_count": null,
      "metadata": {},
      "outputs": [],
      "source": [
        "reject_params"
      ]
    },
    {
      "cell_type": "code",
      "execution_count": null,
      "metadata": {},
      "outputs": [],
      "source": [
        "\n",
        "reject_criteria = dict(\n",
        "    mag=4000e-15,  # 4000 fT\n",
        "    grad=4000e-13,  # 4000 fT/cm\n",
        "    eeg=150e-6,  # 150 µV\n",
        "    eog=250e-6,\n",
        ")  # 250 µV\n",
        "\n",
        "epochs = mne.Epochs(\n",
        "    a_raw,\n",
        "    events,\n",
        "    event_id=event_dict,\n",
        "    tmin=-0.2,\n",
        "    tmax=0.5,\n",
        "    reject=reject_criteria,\n",
        "    preload=True,\n",
        ")\n",
        "\n",
        "\n",
        "ar = AutoReject()\n",
        "epochs_clean = ar.fit_transform(fixed_len_epochs)\n",
        "epochs_clean "
      ]
    },
    {
      "cell_type": "code",
      "execution_count": null,
      "metadata": {},
      "outputs": [],
      "source": [
        "\n",
        "reject = get_rejection_threshold(fixed_len_epochs)  \n",
        "reject"
      ]
    },
    {
      "cell_type": "code",
      "execution_count": null,
      "metadata": {},
      "outputs": [],
      "source": [
        "_out_eeg_raw[-2]"
      ]
    },
    {
      "cell_type": "code",
      "execution_count": null,
      "metadata": {},
      "outputs": [],
      "source": [
        "_out_eeg_raw[-2]."
      ]
    },
    {
      "cell_type": "code",
      "execution_count": null,
      "metadata": {},
      "outputs": [],
      "source": [
        "converted_out_eeg_raw = up_convert_raw_obj(_out_eeg_raw[0])\n",
        "# converted_out_eeg_raw.raw_timerange()\n",
        "converted_out_eeg_raw"
      ]
    },
    {
      "cell_type": "code",
      "execution_count": null,
      "metadata": {},
      "outputs": [],
      "source": []
    },
    {
      "cell_type": "code",
      "execution_count": null,
      "metadata": {},
      "outputs": [],
      "source": [
        "# stream_infos\n",
        "# _out_xdf_stream_infos_df = pd.concat(_out_xdf_stream_infos_df)\n",
        "_out_xdf_stream_infos_df = _out_xdf_stream_infos_df.set_index('xdf_dataset_idx')\n",
        "_out_xdf_stream_infos_df"
      ]
    },
    {
      "cell_type": "code",
      "execution_count": null,
      "metadata": {},
      "outputs": [],
      "source": [
        "for a_raw in _out_eeg_raw:\n",
        "    # a_raw\n",
        "    # a_raw.filenames[0]\n",
        "\t# a_raw.save_to_fieldtrip_mat(\n",
        "    str(a_raw)\n"
      ]
    },
    {
      "cell_type": "markdown",
      "metadata": {},
      "source": [
        "## Old \n"
      ]
    },
    {
      "cell_type": "code",
      "execution_count": null,
      "metadata": {},
      "outputs": [],
      "source": [
        "# vmin, vmax = -3.0, 3.0  # Define our color limits.\n",
        "\n",
        "\n",
        "vmin, vmax = -10.0, 10.0  # Define our color limits.\n",
        "\n",
        "fig, axs = plt.subplots(1, 3, figsize=(15, 5), sharey=True, layout=\"constrained\", num='Continuous Wavelet')\n",
        "ax = axs[0]\n",
        "\n",
        "single_channel_power.plot(\n",
        "    [0],\n",
        "    # baseline=(0.0, 0.1),\n",
        "    mode=\"mean\",\n",
        "    vlim=(vmin, vmax),\n",
        "    axes=ax,\n",
        "    show=False,\n",
        "    colorbar=False,\n",
        ")"
      ]
    },
    {
      "cell_type": "markdown",
      "metadata": {},
      "source": [
        "## ANalysis for Fatigue/Bandpowers"
      ]
    },
    {
      "cell_type": "code",
      "execution_count": null,
      "metadata": {},
      "outputs": [],
      "source": [
        "from phoofflineeeganalysis.analysis.computations.fatigue_analysis import compare_multiple_recordings, compute_fatigue_metrics, analyze_fatigue_trends, print_analysis_report, visualize_fatigue_comparison\n",
        "\n",
        "raw_objects = deepcopy(_out_eeg_raw)\n",
        "raw_obj_labels = [str(a_raw) for a_raw in raw_objects]\n",
        "if len(raw_objects) >= 2:\n",
        "    results = compare_multiple_recordings(raw_objects, raw_obj_labels[:len(raw_objects)])\n",
        "    print_analysis_report(results)\n",
        "    visualize_fatigue_comparison(results)\n",
        "\n",
        "    results\n",
        "else:\n",
        "    print(\"Not enough data files found for comparison.\")\n"
      ]
    },
    {
      "cell_type": "markdown",
      "metadata": {},
      "source": [
        "## Sliding wavlet analyses"
      ]
    },
    {
      "cell_type": "code",
      "execution_count": null,
      "metadata": {},
      "outputs": [],
      "source": [
        "import pyqtgraph as pg\n",
        "from phoofflineeeganalysis.timeflux.nodes.wavelet_cwt import EEGViewer\n",
        "\n",
        "app = pg.mkQApp('EEGWaveletViewer')\n",
        "\n",
        "raw = _out_eeg_raw[-1]\n",
        "\n",
        "# Launch the Qt Application\n",
        "viewer = EEGViewer(raw_data=raw)\n",
        "viewer.show()\n",
        "# sys.exit(app.exec_())\n"
      ]
    },
    {
      "cell_type": "code",
      "execution_count": null,
      "metadata": {},
      "outputs": [],
      "source": [
        "fixed_len_epochs"
      ]
    },
    {
      "cell_type": "code",
      "execution_count": null,
      "metadata": {},
      "outputs": [],
      "source": [
        "from phoofflineeeganalysis.timeflux.nodes.wavelet_cwt import plot_raw_with_cwt\n",
        "\n",
        "# --- Example Usage ---\n",
        "\n",
        "# First, create a sample 14-channel Raw object for demonstration\n",
        "# sfreq = 250\n",
        "# ch_names = [f'EEG {i+1:02d}' for i in range(14)]\n",
        "# info = mne.create_info(ch_names=ch_names, sfreq=sfreq, ch_types='eeg')\n",
        "# n_seconds = 120\n",
        "# data = np.random.randn(len(ch_names), sfreq * n_seconds)\n",
        "# raw = mne.io.RawArray(data, info)\n",
        "\n",
        "raw = _out_eeg_raw[-1]\n",
        "\n",
        "# Now, use the function to plot the first channel (index 0) from 10 to 20 seconds\n",
        "plot_raw_with_cwt(raw, start_seconds=10.0, end_seconds=20.0, channel_index=0)\n"
      ]
    },
    {
      "cell_type": "code",
      "execution_count": null,
      "metadata": {},
      "outputs": [],
      "source": [
        "\n",
        "# You can easily inspect another channel or time window\n",
        "plot_raw_with_cwt(raw, start_seconds=35.5, end_seconds=45.5, channel_index=5)\n"
      ]
    },
    {
      "cell_type": "markdown",
      "metadata": {},
      "source": [
        "### Exploration/Manual XDF stuff"
      ]
    },
    {
      "cell_type": "code",
      "execution_count": null,
      "metadata": {},
      "outputs": [],
      "source": [
        "eeg_raws = raws_dict[DataModalityType.EEG.value]\n",
        "if len(eeg_raws) == 1:\n",
        "    eeg_raws = eeg_raws[0]\n",
        "\n",
        "eeg_raws\n",
        "\n",
        "# eeg_raws.filenames\n"
      ]
    },
    {
      "cell_type": "code",
      "execution_count": null,
      "metadata": {},
      "outputs": [],
      "source": []
    },
    {
      "cell_type": "code",
      "execution_count": null,
      "metadata": {},
      "outputs": [],
      "source": [
        "\n",
        "# meas_date.strftime(\"%Y-%m-%dT%H-%M-%S\")"
      ]
    },
    {
      "cell_type": "code",
      "execution_count": null,
      "metadata": {},
      "outputs": [],
      "source": [
        "## When done processing the entire LabRecorder.xdf, save only the EEG data (with all annotations and such added) to a new file\n",
        "labRecorder_PostProcessed_path: Path = sso.eeg_analyzed_parent_export_path.joinpath(f'LabRecorder_PostProcessed').resolve()\n",
        "labRecorder_PostProcessed_path.mkdir(exist_ok=True)\n",
        "\n",
        "a_lab_recorder_filename: str = a_xdf_file.stem\n",
        "a_lab_recorder_filename_parts = a_lab_recorder_filename.split('_')\n",
        "\n",
        "## replace with the eeg meas date\n",
        "meas_date = eeg_raws.info.get('meas_date')\n",
        "a_lab_recorder_filename_parts[-2] = meas_date.strftime(\"%Y-%m-%dT%H-%M-%S\")\n",
        "\n",
        "a_lab_recorder_filename: str = '_'.join(a_lab_recorder_filename_parts[:-1]) ## drop only the last part\n",
        "a_lab_recorder_filename\n",
        "\n",
        "a_lab_recorder_filepath = labRecorder_PostProcessed_path.joinpath(a_lab_recorder_filename)\n",
        "# a_lab_recorder_filepath.with_suffix('.fif')\n",
        "\n",
        "a_lab_recorder_filepath = a_lab_recorder_filepath.with_suffix('.fif')\n",
        "print(f'saving finalized EEG data out to \"{a_lab_recorder_filepath.as_posix()}\"')\n",
        "eeg_raws.save(a_lab_recorder_filepath, overwrite=True)\n"
      ]
    },
    {
      "cell_type": "code",
      "execution_count": null,
      "metadata": {},
      "outputs": [],
      "source": [
        "\n",
        "{a_xdf_file}'\n",
        "\n",
        "eeg_raws.annotations"
      ]
    },
    {
      "cell_type": "code",
      "execution_count": null,
      "metadata": {},
      "outputs": [],
      "source": [
        "eeg_raws.plot()"
      ]
    },
    {
      "cell_type": "code",
      "execution_count": null,
      "metadata": {},
      "outputs": [],
      "source": [
        "from phoofflineeeganalysis.analysis.motion_data import MotionData\n",
        "\n",
        "motion_raw = raws_dict[DataModalityType.MOTION.value]\n",
        "if len(motion_raw) == 1:\n",
        "    motion_raw = motion_raw[0]\n",
        "\n",
        "motion_annots: mne.Annotations = MotionData.find_high_accel_periods(motion_raw, should_set_bad_period_annotations=True)\n",
        "motion_annots\n"
      ]
    },
    {
      "cell_type": "code",
      "execution_count": null,
      "metadata": {},
      "outputs": [],
      "source": [
        "def change_annotation_alrignment(motion_annots: mne.Annotations):\n",
        "    annot_df: pd.DataFrame = motion_annots.to_data_frame(time_format='datetime')\n",
        "    \n",
        "    motion_annots.orig_time\n",
        "\n"
      ]
    },
    {
      "cell_type": "code",
      "execution_count": null,
      "metadata": {},
      "outputs": [],
      "source": [
        "annot_orig_time = motion_annots.orig_time\n",
        "annot_orig_time\n",
        "# annot_df: pd.DataFrame = motion_annots.to_data_frame(time_format='datetime')\n",
        "annot_df: pd.DataFrame = motion_annots.to_data_frame(time_format='timedelta')\n",
        "# annot_df: pd.DataFrame = motion_annots.to_data_frame(time_format='ms')\n",
        "# annot_df: pd.DataFrame = motion_annots.to_data_frame(time_format=None)\n",
        "annot_df\n"
      ]
    },
    {
      "cell_type": "code",
      "execution_count": null,
      "metadata": {},
      "outputs": [],
      "source": [
        "new_annot: mne.Annotations = mne.Annotations(onset=annot_df['onset'].to_numpy(), duration=annot_df['duration'].to_numpy(), description=annot_df['description'].to_numpy(), orig_time=annot_orig_time)\n",
        "# new_annot.to_data_frame(time_format='datetime')"
      ]
    },
    {
      "cell_type": "code",
      "execution_count": null,
      "metadata": {},
      "outputs": [],
      "source": [
        "# eeg_min, eeg_max = (eeg_raws.times[0], eeg_raws.times[-1])\n",
        "# motion_min, motion_max = (motion_raw.times[0], motion_raw.times[-1])\n",
        "\n",
        "eeg_raw_df = eeg_raws.to_data_frame(time_format='datetime')\n",
        "motion_raw_df = motion_raw.to_data_frame(time_format='datetime')\n",
        "eeg_raw_df"
      ]
    },
    {
      "cell_type": "code",
      "execution_count": null,
      "metadata": {},
      "outputs": [],
      "source": [
        "time_col_name: str = 'time'\n",
        "eeg_min, eeg_max = (eeg_raw_df[time_col_name].min(), eeg_raw_df[time_col_name].max())\n",
        "motion_min, motion_max = (motion_raw_df[time_col_name].min(), motion_raw_df[time_col_name].max())\n",
        "\n",
        "eeg_min, eeg_max\n",
        "motion_min, motion_max\n"
      ]
    },
    {
      "cell_type": "code",
      "execution_count": null,
      "metadata": {},
      "outputs": [],
      "source": [
        "MNEHelpers.merge_annotations(raw=eeg_raws, new_annots=motion_annots, align_to_Raw_meas_time=True)\n"
      ]
    },
    {
      "cell_type": "code",
      "execution_count": null,
      "metadata": {},
      "outputs": [],
      "source": [
        "MNEHelpers.merge_annotations(raw=eeg_raws, new_annots=motion_annots, align_to_Raw_meas_time=False)"
      ]
    },
    {
      "cell_type": "code",
      "execution_count": null,
      "metadata": {},
      "outputs": [],
      "source": [
        "eeg_raws.plot()"
      ]
    },
    {
      "cell_type": "code",
      "execution_count": null,
      "metadata": {},
      "outputs": [],
      "source": [
        "# a_df[accel_col_names].plot()\n",
        "a_df[accel_col_names + accel_diff_col_names].plot()"
      ]
    },
    {
      "cell_type": "code",
      "execution_count": null,
      "metadata": {},
      "outputs": [],
      "source": [
        "motion_raw.plot()\n",
        "# motion_raw.select_channels(['AccX', 'AccY', 'AccZ'])\n",
        "\n"
      ]
    },
    {
      "cell_type": "code",
      "execution_count": null,
      "metadata": {},
      "outputs": [],
      "source": [
        "eeg_df = pd.concat([v.to_data_frame(time_format='datetime') for v in raws_dict[DataModalityType.EEG.value]]).drop_duplicates(subset=['time'], inplace=False, keep='first')\n",
        "eeg_df\n",
        "\n",
        "eeg_df = pd.concat([v.to_data_frame(time_format='datetime') for v in raws_dict[DataModalityType.EEG.value]]).drop_duplicates(subset=['time'], inplace=False, keep='first')\n",
        "eeg_df\n",
        "\n",
        "eeg_df = pd.concat([v.to_data_frame(time_format='datetime') for v in raws_dict[DataModalityType.PHO_LOG_TO_LSL.value]]).drop_duplicates(subset=['time'], inplace=False, keep='first')\n",
        "eeg_df\n"
      ]
    },
    {
      "cell_type": "code",
      "execution_count": null,
      "metadata": {},
      "outputs": [],
      "source": [
        "from phoofflineeeganalysis.analysis.MNE_helpers import MNEHelpers\n",
        "\n",
        "\n",
        "for an_annotation_ds in raws_dict[DataModalityType.PHO_LOG_TO_LSL.value]:\n",
        "    # raws_dict[DataModalityType.EEG.value] = [an_eeg_ds.set_annotations(an_annotation_ds) for an_eeg_ds in raws_dict[DataModalityType.EEG.value]]\n",
        "    for an_eeg_ds in raws_dict[DataModalityType.EEG.value]:\n",
        "        # an_eeg_ds.annotations\n",
        "        meas_date = deepcopy(an_eeg_ds.info.get('meas_date'))\n",
        "        # meas_date\n",
        "        # an_annotation_ds.orig_time\n",
        "        # an_annotation_ds.to_data_frame()\n",
        "        # MNEHelpers.merge_annotations(raw=an_eeg_ds, new_annots=an_annotation_ds, align_to_Raw_meas_time=True)\n",
        "        MNEHelpers.merge_annotations(raw=an_eeg_ds, new_annots=an_annotation_ds, align_to_Raw_meas_time=False)        \n",
        "        # if (an_eeg_ds.annotations is None) or (len(an_eeg_ds.annotations) < 1):\n",
        "        #     # an_eeg_ds.annotations = an_annotation_ds\n",
        "        #     an_eeg_ds.set_annotations(an_annotation_ds)\n",
        "        # else:\n",
        "        #     # a_raw: mne.io.Raw = mne.io.Raw(an_eeg_ds)\n",
        "        #     an_eeg_ds.set_annotations(an_annotation_ds)\n",
        "        #     # an_eeg_ds.set_annotation(an_annotation_ds)\n",
        "        an_eeg_ds.annotations"
      ]
    },
    {
      "cell_type": "code",
      "execution_count": null,
      "metadata": {},
      "outputs": [],
      "source": [
        "a_raw = raws_dict[DataModalityType.EEG.value][0]\n",
        "a_raw.set_annotations(an_annotation_ds)\n",
        "a_raw.annotations\n"
      ]
    },
    {
      "cell_type": "code",
      "execution_count": null,
      "metadata": {},
      "outputs": [],
      "source": [
        "\n",
        "annotations = raws_dict[DataModalityType.EEG.value][0].annotations\n"
      ]
    },
    {
      "cell_type": "code",
      "execution_count": null,
      "metadata": {},
      "outputs": [],
      "source": [
        "stream_infos['name'].to_list()\n",
        "\n",
        "\n",
        "stream_name_to_modality_dict = {'Epoc X': 'EEG', 'Epoc X Motion':'MOTION', 'Epoc X eQuality':None}\n"
      ]
    },
    {
      "cell_type": "code",
      "execution_count": null,
      "metadata": {},
      "outputs": [],
      "source": [
        "eeg_streams = stream_infos[stream_infos['type'] == 'EEG']['stream_id'].to_numpy()\n",
        "eeg_streams\n"
      ]
    },
    {
      "cell_type": "code",
      "execution_count": null,
      "metadata": {},
      "outputs": [],
      "source": [
        "eeg_raws = [raws[stream_idx-1] for stream_idx in eeg_streams]\n",
        "eeg_raws"
      ]
    }
  ],
  "metadata": {
    "kernelspec": {
      "display_name": ".venv",
      "language": "python",
      "name": "python3"
    },
    "language_info": {
      "codemirror_mode": {
        "name": "ipython",
        "version": 3
      },
      "file_extension": ".py",
      "mimetype": "text/x-python",
      "name": "python",
      "nbconvert_exporter": "python",
      "pygments_lexer": "ipython3",
      "version": "3.9.13"
    }
  },
  "nbformat": 4,
  "nbformat_minor": 0
}
