{
  "cells": [
    {
      "cell_type": "code",
      "execution_count": 1,
      "metadata": {
        "collapsed": false,
        "tags": [
          "run_group_main",
          "run_unpickle_pipeline",
          "run_group_xdf_only"
        ]
      },
      "outputs": [
        {
          "name": "stdout",
          "output_type": "stream",
          "text": [
            "Automatic pdb calling has been turned OFF\n",
            "Using qt as 2D backend.\n"
          ]
        }
      ],
      "source": [
        "%config IPCompleter.use_jedi = False\n",
        "%pdb off\n",
        "%load_ext autoreload\n",
        "%autoreload 3\n",
        "# %matplotlib inline\n",
        "%matplotlib qt5\n",
        "import mne\n",
        "mne.viz.set_browser_backend(\"qt\")  # or \"matplotlib\"\n",
        "mne.set_config(\"MNE_BROWSER_BACKEND\", \"qt\")  # or \"matplotlib\"\n",
        "%gui qt\n",
        "\n",
        "import IPython\n",
        "\n",
        "# Jupyter-lab enable printing for any line on its own (instead of just the last one in the cell)\n",
        "from IPython.core.interactiveshell import InteractiveShell\n",
        "InteractiveShell.ast_node_interactivity = \"all\"\n"
      ]
    },
    {
      "cell_type": "markdown",
      "metadata": {},
      "source": [
        "\n",
        "# Use MNE to load and analyze saved EEG and Motion recordings\n"
      ]
    },
    {
      "cell_type": "code",
      "execution_count": 8,
      "metadata": {
        "collapsed": false,
        "tags": [
          "run_group_main",
          "run_unpickle_pipeline",
          "run_group_xdf_only"
        ]
      },
      "outputs": [
        {
          "data": {
            "text/plain": [
              "'qt'"
            ]
          },
          "execution_count": 8,
          "metadata": {},
          "output_type": "execute_result"
        }
      ],
      "source": [
        "import time\n",
        "import re\n",
        "from datetime import datetime, timezone\n",
        "\n",
        "import uuid\n",
        "from copy import deepcopy\n",
        "from typing import Dict, List, Tuple, Optional, Callable, Union, Any\n",
        "from nptyping import NDArray\n",
        "from matplotlib import pyplot as plt\n",
        "\n",
        "from pathlib import Path\n",
        "import numpy as np\n",
        "import pandas as pd\n",
        "from numpy.typing import NDArray\n",
        "\n",
        "import mne\n",
        "from mne import set_log_level\n",
        "from copy import deepcopy\n",
        "import mne\n",
        "\n",
        "from mne.io import read_raw\n",
        "\n",
        "datasets = []\n",
        "# mne.viz.set_browser_backend(\"Matplotlib\")\n",
        "mne.viz.set_browser_backend(\"qt\")\n",
        "\n",
        "from mne_lsl.player import PlayerLSL as Player\n",
        "from mne_lsl.stream import StreamLSL as Stream\n",
        "\n",
        "from phoofflineeeganalysis.analysis.MNE_helpers import MNEHelpers\n",
        "from phoofflineeeganalysis.analysis.historical_data import HistoricalData\n",
        "from phoofflineeeganalysis.analysis.motion_data import MotionData\n",
        "from phoofflineeeganalysis.analysis.EEG_data import EEGComputations, EEGData\n",
        "from phoofflineeeganalysis.analysis.anatomy_and_electrodes import ElectrodeHelper\n",
        "# from ..EegProcessing import bandpower\n",
        "# from phoofflineeeganalysis.EegProcessing import analyze_eeg_trends\n",
        "from phoofflineeeganalysis.EegVisualization import VisHelpers\n",
        "from phoofflineeeganalysis.analysis.SavedSessionsProcessor import SavedSessionsProcessor, SessionModality, DataModalityType\n",
        "\n",
        "set_log_level(\"WARNING\")\n",
        "\n",
        "\n",
        "# db_root_path = Path('/content/drive/MyDrive/Databases').resolve()\n",
        "db_root_path = Path(r'E:/Dropbox (Personal)/Databases').resolve()\n",
        "assert db_root_path.exists(), f\"'{db_root_path.as_posix()}' does not exist!\"\n",
        "\n",
        "# eeg_recordings_file_path: Path = Path(r'E:/Dropbox (Personal)/Databases/UnparsedData/EmotivEpocX_EEGRecordings/fif').resolve()\n",
        "# headset_motion_recordings_file_path: Path = Path(r'E:/Dropbox (Personal)/Databases/UnparsedData/EmotivEpocX_EEGRecordings/MOTION_RECORDINGS/fif').resolve()\n",
        "\n",
        "# assert eeg_recordings_file_path.exists()\n",
        "# assert headset_motion_recordings_file_path.exists()\n",
        "\n",
        "eeg_recordings_file_path: Path = db_root_path.joinpath('UnparsedData/EmotivEpocX_EEGRecordings/fif').resolve()\n",
        "flutter_eeg_recordings_file_path: Path = db_root_path.joinpath('UnparsedData/EmotivEEG_FlutterRecordings').resolve()\n",
        "flutter_motion_recordings_file_path: Path = db_root_path.joinpath('UnparsedData/EmotivEEG_FlutterRecordings/MOTION_RECORDINGS').resolve()\n",
        "flutter_GENERIC_recordings_file_path: Path = db_root_path.joinpath('UnparsedData/EmotivEEG_FlutterRecordings/GENERIC_RECORDINGS').resolve()\n",
        "\n",
        "headset_motion_recordings_file_path: Path = db_root_path.joinpath('UnparsedData/EmotivEpocX_EEGRecordings/MOTION_RECORDINGS/fif').resolve()\n",
        "WhisperVideoTranscripts_LSL_Converted = db_root_path.joinpath('UnparsedData/WhisperVideoTranscripts_LSL_Converted').resolve()\n",
        "pho_log_to_LSL_recordings_path: Path = db_root_path.joinpath('UnparsedData/PhoLogToLabStreamingLayer_logs').resolve()\n",
        "## These contain little LSL .fif files with names like: '20250808_062814_log.fif',\n",
        "\n",
        "eeg_analyzed_parent_export_path = db_root_path.joinpath('AnalysisData/MNE_preprocessed').resolve()\n",
        "pickled_data_path = db_root_path.joinpath('AnalysisData/MNE_preprocessed/PICKLED_COLLECTION').resolve()\n",
        "assert pickled_data_path.exists()\n",
        "\n",
        "\n",
        "# n_most_recent_sessions_to_preprocess: int = None # None means all sessions\n",
        "# n_most_recent_sessions_to_preprocess: int = 35\n",
        "# n_most_recent_sessions_to_preprocess: int = 5\n",
        "n_most_recent_sessions_to_preprocess = None\n"
      ]
    },
    {
      "cell_type": "markdown",
      "metadata": {},
      "source": [
        "# SavedSessionProcessor"
      ]
    },
    {
      "cell_type": "code",
      "execution_count": 9,
      "metadata": {
        "tags": [
          "run_group_main",
          "run_group_xdf_only"
        ]
      },
      "outputs": [],
      "source": [
        "\n",
        "sso: SavedSessionsProcessor = SavedSessionsProcessor(eeg_recordings_file_path=eeg_recordings_file_path,\n",
        "                                                     headset_motion_recordings_file_path=headset_motion_recordings_file_path, WhisperVideoTranscripts_LSL_Converted_file_path=WhisperVideoTranscripts_LSL_Converted, pho_log_to_LSL_recordings_path=pho_log_to_LSL_recordings_path,\n",
        "                                                    eeg_analyzed_parent_export_path=eeg_analyzed_parent_export_path, \n",
        "                                                     n_most_recent_sessions_to_preprocess=n_most_recent_sessions_to_preprocess, \n",
        "                                                    should_load_data=True, should_load_preprocessed=False,\n",
        "                                                    #  should_load_data=True, should_load_preprocessed=True,\n",
        "\t\t\t\t\t\t\t\t\t\t\t\t\t)"
      ]
    },
    {
      "cell_type": "markdown",
      "metadata": {},
      "source": [
        "# 2025-09-18 - LabRecorder XDF Imports"
      ]
    },
    {
      "cell_type": "code",
      "execution_count": 10,
      "metadata": {
        "tags": [
          "run_group_xdf_only"
        ]
      },
      "outputs": [
        {
          "name": "stdout",
          "output_type": "stream",
          "text": [
            "trying to process XDF file 0/39: \"E:/Dropbox (Personal)/Databases/UnparsedData/LabRecorderStudies/sub-P001/LabRecorder_2025-09-10T140840.440Z_eeg.xdf\"...\n",
            "\t failed with error: 1\n",
            "\tskipping file.\n",
            "trying to process XDF file 1/39: \"E:/Dropbox (Personal)/Databases/UnparsedData/LabRecorderStudies/sub-P001/LabRecorder_2025-09-10T153731.079Z_eeg.xdf\"...\n"
          ]
        },
        {
          "name": "stderr",
          "output_type": "stream",
          "text": [
            "Stream 3: Calculated effective sampling rate 32.0162 Hz is different from specified rate 16.0000 Hz.\n"
          ]
        },
        {
          "name": "stdout",
          "output_type": "stream",
          "text": [
            "saving finalized EEG data out to \"E:/Dropbox (Personal)/Databases/AnalysisData/MNE_preprocessed/LabRecorder_PostProcessed/2025-09-10T15-37-31.fif\"\n"
          ]
        },
        {
          "name": "stderr",
          "output_type": "stream",
          "text": [
            "C:\\Users\\pho\\repos\\EmotivEpoc\\PhoOfflineEEGAnalysis\\src\\phoofflineeeganalysis\\analysis\\SavedSessionsProcessor.py:981: RuntimeWarning: This filename (E:\\Dropbox (Personal)\\Databases\\AnalysisData\\MNE_preprocessed\\LabRecorder_PostProcessed\\2025-09-10T15-37-31.fif) does not conform to MNE naming conventions. All raw files should end with raw.fif, raw_sss.fif, raw_tsss.fif, _meg.fif, _eeg.fif, _ieeg.fif, raw.fif.gz, raw_sss.fif.gz, raw_tsss.fif.gz, _meg.fif.gz, _eeg.fif.gz or _ieeg.fif.gz\n",
            "  eeg_raw.save(a_lab_recorder_filepath, overwrite=True)\n"
          ]
        },
        {
          "name": "stdout",
          "output_type": "stream",
          "text": [
            "trying to process XDF file 2/39: \"E:/Dropbox (Personal)/Databases/UnparsedData/LabRecorderStudies/sub-P001/LabRecorder_2025-09-10T165236.402Z_eeg.xdf\"...\n"
          ]
        },
        {
          "name": "stderr",
          "output_type": "stream",
          "text": [
            "Stream 3: Calculated effective sampling rate 31.8602 Hz is different from specified rate 16.0000 Hz.\n",
            "Stream 2: Calculated effective sampling rate 19.5947 Hz is different from specified rate 16.0000 Hz.\n"
          ]
        },
        {
          "name": "stdout",
          "output_type": "stream",
          "text": [
            "\t failed with error: not enough values to unpack (expected 2, got 1)\n",
            "\tskipping file.\n",
            "trying to process XDF file 3/39: \"E:/Dropbox (Personal)/Databases/UnparsedData/LabRecorderStudies/sub-P001/LabRecorder_2025-09-11T014154.084Z_eeg.xdf\"...\n"
          ]
        },
        {
          "name": "stderr",
          "output_type": "stream",
          "text": [
            "C:\\Users\\pho\\repos\\EmotivEpoc\\PhoOfflineEEGAnalysis\\src\\phoofflineeeganalysis\\analysis\\SavedSessionsProcessor.py:981: RuntimeWarning: This filename (E:\\Dropbox (Personal)\\Databases\\AnalysisData\\MNE_preprocessed\\LabRecorder_PostProcessed\\2025-09-11T01-41-54.fif) does not conform to MNE naming conventions. All raw files should end with raw.fif, raw_sss.fif, raw_tsss.fif, _meg.fif, _eeg.fif, _ieeg.fif, raw.fif.gz, raw_sss.fif.gz, raw_tsss.fif.gz, _meg.fif.gz, _eeg.fif.gz or _ieeg.fif.gz\n",
            "  eeg_raw.save(a_lab_recorder_filepath, overwrite=True)\n"
          ]
        },
        {
          "name": "stdout",
          "output_type": "stream",
          "text": [
            "saving finalized EEG data out to \"E:/Dropbox (Personal)/Databases/AnalysisData/MNE_preprocessed/LabRecorder_PostProcessed/2025-09-11T01-41-54.fif\"\n",
            "trying to process XDF file 4/39: \"E:/Dropbox (Personal)/Databases/UnparsedData/LabRecorderStudies/sub-P001/LabRecorder_2025-09-11T101328.256Z_eeg.xdf\"...\n"
          ]
        },
        {
          "name": "stderr",
          "output_type": "stream",
          "text": [
            "Stream 2: Calculated effective sampling rate 32.0174 Hz is different from specified rate 16.0000 Hz.\n",
            "C:\\Users\\pho\\repos\\EmotivEpoc\\PhoOfflineEEGAnalysis\\src\\phoofflineeeganalysis\\analysis\\MNE_helpers.py:281: RuntimeWarning: Omitted 3460 annotation(s) that were outside data range.\n",
            "  raw.set_annotations(existing_annotations + new_annots)\n",
            "C:\\Users\\pho\\repos\\EmotivEpoc\\PhoOfflineEEGAnalysis\\src\\phoofflineeeganalysis\\analysis\\SavedSessionsProcessor.py:981: RuntimeWarning: This filename (E:\\Dropbox (Personal)\\Databases\\AnalysisData\\MNE_preprocessed\\LabRecorder_PostProcessed\\2025-09-11T10-13-28.fif) does not conform to MNE naming conventions. All raw files should end with raw.fif, raw_sss.fif, raw_tsss.fif, _meg.fif, _eeg.fif, _ieeg.fif, raw.fif.gz, raw_sss.fif.gz, raw_tsss.fif.gz, _meg.fif.gz, _eeg.fif.gz or _ieeg.fif.gz\n",
            "  eeg_raw.save(a_lab_recorder_filepath, overwrite=True)\n"
          ]
        },
        {
          "name": "stdout",
          "output_type": "stream",
          "text": [
            "saving finalized EEG data out to \"E:/Dropbox (Personal)/Databases/AnalysisData/MNE_preprocessed/LabRecorder_PostProcessed/2025-09-11T10-13-28.fif\"\n",
            "trying to process XDF file 5/39: \"E:/Dropbox (Personal)/Databases/UnparsedData/LabRecorderStudies/sub-P001/LabRecorder_2025-09-11T154549.460Z_eeg.xdf\"...\n"
          ]
        },
        {
          "name": "stderr",
          "output_type": "stream",
          "text": [
            "Stream 1: Calculated effective sampling rate 32.0164 Hz is different from specified rate 16.0000 Hz.\n",
            "C:\\Users\\pho\\repos\\EmotivEpoc\\PhoOfflineEEGAnalysis\\src\\phoofflineeeganalysis\\analysis\\MNE_helpers.py:281: RuntimeWarning: Omitted 2253 annotation(s) that were outside data range.\n",
            "  raw.set_annotations(existing_annotations + new_annots)\n",
            "C:\\Users\\pho\\repos\\EmotivEpoc\\PhoOfflineEEGAnalysis\\src\\phoofflineeeganalysis\\analysis\\SavedSessionsProcessor.py:981: RuntimeWarning: This filename (E:\\Dropbox (Personal)\\Databases\\AnalysisData\\MNE_preprocessed\\LabRecorder_PostProcessed\\2025-09-11T15-45-49.fif) does not conform to MNE naming conventions. All raw files should end with raw.fif, raw_sss.fif, raw_tsss.fif, _meg.fif, _eeg.fif, _ieeg.fif, raw.fif.gz, raw_sss.fif.gz, raw_tsss.fif.gz, _meg.fif.gz, _eeg.fif.gz or _ieeg.fif.gz\n",
            "  eeg_raw.save(a_lab_recorder_filepath, overwrite=True)\n"
          ]
        },
        {
          "name": "stdout",
          "output_type": "stream",
          "text": [
            "saving finalized EEG data out to \"E:/Dropbox (Personal)/Databases/AnalysisData/MNE_preprocessed/LabRecorder_PostProcessed/2025-09-11T15-45-49.fif\"\n",
            "trying to process XDF file 6/39: \"E:/Dropbox (Personal)/Databases/UnparsedData/LabRecorderStudies/sub-P001/LabRecorder_2025-09-12T220903.464Z_eeg.xdf\"...\n"
          ]
        },
        {
          "name": "stderr",
          "output_type": "stream",
          "text": [
            "Stream 2: Calculated effective sampling rate 31.9792 Hz is different from specified rate 16.0000 Hz.\n",
            "C:\\Users\\pho\\repos\\EmotivEpoc\\PhoOfflineEEGAnalysis\\src\\phoofflineeeganalysis\\analysis\\MNE_helpers.py:281: RuntimeWarning: Omitted 5710 annotation(s) that were outside data range.\n",
            "  raw.set_annotations(existing_annotations + new_annots)\n",
            "C:\\Users\\pho\\repos\\EmotivEpoc\\PhoOfflineEEGAnalysis\\src\\phoofflineeeganalysis\\analysis\\SavedSessionsProcessor.py:981: RuntimeWarning: This filename (E:\\Dropbox (Personal)\\Databases\\AnalysisData\\MNE_preprocessed\\LabRecorder_PostProcessed\\2025-09-12T22-09-03.fif) does not conform to MNE naming conventions. All raw files should end with raw.fif, raw_sss.fif, raw_tsss.fif, _meg.fif, _eeg.fif, _ieeg.fif, raw.fif.gz, raw_sss.fif.gz, raw_tsss.fif.gz, _meg.fif.gz, _eeg.fif.gz or _ieeg.fif.gz\n",
            "  eeg_raw.save(a_lab_recorder_filepath, overwrite=True)\n"
          ]
        },
        {
          "name": "stdout",
          "output_type": "stream",
          "text": [
            "saving finalized EEG data out to \"E:/Dropbox (Personal)/Databases/AnalysisData/MNE_preprocessed/LabRecorder_PostProcessed/2025-09-12T22-09-03.fif\"\n",
            "trying to process XDF file 7/39: \"E:/Dropbox (Personal)/Databases/UnparsedData/LabRecorderStudies/sub-P001/LabRecorder_2025-09-18T031842.989Z_eeg.xdf\"...\n"
          ]
        },
        {
          "name": "stderr",
          "output_type": "stream",
          "text": [
            "Stream 4: Calculated effective sampling rate 32.0071 Hz is different from specified rate 16.0000 Hz.\n",
            "C:\\Users\\pho\\repos\\EmotivEpoc\\PhoOfflineEEGAnalysis\\src\\phoofflineeeganalysis\\analysis\\MNE_helpers.py:281: RuntimeWarning: Omitted 4458 annotation(s) that were outside data range.\n",
            "  raw.set_annotations(existing_annotations + new_annots)\n",
            "C:\\Users\\pho\\repos\\EmotivEpoc\\PhoOfflineEEGAnalysis\\src\\phoofflineeeganalysis\\analysis\\SavedSessionsProcessor.py:981: RuntimeWarning: This filename (E:\\Dropbox (Personal)\\Databases\\AnalysisData\\MNE_preprocessed\\LabRecorder_PostProcessed\\2025-09-18T03-18-42.fif) does not conform to MNE naming conventions. All raw files should end with raw.fif, raw_sss.fif, raw_tsss.fif, _meg.fif, _eeg.fif, _ieeg.fif, raw.fif.gz, raw_sss.fif.gz, raw_tsss.fif.gz, _meg.fif.gz, _eeg.fif.gz or _ieeg.fif.gz\n",
            "  eeg_raw.save(a_lab_recorder_filepath, overwrite=True)\n"
          ]
        },
        {
          "name": "stdout",
          "output_type": "stream",
          "text": [
            "saving finalized EEG data out to \"E:/Dropbox (Personal)/Databases/AnalysisData/MNE_preprocessed/LabRecorder_PostProcessed/2025-09-18T03-18-42.fif\"\n",
            "trying to process XDF file 8/39: \"E:/Dropbox (Personal)/Databases/UnparsedData/LabRecorderStudies/sub-P001/LabRecorder_2025-09-18T121337.267Z_eeg.xdf\"...\n"
          ]
        },
        {
          "name": "stderr",
          "output_type": "stream",
          "text": [
            "Stream 4: Calculated effective sampling rate 31.9960 Hz is different from specified rate 16.0000 Hz.\n",
            "C:\\Users\\pho\\repos\\EmotivEpoc\\PhoOfflineEEGAnalysis\\src\\phoofflineeeganalysis\\analysis\\MNE_helpers.py:281: RuntimeWarning: Omitted 425 annotation(s) that were outside data range.\n",
            "  raw.set_annotations(existing_annotations + new_annots)\n",
            "C:\\Users\\pho\\repos\\EmotivEpoc\\PhoOfflineEEGAnalysis\\src\\phoofflineeeganalysis\\analysis\\SavedSessionsProcessor.py:981: RuntimeWarning: This filename (E:\\Dropbox (Personal)\\Databases\\AnalysisData\\MNE_preprocessed\\LabRecorder_PostProcessed\\2025-09-18T12-13-37.fif) does not conform to MNE naming conventions. All raw files should end with raw.fif, raw_sss.fif, raw_tsss.fif, _meg.fif, _eeg.fif, _ieeg.fif, raw.fif.gz, raw_sss.fif.gz, raw_tsss.fif.gz, _meg.fif.gz, _eeg.fif.gz or _ieeg.fif.gz\n",
            "  eeg_raw.save(a_lab_recorder_filepath, overwrite=True)\n"
          ]
        },
        {
          "name": "stdout",
          "output_type": "stream",
          "text": [
            "saving finalized EEG data out to \"E:/Dropbox (Personal)/Databases/AnalysisData/MNE_preprocessed/LabRecorder_PostProcessed/2025-09-18T12-13-37.fif\"\n",
            "trying to process XDF file 9/39: \"E:/Dropbox (Personal)/Databases/UnparsedData/LabRecorderStudies/sub-P001/LabRecorder_2025-09-18T122106.448Z_eeg.xdf\"...\n"
          ]
        },
        {
          "name": "stderr",
          "output_type": "stream",
          "text": [
            "Stream 4: Calculated effective sampling rate 32.0161 Hz is different from specified rate 16.0000 Hz.\n",
            "Stream 3: Calculated effective sampling rate 31.9752 Hz is different from specified rate 16.0000 Hz.\n"
          ]
        },
        {
          "name": "stdout",
          "output_type": "stream",
          "text": [
            "\t failed with error: not enough values to unpack (expected 2, got 1)\n",
            "\tskipping file.\n",
            "trying to process XDF file 10/39: \"E:/Dropbox (Personal)/Databases/UnparsedData/LabRecorderStudies/sub-P001/LabRecorder_2025-09-18T151803.959Z_eeg.xdf\"...\n",
            "\t failed with error: not enough values to unpack (expected 2, got 1)\n",
            "\tskipping file.\n",
            "trying to process XDF file 11/39: \"E:/Dropbox (Personal)/Databases/UnparsedData/LabRecorderStudies/sub-P001/LabRecorder_Apogee_2025-09-12T215537.892Z.xdf\"...\n"
          ]
        },
        {
          "name": "stderr",
          "output_type": "stream",
          "text": [
            "Stream 1: Calculated effective sampling rate 30.8338 Hz is different from specified rate 16.0000 Hz.\n",
            "C:\\Users\\pho\\repos\\EmotivEpoc\\PhoOfflineEEGAnalysis\\src\\phoofflineeeganalysis\\analysis\\MNE_helpers.py:281: RuntimeWarning: Omitted 526 annotation(s) that were outside data range.\n",
            "  raw.set_annotations(existing_annotations + new_annots)\n",
            "C:\\Users\\pho\\repos\\EmotivEpoc\\PhoOfflineEEGAnalysis\\src\\phoofflineeeganalysis\\analysis\\SavedSessionsProcessor.py:981: RuntimeWarning: This filename (E:\\Dropbox (Personal)\\Databases\\AnalysisData\\MNE_preprocessed\\LabRecorder_PostProcessed\\2025-09-12T21-55-37.fif) does not conform to MNE naming conventions. All raw files should end with raw.fif, raw_sss.fif, raw_tsss.fif, _meg.fif, _eeg.fif, _ieeg.fif, raw.fif.gz, raw_sss.fif.gz, raw_tsss.fif.gz, _meg.fif.gz, _eeg.fif.gz or _ieeg.fif.gz\n",
            "  eeg_raw.save(a_lab_recorder_filepath, overwrite=True)\n"
          ]
        },
        {
          "name": "stdout",
          "output_type": "stream",
          "text": [
            "saving finalized EEG data out to \"E:/Dropbox (Personal)/Databases/AnalysisData/MNE_preprocessed/LabRecorder_PostProcessed/2025-09-12T21-55-37.fif\"\n"
          ]
        },
        {
          "name": "stderr",
          "output_type": "stream",
          "text": [
            "Stream 3: Calculated effective sampling rate 31.7614 Hz is different from specified rate 16.0000 Hz.\n"
          ]
        },
        {
          "name": "stdout",
          "output_type": "stream",
          "text": [
            "trying to process XDF file 12/39: \"E:/Dropbox (Personal)/Databases/UnparsedData/LabRecorderStudies/sub-P001/LabRecorder_Apogee_2025-09-18T151839.043Z_eeg.xdf\"...\n"
          ]
        },
        {
          "name": "stderr",
          "output_type": "stream",
          "text": [
            "C:\\Users\\pho\\repos\\EmotivEpoc\\PhoOfflineEEGAnalysis\\src\\phoofflineeeganalysis\\analysis\\MNE_helpers.py:281: RuntimeWarning: Omitted 517 annotation(s) that were outside data range.\n",
            "  raw.set_annotations(existing_annotations + new_annots)\n",
            "C:\\Users\\pho\\repos\\EmotivEpoc\\PhoOfflineEEGAnalysis\\src\\phoofflineeeganalysis\\analysis\\SavedSessionsProcessor.py:981: RuntimeWarning: This filename (E:\\Dropbox (Personal)\\Databases\\AnalysisData\\MNE_preprocessed\\LabRecorder_PostProcessed\\2025-09-18T15-18-39.fif) does not conform to MNE naming conventions. All raw files should end with raw.fif, raw_sss.fif, raw_tsss.fif, _meg.fif, _eeg.fif, _ieeg.fif, raw.fif.gz, raw_sss.fif.gz, raw_tsss.fif.gz, _meg.fif.gz, _eeg.fif.gz or _ieeg.fif.gz\n",
            "  eeg_raw.save(a_lab_recorder_filepath, overwrite=True)\n"
          ]
        },
        {
          "name": "stdout",
          "output_type": "stream",
          "text": [
            "saving finalized EEG data out to \"E:/Dropbox (Personal)/Databases/AnalysisData/MNE_preprocessed/LabRecorder_PostProcessed/2025-09-18T15-18-39.fif\"\n",
            "trying to process XDF file 13/39: \"E:/Dropbox (Personal)/Databases/UnparsedData/LabRecorderStudies/sub-P001/LabRecorder_Apogee_2025-09-18T152308.395Z_eeg.xdf\"...\n"
          ]
        },
        {
          "name": "stderr",
          "output_type": "stream",
          "text": [
            "Stream 4: Calculated effective sampling rate 32.0176 Hz is different from specified rate 16.0000 Hz.\n",
            "C:\\Users\\pho\\repos\\EmotivEpoc\\PhoOfflineEEGAnalysis\\src\\phoofflineeeganalysis\\analysis\\MNE_helpers.py:281: RuntimeWarning: Omitted 2793 annotation(s) that were outside data range.\n",
            "  raw.set_annotations(existing_annotations + new_annots)\n",
            "C:\\Users\\pho\\repos\\EmotivEpoc\\PhoOfflineEEGAnalysis\\src\\phoofflineeeganalysis\\analysis\\SavedSessionsProcessor.py:981: RuntimeWarning: This filename (E:\\Dropbox (Personal)\\Databases\\AnalysisData\\MNE_preprocessed\\LabRecorder_PostProcessed\\2025-09-18T15-23-08.fif) does not conform to MNE naming conventions. All raw files should end with raw.fif, raw_sss.fif, raw_tsss.fif, _meg.fif, _eeg.fif, _ieeg.fif, raw.fif.gz, raw_sss.fif.gz, raw_tsss.fif.gz, _meg.fif.gz, _eeg.fif.gz or _ieeg.fif.gz\n",
            "  eeg_raw.save(a_lab_recorder_filepath, overwrite=True)\n"
          ]
        },
        {
          "name": "stdout",
          "output_type": "stream",
          "text": [
            "saving finalized EEG data out to \"E:/Dropbox (Personal)/Databases/AnalysisData/MNE_preprocessed/LabRecorder_PostProcessed/2025-09-18T15-23-08.fif\"\n"
          ]
        },
        {
          "name": "stderr",
          "output_type": "stream",
          "text": [
            "Stream 1: Calculated effective sampling rate 31.9888 Hz is different from specified rate 16.0000 Hz.\n"
          ]
        },
        {
          "name": "stdout",
          "output_type": "stream",
          "text": [
            "trying to process XDF file 14/39: \"E:/Dropbox (Personal)/Databases/UnparsedData/LabRecorderStudies/sub-P001/LabRecorder_Apogee_2025-09-18T200937.798Z_eeg.xdf\"...\n",
            "\t failed with error: not enough values to unpack (expected 2, got 1)\n",
            "\tskipping file.\n",
            "trying to process XDF file 15/39: \"E:/Dropbox (Personal)/Databases/UnparsedData/LabRecorderStudies/sub-P001/LabRecorder_Apogee_2025-09-18T201023.120Z_eeg.xdf\"...\n"
          ]
        },
        {
          "name": "stderr",
          "output_type": "stream",
          "text": [
            "Stream 1: Calculated effective sampling rate 31.9310 Hz is different from specified rate 16.0000 Hz.\n"
          ]
        },
        {
          "name": "stdout",
          "output_type": "stream",
          "text": [
            "\t failed with error: not enough values to unpack (expected 2, got 1)\n",
            "\tskipping file.\n",
            "trying to process XDF file 16/39: \"E:/Dropbox (Personal)/Databases/UnparsedData/LabRecorderStudies/sub-P001/LabRecorder_Apogee_2025-09-19T051346.012Z_eeg.xdf\"...\n"
          ]
        },
        {
          "name": "stderr",
          "output_type": "stream",
          "text": [
            "Stream 4: Calculated effective sampling rate 31.9233 Hz is different from specified rate 16.0000 Hz.\n",
            "C:\\Users\\pho\\repos\\EmotivEpoc\\PhoOfflineEEGAnalysis\\src\\phoofflineeeganalysis\\analysis\\MNE_helpers.py:281: RuntimeWarning: Omitted 3471 annotation(s) that were outside data range.\n",
            "  raw.set_annotations(existing_annotations + new_annots)\n",
            "C:\\Users\\pho\\repos\\EmotivEpoc\\PhoOfflineEEGAnalysis\\src\\phoofflineeeganalysis\\analysis\\SavedSessionsProcessor.py:981: RuntimeWarning: This filename (E:\\Dropbox (Personal)\\Databases\\AnalysisData\\MNE_preprocessed\\LabRecorder_PostProcessed\\2025-09-19T05-13-46.fif) does not conform to MNE naming conventions. All raw files should end with raw.fif, raw_sss.fif, raw_tsss.fif, _meg.fif, _eeg.fif, _ieeg.fif, raw.fif.gz, raw_sss.fif.gz, raw_tsss.fif.gz, _meg.fif.gz, _eeg.fif.gz or _ieeg.fif.gz\n",
            "  eeg_raw.save(a_lab_recorder_filepath, overwrite=True)\n"
          ]
        },
        {
          "name": "stdout",
          "output_type": "stream",
          "text": [
            "saving finalized EEG data out to \"E:/Dropbox (Personal)/Databases/AnalysisData/MNE_preprocessed/LabRecorder_PostProcessed/2025-09-19T05-13-46.fif\"\n",
            "trying to process XDF file 17/39: \"E:/Dropbox (Personal)/Databases/UnparsedData/LabRecorderStudies/sub-P001/LabRecorder_Apogee_2025-09-19T115508.257Z_eeg.xdf\"...\n"
          ]
        },
        {
          "name": "stderr",
          "output_type": "stream",
          "text": [
            "Stream 1: Calculated effective sampling rate 32.0176 Hz is different from specified rate 16.0000 Hz.\n"
          ]
        },
        {
          "name": "stdout",
          "output_type": "stream",
          "text": [
            "\t failed with error: not enough values to unpack (expected 2, got 1)\n",
            "\tskipping file.\n",
            "trying to process XDF file 18/39: \"E:/Dropbox (Personal)/Databases/UnparsedData/LabRecorderStudies/sub-P001/LabRecorder_Apogee_2025-09-19T205118.364Z_eeg.xdf\"...\n"
          ]
        },
        {
          "name": "stderr",
          "output_type": "stream",
          "text": [
            "Stream 1: Calculated effective sampling rate 32.0176 Hz is different from specified rate 16.0000 Hz.\n",
            "C:\\Users\\pho\\repos\\EmotivEpoc\\PhoOfflineEEGAnalysis\\src\\phoofflineeeganalysis\\analysis\\MNE_helpers.py:281: RuntimeWarning: Omitted 9106 annotation(s) that were outside data range.\n",
            "  raw.set_annotations(existing_annotations + new_annots)\n",
            "C:\\Users\\pho\\repos\\EmotivEpoc\\PhoOfflineEEGAnalysis\\src\\phoofflineeeganalysis\\analysis\\SavedSessionsProcessor.py:981: RuntimeWarning: This filename (E:\\Dropbox (Personal)\\Databases\\AnalysisData\\MNE_preprocessed\\LabRecorder_PostProcessed\\2025-09-19T20-51-18.fif) does not conform to MNE naming conventions. All raw files should end with raw.fif, raw_sss.fif, raw_tsss.fif, _meg.fif, _eeg.fif, _ieeg.fif, raw.fif.gz, raw_sss.fif.gz, raw_tsss.fif.gz, _meg.fif.gz, _eeg.fif.gz or _ieeg.fif.gz\n",
            "  eeg_raw.save(a_lab_recorder_filepath, overwrite=True)\n"
          ]
        },
        {
          "name": "stdout",
          "output_type": "stream",
          "text": [
            "saving finalized EEG data out to \"E:/Dropbox (Personal)/Databases/AnalysisData/MNE_preprocessed/LabRecorder_PostProcessed/2025-09-19T20-51-18.fif\"\n",
            "trying to process XDF file 19/39: \"E:/Dropbox (Personal)/Databases/UnparsedData/LabRecorderStudies/sub-P001/LabRecorder_Apogee_2025-09-20T214749.964Z_eeg.xdf\"...\n"
          ]
        },
        {
          "name": "stderr",
          "output_type": "stream",
          "text": [
            "Stream 2: Calculated effective sampling rate 31.9167 Hz is different from specified rate 16.0000 Hz.\n",
            "C:\\Users\\pho\\repos\\EmotivEpoc\\PhoOfflineEEGAnalysis\\src\\phoofflineeeganalysis\\analysis\\MNE_helpers.py:281: RuntimeWarning: Omitted 14289 annotation(s) that were outside data range.\n",
            "  raw.set_annotations(existing_annotations + new_annots)\n",
            "C:\\Users\\pho\\repos\\EmotivEpoc\\PhoOfflineEEGAnalysis\\src\\phoofflineeeganalysis\\analysis\\SavedSessionsProcessor.py:981: RuntimeWarning: This filename (E:\\Dropbox (Personal)\\Databases\\AnalysisData\\MNE_preprocessed\\LabRecorder_PostProcessed\\2025-09-20T21-47-49.fif) does not conform to MNE naming conventions. All raw files should end with raw.fif, raw_sss.fif, raw_tsss.fif, _meg.fif, _eeg.fif, _ieeg.fif, raw.fif.gz, raw_sss.fif.gz, raw_tsss.fif.gz, _meg.fif.gz, _eeg.fif.gz or _ieeg.fif.gz\n",
            "  eeg_raw.save(a_lab_recorder_filepath, overwrite=True)\n"
          ]
        },
        {
          "name": "stdout",
          "output_type": "stream",
          "text": [
            "saving finalized EEG data out to \"E:/Dropbox (Personal)/Databases/AnalysisData/MNE_preprocessed/LabRecorder_PostProcessed/2025-09-20T21-47-49.fif\"\n"
          ]
        },
        {
          "name": "stderr",
          "output_type": "stream",
          "text": [
            "Stream 4: Calculated effective sampling rate 32.0013 Hz is different from specified rate 16.0000 Hz.\n",
            "Stream 4: Calculated effective sampling rate 31.9913 Hz is different from specified rate 16.0000 Hz.\n"
          ]
        },
        {
          "name": "stdout",
          "output_type": "stream",
          "text": [
            "trying to process XDF file 20/39: \"E:/Dropbox (Personal)/Databases/UnparsedData/LabRecorderStudies/sub-P001/LabRecorder_Apogee_2025-09-21T002232.699Z_eeg.xdf\"...\n",
            "\t failed with error: not enough values to unpack (expected 2, got 1)\n",
            "\tskipping file.\n",
            "trying to process XDF file 21/39: \"E:/Dropbox (Personal)/Databases/UnparsedData/LabRecorderStudies/sub-P001/LabRecorder_Apogee_2025-09-21T002343.561Z_eeg.xdf\"...\n",
            "\t failed with error: not enough values to unpack (expected 2, got 1)\n",
            "\tskipping file.\n",
            "trying to process XDF file 22/39: \"E:/Dropbox (Personal)/Databases/UnparsedData/LabRecorderStudies/sub-P001/LabRecorder_Apogee_2025-09-21T002525.578Z_eeg.xdf\"...\n"
          ]
        },
        {
          "name": "stderr",
          "output_type": "stream",
          "text": [
            "Stream 3: Calculated effective sampling rate 31.8133 Hz is different from specified rate 16.0000 Hz.\n"
          ]
        },
        {
          "name": "stdout",
          "output_type": "stream",
          "text": [
            "\t failed with error: not enough values to unpack (expected 2, got 1)\n",
            "\tskipping file.\n",
            "trying to process XDF file 23/39: \"E:/Dropbox (Personal)/Databases/UnparsedData/LabRecorderStudies/sub-P001/LabRecorder_Apogee_2025-09-21T003051.428Z_eeg.xdf\"...\n"
          ]
        },
        {
          "name": "stderr",
          "output_type": "stream",
          "text": [
            "Stream 3: Calculated effective sampling rate 32.0174 Hz is different from specified rate 16.0000 Hz.\n",
            "C:\\Users\\pho\\repos\\EmotivEpoc\\PhoOfflineEEGAnalysis\\src\\phoofflineeeganalysis\\analysis\\MNE_helpers.py:281: RuntimeWarning: Omitted 6518 annotation(s) that were outside data range.\n",
            "  raw.set_annotations(existing_annotations + new_annots)\n",
            "C:\\Users\\pho\\repos\\EmotivEpoc\\PhoOfflineEEGAnalysis\\src\\phoofflineeeganalysis\\analysis\\SavedSessionsProcessor.py:981: RuntimeWarning: This filename (E:\\Dropbox (Personal)\\Databases\\AnalysisData\\MNE_preprocessed\\LabRecorder_PostProcessed\\2025-09-21T00-30-51.fif) does not conform to MNE naming conventions. All raw files should end with raw.fif, raw_sss.fif, raw_tsss.fif, _meg.fif, _eeg.fif, _ieeg.fif, raw.fif.gz, raw_sss.fif.gz, raw_tsss.fif.gz, _meg.fif.gz, _eeg.fif.gz or _ieeg.fif.gz\n",
            "  eeg_raw.save(a_lab_recorder_filepath, overwrite=True)\n"
          ]
        },
        {
          "name": "stdout",
          "output_type": "stream",
          "text": [
            "saving finalized EEG data out to \"E:/Dropbox (Personal)/Databases/AnalysisData/MNE_preprocessed/LabRecorder_PostProcessed/2025-09-21T00-30-51.fif\"\n",
            "trying to process XDF file 24/39: \"E:/Dropbox (Personal)/Databases/UnparsedData/LabRecorderStudies/sub-P001/LabRecorder_Apogee_2025-09-21T085541.696Z_eeg.xdf\"...\n"
          ]
        },
        {
          "name": "stderr",
          "output_type": "stream",
          "text": [
            "Stream 3: Calculated effective sampling rate 32.0144 Hz is different from specified rate 16.0000 Hz.\n",
            "C:\\Users\\pho\\repos\\EmotivEpoc\\PhoOfflineEEGAnalysis\\src\\phoofflineeeganalysis\\analysis\\MNE_helpers.py:281: RuntimeWarning: Omitted 2954 annotation(s) that were outside data range.\n",
            "  raw.set_annotations(existing_annotations + new_annots)\n",
            "C:\\Users\\pho\\repos\\EmotivEpoc\\PhoOfflineEEGAnalysis\\src\\phoofflineeeganalysis\\analysis\\SavedSessionsProcessor.py:981: RuntimeWarning: This filename (E:\\Dropbox (Personal)\\Databases\\AnalysisData\\MNE_preprocessed\\LabRecorder_PostProcessed\\2025-09-21T08-55-41.fif) does not conform to MNE naming conventions. All raw files should end with raw.fif, raw_sss.fif, raw_tsss.fif, _meg.fif, _eeg.fif, _ieeg.fif, raw.fif.gz, raw_sss.fif.gz, raw_tsss.fif.gz, _meg.fif.gz, _eeg.fif.gz or _ieeg.fif.gz\n",
            "  eeg_raw.save(a_lab_recorder_filepath, overwrite=True)\n"
          ]
        },
        {
          "name": "stdout",
          "output_type": "stream",
          "text": [
            "saving finalized EEG data out to \"E:/Dropbox (Personal)/Databases/AnalysisData/MNE_preprocessed/LabRecorder_PostProcessed/2025-09-21T08-55-41.fif\"\n",
            "trying to process XDF file 25/39: \"E:/Dropbox (Personal)/Databases/UnparsedData/LabRecorderStudies/sub-P001/LabRecorder_Apogee_2025-09-22T182649.051Z_eeg.xdf\"...\n"
          ]
        },
        {
          "name": "stderr",
          "output_type": "stream",
          "text": [
            "Stream 4: Calculated effective sampling rate 32.0182 Hz is different from specified rate 16.0000 Hz.\n"
          ]
        },
        {
          "name": "stdout",
          "output_type": "stream",
          "text": [
            "\t failed with error: 1\n",
            "\tskipping file.\n",
            "trying to process XDF file 26/39: \"E:/Dropbox (Personal)/Databases/UnparsedData/LabRecorderStudies/sub-P001/LabRecorder_Apogee_2025-09-22T213547.659Z_eeg.xdf\"...\n"
          ]
        },
        {
          "name": "stderr",
          "output_type": "stream",
          "text": [
            "Stream 3: Calculated effective sampling rate 31.9901 Hz is different from specified rate 16.0000 Hz.\n",
            "C:\\Users\\pho\\repos\\EmotivEpoc\\PhoOfflineEEGAnalysis\\src\\phoofflineeeganalysis\\analysis\\MNE_helpers.py:281: RuntimeWarning: Omitted 6125 annotation(s) that were outside data range.\n",
            "  raw.set_annotations(existing_annotations + new_annots)\n",
            "C:\\Users\\pho\\repos\\EmotivEpoc\\PhoOfflineEEGAnalysis\\src\\phoofflineeeganalysis\\analysis\\SavedSessionsProcessor.py:981: RuntimeWarning: This filename (E:\\Dropbox (Personal)\\Databases\\AnalysisData\\MNE_preprocessed\\LabRecorder_PostProcessed\\2025-09-22T21-35-47.fif) does not conform to MNE naming conventions. All raw files should end with raw.fif, raw_sss.fif, raw_tsss.fif, _meg.fif, _eeg.fif, _ieeg.fif, raw.fif.gz, raw_sss.fif.gz, raw_tsss.fif.gz, _meg.fif.gz, _eeg.fif.gz or _ieeg.fif.gz\n",
            "  eeg_raw.save(a_lab_recorder_filepath, overwrite=True)\n"
          ]
        },
        {
          "name": "stdout",
          "output_type": "stream",
          "text": [
            "saving finalized EEG data out to \"E:/Dropbox (Personal)/Databases/AnalysisData/MNE_preprocessed/LabRecorder_PostProcessed/2025-09-22T21-35-47.fif\"\n",
            "trying to process XDF file 27/39: \"E:/Dropbox (Personal)/Databases/UnparsedData/LabRecorderStudies/sub-P001/LabRecorder_Apogee_2025-09-23T141026.412Z_eeg.xdf\"...\n"
          ]
        },
        {
          "name": "stderr",
          "output_type": "stream",
          "text": [
            "Stream 1: Calculated effective sampling rate 30.5949 Hz is different from specified rate 16.0000 Hz.\n",
            "Stream 3: Calculated effective sampling rate 31.9945 Hz is different from specified rate 16.0000 Hz.\n",
            "C:\\Users\\pho\\repos\\EmotivEpoc\\PhoOfflineEEGAnalysis\\src\\phoofflineeeganalysis\\analysis\\SavedSessionsProcessor.py:981: RuntimeWarning: This filename (E:\\Dropbox (Personal)\\Databases\\AnalysisData\\MNE_preprocessed\\LabRecorder_PostProcessed\\2025-09-11T21-36-35.fif) does not conform to MNE naming conventions. All raw files should end with raw.fif, raw_sss.fif, raw_tsss.fif, _meg.fif, _eeg.fif, _ieeg.fif, raw.fif.gz, raw_sss.fif.gz, raw_tsss.fif.gz, _meg.fif.gz, _eeg.fif.gz or _ieeg.fif.gz\n",
            "  eeg_raw.save(a_lab_recorder_filepath, overwrite=True)\n"
          ]
        },
        {
          "name": "stdout",
          "output_type": "stream",
          "text": [
            "\t failed with error: not enough values to unpack (expected 2, got 1)\n",
            "\tskipping file.\n",
            "trying to process XDF file 28/39: \"E:/Dropbox (Personal)/Databases/UnparsedData/LabRecorderStudies/sub-P001/LabRecorder_rMBPPinkDot_2025-09-11T213635.043Z.xdf\"...\n",
            "saving finalized EEG data out to \"E:/Dropbox (Personal)/Databases/AnalysisData/MNE_preprocessed/LabRecorder_PostProcessed/2025-09-11T21-36-35.fif\"\n",
            "trying to process XDF file 29/39: \"E:/Dropbox (Personal)/Databases/UnparsedData/LabRecorderStudies/sub-P001/LabRecorder_rMBPPinkDot_2025-09-12T014018.162Z.xdf\"...\n"
          ]
        },
        {
          "name": "stderr",
          "output_type": "stream",
          "text": [
            "Stream 2: Calculated effective sampling rate 32.0028 Hz is different from specified rate 16.0000 Hz.\n"
          ]
        },
        {
          "name": "stdout",
          "output_type": "stream",
          "text": [
            "saving finalized EEG data out to \"E:/Dropbox (Personal)/Databases/AnalysisData/MNE_preprocessed/LabRecorder_PostProcessed/2025-09-12T01-40-18.fif\"\n"
          ]
        },
        {
          "name": "stderr",
          "output_type": "stream",
          "text": [
            "C:\\Users\\pho\\repos\\EmotivEpoc\\PhoOfflineEEGAnalysis\\src\\phoofflineeeganalysis\\analysis\\SavedSessionsProcessor.py:981: RuntimeWarning: This filename (E:\\Dropbox (Personal)\\Databases\\AnalysisData\\MNE_preprocessed\\LabRecorder_PostProcessed\\2025-09-12T01-40-18.fif) does not conform to MNE naming conventions. All raw files should end with raw.fif, raw_sss.fif, raw_tsss.fif, _meg.fif, _eeg.fif, _ieeg.fif, raw.fif.gz, raw_sss.fif.gz, raw_tsss.fif.gz, _meg.fif.gz, _eeg.fif.gz or _ieeg.fif.gz\n",
            "  eeg_raw.save(a_lab_recorder_filepath, overwrite=True)\n"
          ]
        },
        {
          "name": "stdout",
          "output_type": "stream",
          "text": [
            "trying to process XDF file 30/39: \"E:/Dropbox (Personal)/Databases/UnparsedData/LabRecorderStudies/sub-P001/LabRecorder_rMBPPinkDot_2025-09-13T021042.451Z.xdf\"...\n"
          ]
        },
        {
          "name": "stderr",
          "output_type": "stream",
          "text": [
            "Stream 1: Calculated effective sampling rate 30.1544 Hz is different from specified rate 16.0000 Hz.\n"
          ]
        },
        {
          "name": "stdout",
          "output_type": "stream",
          "text": [
            "saving finalized EEG data out to \"E:/Dropbox (Personal)/Databases/AnalysisData/MNE_preprocessed/LabRecorder_PostProcessed/2025-09-13T02-10-42.fif\"\n"
          ]
        },
        {
          "name": "stderr",
          "output_type": "stream",
          "text": [
            "C:\\Users\\pho\\repos\\EmotivEpoc\\PhoOfflineEEGAnalysis\\src\\phoofflineeeganalysis\\analysis\\SavedSessionsProcessor.py:981: RuntimeWarning: This filename (E:\\Dropbox (Personal)\\Databases\\AnalysisData\\MNE_preprocessed\\LabRecorder_PostProcessed\\2025-09-13T02-10-42.fif) does not conform to MNE naming conventions. All raw files should end with raw.fif, raw_sss.fif, raw_tsss.fif, _meg.fif, _eeg.fif, _ieeg.fif, raw.fif.gz, raw_sss.fif.gz, raw_tsss.fif.gz, _meg.fif.gz, _eeg.fif.gz or _ieeg.fif.gz\n",
            "  eeg_raw.save(a_lab_recorder_filepath, overwrite=True)\n"
          ]
        },
        {
          "name": "stdout",
          "output_type": "stream",
          "text": [
            "trying to process XDF file 31/39: \"E:/Dropbox (Personal)/Databases/UnparsedData/LabRecorderStudies/sub-P001/LabRecorder_rMBPPinkDot_2025-09-13T031209.598Z.xdf\"...\n"
          ]
        },
        {
          "name": "stderr",
          "output_type": "stream",
          "text": [
            "Stream 3: Calculated effective sampling rate 30.2498 Hz is different from specified rate 16.0000 Hz.\n"
          ]
        },
        {
          "name": "stdout",
          "output_type": "stream",
          "text": [
            "saving finalized EEG data out to \"E:/Dropbox (Personal)/Databases/AnalysisData/MNE_preprocessed/LabRecorder_PostProcessed/2025-09-13T03-12-09.fif\"\n"
          ]
        },
        {
          "name": "stderr",
          "output_type": "stream",
          "text": [
            "C:\\Users\\pho\\repos\\EmotivEpoc\\PhoOfflineEEGAnalysis\\src\\phoofflineeeganalysis\\analysis\\SavedSessionsProcessor.py:981: RuntimeWarning: This filename (E:\\Dropbox (Personal)\\Databases\\AnalysisData\\MNE_preprocessed\\LabRecorder_PostProcessed\\2025-09-13T03-12-09.fif) does not conform to MNE naming conventions. All raw files should end with raw.fif, raw_sss.fif, raw_tsss.fif, _meg.fif, _eeg.fif, _ieeg.fif, raw.fif.gz, raw_sss.fif.gz, raw_tsss.fif.gz, _meg.fif.gz, _eeg.fif.gz or _ieeg.fif.gz\n",
            "  eeg_raw.save(a_lab_recorder_filepath, overwrite=True)\n"
          ]
        },
        {
          "name": "stdout",
          "output_type": "stream",
          "text": [
            "trying to process XDF file 32/39: \"E:/Dropbox (Personal)/Databases/UnparsedData/LabRecorderStudies/sub-P001/LabRecorder_rMBPPinkDot_2025-09-19T001746.449Z.xdf\"...\n"
          ]
        },
        {
          "name": "stderr",
          "output_type": "stream",
          "text": [
            "Stream 3: Calculated effective sampling rate 30.9507 Hz is different from specified rate 16.0000 Hz.\n"
          ]
        },
        {
          "name": "stdout",
          "output_type": "stream",
          "text": [
            "saving finalized EEG data out to \"E:/Dropbox (Personal)/Databases/AnalysisData/MNE_preprocessed/LabRecorder_PostProcessed/2025-09-19T00-17-46.fif\"\n"
          ]
        },
        {
          "name": "stderr",
          "output_type": "stream",
          "text": [
            "C:\\Users\\pho\\repos\\EmotivEpoc\\PhoOfflineEEGAnalysis\\src\\phoofflineeeganalysis\\analysis\\SavedSessionsProcessor.py:981: RuntimeWarning: This filename (E:\\Dropbox (Personal)\\Databases\\AnalysisData\\MNE_preprocessed\\LabRecorder_PostProcessed\\2025-09-19T00-17-46.fif) does not conform to MNE naming conventions. All raw files should end with raw.fif, raw_sss.fif, raw_tsss.fif, _meg.fif, _eeg.fif, _ieeg.fif, raw.fif.gz, raw_sss.fif.gz, raw_tsss.fif.gz, _meg.fif.gz, _eeg.fif.gz or _ieeg.fif.gz\n",
            "  eeg_raw.save(a_lab_recorder_filepath, overwrite=True)\n"
          ]
        },
        {
          "name": "stdout",
          "output_type": "stream",
          "text": [
            "trying to process XDF file 33/39: \"E:/Dropbox (Personal)/Databases/UnparsedData/LabRecorderStudies/sub-P001/LabRecorder_rMBPPinkDot_2025-09-19T012938.518Z.xdf\"...\n"
          ]
        },
        {
          "name": "stderr",
          "output_type": "stream",
          "text": [
            "Stream 1: Calculated effective sampling rate 31.8991 Hz is different from specified rate 16.0000 Hz.\n"
          ]
        },
        {
          "name": "stdout",
          "output_type": "stream",
          "text": [
            "saving finalized EEG data out to \"E:/Dropbox (Personal)/Databases/AnalysisData/MNE_preprocessed/LabRecorder_PostProcessed/2025-09-19T01-29-38.fif\"\n"
          ]
        },
        {
          "name": "stderr",
          "output_type": "stream",
          "text": [
            "C:\\Users\\pho\\repos\\EmotivEpoc\\PhoOfflineEEGAnalysis\\src\\phoofflineeeganalysis\\analysis\\SavedSessionsProcessor.py:981: RuntimeWarning: This filename (E:\\Dropbox (Personal)\\Databases\\AnalysisData\\MNE_preprocessed\\LabRecorder_PostProcessed\\2025-09-19T01-29-38.fif) does not conform to MNE naming conventions. All raw files should end with raw.fif, raw_sss.fif, raw_tsss.fif, _meg.fif, _eeg.fif, _ieeg.fif, raw.fif.gz, raw_sss.fif.gz, raw_tsss.fif.gz, _meg.fif.gz, _eeg.fif.gz or _ieeg.fif.gz\n",
            "  eeg_raw.save(a_lab_recorder_filepath, overwrite=True)\n"
          ]
        },
        {
          "name": "stdout",
          "output_type": "stream",
          "text": [
            "trying to process XDF file 34/39: \"E:/Dropbox (Personal)/Databases/UnparsedData/LabRecorderStudies/sub-P001/LabRecorder_rMBPPinkDot_2025-09-19T015439.979Z.xdf\"...\n"
          ]
        },
        {
          "name": "stderr",
          "output_type": "stream",
          "text": [
            "Stream 1: Calculated effective sampling rate 32.0117 Hz is different from specified rate 16.0000 Hz.\n",
            "C:\\Users\\pho\\repos\\EmotivEpoc\\PhoOfflineEEGAnalysis\\src\\phoofflineeeganalysis\\analysis\\MNE_helpers.py:281: RuntimeWarning: Omitted 864 annotation(s) that were outside data range.\n",
            "  raw.set_annotations(existing_annotations + new_annots)\n",
            "C:\\Users\\pho\\repos\\EmotivEpoc\\PhoOfflineEEGAnalysis\\src\\phoofflineeeganalysis\\analysis\\SavedSessionsProcessor.py:981: RuntimeWarning: This filename (E:\\Dropbox (Personal)\\Databases\\AnalysisData\\MNE_preprocessed\\LabRecorder_PostProcessed\\2025-09-19T01-54-39.fif) does not conform to MNE naming conventions. All raw files should end with raw.fif, raw_sss.fif, raw_tsss.fif, _meg.fif, _eeg.fif, _ieeg.fif, raw.fif.gz, raw_sss.fif.gz, raw_tsss.fif.gz, _meg.fif.gz, _eeg.fif.gz or _ieeg.fif.gz\n",
            "  eeg_raw.save(a_lab_recorder_filepath, overwrite=True)\n"
          ]
        },
        {
          "name": "stdout",
          "output_type": "stream",
          "text": [
            "saving finalized EEG data out to \"E:/Dropbox (Personal)/Databases/AnalysisData/MNE_preprocessed/LabRecorder_PostProcessed/2025-09-19T01-54-39.fif\"\n",
            "trying to process XDF file 35/39: \"E:/Dropbox (Personal)/Databases/UnparsedData/LabRecorderStudies/sub-P001/LabRecorder_rMBPPinkDot_2025-09-19T022210.910Z.xdf\"...\n"
          ]
        },
        {
          "name": "stderr",
          "output_type": "stream",
          "text": [
            "Stream 1: Calculated effective sampling rate 32.0168 Hz is different from specified rate 16.0000 Hz.\n",
            "C:\\Users\\pho\\repos\\EmotivEpoc\\PhoOfflineEEGAnalysis\\src\\phoofflineeeganalysis\\analysis\\MNE_helpers.py:281: RuntimeWarning: Omitted 1563 annotation(s) that were outside data range.\n",
            "  raw.set_annotations(existing_annotations + new_annots)\n",
            "C:\\Users\\pho\\repos\\EmotivEpoc\\PhoOfflineEEGAnalysis\\src\\phoofflineeeganalysis\\analysis\\SavedSessionsProcessor.py:981: RuntimeWarning: This filename (E:\\Dropbox (Personal)\\Databases\\AnalysisData\\MNE_preprocessed\\LabRecorder_PostProcessed\\2025-09-19T02-22-10.fif) does not conform to MNE naming conventions. All raw files should end with raw.fif, raw_sss.fif, raw_tsss.fif, _meg.fif, _eeg.fif, _ieeg.fif, raw.fif.gz, raw_sss.fif.gz, raw_tsss.fif.gz, _meg.fif.gz, _eeg.fif.gz or _ieeg.fif.gz\n",
            "  eeg_raw.save(a_lab_recorder_filepath, overwrite=True)\n"
          ]
        },
        {
          "name": "stdout",
          "output_type": "stream",
          "text": [
            "saving finalized EEG data out to \"E:/Dropbox (Personal)/Databases/AnalysisData/MNE_preprocessed/LabRecorder_PostProcessed/2025-09-19T02-22-10.fif\"\n",
            "trying to process XDF file 36/39: \"E:/Dropbox (Personal)/Databases/UnparsedData/LabRecorderStudies/sub-P001/LabRecorder_rMBPPinkDot_2025-09-20T023803.932Z.xdf\"...\n"
          ]
        },
        {
          "name": "stderr",
          "output_type": "stream",
          "text": [
            "Stream 2: Calculated effective sampling rate 27.5594 Hz is different from specified rate 16.0000 Hz.\n"
          ]
        },
        {
          "name": "stdout",
          "output_type": "stream",
          "text": [
            "saving finalized EEG data out to \"E:/Dropbox (Personal)/Databases/AnalysisData/MNE_preprocessed/LabRecorder_PostProcessed/2025-09-20T02-38-03.fif\"\n"
          ]
        },
        {
          "name": "stderr",
          "output_type": "stream",
          "text": [
            "C:\\Users\\pho\\repos\\EmotivEpoc\\PhoOfflineEEGAnalysis\\src\\phoofflineeeganalysis\\analysis\\SavedSessionsProcessor.py:981: RuntimeWarning: This filename (E:\\Dropbox (Personal)\\Databases\\AnalysisData\\MNE_preprocessed\\LabRecorder_PostProcessed\\2025-09-20T02-38-03.fif) does not conform to MNE naming conventions. All raw files should end with raw.fif, raw_sss.fif, raw_tsss.fif, _meg.fif, _eeg.fif, _ieeg.fif, raw.fif.gz, raw_sss.fif.gz, raw_tsss.fif.gz, _meg.fif.gz, _eeg.fif.gz or _ieeg.fif.gz\n",
            "  eeg_raw.save(a_lab_recorder_filepath, overwrite=True)\n"
          ]
        },
        {
          "name": "stdout",
          "output_type": "stream",
          "text": [
            "trying to process XDF file 37/39: \"E:/Dropbox (Personal)/Databases/UnparsedData/LabRecorderStudies/sub-P001/LabRecorder_rMBP_2025-09-11T203807.731Z.xdf\"...\n"
          ]
        },
        {
          "name": "stderr",
          "output_type": "stream",
          "text": [
            "Stream 3: Calculated effective sampling rate 32.0160 Hz is different from specified rate 16.0000 Hz.\n"
          ]
        },
        {
          "name": "stdout",
          "output_type": "stream",
          "text": [
            "\t failed with error: not enough values to unpack (expected 2, got 1)\n",
            "\tskipping file.\n",
            "trying to process XDF file 38/39: \"E:/Dropbox (Personal)/Databases/UnparsedData/LabRecorderStudies/sub-P001/LabRecorder_rMBP_2025-09-11T210420.828Z.xdf\"...\n"
          ]
        },
        {
          "name": "stderr",
          "output_type": "stream",
          "text": [
            "Stream 4: Calculated effective sampling rate 32.0167 Hz is different from specified rate 16.0000 Hz.\n",
            "Stream 5: Calculated effective sampling rate 32.0166 Hz is different from specified rate 16.0000 Hz.\n"
          ]
        },
        {
          "name": "stdout",
          "output_type": "stream",
          "text": [
            "\t failed with error: orig_time should be the same to add/concatenate 2 annotations (got 2025-09-11 21:04:20+00:00 != None)\n",
            "\tskipping file.\n",
            "n_unique_xdf_datasets: 25\n"
          ]
        }
      ],
      "source": [
        "from phoofflineeeganalysis.analysis.EEG_data import EEGData\n",
        "from phoofflineeeganalysis.analysis.MNE_helpers import DatasetDatetimeBoundsRenderingMixin, RawArrayExtended, RawExtended, up_convert_raw_objects, up_convert_raw_obj\n",
        "from phoofflineeeganalysis.analysis.SavedSessionsProcessor import LabRecorderXDF, unwrap_single_element_listlike_if_needed\n",
        "\n",
        "\n",
        "lab_recorder_output_path = Path(r\"E:\\Dropbox (Personal)\\Databases\\UnparsedData\\LabRecorderStudies\\sub-P001\").resolve()\n",
        "assert lab_recorder_output_path.exists()\n",
        "\n",
        "labRecorder_PostProcessed_path: Path = sso.eeg_analyzed_parent_export_path.joinpath(f'LabRecorder_PostProcessed')\n",
        "labRecorder_PostProcessed_path.mkdir(exist_ok=True)\n",
        "\n",
        "should_write_final_merged_eeg_fif: bool = True\n",
        "# should_write_final_merged_eeg_fif: bool = False\n",
        "_out_eeg_raw, _out_xdf_stream_infos_df, lab_recorder_xdf_files = LabRecorderXDF.load_and_process_all(lab_recorder_output_path=lab_recorder_output_path, \n",
        "                                                                                                     labRecorder_PostProcessed_path=labRecorder_PostProcessed_path, should_write_final_merged_eeg_fif=should_write_final_merged_eeg_fif)\n",
        "xdf_dataset_indicies = np.unique(deepcopy(_out_xdf_stream_infos_df).reset_index(drop=False, inplace=False)['xdf_dataset_idx'].to_numpy())\n",
        "n_unique_xdf_datasets: int = len(xdf_dataset_indicies)\n",
        "print(f'n_unique_xdf_datasets: {n_unique_xdf_datasets}')\n"
      ]
    },
    {
      "cell_type": "code",
      "execution_count": 11,
      "metadata": {
        "tags": [
          "run_group_xdf_only"
        ]
      },
      "outputs": [
        {
          "data": {
            "text/html": [
              "<div>\n",
              "<style scoped>\n",
              "    .dataframe tbody tr th:only-of-type {\n",
              "        vertical-align: middle;\n",
              "    }\n",
              "\n",
              "    .dataframe tbody tr th {\n",
              "        vertical-align: top;\n",
              "    }\n",
              "\n",
              "    .dataframe thead th {\n",
              "        text-align: right;\n",
              "    }\n",
              "</style>\n",
              "<table border=\"1\" class=\"dataframe\">\n",
              "  <thead>\n",
              "    <tr style=\"text-align: right;\">\n",
              "      <th></th>\n",
              "      <th>name</th>\n",
              "      <th>fs</th>\n",
              "      <th>n_samples</th>\n",
              "      <th>n_channels</th>\n",
              "      <th>stream_id</th>\n",
              "      <th>effective_srate</th>\n",
              "      <th>hostname</th>\n",
              "      <th>source_id</th>\n",
              "      <th>channel_format</th>\n",
              "      <th>type</th>\n",
              "      <th>...</th>\n",
              "      <th>recording_day_date</th>\n",
              "      <th>duration_sec</th>\n",
              "      <th>created_at_dt</th>\n",
              "      <th>created_at_rel</th>\n",
              "      <th>first_timestamp_dt</th>\n",
              "      <th>first_timestamp_rel</th>\n",
              "      <th>last_timestamp_dt</th>\n",
              "      <th>last_timestamp_rel</th>\n",
              "      <th>duration_sec_check</th>\n",
              "      <th>duration_rel</th>\n",
              "    </tr>\n",
              "    <tr>\n",
              "      <th>xdf_dataset_idx</th>\n",
              "      <th></th>\n",
              "      <th></th>\n",
              "      <th></th>\n",
              "      <th></th>\n",
              "      <th></th>\n",
              "      <th></th>\n",
              "      <th></th>\n",
              "      <th></th>\n",
              "      <th></th>\n",
              "      <th></th>\n",
              "      <th></th>\n",
              "      <th></th>\n",
              "      <th></th>\n",
              "      <th></th>\n",
              "      <th></th>\n",
              "      <th></th>\n",
              "      <th></th>\n",
              "      <th></th>\n",
              "      <th></th>\n",
              "      <th></th>\n",
              "      <th></th>\n",
              "    </tr>\n",
              "  </thead>\n",
              "  <tbody>\n",
              "    <tr>\n",
              "      <th>0</th>\n",
              "      <td>Epoc X eQuality</td>\n",
              "      <td>128.0</td>\n",
              "      <td>333030</td>\n",
              "      <td>14</td>\n",
              "      <td>1</td>\n",
              "      <td>128.373095</td>\n",
              "      <td>EmotivVMApogee</td>\n",
              "      <td>Emotiv Epoc X_8_36353636353635363636373536353537</td>\n",
              "      <td>float32</td>\n",
              "      <td>Raw</td>\n",
              "      <td>...</td>\n",
              "      <td>2025-09-10 00:00:00+00:00</td>\n",
              "      <td>0 days 00:43:21.796875</td>\n",
              "      <td>2025-09-10 17:15:45.777074+00:00</td>\n",
              "      <td>0.068227</td>\n",
              "      <td>2025-09-10 17:19:57.910380800+00:00</td>\n",
              "      <td>0.071145</td>\n",
              "      <td>2025-09-10 18:03:12.432241900+00:00</td>\n",
              "      <td>0.101174</td>\n",
              "      <td>0 days 00:43:14.521861100</td>\n",
              "      <td>0.030029</td>\n",
              "    </tr>\n",
              "    <tr>\n",
              "      <th>0</th>\n",
              "      <td>Epoc X</td>\n",
              "      <td>128.0</td>\n",
              "      <td>333028</td>\n",
              "      <td>14</td>\n",
              "      <td>2</td>\n",
              "      <td>128.373095</td>\n",
              "      <td>EmotivVMApogee</td>\n",
              "      <td>Emotiv Epoc X_8_36353636353635363636373536353537</td>\n",
              "      <td>float32</td>\n",
              "      <td>EEG</td>\n",
              "      <td>...</td>\n",
              "      <td>2025-09-10 00:00:00+00:00</td>\n",
              "      <td>0 days 00:43:21.781250</td>\n",
              "      <td>2025-09-10 17:15:45.788452800+00:00</td>\n",
              "      <td>0.068227</td>\n",
              "      <td>2025-09-10 17:19:57.927472+00:00</td>\n",
              "      <td>0.071145</td>\n",
              "      <td>2025-09-10 18:03:12.432253800+00:00</td>\n",
              "      <td>0.101174</td>\n",
              "      <td>0 days 00:43:14.504781800</td>\n",
              "      <td>0.030029</td>\n",
              "    </tr>\n",
              "    <tr>\n",
              "      <th>0</th>\n",
              "      <td>Epoc X Motion</td>\n",
              "      <td>16.0</td>\n",
              "      <td>83063</td>\n",
              "      <td>6</td>\n",
              "      <td>3</td>\n",
              "      <td>32.016169</td>\n",
              "      <td>EmotivVMApogee</td>\n",
              "      <td>Emotiv Epoc X_8_36353636353635363636373536353537</td>\n",
              "      <td>float32</td>\n",
              "      <td>SIGNAL</td>\n",
              "      <td>...</td>\n",
              "      <td>2025-09-10 00:00:00+00:00</td>\n",
              "      <td>0 days 01:26:31.437500</td>\n",
              "      <td>2025-09-10 17:15:45.798384700+00:00</td>\n",
              "      <td>0.068227</td>\n",
              "      <td>2025-09-10 17:19:57.951104100+00:00</td>\n",
              "      <td>0.071145</td>\n",
              "      <td>2025-09-10 18:03:12.449342+00:00</td>\n",
              "      <td>0.101174</td>\n",
              "      <td>0 days 00:43:14.498237900</td>\n",
              "      <td>0.030029</td>\n",
              "    </tr>\n",
              "    <tr>\n",
              "      <th>1</th>\n",
              "      <td>Epoc X Motion</td>\n",
              "      <td>16.0</td>\n",
              "      <td>5440</td>\n",
              "      <td>6</td>\n",
              "      <td>2</td>\n",
              "      <td>19.594720</td>\n",
              "      <td>rMBP-16-2023.local</td>\n",
              "      <td>Emotiv Epoc X_8_36353636353635363636373536353537</td>\n",
              "      <td>float32</td>\n",
              "      <td>SIGNAL</td>\n",
              "      <td>...</td>\n",
              "      <td>2025-09-11 00:00:00+00:00</td>\n",
              "      <td>0 days 00:05:40</td>\n",
              "      <td>2025-09-16 13:15:16.039368664+00:00</td>\n",
              "      <td>5.481505</td>\n",
              "      <td>NaT</td>\n",
              "      <td>NaN</td>\n",
              "      <td>NaT</td>\n",
              "      <td>NaN</td>\n",
              "      <td>NaT</td>\n",
              "      <td>NaN</td>\n",
              "    </tr>\n",
              "    <tr>\n",
              "      <th>1</th>\n",
              "      <td>Epoc X eQuality</td>\n",
              "      <td>128.0</td>\n",
              "      <td>21800</td>\n",
              "      <td>14</td>\n",
              "      <td>3</td>\n",
              "      <td>126.501594</td>\n",
              "      <td>rMBP-16-2023.local</td>\n",
              "      <td>Emotiv Epoc X_8_36353636353635363636373536353537</td>\n",
              "      <td>float32</td>\n",
              "      <td>Raw</td>\n",
              "      <td>...</td>\n",
              "      <td>2025-09-11 00:00:00+00:00</td>\n",
              "      <td>0 days 00:02:50.312500</td>\n",
              "      <td>2025-09-16 13:15:16.016466427+00:00</td>\n",
              "      <td>5.481505</td>\n",
              "      <td>NaT</td>\n",
              "      <td>NaN</td>\n",
              "      <td>NaT</td>\n",
              "      <td>NaN</td>\n",
              "      <td>NaT</td>\n",
              "      <td>NaN</td>\n",
              "    </tr>\n",
              "    <tr>\n",
              "      <th>...</th>\n",
              "      <td>...</td>\n",
              "      <td>...</td>\n",
              "      <td>...</td>\n",
              "      <td>...</td>\n",
              "      <td>...</td>\n",
              "      <td>...</td>\n",
              "      <td>...</td>\n",
              "      <td>...</td>\n",
              "      <td>...</td>\n",
              "      <td>...</td>\n",
              "      <td>...</td>\n",
              "      <td>...</td>\n",
              "      <td>...</td>\n",
              "      <td>...</td>\n",
              "      <td>...</td>\n",
              "      <td>...</td>\n",
              "      <td>...</td>\n",
              "      <td>...</td>\n",
              "      <td>...</td>\n",
              "      <td>...</td>\n",
              "      <td>...</td>\n",
              "    </tr>\n",
              "    <tr>\n",
              "      <th>23</th>\n",
              "      <td>Epoc X</td>\n",
              "      <td>128.0</td>\n",
              "      <td>236038</td>\n",
              "      <td>14</td>\n",
              "      <td>3</td>\n",
              "      <td>128.400104</td>\n",
              "      <td>rMBP-PinkDot.local</td>\n",
              "      <td>Emotiv Epoc X_8_36353636353635363636373536353537</td>\n",
              "      <td>float32</td>\n",
              "      <td>EEG</td>\n",
              "      <td>...</td>\n",
              "      <td>2025-09-21 00:00:00+00:00</td>\n",
              "      <td>0 days 00:30:44.046875</td>\n",
              "      <td>2025-09-21 10:13:58.309235326+00:00</td>\n",
              "      <td>0.054367</td>\n",
              "      <td>2025-09-21 11:08:05.824650232+00:00</td>\n",
              "      <td>0.091954</td>\n",
              "      <td>2025-09-21 11:38:44.332823942+00:00</td>\n",
              "      <td>0.113233</td>\n",
              "      <td>0 days 00:30:38.508173710</td>\n",
              "      <td>0.021279</td>\n",
              "    </tr>\n",
              "    <tr>\n",
              "      <th>23</th>\n",
              "      <td>TextLogger</td>\n",
              "      <td>0.0</td>\n",
              "      <td>5</td>\n",
              "      <td>1</td>\n",
              "      <td>2</td>\n",
              "      <td>0.000000</td>\n",
              "      <td>Apogee</td>\n",
              "      <td>textlogger_001</td>\n",
              "      <td>string</td>\n",
              "      <td>Markers</td>\n",
              "      <td>...</td>\n",
              "      <td>2025-09-21 00:00:00+00:00</td>\n",
              "      <td>NaT</td>\n",
              "      <td>2025-09-21 10:43:17.263254200+00:00</td>\n",
              "      <td>0.074725</td>\n",
              "      <td>2025-09-21 11:14:23.115459500+00:00</td>\n",
              "      <td>0.096321</td>\n",
              "      <td>2025-09-21 11:41:36.181905700+00:00</td>\n",
              "      <td>0.115222</td>\n",
              "      <td>0 days 00:27:13.066446200</td>\n",
              "      <td>0.018901</td>\n",
              "    </tr>\n",
              "    <tr>\n",
              "      <th>24</th>\n",
              "      <td>Epoc X Motion</td>\n",
              "      <td>16.0</td>\n",
              "      <td>38219</td>\n",
              "      <td>6</td>\n",
              "      <td>2</td>\n",
              "      <td>27.559387</td>\n",
              "      <td>rMBP-PinkDot.local</td>\n",
              "      <td>Emotiv Epoc X_8_36353636353635363636373536353537</td>\n",
              "      <td>float32</td>\n",
              "      <td>SIGNAL</td>\n",
              "      <td>...</td>\n",
              "      <td>2025-09-22 00:00:00+00:00</td>\n",
              "      <td>0 days 00:39:48.687500</td>\n",
              "      <td>2025-09-24 00:02:47.827532591+00:00</td>\n",
              "      <td>1.102093</td>\n",
              "      <td>2025-09-24 00:04:04.804846451+00:00</td>\n",
              "      <td>1.102984</td>\n",
              "      <td>2025-09-24 00:26:40.282300291+00:00</td>\n",
              "      <td>1.118672</td>\n",
              "      <td>0 days 00:22:35.477453840</td>\n",
              "      <td>0.015688</td>\n",
              "    </tr>\n",
              "    <tr>\n",
              "      <th>24</th>\n",
              "      <td>Epoc X eQuality</td>\n",
              "      <td>128.0</td>\n",
              "      <td>153374</td>\n",
              "      <td>14</td>\n",
              "      <td>1</td>\n",
              "      <td>123.138975</td>\n",
              "      <td>rMBP-PinkDot.local</td>\n",
              "      <td>Emotiv Epoc X_8_36353636353635363636373536353537</td>\n",
              "      <td>float32</td>\n",
              "      <td>Raw</td>\n",
              "      <td>...</td>\n",
              "      <td>2025-09-22 00:00:00+00:00</td>\n",
              "      <td>0 days 00:19:58.234375</td>\n",
              "      <td>2025-09-24 00:02:47.804757762+00:00</td>\n",
              "      <td>1.102093</td>\n",
              "      <td>2025-09-24 00:04:04.796250227+00:00</td>\n",
              "      <td>1.102984</td>\n",
              "      <td>2025-09-24 00:26:40.293396048+00:00</td>\n",
              "      <td>1.118672</td>\n",
              "      <td>0 days 00:22:35.497145821</td>\n",
              "      <td>0.015689</td>\n",
              "    </tr>\n",
              "    <tr>\n",
              "      <th>24</th>\n",
              "      <td>Epoc X</td>\n",
              "      <td>128.0</td>\n",
              "      <td>153374</td>\n",
              "      <td>14</td>\n",
              "      <td>3</td>\n",
              "      <td>123.138975</td>\n",
              "      <td>rMBP-PinkDot.local</td>\n",
              "      <td>Emotiv Epoc X_8_36353636353635363636373536353537</td>\n",
              "      <td>float32</td>\n",
              "      <td>EEG</td>\n",
              "      <td>...</td>\n",
              "      <td>2025-09-22 00:00:00+00:00</td>\n",
              "      <td>0 days 00:19:58.234375</td>\n",
              "      <td>2025-09-24 00:02:47.816581995+00:00</td>\n",
              "      <td>1.102093</td>\n",
              "      <td>2025-09-24 00:04:04.796274947+00:00</td>\n",
              "      <td>1.102984</td>\n",
              "      <td>2025-09-24 00:26:40.293418499+00:00</td>\n",
              "      <td>1.118672</td>\n",
              "      <td>0 days 00:22:35.497143552</td>\n",
              "      <td>0.015689</td>\n",
              "    </tr>\n",
              "  </tbody>\n",
              "</table>\n",
              "<p>91 rows × 30 columns</p>\n",
              "</div>"
            ],
            "text/plain": [
              "                            name     fs  n_samples  n_channels  stream_id  \\\n",
              "xdf_dataset_idx                                                             \n",
              "0                Epoc X eQuality  128.0     333030          14          1   \n",
              "0                         Epoc X  128.0     333028          14          2   \n",
              "0                  Epoc X Motion   16.0      83063           6          3   \n",
              "1                  Epoc X Motion   16.0       5440           6          2   \n",
              "1                Epoc X eQuality  128.0      21800          14          3   \n",
              "...                          ...    ...        ...         ...        ...   \n",
              "23                        Epoc X  128.0     236038          14          3   \n",
              "23                    TextLogger    0.0          5           1          2   \n",
              "24                 Epoc X Motion   16.0      38219           6          2   \n",
              "24               Epoc X eQuality  128.0     153374          14          1   \n",
              "24                        Epoc X  128.0     153374          14          3   \n",
              "\n",
              "                 effective_srate            hostname  \\\n",
              "xdf_dataset_idx                                        \n",
              "0                     128.373095      EmotivVMApogee   \n",
              "0                     128.373095      EmotivVMApogee   \n",
              "0                      32.016169      EmotivVMApogee   \n",
              "1                      19.594720  rMBP-16-2023.local   \n",
              "1                     126.501594  rMBP-16-2023.local   \n",
              "...                          ...                 ...   \n",
              "23                    128.400104  rMBP-PinkDot.local   \n",
              "23                      0.000000              Apogee   \n",
              "24                     27.559387  rMBP-PinkDot.local   \n",
              "24                    123.138975  rMBP-PinkDot.local   \n",
              "24                    123.138975  rMBP-PinkDot.local   \n",
              "\n",
              "                                                        source_id  \\\n",
              "xdf_dataset_idx                                                     \n",
              "0                Emotiv Epoc X_8_36353636353635363636373536353537   \n",
              "0                Emotiv Epoc X_8_36353636353635363636373536353537   \n",
              "0                Emotiv Epoc X_8_36353636353635363636373536353537   \n",
              "1                Emotiv Epoc X_8_36353636353635363636373536353537   \n",
              "1                Emotiv Epoc X_8_36353636353635363636373536353537   \n",
              "...                                                           ...   \n",
              "23               Emotiv Epoc X_8_36353636353635363636373536353537   \n",
              "23                                                 textlogger_001   \n",
              "24               Emotiv Epoc X_8_36353636353635363636373536353537   \n",
              "24               Emotiv Epoc X_8_36353636353635363636373536353537   \n",
              "24               Emotiv Epoc X_8_36353636353635363636373536353537   \n",
              "\n",
              "                channel_format     type  ...        recording_day_date  \\\n",
              "xdf_dataset_idx                          ...                             \n",
              "0                      float32      Raw  ... 2025-09-10 00:00:00+00:00   \n",
              "0                      float32      EEG  ... 2025-09-10 00:00:00+00:00   \n",
              "0                      float32   SIGNAL  ... 2025-09-10 00:00:00+00:00   \n",
              "1                      float32   SIGNAL  ... 2025-09-11 00:00:00+00:00   \n",
              "1                      float32      Raw  ... 2025-09-11 00:00:00+00:00   \n",
              "...                        ...      ...  ...                       ...   \n",
              "23                     float32      EEG  ... 2025-09-21 00:00:00+00:00   \n",
              "23                      string  Markers  ... 2025-09-21 00:00:00+00:00   \n",
              "24                     float32   SIGNAL  ... 2025-09-22 00:00:00+00:00   \n",
              "24                     float32      Raw  ... 2025-09-22 00:00:00+00:00   \n",
              "24                     float32      EEG  ... 2025-09-22 00:00:00+00:00   \n",
              "\n",
              "                          duration_sec                       created_at_dt  \\\n",
              "xdf_dataset_idx                                                              \n",
              "0               0 days 00:43:21.796875    2025-09-10 17:15:45.777074+00:00   \n",
              "0               0 days 00:43:21.781250 2025-09-10 17:15:45.788452800+00:00   \n",
              "0               0 days 01:26:31.437500 2025-09-10 17:15:45.798384700+00:00   \n",
              "1                      0 days 00:05:40 2025-09-16 13:15:16.039368664+00:00   \n",
              "1               0 days 00:02:50.312500 2025-09-16 13:15:16.016466427+00:00   \n",
              "...                                ...                                 ...   \n",
              "23              0 days 00:30:44.046875 2025-09-21 10:13:58.309235326+00:00   \n",
              "23                                 NaT 2025-09-21 10:43:17.263254200+00:00   \n",
              "24              0 days 00:39:48.687500 2025-09-24 00:02:47.827532591+00:00   \n",
              "24              0 days 00:19:58.234375 2025-09-24 00:02:47.804757762+00:00   \n",
              "24              0 days 00:19:58.234375 2025-09-24 00:02:47.816581995+00:00   \n",
              "\n",
              "                created_at_rel                  first_timestamp_dt  \\\n",
              "xdf_dataset_idx                                                      \n",
              "0                     0.068227 2025-09-10 17:19:57.910380800+00:00   \n",
              "0                     0.068227    2025-09-10 17:19:57.927472+00:00   \n",
              "0                     0.068227 2025-09-10 17:19:57.951104100+00:00   \n",
              "1                     5.481505                                 NaT   \n",
              "1                     5.481505                                 NaT   \n",
              "...                        ...                                 ...   \n",
              "23                    0.054367 2025-09-21 11:08:05.824650232+00:00   \n",
              "23                    0.074725 2025-09-21 11:14:23.115459500+00:00   \n",
              "24                    1.102093 2025-09-24 00:04:04.804846451+00:00   \n",
              "24                    1.102093 2025-09-24 00:04:04.796250227+00:00   \n",
              "24                    1.102093 2025-09-24 00:04:04.796274947+00:00   \n",
              "\n",
              "                first_timestamp_rel                   last_timestamp_dt  \\\n",
              "xdf_dataset_idx                                                           \n",
              "0                          0.071145 2025-09-10 18:03:12.432241900+00:00   \n",
              "0                          0.071145 2025-09-10 18:03:12.432253800+00:00   \n",
              "0                          0.071145    2025-09-10 18:03:12.449342+00:00   \n",
              "1                               NaN                                 NaT   \n",
              "1                               NaN                                 NaT   \n",
              "...                             ...                                 ...   \n",
              "23                         0.091954 2025-09-21 11:38:44.332823942+00:00   \n",
              "23                         0.096321 2025-09-21 11:41:36.181905700+00:00   \n",
              "24                         1.102984 2025-09-24 00:26:40.282300291+00:00   \n",
              "24                         1.102984 2025-09-24 00:26:40.293396048+00:00   \n",
              "24                         1.102984 2025-09-24 00:26:40.293418499+00:00   \n",
              "\n",
              "                last_timestamp_rel        duration_sec_check duration_rel  \n",
              "xdf_dataset_idx                                                            \n",
              "0                         0.101174 0 days 00:43:14.521861100     0.030029  \n",
              "0                         0.101174 0 days 00:43:14.504781800     0.030029  \n",
              "0                         0.101174 0 days 00:43:14.498237900     0.030029  \n",
              "1                              NaN                       NaT          NaN  \n",
              "1                              NaN                       NaT          NaN  \n",
              "...                            ...                       ...          ...  \n",
              "23                        0.113233 0 days 00:30:38.508173710     0.021279  \n",
              "23                        0.115222 0 days 00:27:13.066446200     0.018901  \n",
              "24                        1.118672 0 days 00:22:35.477453840     0.015688  \n",
              "24                        1.118672 0 days 00:22:35.497145821     0.015689  \n",
              "24                        1.118672 0 days 00:22:35.497143552     0.015689  \n",
              "\n",
              "[91 rows x 30 columns]"
            ]
          },
          "execution_count": 11,
          "metadata": {},
          "output_type": "execute_result"
        }
      ],
      "source": [
        "from phoofflineeeganalysis.analysis.SavedSessionsProcessor import XDFDataStreamAccessor\n",
        "\n",
        "\n",
        "_out_xdf_stream_infos_df: pd.DataFrame = XDFDataStreamAccessor.init_from_results(_out_xdf_stream_infos_df=_out_xdf_stream_infos_df, active_only_out_eeg_raws=_out_eeg_raw) # [_out_xdf_stream_infos_df['name'] == 'Epoc X']\n",
        "_out_xdf_stream_infos_df"
      ]
    },
    {
      "cell_type": "code",
      "execution_count": null,
      "metadata": {},
      "outputs": [],
      "source": [
        "# from pyphoplacecellanalysis.GUI.PyQtPlot.Widgets.SpikeRasterWidgets.Spike2DRaster import Spike2DRaster, SynchronizedPlotMode"
      ]
    },
    {
      "cell_type": "code",
      "execution_count": null,
      "metadata": {},
      "outputs": [],
      "source": [
        "_out_xdf_stream_infos_df"
      ]
    },
    {
      "cell_type": "code",
      "execution_count": null,
      "metadata": {},
      "outputs": [],
      "source": [
        "len(_out_xdf_stream_infos_df)\n",
        "_out_xdf_stream_infos_df.loc[0]"
      ]
    },
    {
      "cell_type": "code",
      "execution_count": null,
      "metadata": {},
      "outputs": [],
      "source": [
        "_out_eeg_raw"
      ]
    },
    {
      "cell_type": "markdown",
      "metadata": {},
      "source": [
        "# Run Batch Computations on `_out_eeg_raw`"
      ]
    },
    {
      "cell_type": "code",
      "execution_count": null,
      "metadata": {},
      "outputs": [],
      "source": [
        "num_sessions: int = len(_out_eeg_raw)\n",
        "num_sessions\n",
        "\n",
        "\n",
        "results_dict = {}\n",
        "\n",
        "for an_xdf_dataset_idx in np.arange(num_sessions):\n",
        "    a_raw = deepcopy(_out_eeg_raw[an_xdf_dataset_idx])\n",
        "    a_raw.down_convert_to_base_type()\n",
        "    results_dict[an_xdf_dataset_idx] "
      ]
    },
    {
      "cell_type": "markdown",
      "metadata": {},
      "source": [
        "## Common Setup"
      ]
    },
    {
      "cell_type": "code",
      "execution_count": null,
      "metadata": {},
      "outputs": [],
      "source": [
        "a_raw = deepcopy(_out_eeg_raw[-3])\n",
        "a_raw.down_convert_to_base_type()"
      ]
    },
    {
      "cell_type": "code",
      "execution_count": null,
      "metadata": {},
      "outputs": [],
      "source": [
        "## INPUT: fixed_len_epochs\n",
        "freqs = np.arange(5., 40., 1.0)\n",
        "# Define frequencies and number of cycles\n",
        "# freqs = np.logspace(*np.log10([2, 40]), num=20)\n",
        "n_cycles = freqs / 2.0 # A common approach is to use a fixed number of cycles or a value that increases with frequency.\n",
        "\n",
        "freqs\n",
        "n_cycles"
      ]
    },
    {
      "cell_type": "code",
      "execution_count": null,
      "metadata": {},
      "outputs": [],
      "source": [
        "from pyphoplacecellanalysis.GUI.PyQtPlot.BinnedImageRenderingWindow import BasicBinnedImageRenderingWindow, LayoutScrollability\n"
      ]
    },
    {
      "cell_type": "markdown",
      "metadata": {},
      "source": [
        "### Fixed Length Epoch-based:"
      ]
    },
    {
      "cell_type": "code",
      "execution_count": null,
      "metadata": {},
      "outputs": [],
      "source": [
        "from phoofflineeeganalysis.analysis.MNE_helpers import RawExtended, RawArrayExtended\n",
        "\n",
        "## INPUT: a_raw\n",
        "fixed_len_epochs = mne.make_fixed_length_epochs(a_raw, duration=8, preload=True, reject_by_annotation=False)\n",
        "fixed_len_epochs\n",
        "\t"
      ]
    },
    {
      "cell_type": "code",
      "execution_count": null,
      "metadata": {},
      "outputs": [],
      "source": [
        "## INPUT: fixed_len_epochs\n",
        "freqs = np.arange(5., 40., 1.0)\n",
        "\n",
        "# Define frequencies and number of cycles\n",
        "# freqs = np.logspace(*np.log10([2, 40]), num=20)\n",
        "n_cycles = freqs / 2.0 # A common approach is to use a fixed number of cycles or a value that increases with frequency.\n",
        "\n",
        "# n_cycles = np.linspace(3,10,len(freqs))\n"
      ]
    },
    {
      "cell_type": "code",
      "execution_count": null,
      "metadata": {},
      "outputs": [],
      "source": [
        "\n",
        "\n",
        "# Compute time-frequency power using Morlet wavelets -- NO EPOCHS, RAW DATA\n",
        "# power = a_raw.compute_tfr(method=\"morlet\",\n",
        "power = mne.time_frequency.tfr_morlet(\n",
        "    fixed_len_epochs,\n",
        "    freqs=freqs,\n",
        "    n_cycles=n_cycles,\n",
        "    return_itc=False,\n",
        "    average=False, # Compute TFR on continuous data without averaging\n",
        "    # average=True, # Compute TFR on continuous data without averaging\n",
        "    decim=3, # Decimate the output for faster computation and smaller file size\n",
        "    n_jobs=-1 # Use 1 core for this example\n",
        ")\n",
        "power"
      ]
    },
    {
      "cell_type": "code",
      "execution_count": null,
      "metadata": {},
      "outputs": [],
      "source": [
        "## Array version:\n",
        "from mne.time_frequency import tfr_array_morlet\n",
        "\n",
        "# get raw data (channels × time)\n",
        "data = fixed_len_epochs.get_data() # shape: (n_epochs, n_channels, n_times)\n",
        "print(f'np.shape(data): {np.shape(data)}')\n",
        "# run morlet on continuous data\n",
        "power: NDArray = tfr_array_morlet(\n",
        "    data=data,\n",
        "    sfreq=fixed_len_epochs.info['sfreq'],\n",
        "    freqs=freqs,\n",
        "    n_cycles=n_cycles,\n",
        "    output='power',\n",
        "    decim=3,\n",
        "    n_jobs=-1\n",
        ")\n",
        "\n",
        "# power shape: (n_epochs=1, n_channels, n_freqs, n_times)\n",
        "power = np.squeeze(power) ## remove epoch\n",
        "print(f'np.shape(power): {np.shape(power)}')\n",
        "\n",
        "# np.shape(data): (593, 14, 1024)\n",
        "# np.shape(power): (593, 14, 20, 342)"
      ]
    },
    {
      "cell_type": "code",
      "execution_count": null,
      "metadata": {},
      "outputs": [],
      "source": [
        "import h5py\n",
        "\n",
        "repo_data_folder_path = Path(r\"C:\\Users\\pho\\repos\\EmotivEpoc\\PhoLabStreamingReceiver\\data\").resolve()\n",
        "\n",
        "h5_file_path = repo_data_folder_path.joinpath(f'2025-09-21_exported_sess.h5').resolve()\n",
        "\n",
        "print(f'writing to \"{h5_file_path.as_posix()}\"')\n",
        "\n",
        "# raw_data = a_raw.get_data() # (14, 607857)\n",
        "# np.shape(raw_data)\n"
      ]
    },
    {
      "cell_type": "code",
      "execution_count": null,
      "metadata": {},
      "outputs": [],
      "source": [
        "with h5py.File(h5_file_path, \"w\") as f:\n",
        "    \n",
        "    d0 = f.create_dataset(\"raw\", data=raw_data)\n",
        "    d0.attrs[\"dim_labels\"] = [\"channels\", \"time\"]\n",
        "\n",
        "    d1 = f.create_dataset(\"epoched\", data=data)\n",
        "    d1.attrs[\"dim_labels\"] = [\"epochs\", \"channels\", \"time\"]\n",
        "\n",
        "    d2 = f.create_dataset(\"power\", data=power)\n",
        "    d2.attrs[\"dim_labels\"] = [\"epochs\", \"channels\", \"time\", \"frequency\"]\n",
        "\n",
        "\n",
        "print(f'done! wrote to \"{h5_file_path.as_uri()}\"')"
      ]
    },
    {
      "cell_type": "markdown",
      "metadata": {},
      "source": [
        "# ACTIVE: refine the active raws and compute them"
      ]
    },
    {
      "cell_type": "code",
      "execution_count": 12,
      "metadata": {
        "tags": [
          "run_group_xdf_only"
        ]
      },
      "outputs": [],
      "source": [
        "from phoofflineeeganalysis.analysis.EEG_data import EEGComputations, EEGData\n",
        "from phoofflineeeganalysis.PendingNotebookCode import batch_compute_all_eeg_datasets, render_all_spectograms_to_high_quality_pdfs, plot_all_spectograms\n",
        "from phoofflineeeganalysis.PendingNotebookCode import plot_session_spectogram\n",
        "## INPUTS: _out_eeg_raw\n",
        "# Process only the last 5 datasets using 4 workers:\n",
        "active_only_out_eeg_raws, results = batch_compute_all_eeg_datasets(eeg_raws=_out_eeg_raw, limit_num_items=150, max_workers = 4)\n",
        "\n",
        "## OUTPUTS: active_only_out_eeg_raws, results\n",
        "# 1m 19.8s for 25 sessions"
      ]
    },
    {
      "cell_type": "code",
      "execution_count": null,
      "metadata": {},
      "outputs": [],
      "source": [
        "from phoofflineeeganalysis.analysis.SavedSessionsProcessor import XDFDataStreamAccessor\n",
        "\n",
        "num_sessions: int = len(results)\n",
        "num_sessions\n",
        "\n",
        "# xdf_stream_infos_df: pd.DataFrame = XDFDataStreamAccessor.init_from_results(_out_xdf_stream_infos_df=_out_xdf_stream_infos_df, active_only_out_eeg_raws=active_only_out_eeg_raws)\n",
        "xdf_stream_infos_df: pd.DataFrame = XDFDataStreamAccessor.init_from_results(_out_xdf_stream_infos_df=_out_xdf_stream_infos_df, active_only_out_eeg_raws=active_only_out_eeg_raws)\n",
        "# xdf_stream_infos_df: pd.DataFrame = XDFDataStreamAccessor.init_from_results(_out_xdf_stream_infos_df=_out_xdf_stream_infos_df[_out_xdf_stream_infos_df['name'] == 'Epoc X'], active_only_out_eeg_raws=active_only_out_eeg_raws)\n",
        "xdf_stream_infos_df"
      ]
    },
    {
      "cell_type": "code",
      "execution_count": 22,
      "metadata": {},
      "outputs": [
        {
          "data": {
            "application/javascript": "(function(root) {\n  function now() {\n    return new Date();\n  }\n\n  var force = true;\n  var py_version = '3.4.3'.replace('rc', '-rc.').replace('.dev', '-dev.');\n  var reloading = false;\n  var Bokeh = root.Bokeh;\n\n  if (typeof (root._bokeh_timeout) === \"undefined\" || force) {\n    root._bokeh_timeout = Date.now() + 5000;\n    root._bokeh_failed_load = false;\n  }\n\n  function run_callbacks() {\n    try {\n      root._bokeh_onload_callbacks.forEach(function(callback) {\n        if (callback != null)\n          callback();\n      });\n    } finally {\n      delete root._bokeh_onload_callbacks;\n    }\n    console.debug(\"Bokeh: all callbacks have finished\");\n  }\n\n  function load_libs(css_urls, js_urls, js_modules, js_exports, callback) {\n    if (css_urls == null) css_urls = [];\n    if (js_urls == null) js_urls = [];\n    if (js_modules == null) js_modules = [];\n    if (js_exports == null) js_exports = {};\n\n    root._bokeh_onload_callbacks.push(callback);\n\n    if (root._bokeh_is_loading > 0) {\n      console.debug(\"Bokeh: BokehJS is being loaded, scheduling callback at\", now());\n      return null;\n    }\n    if (js_urls.length === 0 && js_modules.length === 0 && Object.keys(js_exports).length === 0) {\n      run_callbacks();\n      return null;\n    }\n    if (!reloading) {\n      console.debug(\"Bokeh: BokehJS not loaded, scheduling load and callback at\", now());\n    }\n\n    function on_load() {\n      root._bokeh_is_loading--;\n      if (root._bokeh_is_loading === 0) {\n        console.debug(\"Bokeh: all BokehJS libraries/stylesheets loaded\");\n        run_callbacks()\n      }\n    }\n    window._bokeh_on_load = on_load\n\n    function on_error() {\n      console.error(\"failed to load \" + url);\n    }\n\n    var skip = [];\n    if (window.requirejs) {\n      window.requirejs.config({'packages': {}, 'paths': {}, 'shim': {}});\n      root._bokeh_is_loading = css_urls.length + 0;\n    } else {\n      root._bokeh_is_loading = css_urls.length + js_urls.length + js_modules.length + Object.keys(js_exports).length;\n    }\n\n    var existing_stylesheets = []\n    var links = document.getElementsByTagName('link')\n    for (var i = 0; i < links.length; i++) {\n      var link = links[i]\n      if (link.href != null) {\n\texisting_stylesheets.push(link.href)\n      }\n    }\n    for (var i = 0; i < css_urls.length; i++) {\n      var url = css_urls[i];\n      if (existing_stylesheets.indexOf(url) !== -1) {\n\ton_load()\n\tcontinue;\n      }\n      const element = document.createElement(\"link\");\n      element.onload = on_load;\n      element.onerror = on_error;\n      element.rel = \"stylesheet\";\n      element.type = \"text/css\";\n      element.href = url;\n      console.debug(\"Bokeh: injecting link tag for BokehJS stylesheet: \", url);\n      document.body.appendChild(element);\n    }    var existing_scripts = []\n    var scripts = document.getElementsByTagName('script')\n    for (var i = 0; i < scripts.length; i++) {\n      var script = scripts[i]\n      if (script.src != null) {\n\texisting_scripts.push(script.src)\n      }\n    }\n    for (var i = 0; i < js_urls.length; i++) {\n      var url = js_urls[i];\n      if (skip.indexOf(url) !== -1 || existing_scripts.indexOf(url) !== -1) {\n\tif (!window.requirejs) {\n\t  on_load();\n\t}\n\tcontinue;\n      }\n      var element = document.createElement('script');\n      element.onload = on_load;\n      element.onerror = on_error;\n      element.async = false;\n      element.src = url;\n      console.debug(\"Bokeh: injecting script tag for BokehJS library: \", url);\n      document.head.appendChild(element);\n    }\n    for (var i = 0; i < js_modules.length; i++) {\n      var url = js_modules[i];\n      if (skip.indexOf(url) !== -1 || existing_scripts.indexOf(url) !== -1) {\n\tif (!window.requirejs) {\n\t  on_load();\n\t}\n\tcontinue;\n      }\n      var element = document.createElement('script');\n      element.onload = on_load;\n      element.onerror = on_error;\n      element.async = false;\n      element.src = url;\n      element.type = \"module\";\n      console.debug(\"Bokeh: injecting script tag for BokehJS library: \", url);\n      document.head.appendChild(element);\n    }\n    for (const name in js_exports) {\n      var url = js_exports[name];\n      if (skip.indexOf(url) >= 0 || root[name] != null) {\n\tif (!window.requirejs) {\n\t  on_load();\n\t}\n\tcontinue;\n      }\n      var element = document.createElement('script');\n      element.onerror = on_error;\n      element.async = false;\n      element.type = \"module\";\n      console.debug(\"Bokeh: injecting script tag for BokehJS library: \", url);\n      element.textContent = `\n      import ${name} from \"${url}\"\n      window.${name} = ${name}\n      window._bokeh_on_load()\n      `\n      document.head.appendChild(element);\n    }\n    if (!js_urls.length && !js_modules.length) {\n      on_load()\n    }\n  };\n\n  function inject_raw_css(css) {\n    const element = document.createElement(\"style\");\n    element.appendChild(document.createTextNode(css));\n    document.body.appendChild(element);\n  }\n\n  var js_urls = [\"https://cdn.bokeh.org/bokeh/release/bokeh-3.4.3.min.js\", \"https://cdn.bokeh.org/bokeh/release/bokeh-gl-3.4.3.min.js\", \"https://cdn.bokeh.org/bokeh/release/bokeh-widgets-3.4.3.min.js\", \"https://cdn.bokeh.org/bokeh/release/bokeh-tables-3.4.3.min.js\", \"https://cdn.holoviz.org/panel/1.4.5/dist/panel.min.js\"];\n  var js_modules = [];\n  var js_exports = {};\n  var css_urls = [];\n  var inline_js = [    function(Bokeh) {\n      Bokeh.set_log_level(\"info\");\n    },\nfunction(Bokeh) {} // ensure no trailing comma for IE\n  ];\n\n  function run_inline_js() {\n    if ((root.Bokeh !== undefined) || (force === true)) {\n      for (var i = 0; i < inline_js.length; i++) {\n\ttry {\n          inline_js[i].call(root, root.Bokeh);\n\t} catch(e) {\n\t  if (!reloading) {\n\t    throw e;\n\t  }\n\t}\n      }\n      // Cache old bokeh versions\n      if (Bokeh != undefined && !reloading) {\n\tvar NewBokeh = root.Bokeh;\n\tif (Bokeh.versions === undefined) {\n\t  Bokeh.versions = new Map();\n\t}\n\tif (NewBokeh.version !== Bokeh.version) {\n\t  Bokeh.versions.set(NewBokeh.version, NewBokeh)\n\t}\n\troot.Bokeh = Bokeh;\n      }} else if (Date.now() < root._bokeh_timeout) {\n      setTimeout(run_inline_js, 100);\n    } else if (!root._bokeh_failed_load) {\n      console.log(\"Bokeh: BokehJS failed to load within specified timeout.\");\n      root._bokeh_failed_load = true;\n    }\n    root._bokeh_is_initializing = false\n  }\n\n  function load_or_wait() {\n    // Implement a backoff loop that tries to ensure we do not load multiple\n    // versions of Bokeh and its dependencies at the same time.\n    // In recent versions we use the root._bokeh_is_initializing flag\n    // to determine whether there is an ongoing attempt to initialize\n    // bokeh, however for backward compatibility we also try to ensure\n    // that we do not start loading a newer (Panel>=1.0 and Bokeh>3) version\n    // before older versions are fully initialized.\n    if (root._bokeh_is_initializing && Date.now() > root._bokeh_timeout) {\n      root._bokeh_is_initializing = false;\n      root._bokeh_onload_callbacks = undefined;\n      console.log(\"Bokeh: BokehJS was loaded multiple times but one version failed to initialize.\");\n      load_or_wait();\n    } else if (root._bokeh_is_initializing || (typeof root._bokeh_is_initializing === \"undefined\" && root._bokeh_onload_callbacks !== undefined)) {\n      setTimeout(load_or_wait, 100);\n    } else {\n      root._bokeh_is_initializing = true\n      root._bokeh_onload_callbacks = []\n      var bokeh_loaded = Bokeh != null && (Bokeh.version === py_version || (Bokeh.versions !== undefined && Bokeh.versions.has(py_version)));\n      if (!reloading && !bokeh_loaded) {\n\troot.Bokeh = undefined;\n      }\n      load_libs(css_urls, js_urls, js_modules, js_exports, function() {\n\tconsole.debug(\"Bokeh: BokehJS plotting callback run at\", now());\n\trun_inline_js();\n      });\n    }\n  }\n  // Give older versions of the autoload script a head-start to ensure\n  // they initialize before we start loading newer version.\n  setTimeout(load_or_wait, 100)\n}(window));",
            "application/vnd.holoviews_load.v0+json": ""
          },
          "metadata": {},
          "output_type": "display_data"
        },
        {
          "data": {
            "application/javascript": "\nif ((window.PyViz === undefined) || (window.PyViz instanceof HTMLElement)) {\n  window.PyViz = {comms: {}, comm_status:{}, kernels:{}, receivers: {}, plot_index: []}\n}\n\n\n    function JupyterCommManager() {\n    }\n\n    JupyterCommManager.prototype.register_target = function(plot_id, comm_id, msg_handler) {\n      if (window.comm_manager || ((window.Jupyter !== undefined) && (Jupyter.notebook.kernel != null))) {\n        var comm_manager = window.comm_manager || Jupyter.notebook.kernel.comm_manager;\n        comm_manager.register_target(comm_id, function(comm) {\n          comm.on_msg(msg_handler);\n        });\n      } else if ((plot_id in window.PyViz.kernels) && (window.PyViz.kernels[plot_id])) {\n        window.PyViz.kernels[plot_id].registerCommTarget(comm_id, function(comm) {\n          comm.onMsg = msg_handler;\n        });\n      } else if (typeof google != 'undefined' && google.colab.kernel != null) {\n        google.colab.kernel.comms.registerTarget(comm_id, (comm) => {\n          var messages = comm.messages[Symbol.asyncIterator]();\n          function processIteratorResult(result) {\n            var message = result.value;\n            var content = {data: message.data, comm_id};\n            var buffers = []\n            for (var buffer of message.buffers || []) {\n              buffers.push(new DataView(buffer))\n            }\n            var metadata = message.metadata || {};\n            var msg = {content, buffers, metadata}\n            msg_handler(msg);\n            return messages.next().then(processIteratorResult);\n          }\n          return messages.next().then(processIteratorResult);\n        })\n      }\n    }\n\n    JupyterCommManager.prototype.get_client_comm = function(plot_id, comm_id, msg_handler) {\n      if (comm_id in window.PyViz.comms) {\n        return window.PyViz.comms[comm_id];\n      } else if (window.comm_manager || ((window.Jupyter !== undefined) && (Jupyter.notebook.kernel != null))) {\n        var comm_manager = window.comm_manager || Jupyter.notebook.kernel.comm_manager;\n        var comm = comm_manager.new_comm(comm_id, {}, {}, {}, comm_id);\n        if (msg_handler) {\n          comm.on_msg(msg_handler);\n        }\n      } else if ((plot_id in window.PyViz.kernels) && (window.PyViz.kernels[plot_id])) {\n        var comm = window.PyViz.kernels[plot_id].connectToComm(comm_id);\n        let retries = 0;\n        const open = () => {\n          if (comm.active) {\n            comm.open();\n          } else if (retries > 3) {\n            console.warn('Comm target never activated')\n          } else {\n            retries += 1\n            setTimeout(open, 500)\n          }\n        }\n        if (comm.active) {\n          comm.open();\n        } else {\n          setTimeout(open, 500)\n        }\n        if (msg_handler) {\n          comm.onMsg = msg_handler;\n        }\n      } else if (typeof google != 'undefined' && google.colab.kernel != null) {\n        var comm_promise = google.colab.kernel.comms.open(comm_id)\n        comm_promise.then((comm) => {\n          window.PyViz.comms[comm_id] = comm;\n          if (msg_handler) {\n            var messages = comm.messages[Symbol.asyncIterator]();\n            function processIteratorResult(result) {\n              var message = result.value;\n              var content = {data: message.data};\n              var metadata = message.metadata || {comm_id};\n              var msg = {content, metadata}\n              msg_handler(msg);\n              return messages.next().then(processIteratorResult);\n            }\n            return messages.next().then(processIteratorResult);\n          }\n        })\n        var sendClosure = (data, metadata, buffers, disposeOnDone) => {\n          return comm_promise.then((comm) => {\n            comm.send(data, metadata, buffers, disposeOnDone);\n          });\n        };\n        var comm = {\n          send: sendClosure\n        };\n      }\n      window.PyViz.comms[comm_id] = comm;\n      return comm;\n    }\n    window.PyViz.comm_manager = new JupyterCommManager();\n    \n\n\nvar JS_MIME_TYPE = 'application/javascript';\nvar HTML_MIME_TYPE = 'text/html';\nvar EXEC_MIME_TYPE = 'application/vnd.holoviews_exec.v0+json';\nvar CLASS_NAME = 'output';\n\n/**\n * Render data to the DOM node\n */\nfunction render(props, node) {\n  var div = document.createElement(\"div\");\n  var script = document.createElement(\"script\");\n  node.appendChild(div);\n  node.appendChild(script);\n}\n\n/**\n * Handle when a new output is added\n */\nfunction handle_add_output(event, handle) {\n  var output_area = handle.output_area;\n  var output = handle.output;\n  if ((output.data == undefined) || (!output.data.hasOwnProperty(EXEC_MIME_TYPE))) {\n    return\n  }\n  var id = output.metadata[EXEC_MIME_TYPE][\"id\"];\n  var toinsert = output_area.element.find(\".\" + CLASS_NAME.split(' ')[0]);\n  if (id !== undefined) {\n    var nchildren = toinsert.length;\n    var html_node = toinsert[nchildren-1].children[0];\n    html_node.innerHTML = output.data[HTML_MIME_TYPE];\n    var scripts = [];\n    var nodelist = html_node.querySelectorAll(\"script\");\n    for (var i in nodelist) {\n      if (nodelist.hasOwnProperty(i)) {\n        scripts.push(nodelist[i])\n      }\n    }\n\n    scripts.forEach( function (oldScript) {\n      var newScript = document.createElement(\"script\");\n      var attrs = [];\n      var nodemap = oldScript.attributes;\n      for (var j in nodemap) {\n        if (nodemap.hasOwnProperty(j)) {\n          attrs.push(nodemap[j])\n        }\n      }\n      attrs.forEach(function(attr) { newScript.setAttribute(attr.name, attr.value) });\n      newScript.appendChild(document.createTextNode(oldScript.innerHTML));\n      oldScript.parentNode.replaceChild(newScript, oldScript);\n    });\n    if (JS_MIME_TYPE in output.data) {\n      toinsert[nchildren-1].children[1].textContent = output.data[JS_MIME_TYPE];\n    }\n    output_area._hv_plot_id = id;\n    if ((window.Bokeh !== undefined) && (id in Bokeh.index)) {\n      window.PyViz.plot_index[id] = Bokeh.index[id];\n    } else {\n      window.PyViz.plot_index[id] = null;\n    }\n  } else if (output.metadata[EXEC_MIME_TYPE][\"server_id\"] !== undefined) {\n    var bk_div = document.createElement(\"div\");\n    bk_div.innerHTML = output.data[HTML_MIME_TYPE];\n    var script_attrs = bk_div.children[0].attributes;\n    for (var i = 0; i < script_attrs.length; i++) {\n      toinsert[toinsert.length - 1].childNodes[1].setAttribute(script_attrs[i].name, script_attrs[i].value);\n    }\n    // store reference to server id on output_area\n    output_area._bokeh_server_id = output.metadata[EXEC_MIME_TYPE][\"server_id\"];\n  }\n}\n\n/**\n * Handle when an output is cleared or removed\n */\nfunction handle_clear_output(event, handle) {\n  var id = handle.cell.output_area._hv_plot_id;\n  var server_id = handle.cell.output_area._bokeh_server_id;\n  if (((id === undefined) || !(id in PyViz.plot_index)) && (server_id !== undefined)) { return; }\n  var comm = window.PyViz.comm_manager.get_client_comm(\"hv-extension-comm\", \"hv-extension-comm\", function () {});\n  if (server_id !== null) {\n    comm.send({event_type: 'server_delete', 'id': server_id});\n    return;\n  } else if (comm !== null) {\n    comm.send({event_type: 'delete', 'id': id});\n  }\n  delete PyViz.plot_index[id];\n  if ((window.Bokeh !== undefined) & (id in window.Bokeh.index)) {\n    var doc = window.Bokeh.index[id].model.document\n    doc.clear();\n    const i = window.Bokeh.documents.indexOf(doc);\n    if (i > -1) {\n      window.Bokeh.documents.splice(i, 1);\n    }\n  }\n}\n\n/**\n * Handle kernel restart event\n */\nfunction handle_kernel_cleanup(event, handle) {\n  delete PyViz.comms[\"hv-extension-comm\"];\n  window.PyViz.plot_index = {}\n}\n\n/**\n * Handle update_display_data messages\n */\nfunction handle_update_output(event, handle) {\n  handle_clear_output(event, {cell: {output_area: handle.output_area}})\n  handle_add_output(event, handle)\n}\n\nfunction register_renderer(events, OutputArea) {\n  function append_mime(data, metadata, element) {\n    // create a DOM node to render to\n    var toinsert = this.create_output_subarea(\n    metadata,\n    CLASS_NAME,\n    EXEC_MIME_TYPE\n    );\n    this.keyboard_manager.register_events(toinsert);\n    // Render to node\n    var props = {data: data, metadata: metadata[EXEC_MIME_TYPE]};\n    render(props, toinsert[0]);\n    element.append(toinsert);\n    return toinsert\n  }\n\n  events.on('output_added.OutputArea', handle_add_output);\n  events.on('output_updated.OutputArea', handle_update_output);\n  events.on('clear_output.CodeCell', handle_clear_output);\n  events.on('delete.Cell', handle_clear_output);\n  events.on('kernel_ready.Kernel', handle_kernel_cleanup);\n\n  OutputArea.prototype.register_mime_type(EXEC_MIME_TYPE, append_mime, {\n    safe: true,\n    index: 0\n  });\n}\n\nif (window.Jupyter !== undefined) {\n  try {\n    var events = require('base/js/events');\n    var OutputArea = require('notebook/js/outputarea').OutputArea;\n    if (OutputArea.prototype.mime_types().indexOf(EXEC_MIME_TYPE) == -1) {\n      register_renderer(events, OutputArea);\n    }\n  } catch(err) {\n  }\n}\n",
            "application/vnd.holoviews_load.v0+json": ""
          },
          "metadata": {},
          "output_type": "display_data"
        },
        {
          "data": {
            "text/html": [
              "<style>*[data-root-id],\n",
              "*[data-root-id] > * {\n",
              "  box-sizing: border-box;\n",
              "  font-family: var(--jp-ui-font-family);\n",
              "  font-size: var(--jp-ui-font-size1);\n",
              "  color: var(--vscode-editor-foreground, var(--jp-ui-font-color1));\n",
              "}\n",
              "\n",
              "/* Override VSCode background color */\n",
              ".cell-output-ipywidget-background:has(\n",
              "    > .cell-output-ipywidget-background > .lm-Widget > *[data-root-id]\n",
              "  ),\n",
              ".cell-output-ipywidget-background:has(> .lm-Widget > *[data-root-id]) {\n",
              "  background-color: transparent !important;\n",
              "}\n",
              "</style>"
            ]
          },
          "metadata": {},
          "output_type": "display_data"
        },
        {
          "data": {
            "application/vnd.holoviews_exec.v0+json": "",
            "text/html": [
              "<div id='b9017e9b-4c16-4490-99b5-cb344e9e8774'>\n",
              "  <div id=\"da8177c9-3b8c-4bc8-bc75-678f83ee066c\" data-root-id=\"b9017e9b-4c16-4490-99b5-cb344e9e8774\" style=\"display: contents;\"></div>\n",
              "</div>\n",
              "<script type=\"application/javascript\">(function(root) {\n",
              "  var docs_json = {\"3fbf3b60-7042-4758-82a6-18b9b79835c5\":{\"version\":\"3.4.3\",\"title\":\"Bokeh Application\",\"roots\":[{\"type\":\"object\",\"name\":\"panel.models.browser.BrowserInfo\",\"id\":\"b9017e9b-4c16-4490-99b5-cb344e9e8774\"},{\"type\":\"object\",\"name\":\"panel.models.comm_manager.CommManager\",\"id\":\"addee17e-1c68-4ecc-b94e-1e16d828730f\",\"attributes\":{\"plot_id\":\"b9017e9b-4c16-4490-99b5-cb344e9e8774\",\"comm_id\":\"eb92208d933e4ee2b95757bd49300ec0\",\"client_comm_id\":\"c6eecb4053db409ebda9a5a5a8e4d0e0\"}}],\"defs\":[{\"type\":\"model\",\"name\":\"ReactiveHTML1\"},{\"type\":\"model\",\"name\":\"FlexBox1\",\"properties\":[{\"name\":\"align_content\",\"kind\":\"Any\",\"default\":\"flex-start\"},{\"name\":\"align_items\",\"kind\":\"Any\",\"default\":\"flex-start\"},{\"name\":\"flex_direction\",\"kind\":\"Any\",\"default\":\"row\"},{\"name\":\"flex_wrap\",\"kind\":\"Any\",\"default\":\"wrap\"},{\"name\":\"gap\",\"kind\":\"Any\",\"default\":\"\"},{\"name\":\"justify_content\",\"kind\":\"Any\",\"default\":\"flex-start\"}]},{\"type\":\"model\",\"name\":\"FloatPanel1\",\"properties\":[{\"name\":\"config\",\"kind\":\"Any\",\"default\":{\"type\":\"map\"}},{\"name\":\"contained\",\"kind\":\"Any\",\"default\":true},{\"name\":\"position\",\"kind\":\"Any\",\"default\":\"right-top\"},{\"name\":\"offsetx\",\"kind\":\"Any\",\"default\":null},{\"name\":\"offsety\",\"kind\":\"Any\",\"default\":null},{\"name\":\"theme\",\"kind\":\"Any\",\"default\":\"primary\"},{\"name\":\"status\",\"kind\":\"Any\",\"default\":\"normalized\"}]},{\"type\":\"model\",\"name\":\"GridStack1\",\"properties\":[{\"name\":\"mode\",\"kind\":\"Any\",\"default\":\"warn\"},{\"name\":\"ncols\",\"kind\":\"Any\",\"default\":null},{\"name\":\"nrows\",\"kind\":\"Any\",\"default\":null},{\"name\":\"allow_resize\",\"kind\":\"Any\",\"default\":true},{\"name\":\"allow_drag\",\"kind\":\"Any\",\"default\":true},{\"name\":\"state\",\"kind\":\"Any\",\"default\":[]}]},{\"type\":\"model\",\"name\":\"drag1\",\"properties\":[{\"name\":\"slider_width\",\"kind\":\"Any\",\"default\":5},{\"name\":\"slider_color\",\"kind\":\"Any\",\"default\":\"black\"},{\"name\":\"value\",\"kind\":\"Any\",\"default\":50}]},{\"type\":\"model\",\"name\":\"click1\",\"properties\":[{\"name\":\"terminal_output\",\"kind\":\"Any\",\"default\":\"\"},{\"name\":\"debug_name\",\"kind\":\"Any\",\"default\":\"\"},{\"name\":\"clears\",\"kind\":\"Any\",\"default\":0}]},{\"type\":\"model\",\"name\":\"FastWrapper1\",\"properties\":[{\"name\":\"object\",\"kind\":\"Any\",\"default\":null},{\"name\":\"style\",\"kind\":\"Any\",\"default\":null}]},{\"type\":\"model\",\"name\":\"NotificationAreaBase1\",\"properties\":[{\"name\":\"js_events\",\"kind\":\"Any\",\"default\":{\"type\":\"map\"}},{\"name\":\"position\",\"kind\":\"Any\",\"default\":\"bottom-right\"},{\"name\":\"_clear\",\"kind\":\"Any\",\"default\":0}]},{\"type\":\"model\",\"name\":\"NotificationArea1\",\"properties\":[{\"name\":\"js_events\",\"kind\":\"Any\",\"default\":{\"type\":\"map\"}},{\"name\":\"notifications\",\"kind\":\"Any\",\"default\":[]},{\"name\":\"position\",\"kind\":\"Any\",\"default\":\"bottom-right\"},{\"name\":\"_clear\",\"kind\":\"Any\",\"default\":0},{\"name\":\"types\",\"kind\":\"Any\",\"default\":[{\"type\":\"map\",\"entries\":[[\"type\",\"warning\"],[\"background\",\"#ffc107\"],[\"icon\",{\"type\":\"map\",\"entries\":[[\"className\",\"fas fa-exclamation-triangle\"],[\"tagName\",\"i\"],[\"color\",\"white\"]]}]]},{\"type\":\"map\",\"entries\":[[\"type\",\"info\"],[\"background\",\"#007bff\"],[\"icon\",{\"type\":\"map\",\"entries\":[[\"className\",\"fas fa-info-circle\"],[\"tagName\",\"i\"],[\"color\",\"white\"]]}]]}]}]},{\"type\":\"model\",\"name\":\"Notification\",\"properties\":[{\"name\":\"background\",\"kind\":\"Any\",\"default\":null},{\"name\":\"duration\",\"kind\":\"Any\",\"default\":3000},{\"name\":\"icon\",\"kind\":\"Any\",\"default\":null},{\"name\":\"message\",\"kind\":\"Any\",\"default\":\"\"},{\"name\":\"notification_type\",\"kind\":\"Any\",\"default\":null},{\"name\":\"_destroyed\",\"kind\":\"Any\",\"default\":false}]},{\"type\":\"model\",\"name\":\"TemplateActions1\",\"properties\":[{\"name\":\"open_modal\",\"kind\":\"Any\",\"default\":0},{\"name\":\"close_modal\",\"kind\":\"Any\",\"default\":0}]},{\"type\":\"model\",\"name\":\"BootstrapTemplateActions1\",\"properties\":[{\"name\":\"open_modal\",\"kind\":\"Any\",\"default\":0},{\"name\":\"close_modal\",\"kind\":\"Any\",\"default\":0}]},{\"type\":\"model\",\"name\":\"TemplateEditor1\",\"properties\":[{\"name\":\"layout\",\"kind\":\"Any\",\"default\":[]}]},{\"type\":\"model\",\"name\":\"MaterialTemplateActions1\",\"properties\":[{\"name\":\"open_modal\",\"kind\":\"Any\",\"default\":0},{\"name\":\"close_modal\",\"kind\":\"Any\",\"default\":0}]},{\"type\":\"model\",\"name\":\"copy_to_clipboard1\",\"properties\":[{\"name\":\"fill\",\"kind\":\"Any\",\"default\":\"none\"},{\"name\":\"value\",\"kind\":\"Any\",\"default\":null}]}]}};\n",
              "  var render_items = [{\"docid\":\"3fbf3b60-7042-4758-82a6-18b9b79835c5\",\"roots\":{\"b9017e9b-4c16-4490-99b5-cb344e9e8774\":\"da8177c9-3b8c-4bc8-bc75-678f83ee066c\"},\"root_ids\":[\"b9017e9b-4c16-4490-99b5-cb344e9e8774\"]}];\n",
              "  var docs = Object.values(docs_json)\n",
              "  if (!docs) {\n",
              "    return\n",
              "  }\n",
              "  const py_version = docs[0].version.replace('rc', '-rc.').replace('.dev', '-dev.')\n",
              "  async function embed_document(root) {\n",
              "    var Bokeh = get_bokeh(root)\n",
              "    await Bokeh.embed.embed_items_notebook(docs_json, render_items);\n",
              "    for (const render_item of render_items) {\n",
              "      for (const root_id of render_item.root_ids) {\n",
              "\tconst id_el = document.getElementById(root_id)\n",
              "\tif (id_el.children.length && id_el.children[0].hasAttribute('data-root-id')) {\n",
              "\t  const root_el = id_el.children[0]\n",
              "\t  root_el.id = root_el.id + '-rendered'\n",
              "\t  for (const child of root_el.children) {\n",
              "            // Ensure JupyterLab does not capture keyboard shortcuts\n",
              "            // see: https://jupyterlab.readthedocs.io/en/4.1.x/extension/notebook.html#keyboard-interaction-model\n",
              "\t    child.setAttribute('data-lm-suppress-shortcuts', 'true')\n",
              "\t  }\n",
              "\t}\n",
              "      }\n",
              "    }\n",
              "  }\n",
              "  function get_bokeh(root) {\n",
              "    if (root.Bokeh === undefined) {\n",
              "      return null\n",
              "    } else if (root.Bokeh.version !== py_version) {\n",
              "      if (root.Bokeh.versions === undefined || !root.Bokeh.versions.has(py_version)) {\n",
              "\treturn null\n",
              "      }\n",
              "      return root.Bokeh.versions.get(py_version);\n",
              "    } else if (root.Bokeh.version === py_version) {\n",
              "      return root.Bokeh\n",
              "    }\n",
              "    return null\n",
              "  }\n",
              "  function is_loaded(root) {\n",
              "    var Bokeh = get_bokeh(root)\n",
              "    return (Bokeh != null && Bokeh.Panel !== undefined)\n",
              "  }\n",
              "  if (is_loaded(root)) {\n",
              "    embed_document(root);\n",
              "  } else {\n",
              "    var attempts = 0;\n",
              "    var timer = setInterval(function(root) {\n",
              "      if (is_loaded(root)) {\n",
              "        clearInterval(timer);\n",
              "        embed_document(root);\n",
              "      } else if (document.readyState == \"complete\") {\n",
              "        attempts++;\n",
              "        if (attempts > 200) {\n",
              "          clearInterval(timer);\n",
              "\t  var Bokeh = get_bokeh(root)\n",
              "\t  if (Bokeh == null || Bokeh.Panel == null) {\n",
              "            console.warn(\"Panel: ERROR: Unable to run Panel code because Bokeh or Panel library is missing\");\n",
              "\t  } else {\n",
              "\t    console.warn(\"Panel: WARNING: Attempting to render but not all required libraries could be resolved.\")\n",
              "\t    embed_document(root)\n",
              "\t  }\n",
              "        }\n",
              "      }\n",
              "    }, 25, root)\n",
              "  }\n",
              "})(window);</script>"
            ]
          },
          "metadata": {
            "application/vnd.holoviews_exec.v0+json": {
              "id": "b9017e9b-4c16-4490-99b5-cb344e9e8774"
            }
          },
          "output_type": "display_data"
        },
        {
          "data": {
            "text/html": [
              "<div><svg style=\"position: absolute; width: 0; height: 0; overflow: hidden\">\n",
              "<defs>\n",
              "<symbol id=\"icon-database\" viewBox=\"0 0 32 32\">\n",
              "<path d=\"M16 0c-8.837 0-16 2.239-16 5v4c0 2.761 7.163 5 16 5s16-2.239 16-5v-4c0-2.761-7.163-5-16-5z\"></path>\n",
              "<path d=\"M16 17c-8.837 0-16-2.239-16-5v6c0 2.761 7.163 5 16 5s16-2.239 16-5v-6c0 2.761-7.163 5-16 5z\"></path>\n",
              "<path d=\"M16 26c-8.837 0-16-2.239-16-5v6c0 2.761 7.163 5 16 5s16-2.239 16-5v-6c0 2.761-7.163 5-16 5z\"></path>\n",
              "</symbol>\n",
              "<symbol id=\"icon-file-text2\" viewBox=\"0 0 32 32\">\n",
              "<path d=\"M28.681 7.159c-0.694-0.947-1.662-2.053-2.724-3.116s-2.169-2.030-3.116-2.724c-1.612-1.182-2.393-1.319-2.841-1.319h-15.5c-1.378 0-2.5 1.121-2.5 2.5v27c0 1.378 1.122 2.5 2.5 2.5h23c1.378 0 2.5-1.122 2.5-2.5v-19.5c0-0.448-0.137-1.23-1.319-2.841zM24.543 5.457c0.959 0.959 1.712 1.825 2.268 2.543h-4.811v-4.811c0.718 0.556 1.584 1.309 2.543 2.268zM28 29.5c0 0.271-0.229 0.5-0.5 0.5h-23c-0.271 0-0.5-0.229-0.5-0.5v-27c0-0.271 0.229-0.5 0.5-0.5 0 0 15.499-0 15.5 0v7c0 0.552 0.448 1 1 1h7v19.5z\"></path>\n",
              "<path d=\"M23 26h-14c-0.552 0-1-0.448-1-1s0.448-1 1-1h14c0.552 0 1 0.448 1 1s-0.448 1-1 1z\"></path>\n",
              "<path d=\"M23 22h-14c-0.552 0-1-0.448-1-1s0.448-1 1-1h14c0.552 0 1 0.448 1 1s-0.448 1-1 1z\"></path>\n",
              "<path d=\"M23 18h-14c-0.552 0-1-0.448-1-1s0.448-1 1-1h14c0.552 0 1 0.448 1 1s-0.448 1-1 1z\"></path>\n",
              "</symbol>\n",
              "</defs>\n",
              "</svg>\n",
              "<style>/* CSS stylesheet for displaying xarray objects in jupyterlab.\n",
              " *\n",
              " */\n",
              "\n",
              ":root {\n",
              "  --xr-font-color0: var(--jp-content-font-color0, rgba(0, 0, 0, 1));\n",
              "  --xr-font-color2: var(--jp-content-font-color2, rgba(0, 0, 0, 0.54));\n",
              "  --xr-font-color3: var(--jp-content-font-color3, rgba(0, 0, 0, 0.38));\n",
              "  --xr-border-color: var(--jp-border-color2, #e0e0e0);\n",
              "  --xr-disabled-color: var(--jp-layout-color3, #bdbdbd);\n",
              "  --xr-background-color: var(--jp-layout-color0, white);\n",
              "  --xr-background-color-row-even: var(--jp-layout-color1, white);\n",
              "  --xr-background-color-row-odd: var(--jp-layout-color2, #eeeeee);\n",
              "}\n",
              "\n",
              "html[theme=dark],\n",
              "body[data-theme=dark],\n",
              "body.vscode-dark {\n",
              "  --xr-font-color0: rgba(255, 255, 255, 1);\n",
              "  --xr-font-color2: rgba(255, 255, 255, 0.54);\n",
              "  --xr-font-color3: rgba(255, 255, 255, 0.38);\n",
              "  --xr-border-color: #1F1F1F;\n",
              "  --xr-disabled-color: #515151;\n",
              "  --xr-background-color: #111111;\n",
              "  --xr-background-color-row-even: #111111;\n",
              "  --xr-background-color-row-odd: #313131;\n",
              "}\n",
              "\n",
              ".xr-wrap {\n",
              "  display: block !important;\n",
              "  min-width: 300px;\n",
              "  max-width: 700px;\n",
              "}\n",
              "\n",
              ".xr-text-repr-fallback {\n",
              "  /* fallback to plain text repr when CSS is not injected (untrusted notebook) */\n",
              "  display: none;\n",
              "}\n",
              "\n",
              ".xr-header {\n",
              "  padding-top: 6px;\n",
              "  padding-bottom: 6px;\n",
              "  margin-bottom: 4px;\n",
              "  border-bottom: solid 1px var(--xr-border-color);\n",
              "}\n",
              "\n",
              ".xr-header > div,\n",
              ".xr-header > ul {\n",
              "  display: inline;\n",
              "  margin-top: 0;\n",
              "  margin-bottom: 0;\n",
              "}\n",
              "\n",
              ".xr-obj-type,\n",
              ".xr-array-name {\n",
              "  margin-left: 2px;\n",
              "  margin-right: 10px;\n",
              "}\n",
              "\n",
              ".xr-obj-type {\n",
              "  color: var(--xr-font-color2);\n",
              "}\n",
              "\n",
              ".xr-sections {\n",
              "  padding-left: 0 !important;\n",
              "  display: grid;\n",
              "  grid-template-columns: 150px auto auto 1fr 20px 20px;\n",
              "}\n",
              "\n",
              ".xr-section-item {\n",
              "  display: contents;\n",
              "}\n",
              "\n",
              ".xr-section-item input {\n",
              "  display: none;\n",
              "}\n",
              "\n",
              ".xr-section-item input + label {\n",
              "  color: var(--xr-disabled-color);\n",
              "}\n",
              "\n",
              ".xr-section-item input:enabled + label {\n",
              "  cursor: pointer;\n",
              "  color: var(--xr-font-color2);\n",
              "}\n",
              "\n",
              ".xr-section-item input:enabled + label:hover {\n",
              "  color: var(--xr-font-color0);\n",
              "}\n",
              "\n",
              ".xr-section-summary {\n",
              "  grid-column: 1;\n",
              "  color: var(--xr-font-color2);\n",
              "  font-weight: 500;\n",
              "}\n",
              "\n",
              ".xr-section-summary > span {\n",
              "  display: inline-block;\n",
              "  padding-left: 0.5em;\n",
              "}\n",
              "\n",
              ".xr-section-summary-in:disabled + label {\n",
              "  color: var(--xr-font-color2);\n",
              "}\n",
              "\n",
              ".xr-section-summary-in + label:before {\n",
              "  display: inline-block;\n",
              "  content: '►';\n",
              "  font-size: 11px;\n",
              "  width: 15px;\n",
              "  text-align: center;\n",
              "}\n",
              "\n",
              ".xr-section-summary-in:disabled + label:before {\n",
              "  color: var(--xr-disabled-color);\n",
              "}\n",
              "\n",
              ".xr-section-summary-in:checked + label:before {\n",
              "  content: '▼';\n",
              "}\n",
              "\n",
              ".xr-section-summary-in:checked + label > span {\n",
              "  display: none;\n",
              "}\n",
              "\n",
              ".xr-section-summary,\n",
              ".xr-section-inline-details {\n",
              "  padding-top: 4px;\n",
              "  padding-bottom: 4px;\n",
              "}\n",
              "\n",
              ".xr-section-inline-details {\n",
              "  grid-column: 2 / -1;\n",
              "}\n",
              "\n",
              ".xr-section-details {\n",
              "  display: none;\n",
              "  grid-column: 1 / -1;\n",
              "  margin-bottom: 5px;\n",
              "}\n",
              "\n",
              ".xr-section-summary-in:checked ~ .xr-section-details {\n",
              "  display: contents;\n",
              "}\n",
              "\n",
              ".xr-array-wrap {\n",
              "  grid-column: 1 / -1;\n",
              "  display: grid;\n",
              "  grid-template-columns: 20px auto;\n",
              "}\n",
              "\n",
              ".xr-array-wrap > label {\n",
              "  grid-column: 1;\n",
              "  vertical-align: top;\n",
              "}\n",
              "\n",
              ".xr-preview {\n",
              "  color: var(--xr-font-color3);\n",
              "}\n",
              "\n",
              ".xr-array-preview,\n",
              ".xr-array-data {\n",
              "  padding: 0 5px !important;\n",
              "  grid-column: 2;\n",
              "}\n",
              "\n",
              ".xr-array-data,\n",
              ".xr-array-in:checked ~ .xr-array-preview {\n",
              "  display: none;\n",
              "}\n",
              "\n",
              ".xr-array-in:checked ~ .xr-array-data,\n",
              ".xr-array-preview {\n",
              "  display: inline-block;\n",
              "}\n",
              "\n",
              ".xr-dim-list {\n",
              "  display: inline-block !important;\n",
              "  list-style: none;\n",
              "  padding: 0 !important;\n",
              "  margin: 0;\n",
              "}\n",
              "\n",
              ".xr-dim-list li {\n",
              "  display: inline-block;\n",
              "  padding: 0;\n",
              "  margin: 0;\n",
              "}\n",
              "\n",
              ".xr-dim-list:before {\n",
              "  content: '(';\n",
              "}\n",
              "\n",
              ".xr-dim-list:after {\n",
              "  content: ')';\n",
              "}\n",
              "\n",
              ".xr-dim-list li:not(:last-child):after {\n",
              "  content: ',';\n",
              "  padding-right: 5px;\n",
              "}\n",
              "\n",
              ".xr-has-index {\n",
              "  font-weight: bold;\n",
              "}\n",
              "\n",
              ".xr-var-list,\n",
              ".xr-var-item {\n",
              "  display: contents;\n",
              "}\n",
              "\n",
              ".xr-var-item > div,\n",
              ".xr-var-item label,\n",
              ".xr-var-item > .xr-var-name span {\n",
              "  background-color: var(--xr-background-color-row-even);\n",
              "  margin-bottom: 0;\n",
              "}\n",
              "\n",
              ".xr-var-item > .xr-var-name:hover span {\n",
              "  padding-right: 5px;\n",
              "}\n",
              "\n",
              ".xr-var-list > li:nth-child(odd) > div,\n",
              ".xr-var-list > li:nth-child(odd) > label,\n",
              ".xr-var-list > li:nth-child(odd) > .xr-var-name span {\n",
              "  background-color: var(--xr-background-color-row-odd);\n",
              "}\n",
              "\n",
              ".xr-var-name {\n",
              "  grid-column: 1;\n",
              "}\n",
              "\n",
              ".xr-var-dims {\n",
              "  grid-column: 2;\n",
              "}\n",
              "\n",
              ".xr-var-dtype {\n",
              "  grid-column: 3;\n",
              "  text-align: right;\n",
              "  color: var(--xr-font-color2);\n",
              "}\n",
              "\n",
              ".xr-var-preview {\n",
              "  grid-column: 4;\n",
              "}\n",
              "\n",
              ".xr-index-preview {\n",
              "  grid-column: 2 / 5;\n",
              "  color: var(--xr-font-color2);\n",
              "}\n",
              "\n",
              ".xr-var-name,\n",
              ".xr-var-dims,\n",
              ".xr-var-dtype,\n",
              ".xr-preview,\n",
              ".xr-attrs dt {\n",
              "  white-space: nowrap;\n",
              "  overflow: hidden;\n",
              "  text-overflow: ellipsis;\n",
              "  padding-right: 10px;\n",
              "}\n",
              "\n",
              ".xr-var-name:hover,\n",
              ".xr-var-dims:hover,\n",
              ".xr-var-dtype:hover,\n",
              ".xr-attrs dt:hover {\n",
              "  overflow: visible;\n",
              "  width: auto;\n",
              "  z-index: 1;\n",
              "}\n",
              "\n",
              ".xr-var-attrs,\n",
              ".xr-var-data,\n",
              ".xr-index-data {\n",
              "  display: none;\n",
              "  background-color: var(--xr-background-color) !important;\n",
              "  padding-bottom: 5px !important;\n",
              "}\n",
              "\n",
              ".xr-var-attrs-in:checked ~ .xr-var-attrs,\n",
              ".xr-var-data-in:checked ~ .xr-var-data,\n",
              ".xr-index-data-in:checked ~ .xr-index-data {\n",
              "  display: block;\n",
              "}\n",
              "\n",
              ".xr-var-data > table {\n",
              "  float: right;\n",
              "}\n",
              "\n",
              ".xr-var-name span,\n",
              ".xr-var-data,\n",
              ".xr-index-name div,\n",
              ".xr-index-data,\n",
              ".xr-attrs {\n",
              "  padding-left: 25px !important;\n",
              "}\n",
              "\n",
              ".xr-attrs,\n",
              ".xr-var-attrs,\n",
              ".xr-var-data,\n",
              ".xr-index-data {\n",
              "  grid-column: 1 / -1;\n",
              "}\n",
              "\n",
              "dl.xr-attrs {\n",
              "  padding: 0;\n",
              "  margin: 0;\n",
              "  display: grid;\n",
              "  grid-template-columns: 125px auto;\n",
              "}\n",
              "\n",
              ".xr-attrs dt,\n",
              ".xr-attrs dd {\n",
              "  padding: 0;\n",
              "  margin: 0;\n",
              "  float: left;\n",
              "  padding-right: 10px;\n",
              "  width: auto;\n",
              "}\n",
              "\n",
              ".xr-attrs dt {\n",
              "  font-weight: normal;\n",
              "  grid-column: 1;\n",
              "}\n",
              "\n",
              ".xr-attrs dt:hover span {\n",
              "  display: inline-block;\n",
              "  background: var(--xr-background-color);\n",
              "  padding-right: 10px;\n",
              "}\n",
              "\n",
              ".xr-attrs dd {\n",
              "  grid-column: 2;\n",
              "  white-space: pre-wrap;\n",
              "  word-break: break-all;\n",
              "}\n",
              "\n",
              ".xr-icon-database,\n",
              ".xr-icon-file-text2,\n",
              ".xr-no-icon {\n",
              "  display: inline-block;\n",
              "  vertical-align: middle;\n",
              "  width: 1em;\n",
              "  height: 1.5em !important;\n",
              "  stroke-width: 0;\n",
              "  stroke: currentColor;\n",
              "  fill: currentColor;\n",
              "}\n",
              "</style><pre class='xr-text-repr-fallback'>&lt;xarray.DataArray (channels: 14, freqs: 513, times: 1116)&gt; Size: 64MB\n",
              "array([[[2.00315679e+02, 7.27589085e+02, 1.60173939e+02, ...,\n",
              "         1.76903195e+01, 1.99480317e+01, 1.32972980e+01],\n",
              "        [1.00747044e+04, 8.39587570e+03, 5.80526569e+03, ...,\n",
              "         1.52358788e+04, 1.42908480e+03, 2.42481162e+04],\n",
              "        [4.12927376e+03, 2.05819956e+02, 3.53096825e+02, ...,\n",
              "         1.35474018e+04, 1.83079975e+03, 2.26230589e+04],\n",
              "        ...,\n",
              "        [1.78493648e-03, 1.60401703e-03, 2.27386567e-03, ...,\n",
              "         1.75445630e-03, 3.86508685e-04, 1.81143215e-03],\n",
              "        [2.26209829e-03, 3.19858964e-03, 4.14797607e-03, ...,\n",
              "         5.84998232e-03, 7.51164446e-04, 7.88447143e-04],\n",
              "        [2.59222657e-03, 1.84897888e-04, 8.12754322e-04, ...,\n",
              "         1.44774193e-04, 1.11505082e-05, 1.12541780e-03]],\n",
              "\n",
              "       [[1.59517462e+02, 6.21686703e+02, 7.16576119e+02, ...,\n",
              "         1.63040031e+01, 1.02624013e+00, 1.03092545e+01],\n",
              "        [8.60310716e+03, 7.83767396e+03, 4.62566000e+03, ...,\n",
              "         2.06641213e+04, 6.27989849e+03, 2.60237705e+04],\n",
              "        [2.89950344e+03, 1.28615777e+02, 9.01935776e+02, ...,\n",
              "         1.51406909e+04, 8.18281068e+03, 1.14144340e+04],\n",
              "...\n",
              "        [2.45279058e-03, 3.04500378e-03, 3.05249594e-03, ...,\n",
              "         1.29152187e-03, 9.02103396e-04, 2.13528528e-04],\n",
              "        [1.60750835e-03, 1.16413438e-03, 4.19578127e-03, ...,\n",
              "         5.40649207e-03, 2.04946566e-04, 4.53623331e-04],\n",
              "        [6.02676063e-04, 5.18761996e-04, 3.05152875e-03, ...,\n",
              "         1.85759957e-05, 3.89687632e-04, 4.80253429e-04]],\n",
              "\n",
              "       [[1.96922733e+02, 4.89241262e+02, 2.29559962e+02, ...,\n",
              "         1.53709998e+01, 1.21780046e+01, 5.91726184e+00],\n",
              "        [1.35742024e+04, 1.08012260e+04, 2.97176700e+03, ...,\n",
              "         3.45057423e+04, 1.46148216e+04, 1.79761007e+04],\n",
              "        [4.77560229e+03, 1.06005807e+03, 5.17943763e+02, ...,\n",
              "         1.43409101e+04, 4.41178627e+03, 3.67096971e+03],\n",
              "        ...,\n",
              "        [9.59067249e-04, 6.33212512e-04, 2.89053804e-03, ...,\n",
              "         1.12905709e-02, 5.03695778e-04, 1.29186057e-03],\n",
              "        [1.22933279e-03, 1.84401246e-03, 3.97074639e-03, ...,\n",
              "         2.12869169e-02, 2.32982305e-03, 6.27452924e-04],\n",
              "        [1.26453163e-03, 2.12337802e-04, 7.65206596e-04, ...,\n",
              "         2.09802004e-04, 7.99921558e-04, 7.82462444e-04]]])\n",
              "Coordinates:\n",
              "  * channels  (channels) &lt;U3 168B &#x27;AF3&#x27; &#x27;F7&#x27; &#x27;F3&#x27; &#x27;FC5&#x27; ... &#x27;F4&#x27; &#x27;F8&#x27; &#x27;AF4&#x27;\n",
              "  * freqs     (freqs) float64 4kB 0.0 0.125 0.25 0.375 ... 63.75 63.88 64.0\n",
              "  * times     (times) float64 9kB 4.0 8.0 12.0 ... 4.456e+03 4.46e+03 4.464e+03</pre><div class='xr-wrap' style='display:none'><div class='xr-header'><div class='xr-obj-type'>xarray.DataArray</div><div class='xr-array-name'></div><ul class='xr-dim-list'><li><span class='xr-has-index'>channels</span>: 14</li><li><span class='xr-has-index'>freqs</span>: 513</li><li><span class='xr-has-index'>times</span>: 1116</li></ul></div><ul class='xr-sections'><li class='xr-section-item'><div class='xr-array-wrap'><input id='section-0fed1ce7-b7f9-460d-9924-7cc9102feb8a' class='xr-array-in' type='checkbox' checked><label for='section-0fed1ce7-b7f9-460d-9924-7cc9102feb8a' title='Show/hide data repr'><svg class='icon xr-icon-database'><use xlink:href='#icon-database'></use></svg></label><div class='xr-array-preview xr-preview'><span>200.3 727.6 160.2 2.47 384.0 ... 0.00137 0.0002098 0.0007999 0.0007825</span></div><div class='xr-array-data'><pre>array([[[2.00315679e+02, 7.27589085e+02, 1.60173939e+02, ...,\n",
              "         1.76903195e+01, 1.99480317e+01, 1.32972980e+01],\n",
              "        [1.00747044e+04, 8.39587570e+03, 5.80526569e+03, ...,\n",
              "         1.52358788e+04, 1.42908480e+03, 2.42481162e+04],\n",
              "        [4.12927376e+03, 2.05819956e+02, 3.53096825e+02, ...,\n",
              "         1.35474018e+04, 1.83079975e+03, 2.26230589e+04],\n",
              "        ...,\n",
              "        [1.78493648e-03, 1.60401703e-03, 2.27386567e-03, ...,\n",
              "         1.75445630e-03, 3.86508685e-04, 1.81143215e-03],\n",
              "        [2.26209829e-03, 3.19858964e-03, 4.14797607e-03, ...,\n",
              "         5.84998232e-03, 7.51164446e-04, 7.88447143e-04],\n",
              "        [2.59222657e-03, 1.84897888e-04, 8.12754322e-04, ...,\n",
              "         1.44774193e-04, 1.11505082e-05, 1.12541780e-03]],\n",
              "\n",
              "       [[1.59517462e+02, 6.21686703e+02, 7.16576119e+02, ...,\n",
              "         1.63040031e+01, 1.02624013e+00, 1.03092545e+01],\n",
              "        [8.60310716e+03, 7.83767396e+03, 4.62566000e+03, ...,\n",
              "         2.06641213e+04, 6.27989849e+03, 2.60237705e+04],\n",
              "        [2.89950344e+03, 1.28615777e+02, 9.01935776e+02, ...,\n",
              "         1.51406909e+04, 8.18281068e+03, 1.14144340e+04],\n",
              "...\n",
              "        [2.45279058e-03, 3.04500378e-03, 3.05249594e-03, ...,\n",
              "         1.29152187e-03, 9.02103396e-04, 2.13528528e-04],\n",
              "        [1.60750835e-03, 1.16413438e-03, 4.19578127e-03, ...,\n",
              "         5.40649207e-03, 2.04946566e-04, 4.53623331e-04],\n",
              "        [6.02676063e-04, 5.18761996e-04, 3.05152875e-03, ...,\n",
              "         1.85759957e-05, 3.89687632e-04, 4.80253429e-04]],\n",
              "\n",
              "       [[1.96922733e+02, 4.89241262e+02, 2.29559962e+02, ...,\n",
              "         1.53709998e+01, 1.21780046e+01, 5.91726184e+00],\n",
              "        [1.35742024e+04, 1.08012260e+04, 2.97176700e+03, ...,\n",
              "         3.45057423e+04, 1.46148216e+04, 1.79761007e+04],\n",
              "        [4.77560229e+03, 1.06005807e+03, 5.17943763e+02, ...,\n",
              "         1.43409101e+04, 4.41178627e+03, 3.67096971e+03],\n",
              "        ...,\n",
              "        [9.59067249e-04, 6.33212512e-04, 2.89053804e-03, ...,\n",
              "         1.12905709e-02, 5.03695778e-04, 1.29186057e-03],\n",
              "        [1.22933279e-03, 1.84401246e-03, 3.97074639e-03, ...,\n",
              "         2.12869169e-02, 2.32982305e-03, 6.27452924e-04],\n",
              "        [1.26453163e-03, 2.12337802e-04, 7.65206596e-04, ...,\n",
              "         2.09802004e-04, 7.99921558e-04, 7.82462444e-04]]])</pre></div></div></li><li class='xr-section-item'><input id='section-6d1afc8f-7836-4b0a-8f9c-71b31443f8a2' class='xr-section-summary-in' type='checkbox'  checked><label for='section-6d1afc8f-7836-4b0a-8f9c-71b31443f8a2' class='xr-section-summary' >Coordinates: <span>(3)</span></label><div class='xr-section-inline-details'></div><div class='xr-section-details'><ul class='xr-var-list'><li class='xr-var-item'><div class='xr-var-name'><span class='xr-has-index'>channels</span></div><div class='xr-var-dims'>(channels)</div><div class='xr-var-dtype'>&lt;U3</div><div class='xr-var-preview xr-preview'>&#x27;AF3&#x27; &#x27;F7&#x27; &#x27;F3&#x27; ... &#x27;F4&#x27; &#x27;F8&#x27; &#x27;AF4&#x27;</div><input id='attrs-7cb790cc-d0cd-492e-b0f4-59a52309ba24' class='xr-var-attrs-in' type='checkbox' disabled><label for='attrs-7cb790cc-d0cd-492e-b0f4-59a52309ba24' title='Show/Hide attributes'><svg class='icon xr-icon-file-text2'><use xlink:href='#icon-file-text2'></use></svg></label><input id='data-b06d1040-17e8-440d-9a0d-119959478e32' class='xr-var-data-in' type='checkbox'><label for='data-b06d1040-17e8-440d-9a0d-119959478e32' title='Show/Hide data repr'><svg class='icon xr-icon-database'><use xlink:href='#icon-database'></use></svg></label><div class='xr-var-attrs'><dl class='xr-attrs'></dl></div><div class='xr-var-data'><pre>array([&#x27;AF3&#x27;, &#x27;F7&#x27;, &#x27;F3&#x27;, &#x27;FC5&#x27;, &#x27;T7&#x27;, &#x27;P7&#x27;, &#x27;O1&#x27;, &#x27;O2&#x27;, &#x27;P8&#x27;, &#x27;T8&#x27;, &#x27;FC6&#x27;,\n",
              "       &#x27;F4&#x27;, &#x27;F8&#x27;, &#x27;AF4&#x27;], dtype=&#x27;&lt;U3&#x27;)</pre></div></li><li class='xr-var-item'><div class='xr-var-name'><span class='xr-has-index'>freqs</span></div><div class='xr-var-dims'>(freqs)</div><div class='xr-var-dtype'>float64</div><div class='xr-var-preview xr-preview'>0.0 0.125 0.25 ... 63.75 63.88 64.0</div><input id='attrs-16d223df-f775-4594-b204-d1ea7d71e7c2' class='xr-var-attrs-in' type='checkbox' disabled><label for='attrs-16d223df-f775-4594-b204-d1ea7d71e7c2' title='Show/Hide attributes'><svg class='icon xr-icon-file-text2'><use xlink:href='#icon-file-text2'></use></svg></label><input id='data-2996b0a1-5e53-4e5f-80f4-21724db58241' class='xr-var-data-in' type='checkbox'><label for='data-2996b0a1-5e53-4e5f-80f4-21724db58241' title='Show/Hide data repr'><svg class='icon xr-icon-database'><use xlink:href='#icon-database'></use></svg></label><div class='xr-var-attrs'><dl class='xr-attrs'></dl></div><div class='xr-var-data'><pre>array([ 0.   ,  0.125,  0.25 , ..., 63.75 , 63.875, 64.   ])</pre></div></li><li class='xr-var-item'><div class='xr-var-name'><span class='xr-has-index'>times</span></div><div class='xr-var-dims'>(times)</div><div class='xr-var-dtype'>float64</div><div class='xr-var-preview xr-preview'>4.0 8.0 12.0 ... 4.46e+03 4.464e+03</div><input id='attrs-4c6c8b4f-2a7e-4106-bf8f-24c398ef7e3e' class='xr-var-attrs-in' type='checkbox' disabled><label for='attrs-4c6c8b4f-2a7e-4106-bf8f-24c398ef7e3e' title='Show/Hide attributes'><svg class='icon xr-icon-file-text2'><use xlink:href='#icon-file-text2'></use></svg></label><input id='data-ec439faf-6d33-47b2-b198-279b87d25ae8' class='xr-var-data-in' type='checkbox'><label for='data-ec439faf-6d33-47b2-b198-279b87d25ae8' title='Show/Hide data repr'><svg class='icon xr-icon-database'><use xlink:href='#icon-database'></use></svg></label><div class='xr-var-attrs'><dl class='xr-attrs'></dl></div><div class='xr-var-data'><pre>array([4.000e+00, 8.000e+00, 1.200e+01, ..., 4.456e+03, 4.460e+03, 4.464e+03])</pre></div></li></ul></div></li><li class='xr-section-item'><input id='section-e8391b05-7a0b-43bf-93b6-5c004b32451f' class='xr-section-summary-in' type='checkbox'  ><label for='section-e8391b05-7a0b-43bf-93b6-5c004b32451f' class='xr-section-summary' >Indexes: <span>(3)</span></label><div class='xr-section-inline-details'></div><div class='xr-section-details'><ul class='xr-var-list'><li class='xr-var-item'><div class='xr-index-name'><div>channels</div></div><div class='xr-index-preview'>PandasIndex</div><div></div><input id='index-5689af27-8d75-4bd9-89bf-2a627fdca68d' class='xr-index-data-in' type='checkbox'/><label for='index-5689af27-8d75-4bd9-89bf-2a627fdca68d' title='Show/Hide index repr'><svg class='icon xr-icon-database'><use xlink:href='#icon-database'></use></svg></label><div class='xr-index-data'><pre>PandasIndex(Index([&#x27;AF3&#x27;, &#x27;F7&#x27;, &#x27;F3&#x27;, &#x27;FC5&#x27;, &#x27;T7&#x27;, &#x27;P7&#x27;, &#x27;O1&#x27;, &#x27;O2&#x27;, &#x27;P8&#x27;, &#x27;T8&#x27;, &#x27;FC6&#x27;,\n",
              "       &#x27;F4&#x27;, &#x27;F8&#x27;, &#x27;AF4&#x27;],\n",
              "      dtype=&#x27;object&#x27;, name=&#x27;channels&#x27;))</pre></div></li><li class='xr-var-item'><div class='xr-index-name'><div>freqs</div></div><div class='xr-index-preview'>PandasIndex</div><div></div><input id='index-2d6e89b6-c17a-446c-8047-0f3c6163a81f' class='xr-index-data-in' type='checkbox'/><label for='index-2d6e89b6-c17a-446c-8047-0f3c6163a81f' title='Show/Hide index repr'><svg class='icon xr-icon-database'><use xlink:href='#icon-database'></use></svg></label><div class='xr-index-data'><pre>PandasIndex(Float64Index([   0.0,  0.125,   0.25,  0.375,    0.5,  0.625,   0.75,  0.875,\n",
              "                 1.0,  1.125,\n",
              "              ...\n",
              "              62.875,   63.0, 63.125,  63.25, 63.375,   63.5, 63.625,  63.75,\n",
              "              63.875,   64.0],\n",
              "             dtype=&#x27;float64&#x27;, name=&#x27;freqs&#x27;, length=513))</pre></div></li><li class='xr-var-item'><div class='xr-index-name'><div>times</div></div><div class='xr-index-preview'>PandasIndex</div><div></div><input id='index-c079bc99-7a0e-404d-820b-a2a96ff762c7' class='xr-index-data-in' type='checkbox'/><label for='index-c079bc99-7a0e-404d-820b-a2a96ff762c7' title='Show/Hide index repr'><svg class='icon xr-icon-database'><use xlink:href='#icon-database'></use></svg></label><div class='xr-index-data'><pre>PandasIndex(Float64Index([   4.0,    8.0,   12.0,   16.0,   20.0,   24.0,   28.0,   32.0,\n",
              "                36.0,   40.0,\n",
              "              ...\n",
              "              4428.0, 4432.0, 4436.0, 4440.0, 4444.0, 4448.0, 4452.0, 4456.0,\n",
              "              4460.0, 4464.0],\n",
              "             dtype=&#x27;float64&#x27;, name=&#x27;times&#x27;, length=1116))</pre></div></li></ul></div></li><li class='xr-section-item'><input id='section-7d88e5ce-482d-4141-b189-c90981dc7d3f' class='xr-section-summary-in' type='checkbox' disabled ><label for='section-7d88e5ce-482d-4141-b189-c90981dc7d3f' class='xr-section-summary'  title='Expand/collapse section'>Attributes: <span>(0)</span></label><div class='xr-section-inline-details'></div><div class='xr-section-details'><dl class='xr-attrs'></dl></div></li></ul></div></div>"
            ],
            "text/plain": [
              "<xarray.DataArray (channels: 14, freqs: 513, times: 1116)> Size: 64MB\n",
              "array([[[2.00315679e+02, 7.27589085e+02, 1.60173939e+02, ...,\n",
              "         1.76903195e+01, 1.99480317e+01, 1.32972980e+01],\n",
              "        [1.00747044e+04, 8.39587570e+03, 5.80526569e+03, ...,\n",
              "         1.52358788e+04, 1.42908480e+03, 2.42481162e+04],\n",
              "        [4.12927376e+03, 2.05819956e+02, 3.53096825e+02, ...,\n",
              "         1.35474018e+04, 1.83079975e+03, 2.26230589e+04],\n",
              "        ...,\n",
              "        [1.78493648e-03, 1.60401703e-03, 2.27386567e-03, ...,\n",
              "         1.75445630e-03, 3.86508685e-04, 1.81143215e-03],\n",
              "        [2.26209829e-03, 3.19858964e-03, 4.14797607e-03, ...,\n",
              "         5.84998232e-03, 7.51164446e-04, 7.88447143e-04],\n",
              "        [2.59222657e-03, 1.84897888e-04, 8.12754322e-04, ...,\n",
              "         1.44774193e-04, 1.11505082e-05, 1.12541780e-03]],\n",
              "\n",
              "       [[1.59517462e+02, 6.21686703e+02, 7.16576119e+02, ...,\n",
              "         1.63040031e+01, 1.02624013e+00, 1.03092545e+01],\n",
              "        [8.60310716e+03, 7.83767396e+03, 4.62566000e+03, ...,\n",
              "         2.06641213e+04, 6.27989849e+03, 2.60237705e+04],\n",
              "        [2.89950344e+03, 1.28615777e+02, 9.01935776e+02, ...,\n",
              "         1.51406909e+04, 8.18281068e+03, 1.14144340e+04],\n",
              "...\n",
              "        [2.45279058e-03, 3.04500378e-03, 3.05249594e-03, ...,\n",
              "         1.29152187e-03, 9.02103396e-04, 2.13528528e-04],\n",
              "        [1.60750835e-03, 1.16413438e-03, 4.19578127e-03, ...,\n",
              "         5.40649207e-03, 2.04946566e-04, 4.53623331e-04],\n",
              "        [6.02676063e-04, 5.18761996e-04, 3.05152875e-03, ...,\n",
              "         1.85759957e-05, 3.89687632e-04, 4.80253429e-04]],\n",
              "\n",
              "       [[1.96922733e+02, 4.89241262e+02, 2.29559962e+02, ...,\n",
              "         1.53709998e+01, 1.21780046e+01, 5.91726184e+00],\n",
              "        [1.35742024e+04, 1.08012260e+04, 2.97176700e+03, ...,\n",
              "         3.45057423e+04, 1.46148216e+04, 1.79761007e+04],\n",
              "        [4.77560229e+03, 1.06005807e+03, 5.17943763e+02, ...,\n",
              "         1.43409101e+04, 4.41178627e+03, 3.67096971e+03],\n",
              "        ...,\n",
              "        [9.59067249e-04, 6.33212512e-04, 2.89053804e-03, ...,\n",
              "         1.12905709e-02, 5.03695778e-04, 1.29186057e-03],\n",
              "        [1.22933279e-03, 1.84401246e-03, 3.97074639e-03, ...,\n",
              "         2.12869169e-02, 2.32982305e-03, 6.27452924e-04],\n",
              "        [1.26453163e-03, 2.12337802e-04, 7.65206596e-04, ...,\n",
              "         2.09802004e-04, 7.99921558e-04, 7.82462444e-04]]])\n",
              "Coordinates:\n",
              "  * channels  (channels) <U3 168B 'AF3' 'F7' 'F3' 'FC5' ... 'F4' 'F8' 'AF4'\n",
              "  * freqs     (freqs) float64 4kB 0.0 0.125 0.25 0.375 ... 63.75 63.88 64.0\n",
              "  * times     (times) float64 9kB 4.0 8.0 12.0 ... 4.456e+03 4.46e+03 4.464e+03"
            ]
          },
          "execution_count": 22,
          "metadata": {},
          "output_type": "execute_result"
        }
      ],
      "source": [
        "import hvplot.xarray\n",
        "\n",
        "for a_result in results:\n",
        "    spec_da = a_result['spectogram']['Sxx']\n",
        "\n",
        "\n",
        "spec_da"
      ]
    },
    {
      "cell_type": "code",
      "execution_count": null,
      "metadata": {},
      "outputs": [],
      "source": [
        "spec_da.mean(dim=(''"
      ]
    },
    {
      "cell_type": "code",
      "execution_count": null,
      "metadata": {},
      "outputs": [],
      "source": [
        "\n",
        "# Generate an interactive spectrogram with a slider for the time dimension\n",
        "hv_plot_slider = spec_da.hvplot(\n",
        "    x='times',\n",
        "    y='freqs',\n",
        "    cmap='viridis',\n",
        "    clim=(spec_da.min(), spec_da.max()), # Set color limits\n",
        "    width=800,\n",
        "    height=400,\n",
        "    groupby='times', # This is the key argument\n",
        "    title='Interactive Spectrogram with hvPlot Slider'\n",
        ")\n",
        "\n",
        "hv_plot_slider\n",
        "\n",
        "# Save the linked layout to a self-contained HTML file\n",
        "hv.save(\n",
        "    linked_layout,\n",
        "    'holoviz_spectrogram.html',\n",
        "    backend='bokeh',\n",
        "    # The resources parameter can be used to control how JS/CSS are included,\n",
        "    # with 'INLINE' being the most portable option.\n",
        "    resources='INLINE'\n",
        ")\n",
        "\n"
      ]
    },
    {
      "cell_type": "code",
      "execution_count": null,
      "metadata": {},
      "outputs": [],
      "source": [
        "from phoofflineeeganalysis.analysis.EEG_data import EEGComputations\n",
        "from phoofflineeeganalysis.analysis.SavedSessionsProcessor import LabRecorderXDF\n",
        "\n",
        "hdf5_out_path: Path = Path('E:/Dropbox (Personal)/Databases/AnalysisData/MNE_preprocessed').joinpath('2025-09-29_all_HDF.h5').resolve()\n",
        "\n",
        "hdf5_out_path.unlink(missing_ok=True)\n",
        "\n",
        "LabRecorderXDF.to_hdf(active_only_out_eeg_raws=active_only_out_eeg_raws, results=results, xdf_stream_infos_df=xdf_stream_infos_df, file_path=hdf5_out_path, root_key='/')\n"
      ]
    },
    {
      "cell_type": "code",
      "execution_count": null,
      "metadata": {},
      "outputs": [
        {
          "data": {
            "text/html": [
              "<div>\n",
              "<style scoped>\n",
              "    .dataframe tbody tr th:only-of-type {\n",
              "        vertical-align: middle;\n",
              "    }\n",
              "\n",
              "    .dataframe tbody tr th {\n",
              "        vertical-align: top;\n",
              "    }\n",
              "\n",
              "    .dataframe thead th {\n",
              "        text-align: right;\n",
              "    }\n",
              "</style>\n",
              "<table border=\"1\" class=\"dataframe\">\n",
              "  <thead>\n",
              "    <tr style=\"text-align: right;\">\n",
              "      <th></th>\n",
              "      <th>onset</th>\n",
              "      <th>duration</th>\n",
              "      <th>description</th>\n",
              "      <th>xdf_dataset_idx</th>\n",
              "      <th>xdf_raw_key</th>\n",
              "    </tr>\n",
              "  </thead>\n",
              "  <tbody>\n",
              "    <tr>\n",
              "      <th>0</th>\n",
              "      <td>2025-09-11 10:13:28.000027</td>\n",
              "      <td>0.0</td>\n",
              "      <td>sync</td>\n",
              "      <td>2</td>\n",
              "      <td>2025-09-11/10-13-28</td>\n",
              "    </tr>\n",
              "    <tr>\n",
              "      <th>1</th>\n",
              "      <td>2025-09-11 10:13:28.000030</td>\n",
              "      <td>0.0</td>\n",
              "      <td>1.0+</td>\n",
              "      <td>2</td>\n",
              "      <td>2025-09-11/10-13-28</td>\n",
              "    </tr>\n",
              "    <tr>\n",
              "      <th>2</th>\n",
              "      <td>2025-09-11 10:13:28.000030</td>\n",
              "      <td>0.0</td>\n",
              "      <td>pushes me up to 2.5+ for the day</td>\n",
              "      <td>2</td>\n",
              "      <td>2025-09-11/10-13-28</td>\n",
              "    </tr>\n",
              "    <tr>\n",
              "      <th>3</th>\n",
              "      <td>2025-09-11 10:13:28.000030</td>\n",
              "      <td>0.0</td>\n",
              "      <td>forgot I was recording EEG so I didn't record ...</td>\n",
              "      <td>2</td>\n",
              "      <td>2025-09-11/10-13-28</td>\n",
              "    </tr>\n",
              "    <tr>\n",
              "      <th>4</th>\n",
              "      <td>2025-09-11 15:45:49.000047</td>\n",
              "      <td>0.0</td>\n",
              "      <td>started lab recorder</td>\n",
              "      <td>3</td>\n",
              "      <td>2025-09-11/15-45-49</td>\n",
              "    </tr>\n",
              "    <tr>\n",
              "      <th>...</th>\n",
              "      <td>...</td>\n",
              "      <td>...</td>\n",
              "      <td>...</td>\n",
              "      <td>...</td>\n",
              "      <td>...</td>\n",
              "    </tr>\n",
              "    <tr>\n",
              "      <th>75</th>\n",
              "      <td>2025-09-22 21:35:47.000042</td>\n",
              "      <td>0.0</td>\n",
              "      <td>like I'm no longer up to the challenge now tha...</td>\n",
              "      <td>24</td>\n",
              "      <td>2025-09-22/21-35-47</td>\n",
              "    </tr>\n",
              "    <tr>\n",
              "      <th>76</th>\n",
              "      <td>2025-09-22 21:35:47.000042</td>\n",
              "      <td>0.0</td>\n",
              "      <td>I was so excited to do this before</td>\n",
              "      <td>24</td>\n",
              "      <td>2025-09-22/21-35-47</td>\n",
              "    </tr>\n",
              "    <tr>\n",
              "      <th>77</th>\n",
              "      <td>2025-09-22 21:35:47.000042</td>\n",
              "      <td>0.0</td>\n",
              "      <td>it seemed so promising</td>\n",
              "      <td>24</td>\n",
              "      <td>2025-09-22/21-35-47</td>\n",
              "    </tr>\n",
              "    <tr>\n",
              "      <th>78</th>\n",
              "      <td>2025-09-22 21:35:47.000044</td>\n",
              "      <td>0.0</td>\n",
              "      <td>RECORDING_STOPPED: 20250922_172926_log.xdf</td>\n",
              "      <td>24</td>\n",
              "      <td>2025-09-22/21-35-47</td>\n",
              "    </tr>\n",
              "    <tr>\n",
              "      <th>79</th>\n",
              "      <td>2025-09-22 21:35:47.000044</td>\n",
              "      <td>0.0</td>\n",
              "      <td></td>\n",
              "      <td>24</td>\n",
              "      <td>2025-09-22/21-35-47</td>\n",
              "    </tr>\n",
              "  </tbody>\n",
              "</table>\n",
              "<p>80 rows × 5 columns</p>\n",
              "</div>"
            ],
            "text/plain": [
              "                        onset  duration  \\\n",
              "0  2025-09-11 10:13:28.000027       0.0   \n",
              "1  2025-09-11 10:13:28.000030       0.0   \n",
              "2  2025-09-11 10:13:28.000030       0.0   \n",
              "3  2025-09-11 10:13:28.000030       0.0   \n",
              "4  2025-09-11 15:45:49.000047       0.0   \n",
              "..                        ...       ...   \n",
              "75 2025-09-22 21:35:47.000042       0.0   \n",
              "76 2025-09-22 21:35:47.000042       0.0   \n",
              "77 2025-09-22 21:35:47.000042       0.0   \n",
              "78 2025-09-22 21:35:47.000044       0.0   \n",
              "79 2025-09-22 21:35:47.000044       0.0   \n",
              "\n",
              "                                          description  xdf_dataset_idx  \\\n",
              "0                                                sync                2   \n",
              "1                                                1.0+                2   \n",
              "2                    pushes me up to 2.5+ for the day                2   \n",
              "3   forgot I was recording EEG so I didn't record ...                2   \n",
              "4                                started lab recorder                3   \n",
              "..                                                ...              ...   \n",
              "75  like I'm no longer up to the challenge now tha...               24   \n",
              "76                 I was so excited to do this before               24   \n",
              "77                             it seemed so promising               24   \n",
              "78         RECORDING_STOPPED: 20250922_172926_log.xdf               24   \n",
              "79                                                                  24   \n",
              "\n",
              "            xdf_raw_key  \n",
              "0   2025-09-11/10-13-28  \n",
              "1   2025-09-11/10-13-28  \n",
              "2   2025-09-11/10-13-28  \n",
              "3   2025-09-11/10-13-28  \n",
              "4   2025-09-11/15-45-49  \n",
              "..                  ...  \n",
              "75  2025-09-22/21-35-47  \n",
              "76  2025-09-22/21-35-47  \n",
              "77  2025-09-22/21-35-47  \n",
              "78  2025-09-22/21-35-47  \n",
              "79  2025-09-22/21-35-47  \n",
              "\n",
              "[80 rows x 5 columns]"
            ]
          },
          "execution_count": 25,
          "metadata": {},
          "output_type": "execute_result"
        }
      ],
      "source": [
        "flat_annotations = []\n",
        "for an_xdf_dataset_idx in np.arange(num_sessions):\n",
        "    a_raw = active_only_out_eeg_raws[an_xdf_dataset_idx]\n",
        "    a_meas_date = a_raw.info.get('meas_date')\n",
        "    a_raw_key: str = a_meas_date.strftime(\"%Y-%m-%d/%H-%M-%S\") # '2025-09-22/21-35-47'\n",
        "    a_result = results[an_xdf_dataset_idx]\n",
        "    # EEGComputations.to_hdf(a_result=a_result, file_path=hdf5_out_path, root_key=f'/result/{a_raw_key}')\n",
        "    # EEGComputations.to_hdf(a_result=a_result, file_path=f, root_key=f'/result/{a_raw_key}')\n",
        "    # EEGComputations.perform_write_to_hdf(a_result=a_result, f=f, root_key=f'/result/{a_raw_key}')\n",
        "    # a_stream_info = deepcopy(_out_xdf_stream_infos_df).loc[an_xdf_dataset_idx]    \n",
        "    # print(f'i: {i}, a_meas_date: {a_meas_date}, a_stream_info: {a_stream_info}\\n\\n')\n",
        "    # print(f'i: {an_xdf_dataset_idx}, a_meas_date: {a_meas_date}')\n",
        "    an_annotations_df = a_raw.annotations.to_data_frame(time_format='datetime')\n",
        "    an_annotations_df = an_annotations_df[an_annotations_df['description'] != 'BAD_motion']\n",
        "    an_annotations_df['xdf_dataset_idx'] = an_xdf_dataset_idx\n",
        "    an_annotations_df['xdf_raw_key'] = a_raw_key\n",
        "    flat_annotations.append(an_annotations_df)\n",
        "\n",
        "    ## Add metadata to a_raw and a_result\n",
        "    # 2025-09-18/03-18-42\n",
        "\n",
        "flat_annotations = pd.concat(flat_annotations, ignore_index=True)\n",
        "flat_annotations"
      ]
    },
    {
      "cell_type": "code",
      "execution_count": null,
      "metadata": {},
      "outputs": [],
      "source": [
        "import xarray as xr\n",
        "\n",
        "cog_categorical_cats = ['cog_bad', 'cog_poor', 'cog_okay', 'cog_good', 'cog_great']\n",
        "\n",
        "day_status_dict = {'2025-09-19/01-54-39': 'cog_poor',\n",
        "'2025-09-18/15-23-08': 'cog_poor',\n",
        "'2025-09-22/21-35-47': 'cog_okay',\n",
        "'2025-09-19/20-51-18': 'cog_good',\n",
        "'2025-09-18/03-18-42': 'cog_great',\n",
        "'2025-09-22/21-35-47': 'cog_bad',\n",
        "'2025-09-21/08-55-41': 'cog_bad',\n",
        "}\n",
        "\n"
      ]
    },
    {
      "cell_type": "code",
      "execution_count": null,
      "metadata": {},
      "outputs": [],
      "source": [
        "\n",
        "all_Sxx = []\n",
        "for an_xdf_dataset_idx in np.arange(num_sessions):\n",
        "    a_raw = active_only_out_eeg_raws[an_xdf_dataset_idx]\n",
        "    a_meas_date = a_raw.info.get('meas_date')\n",
        "    a_raw_key: str = a_meas_date.strftime(\"%Y-%m-%d/%H-%M-%S\") # '2025-09-22/21-35-47'\n",
        "    a_status = day_status_dict.get(a_raw_key, None)\n",
        "    if a_status:\n",
        "        ## a status\n",
        "        a_result = results[an_xdf_dataset_idx]\n",
        "        Sxx = a_result['spectogram']['Sxx']\n",
        "        Sxx = Sxx.assign_attrs(cognitive_status=a_status) # xarray.DataArray - channels: 14, freqs: 513, times: 1116\n",
        "        # Sxx ## TODO: save the xarray to a single file (as a list of xarrays for each `an_xdf_dataset_idx`\n",
        "        Sxx = Sxx.expand_dims(session=[a_raw_key])\n",
        "        all_Sxx.append(Sxx)\n",
        "\n",
        "if all_Sxx:\n",
        "    combined = xr.concat(all_Sxx, dim=\"session\")\n",
        "    # combined.to_netcdf(\"all_sessions_spectrograms.nc\", engine=\"h5netcdf\", encoding={\"Sxx\": {\"zlib\": True, \"complevel\": 5}})\n",
        "    combined"
      ]
    },
    {
      "cell_type": "code",
      "execution_count": 63,
      "metadata": {},
      "outputs": [
        {
          "name": "stdout",
          "output_type": "stream",
          "text": [
            "zarr groups: ['2025-09-18', '2025-09-19', '2025-09-21', '2025-09-22']\n",
            "skipping group 2025-09-18: no Sxx and multiple data_vars: []\n",
            "skipping group 2025-09-19: no Sxx and multiple data_vars: []\n",
            "skipping group 2025-09-21: no Sxx and multiple data_vars: []\n",
            "skipping group 2025-09-22: no Sxx and multiple data_vars: []\n"
          ]
        },
        {
          "ename": "ValueError",
          "evalue": "No sessions with Sxx (or fallback data-var) found in Zarr store",
          "output_type": "error",
          "traceback": [
            "\u001b[1;31m---------------------------------------------------------------------------\u001b[0m",
            "\u001b[1;31mValueError\u001b[0m                                Traceback (most recent call last)",
            "Cell \u001b[1;32mIn[63], line 142\u001b[0m\n\u001b[0;32m    137\u001b[0m out_path \u001b[38;5;241m=\u001b[39m Path(\u001b[38;5;124m\"\u001b[39m\u001b[38;5;124m2025-09-30_all_sessions.zarr\u001b[39m\u001b[38;5;124m\"\u001b[39m)\n\u001b[0;32m    139\u001b[0m \u001b[38;5;66;03m# out_path = save_sessions_as_zarr(active_only_out_eeg_raws=active_only_out_eeg_raws, results=results, day_status_dict=day_status_dict, out_path=out_path)\u001b[39;00m\n\u001b[0;32m    140\u001b[0m \n\u001b[0;32m    141\u001b[0m \u001b[38;5;66;03m## Immediately re-load from file\u001b[39;00m\n\u001b[1;32m--> 142\u001b[0m all_data \u001b[38;5;241m=\u001b[39m \u001b[43mload_sessions_from_zarr\u001b[49m\u001b[43m(\u001b[49m\u001b[43mout_path\u001b[49m\u001b[43m,\u001b[49m\u001b[43m \u001b[49m\u001b[43mverbose\u001b[49m\u001b[38;5;241;43m=\u001b[39;49m\u001b[38;5;28;43;01mTrue\u001b[39;49;00m\u001b[43m)\u001b[49m\n",
            "Cell \u001b[1;32mIn[63], line 57\u001b[0m, in \u001b[0;36mload_sessions_from_zarr\u001b[1;34m(zarr_path, verbose)\u001b[0m\n\u001b[0;32m     54\u001b[0m     da_list\u001b[38;5;241m.\u001b[39mappend(da)\n\u001b[0;32m     56\u001b[0m \u001b[38;5;28;01mif\u001b[39;00m \u001b[38;5;129;01mnot\u001b[39;00m da_list:\n\u001b[1;32m---> 57\u001b[0m     \u001b[38;5;28;01mraise\u001b[39;00m \u001b[38;5;167;01mValueError\u001b[39;00m(\u001b[38;5;124m\"\u001b[39m\u001b[38;5;124mNo sessions with Sxx (or fallback data-var) found in Zarr store\u001b[39m\u001b[38;5;124m\"\u001b[39m)\n\u001b[0;32m     59\u001b[0m combined \u001b[38;5;241m=\u001b[39m xr\u001b[38;5;241m.\u001b[39mconcat(da_list, dim\u001b[38;5;241m=\u001b[39m\u001b[38;5;124m\"\u001b[39m\u001b[38;5;124msession\u001b[39m\u001b[38;5;124m\"\u001b[39m, join\u001b[38;5;241m=\u001b[39m\u001b[38;5;124m\"\u001b[39m\u001b[38;5;124mouter\u001b[39m\u001b[38;5;124m\"\u001b[39m)\n\u001b[0;32m     61\u001b[0m ds_combined \u001b[38;5;241m=\u001b[39m combined\u001b[38;5;241m.\u001b[39mto_dataset(name\u001b[38;5;241m=\u001b[39m\u001b[38;5;124m\"\u001b[39m\u001b[38;5;124mSxx\u001b[39m\u001b[38;5;124m\"\u001b[39m)\n",
            "\u001b[1;31mValueError\u001b[0m: No sessions with Sxx (or fallback data-var) found in Zarr store"
          ]
        }
      ],
      "source": [
        "import xarray as xr\n",
        "import zarr\n",
        "import numcodecs\n",
        "import numpy as np\n",
        "from pathlib import Path\n",
        "from typing import Union\n",
        "\n",
        "def load_sessions_from_zarr(zarr_path: Union[str, Path], verbose: bool = False) -> xr.Dataset:\n",
        "    zarr_path = Path(zarr_path)\n",
        "    if not zarr_path.exists():\n",
        "        raise FileNotFoundError(f\"Zarr store not found at {zarr_path}\")\n",
        "\n",
        "    store = zarr.DirectoryStore(zarr_path)\n",
        "    root = zarr.open(store, mode=\"r\")\n",
        "    session_keys = list(root.group_keys())\n",
        "    if verbose:\n",
        "        print(\"zarr groups:\", session_keys)\n",
        "    if not session_keys:\n",
        "        raise ValueError(f\"No session groups found in the Zarr store at {zarr_path}\")\n",
        "\n",
        "    da_list: List[xr.DataArray] = []\n",
        "    for key in session_keys:\n",
        "        try:\n",
        "            ds = xr.open_zarr(store, group=key, consolidated=True)\n",
        "        except Exception as e:\n",
        "            if verbose: print(f\"skipping group {key}: open_zarr error: {e}\")\n",
        "            continue\n",
        "\n",
        "        # choose the DataArray: prefer 'Sxx' but fall back to the first data_var\n",
        "        if \"Sxx\" in ds.data_vars:\n",
        "            da = ds[\"Sxx\"]\n",
        "            picked_name = \"Sxx\"\n",
        "        elif len(ds.data_vars) == 1:\n",
        "            picked_name = list(ds.data_vars)[0]\n",
        "            da = ds[picked_name]\n",
        "            if verbose: print(f\"group {key}: no 'Sxx' var, picked '{picked_name}'\")\n",
        "        else:\n",
        "            if verbose: print(f\"skipping group {key}: no Sxx and multiple data_vars: {list(ds.data_vars)}\")\n",
        "            continue\n",
        "\n",
        "        # normalize name to 'Sxx' for consistency\n",
        "        if da.name != \"Sxx\":\n",
        "            da = da.rename(\"Sxx\")\n",
        "\n",
        "        session_key = ds.attrs.get(\"session_key\", key)\n",
        "        cognitive_status = da.attrs.get(\"cognitive_status\", \"unknown\")\n",
        "\n",
        "        # Expand with session dim labeled by session_key\n",
        "        da = da.expand_dims({\"session\": [session_key]})\n",
        "\n",
        "        # Assign cognitive_status as a coordinate on session dim\n",
        "        da = da.assign_coords(cognitive_status=(\"session\", [cognitive_status]))\n",
        "\n",
        "        da_list.append(da)\n",
        "\n",
        "    if not da_list:\n",
        "        raise ValueError(\"No sessions with Sxx (or fallback data-var) found in Zarr store\")\n",
        "\n",
        "    combined = xr.concat(da_list, dim=\"session\", join=\"outer\")\n",
        "\n",
        "    ds_combined = combined.to_dataset(name=\"Sxx\")\n",
        "\n",
        "    # session_key coord (same labels as session dim)\n",
        "    sess_labels = [str(x) for x in ds_combined[\"session\"].values.tolist()]\n",
        "    ds_combined = ds_combined.assign_coords(session_key=(\"session\", sess_labels))\n",
        "\n",
        "    # ensure cognitive_status exists as session coord\n",
        "    if \"cognitive_status\" not in ds_combined.coords:\n",
        "        cs_vals = [da.coords.get(\"cognitive_status\").values[0] if \"cognitive_status\" in da.coords else \"unknown\" for da in da_list]\n",
        "        ds_combined = ds_combined.assign_coords(cognitive_status=(\"session\", cs_vals))\n",
        "\n",
        "    return ds_combined\n",
        "\n",
        "\n",
        "\n",
        "def save_sessions_as_zarr(active_only_out_eeg_raws, results, day_status_dict, out_path=\"all_sessions.zarr\"):\n",
        "    \"\"\" write out the result (spectogram) from each session in the `day_status_dict` to the out_path file\n",
        "\n",
        "    Usage:\n",
        "\n",
        "        cog_categorical_cats = ['cog_bad', 'cog_poor', 'cog_okay', 'cog_good', 'cog_great']\n",
        "\n",
        "        day_status_dict = {\n",
        "            '2025-09-19/01-54-39': 'cog_poor',\n",
        "            '2025-09-18/15-23-08': 'cog_poor',\n",
        "            '2025-09-22/21-35-47': 'cog_okay',\n",
        "            '2025-09-19/20-51-18': 'cog_good',\n",
        "            '2025-09-18/03-18-42': 'cog_great',\n",
        "            '2025-09-22/21-35-47': 'cog_bad',\n",
        "            '2025-09-21/08-55-41': 'cog_bad',\n",
        "        }\n",
        "\n",
        "\n",
        "        out_path = Path(\"2025-09-29_all_sessions.zarr\")\n",
        "        out_path = save_sessions_as_zarr(active_only_out_eeg_raws=active_only_out_eeg_raws, results=results, day_status_dict=day_status_dict, out_path=out_path)\n",
        "\n",
        "    \"\"\"\n",
        "    compressor = numcodecs.Blosc()\n",
        "    store = zarr.DirectoryStore(out_path)\n",
        "    num_sessions: int = len(active_only_out_eeg_raws)\n",
        "\n",
        "    for idx in np.arange(num_sessions):\n",
        "        a_raw = active_only_out_eeg_raws[idx]\n",
        "        a_meas_date = a_raw.info.get('meas_date')\n",
        "        a_raw_key = a_meas_date.strftime(\"%Y-%m-%d/%H-%M-%S\")\n",
        "        a_status = day_status_dict.get(a_raw_key, None)\n",
        "        if not a_status:\n",
        "            continue\n",
        "\n",
        "        a_result = results[idx]\n",
        "        Sxx = a_result['spectogram']['Sxx']\n",
        "        Sxx = Sxx.assign_attrs(cognitive_status=a_status) # xarray.DataArray - channels: 14, freqs: 513, times: 1116\n",
        "\n",
        "        ds = Sxx.to_dataset(name='Sxx')\n",
        "        ds.attrs['session_key'] = a_raw_key\n",
        "\n",
        "        encoding = {v: {'compressor': compressor} for v in ds.data_vars}\n",
        "        ds.to_zarr(store, group=a_raw_key, mode='a', encoding=encoding)\n",
        "\n",
        "    zarr.consolidate_metadata(store)\n",
        "    return out_path\n",
        "\n",
        "\n",
        "cog_categorical_cats = ['cog_bad', 'cog_poor', 'cog_okay', 'cog_good', 'cog_great']\n",
        "\n",
        "day_status_dict = {\n",
        "    '2025-09-19/01-54-39': 'cog_poor',\n",
        "    '2025-09-18/15-23-08': 'cog_poor',\n",
        "    '2025-09-22/21-35-47': 'cog_okay',\n",
        "    '2025-09-19/20-51-18': 'cog_good',\n",
        "    '2025-09-18/03-18-42': 'cog_great',\n",
        "    '2025-09-22/21-35-47': 'cog_bad',\n",
        "    '2025-09-21/08-55-41': 'cog_bad',\n",
        "}\n",
        "\n",
        "\n",
        "out_path = Path(\"2025-09-30_all_sessions.zarr\")\n",
        "\n",
        "# out_path = save_sessions_as_zarr(active_only_out_eeg_raws=active_only_out_eeg_raws, results=results, day_status_dict=day_status_dict, out_path=out_path)\n",
        "\n",
        "## Immediately re-load from file\n",
        "all_data = load_sessions_from_zarr(out_path, verbose=True)\n"
      ]
    },
    {
      "cell_type": "markdown",
      "metadata": {},
      "source": [
        "# Export Spectogram XArray Spectograms to Interactive Plots"
      ]
    },
    {
      "cell_type": "code",
      "execution_count": 54,
      "metadata": {},
      "outputs": [
        {
          "data": {
            "application/javascript": "(function(root) {\n  function now() {\n    return new Date();\n  }\n\n  var force = true;\n  var py_version = '3.4.3'.replace('rc', '-rc.').replace('.dev', '-dev.');\n  var reloading = false;\n  var Bokeh = root.Bokeh;\n\n  if (typeof (root._bokeh_timeout) === \"undefined\" || force) {\n    root._bokeh_timeout = Date.now() + 5000;\n    root._bokeh_failed_load = false;\n  }\n\n  function run_callbacks() {\n    try {\n      root._bokeh_onload_callbacks.forEach(function(callback) {\n        if (callback != null)\n          callback();\n      });\n    } finally {\n      delete root._bokeh_onload_callbacks;\n    }\n    console.debug(\"Bokeh: all callbacks have finished\");\n  }\n\n  function load_libs(css_urls, js_urls, js_modules, js_exports, callback) {\n    if (css_urls == null) css_urls = [];\n    if (js_urls == null) js_urls = [];\n    if (js_modules == null) js_modules = [];\n    if (js_exports == null) js_exports = {};\n\n    root._bokeh_onload_callbacks.push(callback);\n\n    if (root._bokeh_is_loading > 0) {\n      console.debug(\"Bokeh: BokehJS is being loaded, scheduling callback at\", now());\n      return null;\n    }\n    if (js_urls.length === 0 && js_modules.length === 0 && Object.keys(js_exports).length === 0) {\n      run_callbacks();\n      return null;\n    }\n    if (!reloading) {\n      console.debug(\"Bokeh: BokehJS not loaded, scheduling load and callback at\", now());\n    }\n\n    function on_load() {\n      root._bokeh_is_loading--;\n      if (root._bokeh_is_loading === 0) {\n        console.debug(\"Bokeh: all BokehJS libraries/stylesheets loaded\");\n        run_callbacks()\n      }\n    }\n    window._bokeh_on_load = on_load\n\n    function on_error() {\n      console.error(\"failed to load \" + url);\n    }\n\n    var skip = [];\n    if (window.requirejs) {\n      window.requirejs.config({'packages': {}, 'paths': {}, 'shim': {}});\n      root._bokeh_is_loading = css_urls.length + 0;\n    } else {\n      root._bokeh_is_loading = css_urls.length + js_urls.length + js_modules.length + Object.keys(js_exports).length;\n    }\n\n    var existing_stylesheets = []\n    var links = document.getElementsByTagName('link')\n    for (var i = 0; i < links.length; i++) {\n      var link = links[i]\n      if (link.href != null) {\n\texisting_stylesheets.push(link.href)\n      }\n    }\n    for (var i = 0; i < css_urls.length; i++) {\n      var url = css_urls[i];\n      if (existing_stylesheets.indexOf(url) !== -1) {\n\ton_load()\n\tcontinue;\n      }\n      const element = document.createElement(\"link\");\n      element.onload = on_load;\n      element.onerror = on_error;\n      element.rel = \"stylesheet\";\n      element.type = \"text/css\";\n      element.href = url;\n      console.debug(\"Bokeh: injecting link tag for BokehJS stylesheet: \", url);\n      document.body.appendChild(element);\n    }    var existing_scripts = []\n    var scripts = document.getElementsByTagName('script')\n    for (var i = 0; i < scripts.length; i++) {\n      var script = scripts[i]\n      if (script.src != null) {\n\texisting_scripts.push(script.src)\n      }\n    }\n    for (var i = 0; i < js_urls.length; i++) {\n      var url = js_urls[i];\n      if (skip.indexOf(url) !== -1 || existing_scripts.indexOf(url) !== -1) {\n\tif (!window.requirejs) {\n\t  on_load();\n\t}\n\tcontinue;\n      }\n      var element = document.createElement('script');\n      element.onload = on_load;\n      element.onerror = on_error;\n      element.async = false;\n      element.src = url;\n      console.debug(\"Bokeh: injecting script tag for BokehJS library: \", url);\n      document.head.appendChild(element);\n    }\n    for (var i = 0; i < js_modules.length; i++) {\n      var url = js_modules[i];\n      if (skip.indexOf(url) !== -1 || existing_scripts.indexOf(url) !== -1) {\n\tif (!window.requirejs) {\n\t  on_load();\n\t}\n\tcontinue;\n      }\n      var element = document.createElement('script');\n      element.onload = on_load;\n      element.onerror = on_error;\n      element.async = false;\n      element.src = url;\n      element.type = \"module\";\n      console.debug(\"Bokeh: injecting script tag for BokehJS library: \", url);\n      document.head.appendChild(element);\n    }\n    for (const name in js_exports) {\n      var url = js_exports[name];\n      if (skip.indexOf(url) >= 0 || root[name] != null) {\n\tif (!window.requirejs) {\n\t  on_load();\n\t}\n\tcontinue;\n      }\n      var element = document.createElement('script');\n      element.onerror = on_error;\n      element.async = false;\n      element.type = \"module\";\n      console.debug(\"Bokeh: injecting script tag for BokehJS library: \", url);\n      element.textContent = `\n      import ${name} from \"${url}\"\n      window.${name} = ${name}\n      window._bokeh_on_load()\n      `\n      document.head.appendChild(element);\n    }\n    if (!js_urls.length && !js_modules.length) {\n      on_load()\n    }\n  };\n\n  function inject_raw_css(css) {\n    const element = document.createElement(\"style\");\n    element.appendChild(document.createTextNode(css));\n    document.body.appendChild(element);\n  }\n\n  var js_urls = [\"https://cdn.bokeh.org/bokeh/release/bokeh-3.4.3.min.js\", \"https://cdn.bokeh.org/bokeh/release/bokeh-gl-3.4.3.min.js\", \"https://cdn.bokeh.org/bokeh/release/bokeh-widgets-3.4.3.min.js\", \"https://cdn.bokeh.org/bokeh/release/bokeh-tables-3.4.3.min.js\", \"https://cdn.holoviz.org/panel/1.4.5/dist/panel.min.js\"];\n  var js_modules = [];\n  var js_exports = {};\n  var css_urls = [];\n  var inline_js = [    function(Bokeh) {\n      Bokeh.set_log_level(\"info\");\n    },\nfunction(Bokeh) {} // ensure no trailing comma for IE\n  ];\n\n  function run_inline_js() {\n    if ((root.Bokeh !== undefined) || (force === true)) {\n      for (var i = 0; i < inline_js.length; i++) {\n\ttry {\n          inline_js[i].call(root, root.Bokeh);\n\t} catch(e) {\n\t  if (!reloading) {\n\t    throw e;\n\t  }\n\t}\n      }\n      // Cache old bokeh versions\n      if (Bokeh != undefined && !reloading) {\n\tvar NewBokeh = root.Bokeh;\n\tif (Bokeh.versions === undefined) {\n\t  Bokeh.versions = new Map();\n\t}\n\tif (NewBokeh.version !== Bokeh.version) {\n\t  Bokeh.versions.set(NewBokeh.version, NewBokeh)\n\t}\n\troot.Bokeh = Bokeh;\n      }} else if (Date.now() < root._bokeh_timeout) {\n      setTimeout(run_inline_js, 100);\n    } else if (!root._bokeh_failed_load) {\n      console.log(\"Bokeh: BokehJS failed to load within specified timeout.\");\n      root._bokeh_failed_load = true;\n    }\n    root._bokeh_is_initializing = false\n  }\n\n  function load_or_wait() {\n    // Implement a backoff loop that tries to ensure we do not load multiple\n    // versions of Bokeh and its dependencies at the same time.\n    // In recent versions we use the root._bokeh_is_initializing flag\n    // to determine whether there is an ongoing attempt to initialize\n    // bokeh, however for backward compatibility we also try to ensure\n    // that we do not start loading a newer (Panel>=1.0 and Bokeh>3) version\n    // before older versions are fully initialized.\n    if (root._bokeh_is_initializing && Date.now() > root._bokeh_timeout) {\n      root._bokeh_is_initializing = false;\n      root._bokeh_onload_callbacks = undefined;\n      console.log(\"Bokeh: BokehJS was loaded multiple times but one version failed to initialize.\");\n      load_or_wait();\n    } else if (root._bokeh_is_initializing || (typeof root._bokeh_is_initializing === \"undefined\" && root._bokeh_onload_callbacks !== undefined)) {\n      setTimeout(load_or_wait, 100);\n    } else {\n      root._bokeh_is_initializing = true\n      root._bokeh_onload_callbacks = []\n      var bokeh_loaded = Bokeh != null && (Bokeh.version === py_version || (Bokeh.versions !== undefined && Bokeh.versions.has(py_version)));\n      if (!reloading && !bokeh_loaded) {\n\troot.Bokeh = undefined;\n      }\n      load_libs(css_urls, js_urls, js_modules, js_exports, function() {\n\tconsole.debug(\"Bokeh: BokehJS plotting callback run at\", now());\n\trun_inline_js();\n      });\n    }\n  }\n  // Give older versions of the autoload script a head-start to ensure\n  // they initialize before we start loading newer version.\n  setTimeout(load_or_wait, 100)\n}(window));",
            "application/vnd.holoviews_load.v0+json": ""
          },
          "metadata": {},
          "output_type": "display_data"
        },
        {
          "data": {
            "application/javascript": "\nif ((window.PyViz === undefined) || (window.PyViz instanceof HTMLElement)) {\n  window.PyViz = {comms: {}, comm_status:{}, kernels:{}, receivers: {}, plot_index: []}\n}\n\n\n    function JupyterCommManager() {\n    }\n\n    JupyterCommManager.prototype.register_target = function(plot_id, comm_id, msg_handler) {\n      if (window.comm_manager || ((window.Jupyter !== undefined) && (Jupyter.notebook.kernel != null))) {\n        var comm_manager = window.comm_manager || Jupyter.notebook.kernel.comm_manager;\n        comm_manager.register_target(comm_id, function(comm) {\n          comm.on_msg(msg_handler);\n        });\n      } else if ((plot_id in window.PyViz.kernels) && (window.PyViz.kernels[plot_id])) {\n        window.PyViz.kernels[plot_id].registerCommTarget(comm_id, function(comm) {\n          comm.onMsg = msg_handler;\n        });\n      } else if (typeof google != 'undefined' && google.colab.kernel != null) {\n        google.colab.kernel.comms.registerTarget(comm_id, (comm) => {\n          var messages = comm.messages[Symbol.asyncIterator]();\n          function processIteratorResult(result) {\n            var message = result.value;\n            var content = {data: message.data, comm_id};\n            var buffers = []\n            for (var buffer of message.buffers || []) {\n              buffers.push(new DataView(buffer))\n            }\n            var metadata = message.metadata || {};\n            var msg = {content, buffers, metadata}\n            msg_handler(msg);\n            return messages.next().then(processIteratorResult);\n          }\n          return messages.next().then(processIteratorResult);\n        })\n      }\n    }\n\n    JupyterCommManager.prototype.get_client_comm = function(plot_id, comm_id, msg_handler) {\n      if (comm_id in window.PyViz.comms) {\n        return window.PyViz.comms[comm_id];\n      } else if (window.comm_manager || ((window.Jupyter !== undefined) && (Jupyter.notebook.kernel != null))) {\n        var comm_manager = window.comm_manager || Jupyter.notebook.kernel.comm_manager;\n        var comm = comm_manager.new_comm(comm_id, {}, {}, {}, comm_id);\n        if (msg_handler) {\n          comm.on_msg(msg_handler);\n        }\n      } else if ((plot_id in window.PyViz.kernels) && (window.PyViz.kernels[plot_id])) {\n        var comm = window.PyViz.kernels[plot_id].connectToComm(comm_id);\n        let retries = 0;\n        const open = () => {\n          if (comm.active) {\n            comm.open();\n          } else if (retries > 3) {\n            console.warn('Comm target never activated')\n          } else {\n            retries += 1\n            setTimeout(open, 500)\n          }\n        }\n        if (comm.active) {\n          comm.open();\n        } else {\n          setTimeout(open, 500)\n        }\n        if (msg_handler) {\n          comm.onMsg = msg_handler;\n        }\n      } else if (typeof google != 'undefined' && google.colab.kernel != null) {\n        var comm_promise = google.colab.kernel.comms.open(comm_id)\n        comm_promise.then((comm) => {\n          window.PyViz.comms[comm_id] = comm;\n          if (msg_handler) {\n            var messages = comm.messages[Symbol.asyncIterator]();\n            function processIteratorResult(result) {\n              var message = result.value;\n              var content = {data: message.data};\n              var metadata = message.metadata || {comm_id};\n              var msg = {content, metadata}\n              msg_handler(msg);\n              return messages.next().then(processIteratorResult);\n            }\n            return messages.next().then(processIteratorResult);\n          }\n        })\n        var sendClosure = (data, metadata, buffers, disposeOnDone) => {\n          return comm_promise.then((comm) => {\n            comm.send(data, metadata, buffers, disposeOnDone);\n          });\n        };\n        var comm = {\n          send: sendClosure\n        };\n      }\n      window.PyViz.comms[comm_id] = comm;\n      return comm;\n    }\n    window.PyViz.comm_manager = new JupyterCommManager();\n    \n\n\nvar JS_MIME_TYPE = 'application/javascript';\nvar HTML_MIME_TYPE = 'text/html';\nvar EXEC_MIME_TYPE = 'application/vnd.holoviews_exec.v0+json';\nvar CLASS_NAME = 'output';\n\n/**\n * Render data to the DOM node\n */\nfunction render(props, node) {\n  var div = document.createElement(\"div\");\n  var script = document.createElement(\"script\");\n  node.appendChild(div);\n  node.appendChild(script);\n}\n\n/**\n * Handle when a new output is added\n */\nfunction handle_add_output(event, handle) {\n  var output_area = handle.output_area;\n  var output = handle.output;\n  if ((output.data == undefined) || (!output.data.hasOwnProperty(EXEC_MIME_TYPE))) {\n    return\n  }\n  var id = output.metadata[EXEC_MIME_TYPE][\"id\"];\n  var toinsert = output_area.element.find(\".\" + CLASS_NAME.split(' ')[0]);\n  if (id !== undefined) {\n    var nchildren = toinsert.length;\n    var html_node = toinsert[nchildren-1].children[0];\n    html_node.innerHTML = output.data[HTML_MIME_TYPE];\n    var scripts = [];\n    var nodelist = html_node.querySelectorAll(\"script\");\n    for (var i in nodelist) {\n      if (nodelist.hasOwnProperty(i)) {\n        scripts.push(nodelist[i])\n      }\n    }\n\n    scripts.forEach( function (oldScript) {\n      var newScript = document.createElement(\"script\");\n      var attrs = [];\n      var nodemap = oldScript.attributes;\n      for (var j in nodemap) {\n        if (nodemap.hasOwnProperty(j)) {\n          attrs.push(nodemap[j])\n        }\n      }\n      attrs.forEach(function(attr) { newScript.setAttribute(attr.name, attr.value) });\n      newScript.appendChild(document.createTextNode(oldScript.innerHTML));\n      oldScript.parentNode.replaceChild(newScript, oldScript);\n    });\n    if (JS_MIME_TYPE in output.data) {\n      toinsert[nchildren-1].children[1].textContent = output.data[JS_MIME_TYPE];\n    }\n    output_area._hv_plot_id = id;\n    if ((window.Bokeh !== undefined) && (id in Bokeh.index)) {\n      window.PyViz.plot_index[id] = Bokeh.index[id];\n    } else {\n      window.PyViz.plot_index[id] = null;\n    }\n  } else if (output.metadata[EXEC_MIME_TYPE][\"server_id\"] !== undefined) {\n    var bk_div = document.createElement(\"div\");\n    bk_div.innerHTML = output.data[HTML_MIME_TYPE];\n    var script_attrs = bk_div.children[0].attributes;\n    for (var i = 0; i < script_attrs.length; i++) {\n      toinsert[toinsert.length - 1].childNodes[1].setAttribute(script_attrs[i].name, script_attrs[i].value);\n    }\n    // store reference to server id on output_area\n    output_area._bokeh_server_id = output.metadata[EXEC_MIME_TYPE][\"server_id\"];\n  }\n}\n\n/**\n * Handle when an output is cleared or removed\n */\nfunction handle_clear_output(event, handle) {\n  var id = handle.cell.output_area._hv_plot_id;\n  var server_id = handle.cell.output_area._bokeh_server_id;\n  if (((id === undefined) || !(id in PyViz.plot_index)) && (server_id !== undefined)) { return; }\n  var comm = window.PyViz.comm_manager.get_client_comm(\"hv-extension-comm\", \"hv-extension-comm\", function () {});\n  if (server_id !== null) {\n    comm.send({event_type: 'server_delete', 'id': server_id});\n    return;\n  } else if (comm !== null) {\n    comm.send({event_type: 'delete', 'id': id});\n  }\n  delete PyViz.plot_index[id];\n  if ((window.Bokeh !== undefined) & (id in window.Bokeh.index)) {\n    var doc = window.Bokeh.index[id].model.document\n    doc.clear();\n    const i = window.Bokeh.documents.indexOf(doc);\n    if (i > -1) {\n      window.Bokeh.documents.splice(i, 1);\n    }\n  }\n}\n\n/**\n * Handle kernel restart event\n */\nfunction handle_kernel_cleanup(event, handle) {\n  delete PyViz.comms[\"hv-extension-comm\"];\n  window.PyViz.plot_index = {}\n}\n\n/**\n * Handle update_display_data messages\n */\nfunction handle_update_output(event, handle) {\n  handle_clear_output(event, {cell: {output_area: handle.output_area}})\n  handle_add_output(event, handle)\n}\n\nfunction register_renderer(events, OutputArea) {\n  function append_mime(data, metadata, element) {\n    // create a DOM node to render to\n    var toinsert = this.create_output_subarea(\n    metadata,\n    CLASS_NAME,\n    EXEC_MIME_TYPE\n    );\n    this.keyboard_manager.register_events(toinsert);\n    // Render to node\n    var props = {data: data, metadata: metadata[EXEC_MIME_TYPE]};\n    render(props, toinsert[0]);\n    element.append(toinsert);\n    return toinsert\n  }\n\n  events.on('output_added.OutputArea', handle_add_output);\n  events.on('output_updated.OutputArea', handle_update_output);\n  events.on('clear_output.CodeCell', handle_clear_output);\n  events.on('delete.Cell', handle_clear_output);\n  events.on('kernel_ready.Kernel', handle_kernel_cleanup);\n\n  OutputArea.prototype.register_mime_type(EXEC_MIME_TYPE, append_mime, {\n    safe: true,\n    index: 0\n  });\n}\n\nif (window.Jupyter !== undefined) {\n  try {\n    var events = require('base/js/events');\n    var OutputArea = require('notebook/js/outputarea').OutputArea;\n    if (OutputArea.prototype.mime_types().indexOf(EXEC_MIME_TYPE) == -1) {\n      register_renderer(events, OutputArea);\n    }\n  } catch(err) {\n  }\n}\n",
            "application/vnd.holoviews_load.v0+json": ""
          },
          "metadata": {},
          "output_type": "display_data"
        },
        {
          "data": {
            "text/html": [
              "<style>*[data-root-id],\n",
              "*[data-root-id] > * {\n",
              "  box-sizing: border-box;\n",
              "  font-family: var(--jp-ui-font-family);\n",
              "  font-size: var(--jp-ui-font-size1);\n",
              "  color: var(--vscode-editor-foreground, var(--jp-ui-font-color1));\n",
              "}\n",
              "\n",
              "/* Override VSCode background color */\n",
              ".cell-output-ipywidget-background:has(\n",
              "    > .cell-output-ipywidget-background > .lm-Widget > *[data-root-id]\n",
              "  ),\n",
              ".cell-output-ipywidget-background:has(> .lm-Widget > *[data-root-id]) {\n",
              "  background-color: transparent !important;\n",
              "}\n",
              "</style>"
            ]
          },
          "metadata": {},
          "output_type": "display_data"
        },
        {
          "data": {
            "application/vnd.holoviews_exec.v0+json": "",
            "text/html": [
              "<div id='60bc9196-bf07-45fe-b76f-438b8ff9d2dc'>\n",
              "  <div id=\"e264d338-df62-4b68-aca1-741b4cf984c2\" data-root-id=\"60bc9196-bf07-45fe-b76f-438b8ff9d2dc\" style=\"display: contents;\"></div>\n",
              "</div>\n",
              "<script type=\"application/javascript\">(function(root) {\n",
              "  var docs_json = {\"4ff7b953-6d30-42e2-8dfe-e029af1ba629\":{\"version\":\"3.4.3\",\"title\":\"Bokeh Application\",\"roots\":[{\"type\":\"object\",\"name\":\"panel.models.browser.BrowserInfo\",\"id\":\"60bc9196-bf07-45fe-b76f-438b8ff9d2dc\"},{\"type\":\"object\",\"name\":\"panel.models.comm_manager.CommManager\",\"id\":\"f360aaf3-1619-41a1-9fab-fa4e98021796\",\"attributes\":{\"plot_id\":\"60bc9196-bf07-45fe-b76f-438b8ff9d2dc\",\"comm_id\":\"267662f92c7843f0a98f70bcc99520c9\",\"client_comm_id\":\"680f59810b274759b3602edac1935ce7\"}}],\"defs\":[{\"type\":\"model\",\"name\":\"ReactiveHTML1\"},{\"type\":\"model\",\"name\":\"FlexBox1\",\"properties\":[{\"name\":\"align_content\",\"kind\":\"Any\",\"default\":\"flex-start\"},{\"name\":\"align_items\",\"kind\":\"Any\",\"default\":\"flex-start\"},{\"name\":\"flex_direction\",\"kind\":\"Any\",\"default\":\"row\"},{\"name\":\"flex_wrap\",\"kind\":\"Any\",\"default\":\"wrap\"},{\"name\":\"gap\",\"kind\":\"Any\",\"default\":\"\"},{\"name\":\"justify_content\",\"kind\":\"Any\",\"default\":\"flex-start\"}]},{\"type\":\"model\",\"name\":\"FloatPanel1\",\"properties\":[{\"name\":\"config\",\"kind\":\"Any\",\"default\":{\"type\":\"map\"}},{\"name\":\"contained\",\"kind\":\"Any\",\"default\":true},{\"name\":\"position\",\"kind\":\"Any\",\"default\":\"right-top\"},{\"name\":\"offsetx\",\"kind\":\"Any\",\"default\":null},{\"name\":\"offsety\",\"kind\":\"Any\",\"default\":null},{\"name\":\"theme\",\"kind\":\"Any\",\"default\":\"primary\"},{\"name\":\"status\",\"kind\":\"Any\",\"default\":\"normalized\"}]},{\"type\":\"model\",\"name\":\"GridStack1\",\"properties\":[{\"name\":\"mode\",\"kind\":\"Any\",\"default\":\"warn\"},{\"name\":\"ncols\",\"kind\":\"Any\",\"default\":null},{\"name\":\"nrows\",\"kind\":\"Any\",\"default\":null},{\"name\":\"allow_resize\",\"kind\":\"Any\",\"default\":true},{\"name\":\"allow_drag\",\"kind\":\"Any\",\"default\":true},{\"name\":\"state\",\"kind\":\"Any\",\"default\":[]}]},{\"type\":\"model\",\"name\":\"drag1\",\"properties\":[{\"name\":\"slider_width\",\"kind\":\"Any\",\"default\":5},{\"name\":\"slider_color\",\"kind\":\"Any\",\"default\":\"black\"},{\"name\":\"value\",\"kind\":\"Any\",\"default\":50}]},{\"type\":\"model\",\"name\":\"click1\",\"properties\":[{\"name\":\"terminal_output\",\"kind\":\"Any\",\"default\":\"\"},{\"name\":\"debug_name\",\"kind\":\"Any\",\"default\":\"\"},{\"name\":\"clears\",\"kind\":\"Any\",\"default\":0}]},{\"type\":\"model\",\"name\":\"FastWrapper1\",\"properties\":[{\"name\":\"object\",\"kind\":\"Any\",\"default\":null},{\"name\":\"style\",\"kind\":\"Any\",\"default\":null}]},{\"type\":\"model\",\"name\":\"NotificationAreaBase1\",\"properties\":[{\"name\":\"js_events\",\"kind\":\"Any\",\"default\":{\"type\":\"map\"}},{\"name\":\"position\",\"kind\":\"Any\",\"default\":\"bottom-right\"},{\"name\":\"_clear\",\"kind\":\"Any\",\"default\":0}]},{\"type\":\"model\",\"name\":\"NotificationArea1\",\"properties\":[{\"name\":\"js_events\",\"kind\":\"Any\",\"default\":{\"type\":\"map\"}},{\"name\":\"notifications\",\"kind\":\"Any\",\"default\":[]},{\"name\":\"position\",\"kind\":\"Any\",\"default\":\"bottom-right\"},{\"name\":\"_clear\",\"kind\":\"Any\",\"default\":0},{\"name\":\"types\",\"kind\":\"Any\",\"default\":[{\"type\":\"map\",\"entries\":[[\"type\",\"warning\"],[\"background\",\"#ffc107\"],[\"icon\",{\"type\":\"map\",\"entries\":[[\"className\",\"fas fa-exclamation-triangle\"],[\"tagName\",\"i\"],[\"color\",\"white\"]]}]]},{\"type\":\"map\",\"entries\":[[\"type\",\"info\"],[\"background\",\"#007bff\"],[\"icon\",{\"type\":\"map\",\"entries\":[[\"className\",\"fas fa-info-circle\"],[\"tagName\",\"i\"],[\"color\",\"white\"]]}]]}]}]},{\"type\":\"model\",\"name\":\"Notification\",\"properties\":[{\"name\":\"background\",\"kind\":\"Any\",\"default\":null},{\"name\":\"duration\",\"kind\":\"Any\",\"default\":3000},{\"name\":\"icon\",\"kind\":\"Any\",\"default\":null},{\"name\":\"message\",\"kind\":\"Any\",\"default\":\"\"},{\"name\":\"notification_type\",\"kind\":\"Any\",\"default\":null},{\"name\":\"_destroyed\",\"kind\":\"Any\",\"default\":false}]},{\"type\":\"model\",\"name\":\"TemplateActions1\",\"properties\":[{\"name\":\"open_modal\",\"kind\":\"Any\",\"default\":0},{\"name\":\"close_modal\",\"kind\":\"Any\",\"default\":0}]},{\"type\":\"model\",\"name\":\"BootstrapTemplateActions1\",\"properties\":[{\"name\":\"open_modal\",\"kind\":\"Any\",\"default\":0},{\"name\":\"close_modal\",\"kind\":\"Any\",\"default\":0}]},{\"type\":\"model\",\"name\":\"TemplateEditor1\",\"properties\":[{\"name\":\"layout\",\"kind\":\"Any\",\"default\":[]}]},{\"type\":\"model\",\"name\":\"MaterialTemplateActions1\",\"properties\":[{\"name\":\"open_modal\",\"kind\":\"Any\",\"default\":0},{\"name\":\"close_modal\",\"kind\":\"Any\",\"default\":0}]},{\"type\":\"model\",\"name\":\"copy_to_clipboard1\",\"properties\":[{\"name\":\"fill\",\"kind\":\"Any\",\"default\":\"none\"},{\"name\":\"value\",\"kind\":\"Any\",\"default\":null}]}]}};\n",
              "  var render_items = [{\"docid\":\"4ff7b953-6d30-42e2-8dfe-e029af1ba629\",\"roots\":{\"60bc9196-bf07-45fe-b76f-438b8ff9d2dc\":\"e264d338-df62-4b68-aca1-741b4cf984c2\"},\"root_ids\":[\"60bc9196-bf07-45fe-b76f-438b8ff9d2dc\"]}];\n",
              "  var docs = Object.values(docs_json)\n",
              "  if (!docs) {\n",
              "    return\n",
              "  }\n",
              "  const py_version = docs[0].version.replace('rc', '-rc.').replace('.dev', '-dev.')\n",
              "  async function embed_document(root) {\n",
              "    var Bokeh = get_bokeh(root)\n",
              "    await Bokeh.embed.embed_items_notebook(docs_json, render_items);\n",
              "    for (const render_item of render_items) {\n",
              "      for (const root_id of render_item.root_ids) {\n",
              "\tconst id_el = document.getElementById(root_id)\n",
              "\tif (id_el.children.length && id_el.children[0].hasAttribute('data-root-id')) {\n",
              "\t  const root_el = id_el.children[0]\n",
              "\t  root_el.id = root_el.id + '-rendered'\n",
              "\t  for (const child of root_el.children) {\n",
              "            // Ensure JupyterLab does not capture keyboard shortcuts\n",
              "            // see: https://jupyterlab.readthedocs.io/en/4.1.x/extension/notebook.html#keyboard-interaction-model\n",
              "\t    child.setAttribute('data-lm-suppress-shortcuts', 'true')\n",
              "\t  }\n",
              "\t}\n",
              "      }\n",
              "    }\n",
              "  }\n",
              "  function get_bokeh(root) {\n",
              "    if (root.Bokeh === undefined) {\n",
              "      return null\n",
              "    } else if (root.Bokeh.version !== py_version) {\n",
              "      if (root.Bokeh.versions === undefined || !root.Bokeh.versions.has(py_version)) {\n",
              "\treturn null\n",
              "      }\n",
              "      return root.Bokeh.versions.get(py_version);\n",
              "    } else if (root.Bokeh.version === py_version) {\n",
              "      return root.Bokeh\n",
              "    }\n",
              "    return null\n",
              "  }\n",
              "  function is_loaded(root) {\n",
              "    var Bokeh = get_bokeh(root)\n",
              "    return (Bokeh != null && Bokeh.Panel !== undefined)\n",
              "  }\n",
              "  if (is_loaded(root)) {\n",
              "    embed_document(root);\n",
              "  } else {\n",
              "    var attempts = 0;\n",
              "    var timer = setInterval(function(root) {\n",
              "      if (is_loaded(root)) {\n",
              "        clearInterval(timer);\n",
              "        embed_document(root);\n",
              "      } else if (document.readyState == \"complete\") {\n",
              "        attempts++;\n",
              "        if (attempts > 200) {\n",
              "          clearInterval(timer);\n",
              "\t  var Bokeh = get_bokeh(root)\n",
              "\t  if (Bokeh == null || Bokeh.Panel == null) {\n",
              "            console.warn(\"Panel: ERROR: Unable to run Panel code because Bokeh or Panel library is missing\");\n",
              "\t  } else {\n",
              "\t    console.warn(\"Panel: WARNING: Attempting to render but not all required libraries could be resolved.\")\n",
              "\t    embed_document(root)\n",
              "\t  }\n",
              "        }\n",
              "      }\n",
              "    }, 25, root)\n",
              "  }\n",
              "})(window);</script>"
            ]
          },
          "metadata": {
            "application/vnd.holoviews_exec.v0+json": {
              "id": "60bc9196-bf07-45fe-b76f-438b8ff9d2dc"
            }
          },
          "output_type": "display_data"
        },
        {
          "data": {
            "application/vnd.jupyter.widget-view+json": {
              "model_id": "05268802cd734e8bab61354208f1d3fd",
              "version_major": 2,
              "version_minor": 0
            },
            "text/plain": [
              "BokehModel(combine_events=True, render_bundle={'docs_json': {'981b914a-07d5-4174-9167-e442d7dd50e8': {'version…"
            ]
          },
          "execution_count": 54,
          "metadata": {},
          "output_type": "execute_result"
        }
      ],
      "source": [
        "import xarray as xr\n",
        "import zarr\n",
        "import panel as pn\n",
        "import hvplot.xarray\n",
        "import numpy as np\n",
        "from pathlib import Path\n",
        "\n",
        "# # --- 1. Data Loading Function ---\n",
        "\n",
        "# --- 2. Setup the Interactive Dashboard ---\n",
        "ZARR_FILE_PATH = Path(\"2025-09-29_all_sessions.zarr\")\n",
        "\n",
        "try:\n",
        "    all_data = load_sessions_from_zarr(ZARR_FILE_PATH)\n",
        "except (FileNotFoundError, ValueError) as e:\n",
        "    pn.pane.Alert(f\"Error loading data: {e}\", alert_type='danger').servable()\n",
        "else:\n",
        "    pn.extension(sizing_mode=\"stretch_width\")\n",
        "\n",
        "    # --- 3. Create Interactive Widgets ---\n",
        "    cog_statuses = sorted(np.unique(all_data.cognitive_status.values).tolist())\n",
        "    channels = all_data.channels.values.tolist()\n",
        "\n",
        "    status_select = pn.widgets.Select(name='Cognitive Status', options=['All'] + cog_statuses, value='All')\n",
        "    session_select = pn.widgets.Select(name='Session')\n",
        "    channel_select = pn.widgets.Select(name='Channel', options=channels)\n",
        "\n",
        "    # --- 4. Dependent Widgets ---\n",
        "    @pn.depends(status_select.param.value, watch=True)\n",
        "    def _update_session_options(status):\n",
        "        if status == 'All':\n",
        "            sessions = sorted(all_data.session.values.tolist())\n",
        "        else:\n",
        "            filtered_data = all_data.where(all_data.cognitive_status == status, drop=True)\n",
        "            sessions = sorted(filtered_data.session.values.tolist())\n",
        "        session_select.options = sessions\n",
        "        if sessions:\n",
        "            session_select.value = sessions[0]\n",
        "\n",
        "    # --- 5. Plot Function ---\n",
        "    @pn.depends(session_select.param.value, channel_select.param.value)\n",
        "    def plot_spectrogram(session_key, channel):\n",
        "        if not session_key or channel is None:\n",
        "            return pn.pane.Markdown(\"### Please select a session and channel to view the spectrogram.\")\n",
        "        spec_da = all_data['Sxx'].sel(session=session_key, channels=channel).squeeze()\n",
        "        spec_da_db = 10 * np.log10(spec_da + 1e-10)\n",
        "        spec_da_db.attrs['long_name'] = 'Power (dB)'\n",
        "        plot = spec_da_db.hvplot.quadmesh(\n",
        "            x='times', y='freqs', cmap='viridis', rasterize=True, height=500,\n",
        "            title=f\"Session: {session_key} | Channel: {channel}\", xlabel=\"Time (s)\", ylabel=\"Frequency (Hz)\",\n",
        "            clabel=\"Power Spectral Density (dB)\"\n",
        "        ).opts(responsive=True)\n",
        "        return plot\n",
        "\n",
        "    # --- 6. Dashboard Layout ---\n",
        "    dashboard = pn.template.FastListTemplate(\n",
        "        site=\"EEG Spectrogram Viewer\",\n",
        "        title=\"Interactive Session Analysis\",\n",
        "        sidebar=[status_select, session_select, channel_select],\n",
        "        main=[plot_spectrogram],\n",
        "        accent_base_color=\"#4A90E2\",\n",
        "        header_background=\"#4A90E2\",\n",
        "    )\n",
        "\n",
        "    dashboard.servable()\n"
      ]
    },
    {
      "cell_type": "code",
      "execution_count": null,
      "metadata": {},
      "outputs": [],
      "source": [
        "import zarr\n",
        "from zarr.storage import MemoryStore\n"
      ]
    },
    {
      "cell_type": "code",
      "execution_count": null,
      "metadata": {},
      "outputs": [],
      "source": [
        "# Create nested groups and add arrays\n",
        "root = zarr.group(\"data/example-3.zarr\", attributes={'name': 'root'})\n",
        "foo = root.create_group(name=\"foo\")\n",
        "bar = root.create_array(\n",
        "    name=\"bar\", shape=(100, 10), chunks=(10, 10), dtype=\"f4\"\n",
        ")\n",
        "nodes = {'': root.metadata} | {k: v.metadata for k,v in root.members()}\n",
        "print(nodes)\n",
        "\n",
        "new_nodes = dict(zarr.create_hierarchy(store=MemoryStore(), nodes=nodes))\n",
        "new_root = new_nodes['']\n",
        "assert new_root.attrs == root.attrs"
      ]
    },
    {
      "cell_type": "code",
      "execution_count": 28,
      "metadata": {},
      "outputs": [
        {
          "data": {
            "text/plain": [
              "{'2025-09-19/01-54-39': 'cog_poor',\n",
              " '2025-09-18/15-23-08': 'cog_poor',\n",
              " '2025-09-22/21-35-47': 'cog_bad',\n",
              " '2025-09-19/20-51-18': 'good',\n",
              " '2025-09-18/03-18-42': 'cog_great',\n",
              " '2025-09-21/08-55-41': 'dumb'}"
            ]
          },
          "execution_count": 28,
          "metadata": {},
          "output_type": "execute_result"
        }
      ],
      "source": [
        "\n",
        "named_sessions_dict = {'dumb': -2,\n",
        "\t\t\t\t\t   'good': -6,\n",
        "}\n",
        "\n",
        "# dumb_session_idx: int = -2\n",
        "\n",
        "for a_name, an_xdf_dataset_idx in named_sessions_dict.items():\n",
        "    a_raw = active_only_out_eeg_raws[an_xdf_dataset_idx]\n",
        "    a_meas_date: datetime = a_raw.info.get('meas_date')\n",
        "    a_raw_key: str = a_meas_date.strftime(\"%Y-%m-%d/%H-%M-%S\") # '2025-09-22/21-35-47'\n",
        "    day_status_dict[a_raw_key] = a_name\n",
        "\n",
        "day_status_dict"
      ]
    },
    {
      "cell_type": "code",
      "execution_count": null,
      "metadata": {},
      "outputs": [],
      "source": [
        "active_only_out_eeg_raws[an_xdf_dataset_idx]"
      ]
    },
    {
      "cell_type": "code",
      "execution_count": null,
      "metadata": {},
      "outputs": [],
      "source": []
    },
    {
      "cell_type": "code",
      "execution_count": null,
      "metadata": {},
      "outputs": [],
      "source": []
    },
    {
      "cell_type": "code",
      "execution_count": null,
      "metadata": {},
      "outputs": [],
      "source": [
        "from phoofflineeeganalysis.analysis.EEG_data import EEGComputations, EEGData\n",
        "\n",
        "write_mode = 'r+'\n",
        "if (not hdf5_out_path.exists()):\n",
        "    write_mode = 'w'\n",
        "    \n",
        "write_mode = 'w'\n",
        "\n",
        "with h5py.File(hdf5_out_path, write_mode) as f:\n",
        "    for an_xdf_dataset_idx in np.arange(num_sessions):\n",
        "        if (an_xdf_dataset_idx < 5):\n",
        "            a_raw = active_only_out_eeg_raws[an_xdf_dataset_idx]\n",
        "            a_meas_date = a_raw.info.get('meas_date')\n",
        "            a_raw_key: str = a_meas_date.strftime(\"%Y-%m-%d/%H-%M-%S\") # '2025-09-22/21-35-47'\n",
        "            a_result = results[an_xdf_dataset_idx]\n",
        "            # EEGComputations.to_hdf(a_result=a_result, file_path=hdf5_out_path, root_key=f'/result/{a_raw_key}')\n",
        "            # EEGComputations.to_hdf(a_result=a_result, file_path=f, root_key=f'/result/{a_raw_key}')\n",
        "            EEGComputations.perform_write_to_hdf(a_result=a_result, f=f, root_key=f'/result/{a_raw_key}')\n",
        "            # a_stream_info = deepcopy(_out_xdf_stream_infos_df).loc[an_xdf_dataset_idx]    \n",
        "            # print(f'i: {i}, a_meas_date: {a_meas_date}, a_stream_info: {a_stream_info}\\n\\n')\n",
        "            # print(f'i: {an_xdf_dataset_idx}, a_meas_date: {a_meas_date}')\n",
        "            # a_df = a_raw.annotations.to_data_frame(time_format='datetime')\n",
        "            # a_df = a_df[a_df['description'] != 'BAD_motion']\n",
        "            # a_df['xdf_dataset_idx'] = an_xdf_dataset_idx\n",
        "            # flat_annotations.append(a_df)\n",
        "\n",
        "# flat_annotations = pd.concat(flat_annotations, ignore_index=True)\n",
        "# flat_annotations"
      ]
    },
    {
      "cell_type": "code",
      "execution_count": null,
      "metadata": {},
      "outputs": [],
      "source": [
        "flat_annotations['onset_str'] = flat_annotations['onset'].dt.strftime(\"%Y-%m-%d_%I:%M:%S.%f %p\")\n",
        "flat_annotations"
      ]
    },
    {
      "cell_type": "markdown",
      "metadata": {},
      "source": [
        "# Out to HDF5"
      ]
    },
    {
      "cell_type": "code",
      "execution_count": null,
      "metadata": {},
      "outputs": [],
      "source": [
        "import h5py\n",
        "from phoofflineeeganalysis.analysis.EEG_data import EEGComputations\n",
        "\n",
        "hdf5_out_path: Path = Path('E:/Dropbox (Personal)/Databases/AnalysisData/MNE_preprocessed').joinpath('2025-09-29_all_HDF.h5').resolve()\n",
        "hdf5_out_path\n"
      ]
    },
    {
      "cell_type": "code",
      "execution_count": null,
      "metadata": {},
      "outputs": [],
      "source": [
        "import h5py\n",
        "\n",
        "_loaded_dict = {'xdf_stream_infos_df': None, 'flat_annotations': None, }\n",
        "\n",
        "_loaded_dict['xdf_stream_infos_df'] = pd.read_hdf(hdf5_out_path, mode='r', key='/xdf_stream_infos_df')\n",
        "_loaded_dict['flat_annotations'] = pd.read_hdf(hdf5_out_path, mode='r', key='/flat_annotations')\n",
        "_loaded_dict\n"
      ]
    },
    {
      "cell_type": "code",
      "execution_count": null,
      "metadata": {},
      "outputs": [],
      "source": [
        "with h5py.File(hdf5_out_path, 'r') as f:\n",
        "    # f.attrs\n",
        "    # f.name\n",
        "    # f.visititems()\n",
        "    _loaded_dict['xdf_stream_infos_df'] = pd.read_hdf(f, key='/xdf_stream_infos_df')\n",
        "    "
      ]
    },
    {
      "cell_type": "code",
      "execution_count": null,
      "metadata": {},
      "outputs": [],
      "source": [
        "xdf_stream_infos_df.to_hdf(hdf5_out_path, key='/xdf_stream_infos_df', append=False)\n",
        "flat_annotations.to_hdf(hdf5_out_path, key='/flat_annotations_df', append=True)\n"
      ]
    },
    {
      "cell_type": "code",
      "execution_count": null,
      "metadata": {},
      "outputs": [],
      "source": [
        "for an_xdf_dataset_idx in np.arange(num_sessions):\n",
        "    a_raw = active_only_out_eeg_raws[an_xdf_dataset_idx]\n",
        "    a_meas_date: datetime = a_raw.info.get('meas_date')\n",
        "    a_result = results[an_xdf_dataset_idx]\n",
        "    # a_stream_info = deepcopy(_out_xdf_stream_infos_df).loc[an_xdf_dataset_idx]    \n",
        "    # print(f'i: {i}, a_meas_date: {a_meas_date}, a_stream_info: {a_stream_info}\\n\\n')\n",
        "    # print(f'i: {an_xdf_dataset_idx}, a_meas_date: {a_meas_date}')\n",
        "    # a_df = a_raw.to_data_frame(time_format='datetime')\n",
        "\n",
        "    a_raw_key: str = a_meas_date.strftime(\"%Y-%m-%d/%H-%M-%S\") # '2025-09-22/21-35-47'\n",
        "    a_raw.to_data_frame(time_format='datetime').to_hdf(hdf5_out_path, key=f'/raw/{a_raw_key}/df', append=True)\n",
        "    EEGComputations.to_hdf(a_result=a_result, file_path=hdf5_out_path, root_key=f'/result/{a_raw_key}')\n",
        "    \n"
      ]
    },
    {
      "cell_type": "code",
      "execution_count": null,
      "metadata": {},
      "outputs": [],
      "source": [
        "# a_raw_key: str = a_meas_date.strftime(\"%Y-%m-%dT%H-%M-%S\")\n",
        "a_raw_key: str = a_meas_date.strftime(\"%Y-%m-%d/%H-%M-%S\") # '2025-09-22/21-35-47'\n",
        "a_raw.to_data_frame(time_format='datetime').to_hdf(hdf5_out_path, key=f'/raw/{a_raw_key}/df', append=True)\n",
        "\n",
        "EEGComputations.to_hdf(a_result=a_result, file_path=hdf5_out_path, root_key=f'/result/{a_raw_key}')\n",
        "\n"
      ]
    },
    {
      "cell_type": "code",
      "execution_count": null,
      "metadata": {},
      "outputs": [],
      "source": []
    },
    {
      "cell_type": "code",
      "execution_count": null,
      "metadata": {},
      "outputs": [],
      "source": [
        "\n",
        "\n",
        "\n",
        "all_WHISPER_df.drop(columns=['filepath']).to_hdf(hdf5_out_path, key='modalities/WHISPER/df', append=True)\n",
        "all_pho_log_to_lsl_df.drop(columns=['filepath']).to_hdf(hdf5_out_path, key='modalities/PHO_LOG_TO_LSL/df', append=True)\n"
      ]
    },
    {
      "cell_type": "markdown",
      "metadata": {},
      "source": [
        "# Spike3DRasterWindowWidget"
      ]
    },
    {
      "cell_type": "code",
      "execution_count": null,
      "metadata": {},
      "outputs": [],
      "source": [
        "# from pyphoplacecellanalysis.GUI.PyQtPlot.Widgets.SpikeRasterWidgets.Spike2DRaster import Spike2DRaster\n",
        "# from pyphoplacecellanalysis.SpecificResults.PendingNotebookCode import _setup_spike_raster_window_for_debugging\n",
        "# from pyphoplacecellanalysis.GUI.PyQtPlot.Widgets.Mixins.Render2DScrollWindowPlot import ScatterItemData\n",
        "from pyphoplacecellanalysis.GUI.Qt.SpikeRasterWindows.Spike3DRasterWindowWidget import Spike3DRasterWindowWidget\n"
      ]
    },
    {
      "cell_type": "code",
      "execution_count": null,
      "metadata": {},
      "outputs": [],
      "source": [
        "## It's passed a specific computation_result which has a .sess attribute that's used to determine which spikes are displayed or not.\n",
        "spike_raster_window: Spike3DRasterWindowWidget = Spike3DRasterWindowWidget(spikes_df, type_of_3d_plotter=type_of_3d_plotter, application_name=f'Spike Raster Window - {active_display_fn_identifying_ctx_string}', neuron_colors=neuron_colors, neuron_sort_order=neuron_sort_order,\n",
        "                                                                            params_kwargs=dict(use_docked_pyqtgraph_plots=use_docked_pyqtgraph_plots),\n",
        "                                                                            ) ## surprisingly only needs spikes_df !!?!\n",
        "# Set Window Title Options:\n",
        "a_file_prefix = str(computation_result.sess.filePrefix.resolve())\n",
        "spike_raster_window.setWindowFilePath(a_file_prefix)\n",
        "spike_raster_window.setWindowTitle(f'Spike Raster Window - {active_config_name} - {a_file_prefix}')\n"
      ]
    },
    {
      "cell_type": "code",
      "execution_count": null,
      "metadata": {},
      "outputs": [],
      "source": [
        "\n",
        "# Gets the existing SpikeRasterWindow or creates a new one if one doesn't already exist:\n",
        "# spike_raster_window, (active_2d_plot, active_3d_plot, main_graphics_layout_widget, main_plot_widget, background_static_scroll_plot_widget) = Spike3DRasterWindowWidget.find_or_create_if_needed(curr_active_pipeline, force_create_new=True, allow_replace_hardcoded_main_plots_with_tracks=True)\n",
        "# spike_raster_window, (active_2d_plot, active_3d_plot, main_graphics_layout_widget, main_plot_widget, background_static_scroll_plot_widget) = Spike3DRasterWindowWidget.find_or_create_if_needed(curr_active_pipeline, force_create_new=False, allow_replace_hardcoded_main_plots_with_tracks=True)\n",
        "# spike_raster_window, (active_2d_plot, active_3d_plot, *_all_outputs_dict) = Spike3DRasterWindowWidget.find_or_create_if_needed(curr_active_pipeline, force_create_new=False, allow_replace_hardcoded_main_plots_with_tracks=True)\n",
        "spike_raster_window, (active_2d_plot, active_3d_plot, *_all_outputs_dict) = Spike3DRasterWindowWidget.find_or_create_if_needed(curr_active_pipeline, force_create_new=True, allow_replace_hardcoded_main_plots_with_tracks=True)"
      ]
    },
    {
      "cell_type": "markdown",
      "metadata": {},
      "source": [
        "# CustomCalendarWidget"
      ]
    },
    {
      "cell_type": "code",
      "execution_count": null,
      "metadata": {},
      "outputs": [],
      "source": [
        "from datetime import datetime, timezone\n",
        "from phoofflineeeganalysis.UI.CustomCalendarWidget import CalendarDatasource\n",
        "from phoofflineeeganalysis.UI.CustomCalendarWidget import CustomDataDisplayingCalendar\n",
        "\n",
        "a_ds: CalendarDatasource = CalendarDatasource(xdf_stream_infos_df=xdf_stream_infos_df)\n",
        "ex = CustomDataDisplayingCalendar()\n",
        "ex.show()\n",
        "ex.set_datasource(data_source=a_ds)"
      ]
    },
    {
      "cell_type": "code",
      "execution_count": null,
      "metadata": {},
      "outputs": [],
      "source": [
        "found_df = a_ds.get_records_for_day(day_date=datetime(2025, 9, 10, tzinfo=timezone.utc))\n",
        "found_df"
      ]
    },
    {
      "cell_type": "code",
      "execution_count": null,
      "metadata": {},
      "outputs": [],
      "source": [
        "day_date = datetime(2025, 9, 11, tzinfo=timezone.utc)\n",
        "day_date = day_date.replace(hour=0, minute=0, second=0, microsecond=0).astimezone(tz=timezone.utc)\n",
        "day_date\n",
        "\n"
      ]
    },
    {
      "cell_type": "markdown",
      "metadata": {},
      "source": [
        "# Direct Analysis"
      ]
    },
    {
      "cell_type": "code",
      "execution_count": null,
      "metadata": {},
      "outputs": [],
      "source": [
        "from pyphocorehelpers.plotting.image_plotting_helpers import IMShowHelpers\n",
        "\n",
        "\n",
        "\n",
        "def plot_matrix(xbin_edges, ybin_edges, matrix, ax, **kwargs):\n",
        "\n",
        "    def setup_stable_axes_limits(xbins_edges, ybin_edges, ax):\n",
        "        \" manually sets the axis data limits to disable autoscaling given the xbins_edges/ybin_edges \"\n",
        "        # x == horizontal orientation:\n",
        "        ax.set_xlim(left=xbins_edges[0], right=xbins_edges[-1])\n",
        "        ax.set_ylim(bottom=ybin_edges[0], top=ybin_edges[-1])\n",
        "\n",
        "\n",
        "    variable_value = matrix\n",
        "\n",
        "    xmin, xmax, ymin, ymax = (xbin_edges[0], xbin_edges[-1], ybin_edges[0], ybin_edges[-1]) # the same for both orientations\n",
        "    x_first_extent = (xmin, xmax, ymin, ymax) # traditional order of the extant axes\n",
        "    # y_first_extent = (ymin, ymax, xmin, xmax) # swapped the order of the extent axes.\n",
        "    main_plot_kwargs = {\n",
        "        'cmap': 'viridis',\n",
        "        'origin':'lower',\n",
        "        'extent':x_first_extent,\n",
        "        'aspect': 'auto',        \n",
        "    }\n",
        "\n",
        "    \"\"\"\n",
        "    Note that changing the origin while keeping everything else the same doesn't flip the direction of the yaxis labels despite flipping the yaxis of the data.\n",
        "    \"\"\"\n",
        "    im_out = ax.imshow(variable_value, **main_plot_kwargs)\n",
        "    setup_stable_axes_limits(xbin_edges, ybin_edges, ax)\n",
        "    return im_out\n",
        "\n",
        "\n"
      ]
    },
    {
      "cell_type": "code",
      "execution_count": null,
      "metadata": {},
      "outputs": [],
      "source": [
        "fig = plt.figure(layout=\"constrained\", figsize=[9, 9], dpi=220, clear=True) # figsize=[Width, height] in inches.\n",
        "long_width_ratio = 1\n",
        "ax_dict = fig.subplot_mosaic(\n",
        "    [\n",
        "        [\"ax_dumb\", \"ax_dumb_avg\"],\n",
        "        [\"ax_good\", \"ax_good_avg\"],\n",
        "\t\t\n",
        "        # [\"ax_dumb_avg\"],\n",
        "        # [\"ax_good_avg\"],\n",
        "    ],\n",
        "    # set the height ratios between the rows\n",
        "    # set the width ratios between the columns\n",
        "    width_ratios=[10, 1],\n",
        "    sharey=True,\n",
        "    gridspec_kw=dict(wspace=0, hspace=0.0) # `wspace=0`` is responsible for sticking the pf and the activity axes together with no spacing\n",
        ")\n",
        "fig.show()"
      ]
    },
    {
      "cell_type": "code",
      "execution_count": null,
      "metadata": {},
      "outputs": [],
      "source": [
        "import napari\n",
        "\n",
        "viewer = napari.Viewer(ndisplay=3)\n",
        "\n",
        "# viewer.add_points(mov_avg_filtered, size=2, face_color='red', name='mov_avg_filtered')\n",
        "# viewer.add_points(data2, size=2, face_color='green', name='dataset2')\n",
        "# viewer.add_points(data3, size=2, face_color='blue', name='dataset3')\n",
        "\n"
      ]
    },
    {
      "cell_type": "code",
      "execution_count": null,
      "metadata": {},
      "outputs": [],
      "source": [
        "\n",
        "named_sessions_dict = {'dumb': -2,\n",
        "\t\t\t\t\t   'good': -6,\n",
        "}\n",
        "\n",
        "# dumb_session_idx: int = -2\n",
        "\n",
        "_out_layers = {}\n",
        "\n",
        "for a_name, an_xdf_dataset_idx in named_sessions_dict.items():\n",
        "    a_raw = active_only_out_eeg_raws[an_xdf_dataset_idx]\n",
        "    a_meas_date: datetime = a_raw.info.get('meas_date')\n",
        "    a_raw_key: str = a_meas_date.strftime(\"%Y-%m-%d/%H-%M-%S\") # '2025-09-22/21-35-47'\n",
        "\n",
        "    # an_annotations_df = a_raw.annotations.to_data_frame(time_format='datetime')\n",
        "    # an_annotations_df = an_annotations_df[an_annotations_df['description'] != 'BAD_motion']\n",
        "\n",
        "    # a_result = results[an_xdf_dataset_idx]\n",
        "    # # a_stream_info = deepcopy(_out_xdf_stream_infos_df).loc[an_xdf_dataset_idx]    \n",
        "    # Sxx = a_result['spectogram']['Sxx']\n",
        "    # Sxx_avg = a_result['spectogram']['Sxx_avg']\n",
        "    # # t = a_result['spectogram']['t']\n",
        "    # # freqs = a_result['spectogram']['freqs']\n",
        "    # # fs = a_result['spectogram']['fs']\n",
        "    # freqs, t, _ = a_result['spectogram']['spectogram_result_dict']['AF3']\n",
        "    \n",
        "    # Sxx_avg_across_channel_avg = np.atleast_2d(Sxx_avg.mean(dim='channels', skipna=True))\n",
        "    # # Sxx_avg_across_channel_avg\n",
        "    \n",
        "    # Sxx_across_channel_avg = Sxx.mean(dim='channels', skipna=True)\n",
        "    # # Sxx_across_channel_avg\n",
        "\n",
        "    # ax_label = f\"ax_{a_name}\"\n",
        "    # ax_label_avg = f\"ax_{a_name}_avg\"\n",
        "    # # np.shape(Sxx_across_channel_avg)\n",
        "    \n",
        "    # # xbin = deepcopy(t)\n",
        "    # # ybin = deepcopy(freqs)\n",
        "    # # xmin, xmax, ymin, ymax = (xbin[0], xbin[-1], ybin[0], ybin[-1])\n",
        "    # # # xmin, xmax, ymin, ymax = (active_one_step_decoder.ybin[0], active_one_step_decoder.ybin[-1], active_one_step_decoder.xbin[0], active_one_step_decoder.xbin[-1]) # Reversed x and y axes, seems not good.\n",
        "    # # extent = (xmin, xmax, ymin, ymax)\n",
        "    \n",
        "    # # ax_dict[ax_label].imshow(Sxx_avg_across_channel_avg.T)\n",
        "    # # ax_dict[ax_label_avg].imshow(Sxx_across_channel_avg, extent=extent, origin='lower')\n",
        "    \n",
        "    # # fig, axs, plot_im_out = IMShowHelpers.final_x_vertical_plot_imshow(xbin_edges=np.arange(1), ybin_edges=freqs, matrix=Sxx_avg_across_channel_avg, ax=ax_dict[ax_label])\n",
        "    # # ax_dict[ax_label].autoscale(False)\n",
        "    # # fig, axs, plot_im_out = IMShowHelpers.final_x_horizontal_plot_imshow(xbin_edges=t, ybin_edges=freqs, matrix=Sxx_across_channel_avg, ax=ax_dict[ax_label])\n",
        "    # im_out = plot_matrix(xbin_edges=t, ybin_edges=freqs, matrix=Sxx_across_channel_avg, ax=ax_dict[ax_label])\n",
        "    # ax_dict[ax_label].set_ylabel(a_name)\n",
        "    # # ax_dict[ax_label].autoscale(False)\n",
        "    \n",
        "\n",
        "    # # fig, axs, plot_im_out = IMShowHelpers.final_x_vertical_plot_imshow(xbin_edges=t, ybin_edges=freqs, matrix=Sxx_avg_across_channel_avg, ax=ax_dict[ax_label_avg])\n",
        "    # avg_im_out = plot_matrix(xbin_edges=[0.0, 1.0], ybin_edges=freqs, matrix=Sxx_avg_across_channel_avg, ax=ax_dict[ax_label_avg])\n",
        "    # # ax_dict[ax_label_avg].set_ylabel(f\"{a_name}_avg\")\n",
        "\n",
        "    \n",
        "    # napari_img_layer_kwargs = dict(\n",
        "    #     # channel_axis=None,\n",
        "    #     # rgb=None,\n",
        "    #     colormap='yellow', #'bop_blue',\n",
        "    #     # contrast_limits=None,\n",
        "    #     gamma=0.02,\n",
        "    #     interpolation2d='nearest',\n",
        "    #     interpolation3d='linear',\n",
        "    #     rendering='mip',\n",
        "    #     depiction='volume',\n",
        "    #     # iso_threshold=None,\n",
        "    #     # attenuation=0.05,\n",
        "    #     # name=None,\n",
        "    #     # metadata=None,\n",
        "    #     # scale=None,\n",
        "    #     translate=None,\n",
        "    #     # rotate=None,\n",
        "    #     # shear=None,\n",
        "    #     # affine=None,\n",
        "    #     # opacity=1,\n",
        "    #     blending='additive',\n",
        "    #     visible=True,\n",
        "    #     # multiscale=None,\n",
        "    #     # cache=True,\n",
        "    #     # plane=None,\n",
        "    #     # experimental_clipping_planes=None,\n",
        "    #     # custom_interpolation_kernel_2d=None,\n",
        "    # )\n",
        "    \n",
        "\n",
        "    # curr_name = f\"{a_name}\"\n",
        "    # _out_layers[curr_name] = viewer.add_image(Sxx, name=curr_name, **napari_img_layer_kwargs)\n",
        "    # viewer.dims.axis_labels = Sxx.dims # ('channels', 'freqs', 'times')\n",
        "\n",
        "    # curr_name = f\"{a_name}_avg\"\n",
        "    # # napari_img_layer_kwargs['translate'] = [0.0, 1852.0]\n",
        "    # napari_img_layer_kwargs['translate'] = [0.0, -2.0]\n",
        "    # _out_avg_layer = viewer.add_image(Sxx_avg.T, name=curr_name, **napari_img_layer_kwargs) #  colormap='bop_blue', gamma=0.20, rendering='additive'\n",
        "    # _out_layers[curr_name] = _out_avg_layer\n"
      ]
    },
    {
      "cell_type": "code",
      "execution_count": null,
      "metadata": {},
      "outputs": [],
      "source": [
        "# _out_avg_layer.translate([512.0, 0.0])\n",
        "# _out_avg_layer.set_translation([512.0, 0.0])\n",
        "# _out_avg_layer.translate = [0.0, 513.0]\n",
        "_out_avg_layer.translate = [0.0, 1852.0]\n",
        "_out_avg_layer.translate"
      ]
    },
    {
      "cell_type": "code",
      "execution_count": null,
      "metadata": {},
      "outputs": [],
      "source": [
        "_out_avg_layer."
      ]
    },
    {
      "cell_type": "code",
      "execution_count": null,
      "metadata": {},
      "outputs": [],
      "source": [
        "viewer.dims\n",
        "viewer.layers"
      ]
    },
    {
      "cell_type": "code",
      "execution_count": null,
      "metadata": {},
      "outputs": [],
      "source": [
        "from pyphoplacecellanalysis.GUI.Napari.napari_helpers import napari_extract_layers_info\n",
        "\n",
        "# @function_attributes(short_name=None, tags=['napari', 'config'], input_requires=[], output_provides=[], uses=[], used_by=['napari_extract_layers_info'], creation_date='2024-08-12 08:54', related_items=[])\n",
        "def extract_layer_info(a_layer):\n",
        "    \"\"\" Extracts info as a dict from a single Napari layer. \n",
        "    by default Napari layers print like: `<Shapes layer 'Shapes' at 0x1635a1e8460>`: without any properties that can be easily referenced.\n",
        "    This function extracts a dict of properties.\n",
        "\n",
        "    from pyphoplacecellanalysis.GUI.Napari.napari_helpers import extract_layer_info\n",
        "\n",
        "    \"\"\"\n",
        "    out_properties_dict = {}\n",
        "    positioning = ['scale', 'translate', 'rotate', 'shear', 'affine', 'corner_pixels']\n",
        "    visual = ['opacity', 'blending', 'visible', 'z_index', 'contrast_limits_range', '_colormap_name', 'gamma']\n",
        "    # positioning = ['scale', 'translate', 'rotate', 'shear', 'affine']\n",
        "    out_properties_dict['positioning'] = {}\n",
        "\n",
        "    for a_property_name in positioning:\n",
        "        out_properties_dict['positioning'][a_property_name] = getattr(a_layer, a_property_name)\n",
        "\n",
        "    out_properties_dict['visual'] = {}\n",
        "    for a_property_name in visual:\n",
        "        try:\n",
        "            out_properties_dict['visual'][a_property_name] = getattr(a_layer, a_property_name)\n",
        "        except (AttributeError, ValueError, KeyError, TypeError) as e:\n",
        "            print(f'failed to get property: \"{a_property_name}\" with error {e}')\n",
        "            pass\n",
        "        except Exception as e:\n",
        "            raise\n",
        "\n",
        "    return out_properties_dict\n",
        "\n",
        "\n",
        "# @function_attributes(short_name=None, tags=['napari', 'config'], input_requires=[], output_provides=[], uses=['extract_layer_info'], used_by=[], creation_date='2024-08-12 08:54', related_items=[])\n",
        "def napari_extract_layers_info(layers):\n",
        "\t\"\"\"extracts info dict from each layer as well.\n",
        "\tUsage:\n",
        "        from pyphoplacecellanalysis.GUI.Napari.napari_helpers import napari_extract_layers_info\n",
        "\t\tlayers = directional_viewer.layers # [<Shapes layer 'Shapes' at 0x1635a1e8460>, <Shapes layer 'Shapes [1]' at 0x164d5402e50>]\n",
        "\t\tout_layers_info_dict = debug_print_layers_info(layers)\n",
        "\n",
        "\t\"\"\"\n",
        "\tout_layers_info_dict = {}\n",
        "\tfor a_layer in layers:\n",
        "\t\ta_name: str = str(a_layer.name)\n",
        "\t\tout_properties_dict = extract_layer_info(a_layer)\n",
        "\t\tout_layers_info_dict[a_name] = out_properties_dict\n",
        "\t\t# if isinstance(a_layer, Shapes):\n",
        "\t\t# \tprint(f'shapes layer: {a_layer}')\n",
        "\t\t# \ta_shapes_layer: Shapes = a_layer\n",
        "\t\t# \t# print(f'a_shapes_layer.properties: {a_shapes_layer.properties}')\n",
        "\t\t# \tout_properties_dict = extract_layer_info(a_layer)\n",
        "\t\t# \tprint(f'\\tout_properties_dict: {out_properties_dict}')\n",
        "\t\t# \tout_layers_info_dict[a_name] = out_properties_dict\n",
        "\t\t# else:\n",
        "\t\t# \tprint(f'unknown layer: {a_layer}')\t\n",
        "\treturn out_layers_info_dict\n",
        "\n",
        "\n",
        "\n",
        "\n",
        "\n",
        "layers = viewer.layers # [<Shapes layer 'Shapes' at 0x1635a1e8460>, <Shapes layer 'Shapes [1]' at 0x164d5402e50>]\n",
        "out_layers_info_dict = napari_extract_layers_info(layers)\n",
        "out_layers_info_dict"
      ]
    },
    {
      "cell_type": "code",
      "execution_count": null,
      "metadata": {},
      "outputs": [],
      "source": []
    },
    {
      "cell_type": "code",
      "execution_count": null,
      "metadata": {},
      "outputs": [],
      "source": [
        "out_layers_info_dict['dumb']"
      ]
    },
    {
      "cell_type": "code",
      "execution_count": null,
      "metadata": {},
      "outputs": [],
      "source": [
        "from napari.layers.image.image import Image\n",
        "\n",
        "property_names = ['metadata', 'blending', 'opacity', 'rendering', 'scale', 'gamma', 'contrast_limits_range', 'colormap']\n",
        "for a_layer in layers:\n",
        "    an_img_layer: Image = a_layer\n",
        "    \n",
        "#    type(a_layer)\n",
        "\n",
        "# an_img_layer.blending\n",
        "an_img_layer.__dict__"
      ]
    },
    {
      "cell_type": "code",
      "execution_count": null,
      "metadata": {},
      "outputs": [],
      "source": [
        "napari.run()"
      ]
    },
    {
      "cell_type": "code",
      "execution_count": null,
      "metadata": {},
      "outputs": [],
      "source": [
        "xbin\n",
        "ybin"
      ]
    },
    {
      "cell_type": "code",
      "execution_count": null,
      "metadata": {},
      "outputs": [],
      "source": [
        "a_raw.plot()"
      ]
    },
    {
      "cell_type": "code",
      "execution_count": null,
      "metadata": {},
      "outputs": [],
      "source": [
        "a_stream_info"
      ]
    },
    {
      "cell_type": "code",
      "execution_count": null,
      "metadata": {},
      "outputs": [],
      "source": [
        "a_raw"
      ]
    },
    {
      "cell_type": "code",
      "execution_count": null,
      "metadata": {},
      "outputs": [],
      "source": [
        "import xarray as xr\n",
        "\n",
        "## INPUTS: a_result\n",
        "a_spectogram_result: Dict = a_result['spectogram'] \n",
        "\n",
        "ch_names = a_spectogram_result['ch_names']\n",
        "fs = a_spectogram_result['fs']\n",
        "a_spectogram_result_dict = a_spectogram_result['spectogram_result_dict'] # Dict[channel: Tuple]\n",
        "Sxx = a_spectogram_result['Sxx']\n",
        "Sxx_avg = a_spectogram_result['Sxx_avg']\n",
        "\n",
        "Sxx"
      ]
    },
    {
      "cell_type": "code",
      "execution_count": null,
      "metadata": {},
      "outputs": [],
      "source": [
        "\n",
        "Sxx_avg_list = [] \n",
        "\n",
        "# ch_names = a_raw.info.ch_names\n",
        "\n",
        "for a_ch, a_tuple in a_spectogram_result_dict.items():\n",
        "    f, t, Sxx = a_tuple ## unpack the tuple\n",
        "    # np.shape(Sxx) # (513, 1116) - (n_freqs, n_times)\n",
        "    n_freqs = np.shape(f)\n",
        "    n_times = np.shape(t) \n",
        "    Sxx_avg = np.nanmean(Sxx, axis=-1) ## average over all time to get one per session\n",
        "    Sxx_avg_list.append(Sxx_avg)\n",
        "    \n",
        "Sxx_avg_list = np.stack(Sxx_avg_list) # (14, 513) - (n_channels, n_freqs)\n",
        "Sxx_avg_list = xr.DataArray(Sxx_avg_list, dims=(\"channels\", \"freqs\"), coords={\"channels\": ch_names, \"freqs\": f})\n",
        "np.shape(Sxx_avg_list)\n",
        "Sxx_avg_list"
      ]
    },
    {
      "cell_type": "code",
      "execution_count": null,
      "metadata": {},
      "outputs": [],
      "source": [
        "ch_names"
      ]
    },
    {
      "cell_type": "code",
      "execution_count": null,
      "metadata": {},
      "outputs": [],
      "source": [
        "a_raw.annotations"
      ]
    },
    {
      "cell_type": "code",
      "execution_count": null,
      "metadata": {},
      "outputs": [],
      "source": [
        "Sxx_avg = np.nanmean(Sxx, axis=-1) ## average over all time to get one per session\n",
        "Sxx_avg"
      ]
    },
    {
      "cell_type": "code",
      "execution_count": null,
      "metadata": {},
      "outputs": [],
      "source": [
        "plt.close('all')"
      ]
    },
    {
      "cell_type": "code",
      "execution_count": null,
      "metadata": {},
      "outputs": [],
      "source": [
        "plot_all_spectograms(active_only_out_eeg_raws, results)"
      ]
    },
    {
      "cell_type": "code",
      "execution_count": null,
      "metadata": {},
      "outputs": [],
      "source": [
        "import matplotlib.pyplot as plt\n",
        "\n",
        "plt.rcParams[\"axes.titlesize\"] = 8\n",
        "plt.rcParams[\"axes.labelsize\"] = 8\n",
        "plt.rcParams[\"xtick.labelsize\"] = 6\n",
        "plt.rcParams[\"ytick.labelsize\"] = 6\n",
        "plt.rcParams[\"legend.fontsize\"] = 6\n",
        "plt.rcParams[\"figure.titlesize\"] = 8\n",
        "plt.rcParams[\"axes.titlepad\"] = 0\n",
        "plt.rcParams[\"figure.constrained_layout.use\"] = True\n",
        "plt.rcParams[\"figure.constrained_layout.h_pad\"] = 0.0\n",
        "plt.rcParams[\"figure.constrained_layout.w_pad\"] = 0.0\n",
        "plt.rcParams[\"figure.constrained_layout.hspace\"] = 0.0\n",
        "plt.rcParams[\"figure.constrained_layout.wspace\"] = 0.0\n",
        "plt.rcParams[\"figure.subplot.wspace\"] = 0.0\n",
        "plt.rcParams[\"figure.subplot.hspace\"] = 0.0\n",
        "plt.rcParams[\"figure.subplot.wspace\"] = 0.0\n",
        "plt.rcParams[\"figure.subplot.hspace\"] = 0.0\n"
      ]
    },
    {
      "cell_type": "code",
      "execution_count": null,
      "metadata": {},
      "outputs": [],
      "source": [
        "## Plot a synchronized EEG Raw data and Spectogram Figure together:\n",
        "active_eeg_idx: int = -4\n",
        "mne_raw_fig = active_only_out_eeg_raws[active_eeg_idx].plot(time_format='datetime', scalings='auto') # MNEBrowseFigure\n",
        "fig, axs = plot_session_spectogram(active_only_out_eeg_raws[active_eeg_idx], results[active_eeg_idx], sync_to_mne_raw_fig=mne_raw_fig)\n",
        "# plt.subplots_adjust(wspace=0, hspace=0)  # remove spacing\n"
      ]
    },
    {
      "cell_type": "code",
      "execution_count": null,
      "metadata": {},
      "outputs": [],
      "source": [
        "active_eeg_idx: int = -6\n",
        "mne_raw_fig2 = active_only_out_eeg_raws[active_eeg_idx].plot(time_format='datetime', scalings='auto') # MNEBrowseFigure\n",
        "fig2, axs2 = plot_session_spectogram(active_only_out_eeg_raws[active_eeg_idx], results[active_eeg_idx], sync_to_mne_raw_fig=mne_raw_fig)"
      ]
    },
    {
      "cell_type": "markdown",
      "metadata": {},
      "source": [
        "### Compute and show all spectograms"
      ]
    },
    {
      "cell_type": "code",
      "execution_count": null,
      "metadata": {},
      "outputs": [],
      "source": [
        "# Compute results first\n",
        "active_only_out_eeg_raws, results = batch_compute_all_eeg_datasets(eeg_raws=_out_eeg_raw, limit_num_items=3)\n",
        "\n",
        "# Render to PDFs (paged)\n",
        "from pathlib import Path\n",
        "out_paths = render_all_spectograms_to_high_quality_pdfs(\n",
        "    active_only_out_eeg_raws,\n",
        "    results,\n",
        "    output_parent_folder=Path(r\"E:/Dropbox (Personal)/Databases/AnalysisData/MNE_preprocessed/exports\"),\n",
        "    mode=\"paged\",\n",
        "    seconds_per_page=180.0,\n",
        "    freq_min_hz=1.0,\n",
        "    freq_max_hz=40.0,\n",
        "    dpi=300\n",
        ")\n",
        "print(f\"Wrote {len(out_paths)} PDF(s)\")"
      ]
    },
    {
      "cell_type": "markdown",
      "metadata": {},
      "source": [
        "## ANalysis for Fatigue/Bandpowers"
      ]
    },
    {
      "cell_type": "code",
      "execution_count": null,
      "metadata": {},
      "outputs": [],
      "source": [
        "from phoofflineeeganalysis.analysis.computations.fatigue_analysis import compare_multiple_recordings, compute_fatigue_metrics, analyze_fatigue_trends, print_analysis_report, visualize_fatigue_comparison\n",
        "\n",
        "raw_objects = deepcopy(_out_eeg_raw)\n",
        "raw_obj_labels = [str(a_raw) for a_raw in raw_objects]\n",
        "if len(raw_objects) >= 2:\n",
        "    results = compare_multiple_recordings(raw_objects, raw_obj_labels[:len(raw_objects)])\n",
        "    print_analysis_report(results)\n",
        "    visualize_fatigue_comparison(results)\n",
        "\n",
        "    results\n",
        "else:\n",
        "    print(\"Not enough data files found for comparison.\")\n"
      ]
    },
    {
      "cell_type": "markdown",
      "metadata": {},
      "source": [
        "## Sliding wavlet analyses"
      ]
    },
    {
      "cell_type": "code",
      "execution_count": null,
      "metadata": {},
      "outputs": [],
      "source": [
        "import pyqtgraph as pg\n",
        "from phoofflineeeganalysis.timeflux.nodes.wavelet_cwt import EEGViewer\n",
        "\n",
        "app = pg.mkQApp('EEGWaveletViewer')\n",
        "\n",
        "raw = _out_eeg_raw[-1]\n",
        "\n",
        "# Launch the Qt Application\n",
        "viewer = EEGViewer(raw_data=raw)\n",
        "viewer.show()\n",
        "# sys.exit(app.exec_())\n"
      ]
    },
    {
      "cell_type": "code",
      "execution_count": null,
      "metadata": {},
      "outputs": [],
      "source": [
        "fixed_len_epochs"
      ]
    },
    {
      "cell_type": "code",
      "execution_count": null,
      "metadata": {},
      "outputs": [],
      "source": [
        "from phoofflineeeganalysis.timeflux.nodes.wavelet_cwt import plot_raw_with_cwt\n",
        "\n",
        "# --- Example Usage ---\n",
        "\n",
        "# First, create a sample 14-channel Raw object for demonstration\n",
        "# sfreq = 250\n",
        "# ch_names = [f'EEG {i+1:02d}' for i in range(14)]\n",
        "# info = mne.create_info(ch_names=ch_names, sfreq=sfreq, ch_types='eeg')\n",
        "# n_seconds = 120\n",
        "# data = np.random.randn(len(ch_names), sfreq * n_seconds)\n",
        "# raw = mne.io.RawArray(data, info)\n",
        "\n",
        "raw = _out_eeg_raw[-1]\n",
        "\n",
        "# Now, use the function to plot the first channel (index 0) from 10 to 20 seconds\n",
        "plot_raw_with_cwt(raw, start_seconds=10.0, end_seconds=20.0, channel_index=0)\n"
      ]
    }
  ],
  "metadata": {
    "kernelspec": {
      "display_name": ".venv",
      "language": "python",
      "name": "python3"
    },
    "language_info": {
      "codemirror_mode": {
        "name": "ipython",
        "version": 3
      },
      "file_extension": ".py",
      "mimetype": "text/x-python",
      "name": "python",
      "nbconvert_exporter": "python",
      "pygments_lexer": "ipython3",
      "version": "3.9.13"
    }
  },
  "nbformat": 4,
  "nbformat_minor": 0
}
